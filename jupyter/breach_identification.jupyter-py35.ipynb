{
 "cells": [
  {
   "cell_type": "markdown",
   "metadata": {
    "collapsed": true,
    "deletable": true,
    "editable": true
   },
   "source": [
    "### Breach Data Preparation as per the Business Logic"
   ]
  },
  {
   "cell_type": "code",
   "execution_count": 17,
   "metadata": {
    "collapsed": false,
    "deletable": true,
    "editable": true
   },
   "outputs": [],
   "source": [
    "import warnings\n",
    "from IPython.display import display, HTML\n",
    "import sys,os\n",
    "import pandas as pd\n",
    "import copy\n",
    "sys.path.insert(0, '../scripts/')\n",
    "from nlp_preprocess import * \n",
    "\n",
    "warnings.filterwarnings(\"ignore\")\n",
    "%store -r complaints_df"
   ]
  },
  {
   "cell_type": "code",
   "execution_count": 19,
   "metadata": {
    "collapsed": false,
    "deletable": true,
    "editable": true
   },
   "outputs": [],
   "source": [
    "#!pip install --user imblearn\n",
    "breach_df = complaints_df[['ConcernID','IssueID','Breach','IssueDescription','ConcernDescription','ResolutionDescription','Clause']]\n",
    "breach_df.Breach= breach_df.Breach.str.replace(' ', '')\n",
    "breach_df.Breach= breach_df.Breach.str.lower()"
   ]
  },
  {
   "cell_type": "code",
   "execution_count": 20,
   "metadata": {
    "collapsed": false,
    "deletable": true,
    "editable": true
   },
   "outputs": [
    {
     "data": {
      "text/plain": [
       "no          31301\n",
       "possible     3346\n",
       "yes            74\n",
       "Name: Breach, dtype: int64"
      ]
     },
     "execution_count": 20,
     "metadata": {},
     "output_type": "execute_result"
    }
   ],
   "source": [
    "breach_df.Breach.value_counts()"
   ]
  },
  {
   "cell_type": "code",
   "execution_count": 21,
   "metadata": {
    "collapsed": false,
    "deletable": true,
    "editable": true
   },
   "outputs": [
    {
     "data": {
      "text/plain": [
       "no          31301\n",
       "possible     3420\n",
       "Name: Breach, dtype: int64"
      ]
     },
     "execution_count": 21,
     "metadata": {},
     "output_type": "execute_result"
    }
   ],
   "source": [
    "breach_df.loc[breach_df['Breach'] == 'yes', 'Breach'] = 'possible'\n",
    "breach_df.Breach.value_counts()"
   ]
  },
  {
   "cell_type": "code",
   "execution_count": 22,
   "metadata": {
    "collapsed": false,
    "deletable": true,
    "editable": true
   },
   "outputs": [],
   "source": [
    "breach_df['Breach'] = breach_df['Breach'].map({'possible': 1, 'no': 0})"
   ]
  },
  {
   "cell_type": "code",
   "execution_count": 23,
   "metadata": {
    "collapsed": false,
    "deletable": true,
    "editable": true
   },
   "outputs": [],
   "source": [
    "result = breach_df.groupby(['Clause','Breach']).size()\n",
    "df = pd.DataFrame(result)"
   ]
  },
  {
   "cell_type": "code",
   "execution_count": 24,
   "metadata": {
    "collapsed": false,
    "deletable": true,
    "editable": true
   },
   "outputs": [],
   "source": [
    "# df.reset_index()\n",
    "breach_df_copy = breach_df.copy()\n",
    "breach_df_copy = pd.get_dummies(breach_df_copy, columns=['Breach'], prefix = ['Breach'])"
   ]
  },
  {
   "cell_type": "code",
   "execution_count": 25,
   "metadata": {
    "collapsed": false,
    "deletable": true,
    "editable": true
   },
   "outputs": [],
   "source": [
    "#breach_df_copy.set_index('Clause',inplace=True)\n",
    "breach_df_copy.drop(breach_df_copy.index[34721:],inplace=True)"
   ]
  },
  {
   "cell_type": "code",
   "execution_count": 26,
   "metadata": {
    "collapsed": false,
    "deletable": true,
    "editable": true
   },
   "outputs": [],
   "source": [
    "df = pd.DataFrame(breach_df_copy.groupby(['Clause']).sum())\n",
    "df['Total'] = df['Breach_0.0']+ df['Breach_1.0']\n",
    "df['Breach_Prop'] = df['Breach_1.0']/ df['Total']\n",
    "temp_df = df.sort_values('Breach_Prop',ascending=False)\n",
    "sort_df = df.sort_values('Total',ascending=False)"
   ]
  },
  {
   "cell_type": "code",
   "execution_count": 27,
   "metadata": {
    "collapsed": false,
    "deletable": true,
    "editable": true
   },
   "outputs": [
    {
     "data": {
      "text/html": [
       "<table><tr style=\"background-color:white;\"><td><div>\n",
       "<style>\n",
       "    .dataframe thead tr:only-child th {\n",
       "        text-align: right;\n",
       "    }\n",
       "\n",
       "    .dataframe thead th {\n",
       "        text-align: left;\n",
       "    }\n",
       "\n",
       "    .dataframe tbody tr th {\n",
       "        vertical-align: top;\n",
       "    }\n",
       "</style>\n",
       "<table border=\"1\" class=\"dataframe\">\n",
       "  <thead>\n",
       "    <tr style=\"text-align: right;\">\n",
       "      <th></th>\n",
       "      <th>Breach_0.0</th>\n",
       "      <th>Breach_1.0</th>\n",
       "      <th>Total</th>\n",
       "      <th>Breach_Prop</th>\n",
       "    </tr>\n",
       "    <tr>\n",
       "      <th>Clause</th>\n",
       "      <th></th>\n",
       "      <th></th>\n",
       "      <th></th>\n",
       "      <th></th>\n",
       "    </tr>\n",
       "  </thead>\n",
       "  <tbody>\n",
       "    <tr>\n",
       "      <th>14a</th>\n",
       "      <td>8695.0</td>\n",
       "      <td>984.0</td>\n",
       "      <td>9679.0</td>\n",
       "      <td>0.101663</td>\n",
       "    </tr>\n",
       "    <tr>\n",
       "      <th>33</th>\n",
       "      <td>4401.0</td>\n",
       "      <td>1056.0</td>\n",
       "      <td>5457.0</td>\n",
       "      <td>0.193513</td>\n",
       "    </tr>\n",
       "    <tr>\n",
       "      <th>15</th>\n",
       "      <td>2839.0</td>\n",
       "      <td>314.0</td>\n",
       "      <td>3153.0</td>\n",
       "      <td>0.099588</td>\n",
       "    </tr>\n",
       "    <tr>\n",
       "      <th>18.1</th>\n",
       "      <td>2033.0</td>\n",
       "      <td>5.0</td>\n",
       "      <td>2038.0</td>\n",
       "      <td>0.002453</td>\n",
       "    </tr>\n",
       "    <tr>\n",
       "      <th>22</th>\n",
       "      <td>1855.0</td>\n",
       "      <td>30.0</td>\n",
       "      <td>1885.0</td>\n",
       "      <td>0.015915</td>\n",
       "    </tr>\n",
       "  </tbody>\n",
       "</table>\n",
       "</div></td><td><div>\n",
       "<style>\n",
       "    .dataframe thead tr:only-child th {\n",
       "        text-align: right;\n",
       "    }\n",
       "\n",
       "    .dataframe thead th {\n",
       "        text-align: left;\n",
       "    }\n",
       "\n",
       "    .dataframe tbody tr th {\n",
       "        vertical-align: top;\n",
       "    }\n",
       "</style>\n",
       "<table border=\"1\" class=\"dataframe\">\n",
       "  <thead>\n",
       "    <tr style=\"text-align: right;\">\n",
       "      <th></th>\n",
       "      <th>Breach_0.0</th>\n",
       "      <th>Breach_1.0</th>\n",
       "      <th>Total</th>\n",
       "      <th>Breach_Prop</th>\n",
       "    </tr>\n",
       "    <tr>\n",
       "      <th>Clause</th>\n",
       "      <th></th>\n",
       "      <th></th>\n",
       "      <th></th>\n",
       "      <th></th>\n",
       "    </tr>\n",
       "  </thead>\n",
       "  <tbody>\n",
       "    <tr>\n",
       "      <th>4</th>\n",
       "      <td>0.0</td>\n",
       "      <td>6.0</td>\n",
       "      <td>6.0</td>\n",
       "      <td>1.000000</td>\n",
       "    </tr>\n",
       "    <tr>\n",
       "      <th>24</th>\n",
       "      <td>151.0</td>\n",
       "      <td>116.0</td>\n",
       "      <td>267.0</td>\n",
       "      <td>0.434457</td>\n",
       "    </tr>\n",
       "    <tr>\n",
       "      <th>27</th>\n",
       "      <td>70.0</td>\n",
       "      <td>24.0</td>\n",
       "      <td>94.0</td>\n",
       "      <td>0.255319</td>\n",
       "    </tr>\n",
       "    <tr>\n",
       "      <th>18.2</th>\n",
       "      <td>622.0</td>\n",
       "      <td>171.0</td>\n",
       "      <td>793.0</td>\n",
       "      <td>0.215637</td>\n",
       "    </tr>\n",
       "    <tr>\n",
       "      <th>17</th>\n",
       "      <td>44.0</td>\n",
       "      <td>11.0</td>\n",
       "      <td>55.0</td>\n",
       "      <td>0.200000</td>\n",
       "    </tr>\n",
       "  </tbody>\n",
       "</table>\n",
       "</div></td></tr></table>"
      ],
      "text/plain": [
       "<IPython.core.display.HTML object>"
      ]
     },
     "execution_count": 27,
     "metadata": {},
     "output_type": "execute_result"
    }
   ],
   "source": [
    "multi_table([sort_df.head(),temp_df.head()],HTML=HTML)"
   ]
  },
  {
   "cell_type": "code",
   "execution_count": 28,
   "metadata": {
    "collapsed": false,
    "deletable": true,
    "editable": true
   },
   "outputs": [
    {
     "data": {
      "text/html": [
       "<div>\n",
       "<style>\n",
       "    .dataframe thead tr:only-child th {\n",
       "        text-align: right;\n",
       "    }\n",
       "\n",
       "    .dataframe thead th {\n",
       "        text-align: left;\n",
       "    }\n",
       "\n",
       "    .dataframe tbody tr th {\n",
       "        vertical-align: top;\n",
       "    }\n",
       "</style>\n",
       "<table border=\"1\" class=\"dataframe\">\n",
       "  <thead>\n",
       "    <tr style=\"text-align: right;\">\n",
       "      <th></th>\n",
       "      <th>Breach_0.0</th>\n",
       "      <th>Breach_1.0</th>\n",
       "      <th>Total</th>\n",
       "      <th>Breach_Prop</th>\n",
       "    </tr>\n",
       "    <tr>\n",
       "      <th>Clause</th>\n",
       "      <th></th>\n",
       "      <th></th>\n",
       "      <th></th>\n",
       "      <th></th>\n",
       "    </tr>\n",
       "  </thead>\n",
       "  <tbody>\n",
       "    <tr>\n",
       "      <th>33</th>\n",
       "      <td>4401.0</td>\n",
       "      <td>1056.0</td>\n",
       "      <td>5457.0</td>\n",
       "      <td>0.193513</td>\n",
       "    </tr>\n",
       "    <tr>\n",
       "      <th>14a</th>\n",
       "      <td>8695.0</td>\n",
       "      <td>984.0</td>\n",
       "      <td>9679.0</td>\n",
       "      <td>0.101663</td>\n",
       "    </tr>\n",
       "    <tr>\n",
       "      <th>15</th>\n",
       "      <td>2839.0</td>\n",
       "      <td>314.0</td>\n",
       "      <td>3153.0</td>\n",
       "      <td>0.099588</td>\n",
       "    </tr>\n",
       "    <tr>\n",
       "      <th>18.2</th>\n",
       "      <td>622.0</td>\n",
       "      <td>171.0</td>\n",
       "      <td>793.0</td>\n",
       "      <td>0.215637</td>\n",
       "    </tr>\n",
       "  </tbody>\n",
       "</table>\n",
       "</div>"
      ],
      "text/plain": [
       "        Breach_0.0  Breach_1.0   Total  Breach_Prop\n",
       "Clause                                             \n",
       "33          4401.0      1056.0  5457.0     0.193513\n",
       "14a         8695.0       984.0  9679.0     0.101663\n",
       "15          2839.0       314.0  3153.0     0.099588\n",
       "18.2         622.0       171.0   793.0     0.215637"
      ]
     },
     "execution_count": 28,
     "metadata": {},
     "output_type": "execute_result"
    }
   ],
   "source": [
    "final_df = df.sort_values('Breach_1.0',ascending=False).head(4)\n",
    "final_df"
   ]
  },
  {
   "cell_type": "code",
   "execution_count": 29,
   "metadata": {
    "collapsed": false,
    "deletable": true,
    "editable": true
   },
   "outputs": [
    {
     "data": {
      "text/plain": [
       "Breach_0.0     16557.000000\n",
       "Breach_1.0      2525.000000\n",
       "Total          19082.000000\n",
       "Breach_Prop        0.610401\n",
       "dtype: float64"
      ]
     },
     "execution_count": 29,
     "metadata": {},
     "output_type": "execute_result"
    }
   ],
   "source": [
    "final_df.sum()"
   ]
  },
  {
   "cell_type": "code",
   "execution_count": 30,
   "metadata": {
    "collapsed": false,
    "deletable": true,
    "editable": true
   },
   "outputs": [
    {
     "data": {
      "text/plain": [
       "0.8676763441987213"
      ]
     },
     "execution_count": 30,
     "metadata": {},
     "output_type": "execute_result"
    }
   ],
   "source": [
    "final_df.sum()[0]/final_df.sum()[2]"
   ]
  },
  {
   "cell_type": "markdown",
   "metadata": {
    "deletable": true,
    "editable": true
   },
   "source": [
    "### Prepare dataset for the 4 dominant classes for breach modelling"
   ]
  },
  {
   "cell_type": "code",
   "execution_count": 31,
   "metadata": {
    "collapsed": false,
    "deletable": true,
    "editable": true
   },
   "outputs": [
    {
     "data": {
      "text/plain": [
       "['33', '14a', '15', '18.2']"
      ]
     },
     "execution_count": 31,
     "metadata": {},
     "output_type": "execute_result"
    }
   ],
   "source": [
    "final_clauses = list(final_df.index)\n",
    "final_clauses"
   ]
  },
  {
   "cell_type": "code",
   "execution_count": 32,
   "metadata": {
    "collapsed": false,
    "deletable": true,
    "editable": true
   },
   "outputs": [],
   "source": [
    "reduced_breach_df = breach_df.loc[breach_df['Clause'].isin (final_clauses)]"
   ]
  },
  {
   "cell_type": "code",
   "execution_count": 33,
   "metadata": {
    "collapsed": false,
    "deletable": true,
    "editable": true
   },
   "outputs": [
    {
     "data": {
      "text/html": [
       "<div>\n",
       "<style>\n",
       "    .dataframe thead tr:only-child th {\n",
       "        text-align: right;\n",
       "    }\n",
       "\n",
       "    .dataframe thead th {\n",
       "        text-align: left;\n",
       "    }\n",
       "\n",
       "    .dataframe tbody tr th {\n",
       "        vertical-align: top;\n",
       "    }\n",
       "</style>\n",
       "<table border=\"1\" class=\"dataframe\">\n",
       "  <thead>\n",
       "    <tr style=\"text-align: right;\">\n",
       "      <th></th>\n",
       "      <th>ConcernID</th>\n",
       "      <th>IssueID</th>\n",
       "      <th>Breach</th>\n",
       "      <th>IssueDescription</th>\n",
       "      <th>ConcernDescription</th>\n",
       "      <th>ResolutionDescription</th>\n",
       "      <th>Clause</th>\n",
       "    </tr>\n",
       "  </thead>\n",
       "  <tbody>\n",
       "    <tr>\n",
       "      <th>15</th>\n",
       "      <td>969994</td>\n",
       "      <td>1020622</td>\n",
       "      <td>1.0</td>\n",
       "      <td>lack of information</td>\n",
       "      <td>Customer has an opened an ANZ Offset account o...</td>\n",
       "      <td>I reconfirmed his concerns. I apologised to cu...</td>\n",
       "      <td>15</td>\n",
       "    </tr>\n",
       "    <tr>\n",
       "      <th>34</th>\n",
       "      <td>970497</td>\n",
       "      <td>1021093</td>\n",
       "      <td>1.0</td>\n",
       "      <td>Insufficient information provided.</td>\n",
       "      <td>Customer opened an ANZ Progress Saver account ...</td>\n",
       "      <td>Customer Advocate: offered to reimburse the fi...</td>\n",
       "      <td>15</td>\n",
       "    </tr>\n",
       "    <tr>\n",
       "      <th>41</th>\n",
       "      <td>970854</td>\n",
       "      <td>1021667</td>\n",
       "      <td>0.0</td>\n",
       "      <td>incorrect information provided</td>\n",
       "      <td>Your ANZ Online Saver account was opened at AN...</td>\n",
       "      <td>Thank you for the opportunity to investigate t...</td>\n",
       "      <td>15</td>\n",
       "    </tr>\n",
       "    <tr>\n",
       "      <th>49</th>\n",
       "      <td>971112</td>\n",
       "      <td>1020452</td>\n",
       "      <td>0.0</td>\n",
       "      <td>account opened in different name than business...</td>\n",
       "      <td>you visited ANZ Bourke Street Mall branch on 1...</td>\n",
       "      <td>Thank you for the opportunity to investigate t...</td>\n",
       "      <td>15</td>\n",
       "    </tr>\n",
       "    <tr>\n",
       "      <th>63</th>\n",
       "      <td>971462</td>\n",
       "      <td>1022374</td>\n",
       "      <td>0.0</td>\n",
       "      <td>cheque alteration</td>\n",
       "      <td>Customer's ANZ V2Plus account has been closed ...</td>\n",
       "      <td>We are unable to alter the cheque in your pers...</td>\n",
       "      <td>33</td>\n",
       "    </tr>\n",
       "  </tbody>\n",
       "</table>\n",
       "</div>"
      ],
      "text/plain": [
       "   ConcernID  IssueID  Breach  \\\n",
       "15    969994  1020622     1.0   \n",
       "34    970497  1021093     1.0   \n",
       "41    970854  1021667     0.0   \n",
       "49    971112  1020452     0.0   \n",
       "63    971462  1022374     0.0   \n",
       "\n",
       "                                     IssueDescription  \\\n",
       "15                                lack of information   \n",
       "34                 Insufficient information provided.   \n",
       "41                     incorrect information provided   \n",
       "49  account opened in different name than business...   \n",
       "63                                  cheque alteration   \n",
       "\n",
       "                                   ConcernDescription  \\\n",
       "15  Customer has an opened an ANZ Offset account o...   \n",
       "34  Customer opened an ANZ Progress Saver account ...   \n",
       "41  Your ANZ Online Saver account was opened at AN...   \n",
       "49  you visited ANZ Bourke Street Mall branch on 1...   \n",
       "63  Customer's ANZ V2Plus account has been closed ...   \n",
       "\n",
       "                                ResolutionDescription Clause  \n",
       "15  I reconfirmed his concerns. I apologised to cu...     15  \n",
       "34  Customer Advocate: offered to reimburse the fi...     15  \n",
       "41  Thank you for the opportunity to investigate t...     15  \n",
       "49  Thank you for the opportunity to investigate t...     15  \n",
       "63  We are unable to alter the cheque in your pers...     33  "
      ]
     },
     "execution_count": 33,
     "metadata": {},
     "output_type": "execute_result"
    }
   ],
   "source": [
    "reduced_breach_df.head()"
   ]
  },
  {
   "cell_type": "code",
   "execution_count": 34,
   "metadata": {
    "collapsed": false,
    "deletable": true,
    "editable": true
   },
   "outputs": [
    {
     "data": {
      "text/html": [
       "<div>\n",
       "<style>\n",
       "    .dataframe thead tr:only-child th {\n",
       "        text-align: right;\n",
       "    }\n",
       "\n",
       "    .dataframe thead th {\n",
       "        text-align: left;\n",
       "    }\n",
       "\n",
       "    .dataframe tbody tr th {\n",
       "        vertical-align: top;\n",
       "    }\n",
       "</style>\n",
       "<table border=\"1\" class=\"dataframe\">\n",
       "  <thead>\n",
       "    <tr style=\"text-align: right;\">\n",
       "      <th></th>\n",
       "      <th>ConcernID</th>\n",
       "      <th>IssueID</th>\n",
       "      <th>Breach</th>\n",
       "      <th>IssueDescription</th>\n",
       "      <th>ConcernDescription</th>\n",
       "      <th>ResolutionDescription</th>\n",
       "      <th>Clause</th>\n",
       "      <th>keyword_corpus</th>\n",
       "    </tr>\n",
       "  </thead>\n",
       "  <tbody>\n",
       "    <tr>\n",
       "      <th>15</th>\n",
       "      <td>969994</td>\n",
       "      <td>1020622</td>\n",
       "      <td>1.0</td>\n",
       "      <td>lack of information</td>\n",
       "      <td>Customer has an opened an ANZ Offset account o...</td>\n",
       "      <td>I reconfirmed his concerns. I apologised to cu...</td>\n",
       "      <td>15</td>\n",
       "      <td>Customer has an opened an ANZ Offset account o...</td>\n",
       "    </tr>\n",
       "    <tr>\n",
       "      <th>34</th>\n",
       "      <td>970497</td>\n",
       "      <td>1021093</td>\n",
       "      <td>1.0</td>\n",
       "      <td>Insufficient information provided.</td>\n",
       "      <td>Customer opened an ANZ Progress Saver account ...</td>\n",
       "      <td>Customer Advocate: offered to reimburse the fi...</td>\n",
       "      <td>15</td>\n",
       "      <td>Customer opened an ANZ Progress Saver account ...</td>\n",
       "    </tr>\n",
       "    <tr>\n",
       "      <th>41</th>\n",
       "      <td>970854</td>\n",
       "      <td>1021667</td>\n",
       "      <td>0.0</td>\n",
       "      <td>incorrect information provided</td>\n",
       "      <td>Your ANZ Online Saver account was opened at AN...</td>\n",
       "      <td>Thank you for the opportunity to investigate t...</td>\n",
       "      <td>15</td>\n",
       "      <td>Your ANZ Online Saver account was opened at AN...</td>\n",
       "    </tr>\n",
       "    <tr>\n",
       "      <th>49</th>\n",
       "      <td>971112</td>\n",
       "      <td>1020452</td>\n",
       "      <td>0.0</td>\n",
       "      <td>account opened in different name than business...</td>\n",
       "      <td>you visited ANZ Bourke Street Mall branch on 1...</td>\n",
       "      <td>Thank you for the opportunity to investigate t...</td>\n",
       "      <td>15</td>\n",
       "      <td>you visited ANZ Bourke Street Mall branch on 1...</td>\n",
       "    </tr>\n",
       "    <tr>\n",
       "      <th>63</th>\n",
       "      <td>971462</td>\n",
       "      <td>1022374</td>\n",
       "      <td>0.0</td>\n",
       "      <td>cheque alteration</td>\n",
       "      <td>Customer's ANZ V2Plus account has been closed ...</td>\n",
       "      <td>We are unable to alter the cheque in your pers...</td>\n",
       "      <td>33</td>\n",
       "      <td>Customer's ANZ V2Plus account has been closed ...</td>\n",
       "    </tr>\n",
       "  </tbody>\n",
       "</table>\n",
       "</div>"
      ],
      "text/plain": [
       "   ConcernID  IssueID  Breach  \\\n",
       "15    969994  1020622     1.0   \n",
       "34    970497  1021093     1.0   \n",
       "41    970854  1021667     0.0   \n",
       "49    971112  1020452     0.0   \n",
       "63    971462  1022374     0.0   \n",
       "\n",
       "                                     IssueDescription  \\\n",
       "15                                lack of information   \n",
       "34                 Insufficient information provided.   \n",
       "41                     incorrect information provided   \n",
       "49  account opened in different name than business...   \n",
       "63                                  cheque alteration   \n",
       "\n",
       "                                   ConcernDescription  \\\n",
       "15  Customer has an opened an ANZ Offset account o...   \n",
       "34  Customer opened an ANZ Progress Saver account ...   \n",
       "41  Your ANZ Online Saver account was opened at AN...   \n",
       "49  you visited ANZ Bourke Street Mall branch on 1...   \n",
       "63  Customer's ANZ V2Plus account has been closed ...   \n",
       "\n",
       "                                ResolutionDescription Clause  \\\n",
       "15  I reconfirmed his concerns. I apologised to cu...     15   \n",
       "34  Customer Advocate: offered to reimburse the fi...     15   \n",
       "41  Thank you for the opportunity to investigate t...     15   \n",
       "49  Thank you for the opportunity to investigate t...     15   \n",
       "63  We are unable to alter the cheque in your pers...     33   \n",
       "\n",
       "                                       keyword_corpus  \n",
       "15  Customer has an opened an ANZ Offset account o...  \n",
       "34  Customer opened an ANZ Progress Saver account ...  \n",
       "41  Your ANZ Online Saver account was opened at AN...  \n",
       "49  you visited ANZ Bourke Street Mall branch on 1...  \n",
       "63  Customer's ANZ V2Plus account has been closed ...  "
      ]
     },
     "execution_count": 34,
     "metadata": {},
     "output_type": "execute_result"
    }
   ],
   "source": [
    "reduced_breach_df['keyword_corpus'] = reduced_breach_df['ConcernDescription']+\".\"+reduced_breach_df['IssueDescription']+\".\"+reduced_breach_df['ResolutionDescription']\n",
    "reduced_breach_df['keyword_corpus'] = reduced_breach_df[['ConcernDescription','IssueDescription','ResolutionDescription','Clause']].fillna('').sum(axis=1)\n",
    "reduced_breach_df.head()\n"
   ]
  },
  {
   "cell_type": "code",
   "execution_count": null,
   "metadata": {
    "collapsed": false,
    "deletable": true,
    "editable": true
   },
   "outputs": [],
   "source": [
    "breach_final_df = reduced_breach_df.copy()\n",
    "%store breach_final_df"
   ]
  },
  {
   "cell_type": "code",
   "execution_count": null,
   "metadata": {
    "collapsed": true
   },
   "outputs": [],
   "source": []
  },
  {
   "cell_type": "code",
   "execution_count": null,
   "metadata": {
    "collapsed": true
   },
   "outputs": [],
   "source": []
  },
  {
   "cell_type": "code",
   "execution_count": null,
   "metadata": {
    "collapsed": true
   },
   "outputs": [],
   "source": []
  },
  {
   "cell_type": "code",
   "execution_count": null,
   "metadata": {
    "collapsed": true
   },
   "outputs": [],
   "source": []
  },
  {
   "cell_type": "code",
   "execution_count": null,
   "metadata": {
    "collapsed": true
   },
   "outputs": [],
   "source": []
  },
  {
   "cell_type": "code",
   "execution_count": null,
   "metadata": {
    "collapsed": true
   },
   "outputs": [],
   "source": []
  },
  {
   "cell_type": "code",
   "execution_count": null,
   "metadata": {
    "collapsed": true
   },
   "outputs": [],
   "source": []
  },
  {
   "cell_type": "code",
   "execution_count": null,
   "metadata": {
    "collapsed": true
   },
   "outputs": [],
   "source": []
  },
  {
   "cell_type": "code",
   "execution_count": null,
   "metadata": {
    "collapsed": true
   },
   "outputs": [],
   "source": []
  },
  {
   "cell_type": "code",
   "execution_count": null,
   "metadata": {
    "collapsed": true
   },
   "outputs": [],
   "source": []
  },
  {
   "cell_type": "code",
   "execution_count": null,
   "metadata": {
    "collapsed": true
   },
   "outputs": [],
   "source": []
  },
  {
   "cell_type": "code",
   "execution_count": null,
   "metadata": {
    "collapsed": false,
    "deletable": true,
    "editable": true
   },
   "outputs": [],
   "source": [
    "# def get_train_texts():\n",
    "#     train_texts = []\n",
    "#     try:\n",
    "#         for index,line in enumerate(reduced_breach_df['keyword_corpus']):\n",
    "#             tokens = tokenizer(line)\n",
    "#             tokenz = [val for i, val in enumerate(tokens) if val not in custom_stopwords]\n",
    "#             #tokens = remove_custom_stopwords(line,custom_stopwords)\n",
    "#             train_texts.append(tokenz)\n",
    "#         return train_texts\n",
    "\n",
    "#     except Exception as e:\n",
    "#         print(index,e)\n",
    "    \n",
    "    "
   ]
  },
  {
   "cell_type": "code",
   "execution_count": null,
   "metadata": {
    "collapsed": false,
    "deletable": true,
    "editable": true
   },
   "outputs": [],
   "source": [
    "# import time\n",
    "# start = time.time()\n",
    "# train_texts = get_train_texts()\n",
    "# phrased = preprocess_phrase(train_texts)\n",
    "# print((time.time()-start))"
   ]
  },
  {
   "cell_type": "code",
   "execution_count": null,
   "metadata": {
    "collapsed": true,
    "deletable": true,
    "editable": true
   },
   "outputs": [],
   "source": [
    "# phrased_final =[]\n",
    "# from gensim.parsing.preprocessing import strip_multiple_whitespaces,strip_short\n",
    "# for line in phrased:\n",
    "#     tmp =[]\n",
    "#     for each in line:\n",
    "#         if each not in my_stop_words:\n",
    "#             tmp.append(strip_short(each))\n",
    "#     phrased_final.append(tmp)\n",
    "    "
   ]
  },
  {
   "cell_type": "code",
   "execution_count": null,
   "metadata": {
    "collapsed": false,
    "deletable": true,
    "editable": true
   },
   "outputs": [],
   "source": [
    "# reduced_breach_df['final_tokens'] = phrased_final"
   ]
  },
  {
   "cell_type": "code",
   "execution_count": null,
   "metadata": {
    "collapsed": false,
    "deletable": true,
    "editable": true
   },
   "outputs": [],
   "source": [
    "# reduced_breach_df.head()"
   ]
  },
  {
   "cell_type": "code",
   "execution_count": null,
   "metadata": {
    "collapsed": true,
    "deletable": true,
    "editable": true
   },
   "outputs": [],
   "source": [
    "# from sklearn.feature_extraction.text import TfidfVectorizer,TfidfTransformer\n",
    "# from sklearn.metrics import confusion_matrix, classification_report, accuracy_score,recall_score\n",
    "# from sklearn.model_selection import train_test_split\n",
    "# from sklearn.linear_model import LogisticRegression\n",
    "# from sklearn.model_selection import GridSearchCV\n",
    "# from sklearn.ensemble import GradientBoostingClassifier , RandomForestClassifier\n",
    "# from imblearn.over_sampling import SMOTE\n",
    "# #from sklearn.pipeline import Pipeline\n",
    "# from imblearn.pipeline import Pipeline"
   ]
  },
  {
   "cell_type": "code",
   "execution_count": null,
   "metadata": {
    "collapsed": false,
    "deletable": true,
    "editable": true
   },
   "outputs": [],
   "source": [
    "# tfidf = TfidfVectorizer(tokenizer=lambda x: x, lowercase=False)\n",
    "# Y = reduced_breach_df['Breach']\n",
    "# X_train, X_test, Y_train, Y_test = train_test_split(phrased_final, Y, test_size=0.20, random_state=42)"
   ]
  },
  {
   "cell_type": "code",
   "execution_count": null,
   "metadata": {
    "collapsed": false,
    "deletable": true,
    "editable": true
   },
   "outputs": [],
   "source": []
  },
  {
   "cell_type": "code",
   "execution_count": null,
   "metadata": {
    "collapsed": false,
    "deletable": true,
    "editable": true
   },
   "outputs": [],
   "source": [
    "# Y_train.value_counts()"
   ]
  },
  {
   "cell_type": "code",
   "execution_count": null,
   "metadata": {
    "collapsed": true,
    "deletable": true,
    "editable": true
   },
   "outputs": [],
   "source": [
    "# X_train = tfidf.fit_transform(X_train)\n",
    "\n",
    "# X_test = tfidf.transform(X_test)"
   ]
  },
  {
   "cell_type": "code",
   "execution_count": null,
   "metadata": {
    "collapsed": false,
    "deletable": true,
    "editable": true
   },
   "outputs": [],
   "source": [
    "# Y_test.value_counts()"
   ]
  },
  {
   "cell_type": "code",
   "execution_count": null,
   "metadata": {
    "collapsed": false,
    "deletable": true,
    "editable": true
   },
   "outputs": [],
   "source": [
    "# smt = SMOTE(random_state=42,ratio=0.95)\n",
    "# x_train, y_train = smt.fit_sample(X_train, Y_train)"
   ]
  },
  {
   "cell_type": "code",
   "execution_count": null,
   "metadata": {
    "collapsed": false,
    "deletable": true,
    "editable": true
   },
   "outputs": [],
   "source": [
    "# import numpy as np\n",
    "# print(X_train.shape,Y_train.shape)\n",
    "# print(x_train.shape,y_train.shape)"
   ]
  },
  {
   "cell_type": "code",
   "execution_count": null,
   "metadata": {
    "collapsed": true,
    "deletable": true,
    "editable": true
   },
   "outputs": [],
   "source": [
    "# clf = LogisticRegression()"
   ]
  },
  {
   "cell_type": "code",
   "execution_count": null,
   "metadata": {
    "collapsed": false,
    "deletable": true,
    "editable": true
   },
   "outputs": [],
   "source": [
    "# clf.fit(x_train, y_train)\n"
   ]
  },
  {
   "cell_type": "code",
   "execution_count": null,
   "metadata": {
    "collapsed": false,
    "deletable": true,
    "editable": true
   },
   "outputs": [],
   "source": [
    "#x_test, y_test = smt.fit_sample(X_test, Y_test)\n",
    "# pred = clf.predict(X_test)"
   ]
  },
  {
   "cell_type": "code",
   "execution_count": null,
   "metadata": {
    "collapsed": false,
    "deletable": true,
    "editable": true
   },
   "outputs": [],
   "source": [
    "# print(\"Recall {}\".format(recall_score(Y_test,pred)))\n",
    "# print(\"Accuracy {}\".format(accuracy_score(pred,Y_test)))"
   ]
  },
  {
   "cell_type": "code",
   "execution_count": null,
   "metadata": {
    "collapsed": false,
    "deletable": true,
    "editable": true
   },
   "outputs": [],
   "source": []
  },
  {
   "cell_type": "code",
   "execution_count": null,
   "metadata": {
    "collapsed": true,
    "deletable": true,
    "editable": true
   },
   "outputs": [],
   "source": []
  }
 ],
 "metadata": {
  "kernelspec": {
   "display_name": "Python3.5 with Watson Studio Spark 2.2.1",
   "language": "python",
   "name": "python3"
  },
  "language_info": {
   "codemirror_mode": {
    "name": "ipython",
    "version": 3
   },
   "file_extension": ".py",
   "mimetype": "text/x-python",
   "name": "python",
   "nbconvert_exporter": "python",
   "pygments_lexer": "ipython3",
   "version": "3.5.5"
  }
 },
 "nbformat": 4,
 "nbformat_minor": 2
}
