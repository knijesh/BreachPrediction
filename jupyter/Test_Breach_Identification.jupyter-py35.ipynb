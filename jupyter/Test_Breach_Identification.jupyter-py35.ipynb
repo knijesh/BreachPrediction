{
 "cells": [
  {
   "cell_type": "code",
   "execution_count": 1,
   "metadata": {
    "collapsed": false,
    "deletable": true,
    "editable": true,
    "scrolled": true
   },
   "outputs": [
    {
     "name": "stdout",
     "output_type": "stream",
     "text": [
      "[nltk_data] Downloading package punkt to /user-home/1077/nltk_data...\n",
      "[nltk_data]   Package punkt is already up-to-date!\n"
     ]
    }
   ],
   "source": [
    "import pandas as pd\n",
    "import matplotlib.pyplot as plt\n",
    "import numpy as np\n",
    "import warnings\n",
    "from IPython.display import display, HTML\n",
    "import sys,os\n",
    "import pandas as pd\n",
    "import copy\n",
    "\n",
    "sys.path.insert(0, '../scripts/')\n",
    "from nlp_preprocess import *\n",
    "from custom_transformers import *\n",
    "warnings.filterwarnings(\"ignore\")\n"
   ]
  },
  {
   "cell_type": "markdown",
   "metadata": {
    "deletable": true,
    "editable": true
   },
   "source": [
    "### Modelling and Sampling Libraries."
   ]
  },
  {
   "cell_type": "code",
   "execution_count": 2,
   "metadata": {
    "collapsed": false,
    "deletable": true,
    "editable": true
   },
   "outputs": [],
   "source": [
    "%matplotlib inline\n",
    "from sklearn.metrics import recall_score,accuracy_score,confusion_matrix, f1_score, precision_score,average_precision_score,auc,roc_auc_score,roc_curve, precision_recall_curve,fbeta_score\n",
    "from imblearn.over_sampling import SMOTE, RandomOverSampler\n",
    "from imblearn.under_sampling import ClusterCentroids,NearMiss, RandomUnderSampler\n",
    "from imblearn.combine import SMOTEENN,SMOTETomek\n",
    "from imblearn.ensemble import BalanceCascade\n",
    "from imblearn.over_sampling import BorderlineSMOTE, SMOTE, ADASYN, SMOTENC, RandomOverSampler\n",
    "from imblearn.under_sampling import (RandomUnderSampler, \n",
    "                                    NearMiss, \n",
    "                                    InstanceHardnessThreshold,\n",
    "                                    CondensedNearestNeighbour,\n",
    "                                    EditedNearestNeighbours,\n",
    "                                    RepeatedEditedNearestNeighbours,\n",
    "                                    AllKNN,\n",
    "                                    NeighbourhoodCleaningRule,\n",
    "                                    OneSidedSelection,\n",
    "                                    TomekLinks)\n",
    "from imblearn.combine import SMOTEENN, SMOTETomek\n",
    "from imblearn.pipeline import make_pipeline,Pipeline\n",
    "from sklearn.linear_model import LogisticRegression\n",
    "from sklearn.model_selection import KFold, cross_val_score\n",
    "from sklearn.model_selection import GridSearchCV\n",
    "from sklearn.metrics import confusion_matrix,precision_recall_curve,auc,roc_auc_score,roc_curve,recall_score,classification_report \n",
    "from sklearn.model_selection import train_test_split,StratifiedKFold\n",
    "from sklearn.preprocessing import StandardScaler\n",
    "from sklearn.feature_extraction.text import TfidfVectorizer,TfidfTransformer,HashingVectorizer,CountVectorizer\n",
    "from xgboost import plot_importance\n",
    "from xgboost import XGBClassifier\n",
    "from sklearn.model_selection import GridSearchCV\n",
    "from sklearn.linear_model import LogisticRegression\n",
    "from sklearn import svm\n",
    "from sklearn.ensemble import RandomForestClassifier"
   ]
  },
  {
   "cell_type": "markdown",
   "metadata": {
    "deletable": true,
    "editable": true
   },
   "source": [
    "### Retrieve the Prepared Dataset for 4 Clauses"
   ]
  },
  {
   "cell_type": "code",
   "execution_count": 181,
   "metadata": {
    "collapsed": true,
    "deletable": true,
    "editable": true
   },
   "outputs": [],
   "source": [
    "%store -r breach_final_df\n",
    "data = breach_final_df"
   ]
  },
  {
   "cell_type": "code",
   "execution_count": 182,
   "metadata": {
    "collapsed": false,
    "deletable": true,
    "editable": true
   },
   "outputs": [],
   "source": [
    "data.head()\n",
    "data = data.drop_duplicates()"
   ]
  },
  {
   "cell_type": "code",
   "execution_count": 183,
   "metadata": {
    "collapsed": false,
    "deletable": true,
    "editable": true
   },
   "outputs": [],
   "source": [
    "# data_final = data[['Breach','keyword_corpus']]\n",
    "# data_final.head()"
   ]
  },
  {
   "cell_type": "markdown",
   "metadata": {
    "deletable": true,
    "editable": true
   },
   "source": [
    "### Preprocessing the data and  creating a feature Pipeline\n"
   ]
  },
  {
   "cell_type": "code",
   "execution_count": 184,
   "metadata": {
    "collapsed": true,
    "deletable": true,
    "editable": true
   },
   "outputs": [],
   "source": [
    "X = data.drop('Breach', axis=1) \n",
    "Y = data['Breach']"
   ]
  },
  {
   "cell_type": "code",
   "execution_count": 185,
   "metadata": {
    "collapsed": true,
    "deletable": true,
    "editable": true
   },
   "outputs": [],
   "source": [
    "def tokenizer(x):\n",
    "     return x"
   ]
  },
  {
   "cell_type": "markdown",
   "metadata": {
    "deletable": true,
    "editable": true
   },
   "source": [
    "### Initialise the Custom Transformers from the custom_transformers.py script"
   ]
  },
  {
   "cell_type": "markdown",
   "metadata": {
    "deletable": true,
    "editable": true
   },
   "source": [
    "### Dataframe Feature and Cleansing Transformers"
   ]
  },
  {
   "cell_type": "code",
   "execution_count": 186,
   "metadata": {
    "collapsed": true,
    "deletable": true,
    "editable": true
   },
   "outputs": [],
   "source": [
    "scale_pos_weight = float(np.float(np.sum(data.Breach==0)))/float(np.float(np.sum(data.Breach==1)))\n",
    "drop_transf = DropFeatures(column_list=['ConcernID','IssueID','IssueDescription','ConcernDescription','ResolutionDescription','Clause'])\n",
    "transformer = DataFrameTransformer(column='keyword_corpus')\n",
    "#final_drop = DropFeatures(column_list=['keyword_corpus'])"
   ]
  },
  {
   "cell_type": "markdown",
   "metadata": {
    "deletable": true,
    "editable": true
   },
   "source": [
    "### Feature Extraction and Formation\n",
    "\n",
    "\n",
    "\n"
   ]
  },
  {
   "cell_type": "code",
   "execution_count": 187,
   "metadata": {
    "collapsed": true,
    "deletable": true,
    "editable": true
   },
   "outputs": [],
   "source": [
    "columnextract = ColumnExtractorTransformer(column='features')\n",
    "tfidf = TfidfVectorizer(tokenizer=tokenizer, lowercase=False)"
   ]
  },
  {
   "cell_type": "markdown",
   "metadata": {
    "deletable": true,
    "editable": true
   },
   "source": [
    "### Synthetic Minority Oversampling Technique, ADASYN and Other Advanced Feature Engineering Techniques"
   ]
  },
  {
   "cell_type": "code",
   "execution_count": 188,
   "metadata": {
    "collapsed": true,
    "deletable": true,
    "editable": true
   },
   "outputs": [],
   "source": [
    "adasyn = ADASYN(random_state=42)\n",
    "smt = SMOTE(random_state=42)\n",
    "und = RandomUnderSampler(random_state=42)"
   ]
  },
  {
   "cell_type": "markdown",
   "metadata": {
    "deletable": true,
    "editable": true
   },
   "source": [
    "### Initialise the Classifier"
   ]
  },
  {
   "cell_type": "code",
   "execution_count": 277,
   "metadata": {
    "collapsed": false,
    "deletable": true,
    "editable": true
   },
   "outputs": [],
   "source": [
    "scale_pos_weight = float(np.float(np.sum(data.Breach==0)))/float(np.float(np.sum(data.Breach==1)))\n",
    "\n",
    "###98% Recall\n",
    "#xgb1 = XGBClassifier(learning_rate=0.01,max_delta_step=1,max_depth=3,min_child_weight=1,scale_pos_weight=scale_pos_weight)\n",
    "\n",
    "###44% Precision\n",
    "#xgb1 = XGBClassifier(learning_rate=0.5,max_delta_step=1,max_depth=5,min_child_weight=1)\n",
    "\n",
    "### 68% Precision with no sampling\n",
    "xgb1 = XGBClassifier(learning_rate=0.002,n_estimators=500,max_depth=3)\n",
    "from sklearn.naive_bayes import GaussianNB\n",
    "# gauss = GaussianNB()\n",
    "\n",
    "svm1= svm.SVC(kernel='linear',C=1.0)\n",
    "lr1 = LogisticRegression(C=10,penalty='l2', verbose=5,dual=True,max_iter=1000)"
   ]
  },
  {
   "cell_type": "markdown",
   "metadata": {
    "deletable": true,
    "editable": true
   },
   "source": [
    "### Initiliase and form a feature Pipeline using Imblearn/Sklearn Pipeline and Split the Dataset as Train, Text"
   ]
  },
  {
   "cell_type": "code",
   "execution_count": 278,
   "metadata": {
    "collapsed": false,
    "deletable": true,
    "editable": true
   },
   "outputs": [],
   "source": [
    "text_model_pipeline = Pipeline([('drop_transf',drop_transf),('transformer',transformer),('columnextract',columnextract),('tfidf', tfidf),\n",
    "                              ('xgb1', xgb1)])\n",
    "# text_model_pipeline = Pipeline([('drop_transf',drop_transf),('transformer',transformer),('columnextract',columnextract),('tfidf', tfidf),('adasyn',adasyn),\n",
    "#                                 ('xgb1', xgb1)])\n",
    "\n",
    "X_train, X_test, Y_train, Y_test = train_test_split(X, Y, stratify=Y, test_size=0.20, random_state=42)"
   ]
  },
  {
   "cell_type": "markdown",
   "metadata": {
    "deletable": true,
    "editable": true
   },
   "source": [
    "### GridSearchCV for Model and paramter selection"
   ]
  },
  {
   "cell_type": "code",
   "execution_count": 279,
   "metadata": {
    "collapsed": false,
    "deletable": true,
    "editable": true
   },
   "outputs": [],
   "source": [
    "##LR Params\n",
    "parameters = {\n",
    "    'C': np.linspace(1, 10, 10),\n",
    "    'dual' :[True,False],\n",
    "    'max_iter':[100,110,120,130,140]\n",
    "}\n",
    "\n",
    "\n",
    "### RF Params\n",
    "param_grid = { \n",
    "    'n_estimators': [200, 500],\n",
    "    'max_features': ['auto', 'sqrt', 'log2'],\n",
    "    'max_depth' : [4,5,6,7,8],\n",
    "    'criterion' :['gini', 'entropy']\n",
    "}\n",
    "\n",
    "\n",
    "### XGB Params\n",
    "cv_params = {\n",
    "    'min_child_weight':[0.2,1],\n",
    "    'max_delta_step': [1],\n",
    "    'max_depth':[5,8],\n",
    "    'learning_rate' : [0.1]\n",
    "}\n",
    "\n",
    "ind_params = {\n",
    "    'learning_rate': 0.1, 'n_estimators': 5000, 'seed':0, 'colsample_bytree': 0.8,'scale_pos_weight':6.55,'n_jobs':-1, 'objective': 'binary:logistic'\n",
    "}\n",
    "\n",
    "##SVM Params\n",
    "Cs = [0.001]\n",
    "gammas = [0.001]\n",
    "param_grid = {'C': Cs, 'gamma' : gammas}\n",
    "\n",
    "### Model Initialization and GridSearch\n",
    "\n",
    "# lr = LogisticRegression()\n",
    "#rf = RandomForestClassifier()\n",
    "\n",
    "# clf = GridSearchCV(lr, parameters, cv=StratifiedKFold(5), verbose=5, n_jobs=3)\n",
    "#clf = GridSearchCV(rf, param_grid, cv=StratifiedKFold(5), verbose=5, n_jobs=3)\n",
    "\n",
    "\n",
    "# drop_transf = DropFeatures(column_list=['ConcernID','IssueID','IssueDescription','ConcernDescription','ResolutionDescription','Clause'])\n",
    "# transformer = DataFrameTransformer(column='keyword_corpus')\n",
    "#final_df = transformer.transform(X=data)\n",
    "\n",
    "kfold = StratifiedKFold(5)\n",
    "#clf = GridSearchCV(text_model_pipeline,cv_params,cv=5)\n",
    "# clf = GridSearchCV(svm.SVC(kernel='rbf'), param_grid, cv=StratifiedKFold(5))\n",
    "\n",
    "\n",
    "#clf.fit(X_train, Y_train)"
   ]
  },
  {
   "cell_type": "code",
   "execution_count": 280,
   "metadata": {
    "collapsed": false,
    "deletable": true,
    "editable": true
   },
   "outputs": [],
   "source": [
    "# clf = GridSearchCV(text_model_pipeline,cv_params,cv=5)\n",
    "# clf.fit(X_train,Y_train)\n",
    "# print(clf.best_score_)\n",
    "# print(clf.best_estimator_.get_params())"
   ]
  },
  {
   "cell_type": "markdown",
   "metadata": {
    "deletable": true,
    "editable": true
   },
   "source": [
    "### XGB Classifier Hyperparameter Tuning"
   ]
  },
  {
   "cell_type": "markdown",
   "metadata": {
    "deletable": true,
    "editable": true
   },
   "source": [
    "### Train and Fit the Pipeline and underlying components"
   ]
  },
  {
   "cell_type": "code",
   "execution_count": 281,
   "metadata": {
    "collapsed": false,
    "deletable": true,
    "editable": true
   },
   "outputs": [
    {
     "data": {
      "text/plain": [
       "Pipeline(memory=None,\n",
       "     steps=[('drop_transf', DropFeatures(column_list=['ConcernID', 'IssueID', 'IssueDescription', 'ConcernDescription', 'ResolutionDescription', 'Clause'])), ('transformer', DataFrameTransformer(column='keyword_corpus')), ('columnextract', ColumnExtractorTransformer(column='features')), ('tfidf', TfidfVe...\n",
       "       reg_alpha=0, reg_lambda=1, scale_pos_weight=1, seed=None,\n",
       "       silent=True, subsample=1))])"
      ]
     },
     "execution_count": 281,
     "metadata": {},
     "output_type": "execute_result"
    }
   ],
   "source": [
    "text_model_pipeline.fit(X_train, Y_train) "
   ]
  },
  {
   "cell_type": "markdown",
   "metadata": {
    "deletable": true,
    "editable": true
   },
   "source": [
    "### Test the Model Performance on Test dataset"
   ]
  },
  {
   "cell_type": "code",
   "execution_count": 282,
   "metadata": {
    "collapsed": true,
    "deletable": true,
    "editable": true
   },
   "outputs": [],
   "source": [
    "y_hat = text_model_pipeline.predict(X_test)"
   ]
  },
  {
   "cell_type": "markdown",
   "metadata": {
    "deletable": true,
    "editable": true
   },
   "source": [
    "### Compute the Recall and Precision : Metrics for measuring the Classification Model"
   ]
  },
  {
   "cell_type": "code",
   "execution_count": 283,
   "metadata": {
    "collapsed": false,
    "deletable": true,
    "editable": true
   },
   "outputs": [
    {
     "name": "stdout",
     "output_type": "stream",
     "text": [
      "Recall 0.11\n",
      "Precision 0.70\n",
      "F1 0.19\n"
     ]
    }
   ],
   "source": [
    "print(\"Recall {0:.2f}\".format(recall_score(Y_test,y_hat)))\n",
    "print(\"Precision {0:.2f}\".format(precision_score(Y_test,y_hat)))\n",
    "print(\"F1 {0:.2f}\".format(f1_score(Y_test,y_hat)))"
   ]
  },
  {
   "cell_type": "markdown",
   "metadata": {
    "deletable": true,
    "editable": true
   },
   "source": [
    "### Compute F1 Score"
   ]
  },
  {
   "cell_type": "code",
   "execution_count": null,
   "metadata": {
    "collapsed": false,
    "deletable": true,
    "editable": true
   },
   "outputs": [],
   "source": [
    "# precision = precision_score(y_hat,Y_test)\n",
    "# recall = recall_score(Y_test,y_hat)\n",
    "# f1 = 2*((precision*recall)/(precision+recall))\n",
    "# f1"
   ]
  },
  {
   "cell_type": "markdown",
   "metadata": {
    "deletable": true,
    "editable": true
   },
   "source": [
    "### Confusion Matrix"
   ]
  },
  {
   "cell_type": "code",
   "execution_count": 267,
   "metadata": {
    "collapsed": false,
    "deletable": true,
    "editable": true
   },
   "outputs": [
    {
     "data": {
      "text/plain": [
       "Text(0.5,24,'Predicted label')"
      ]
     },
     "execution_count": 267,
     "metadata": {},
     "output_type": "execute_result"
    },
    {
     "data": {
      "image/png": "[encoded data removed]",
      "text/plain": [
       "<Figure size 504x360 with 2 Axes>"
      ]
     },
     "metadata": {},
     "output_type": "display_data"
    }
   ],
   "source": [
    "import seaborn as sns\n",
    "\n",
    "conf_mat = confusion_matrix(Y_test, y_hat)\n",
    "\n",
    "# Define class labels here\n",
    "target_names = ['Breach','No Breach']\n",
    "\n",
    "df_cm = pd.DataFrame(conf_mat, index=target_names, columns=target_names)\n",
    "fig, ax = plt.subplots(figsize=(7,5))\n",
    "sns.heatmap(df_cm, annot=True, fmt=\"d\", ax=ax)\n",
    "ax.set_ylabel('True label')\n",
    "ax.set_xlabel('Predicted label')"
   ]
  },
  {
   "cell_type": "code",
   "execution_count": 268,
   "metadata": {
    "collapsed": false,
    "deletable": true,
    "editable": true
   },
   "outputs": [
    {
     "data": {
      "text/plain": [
       "array([[2250,   73],\n",
       "       [ 308,   84]])"
      ]
     },
     "execution_count": 268,
     "metadata": {},
     "output_type": "execute_result"
    }
   ],
   "source": [
    "conf_mat"
   ]
  },
  {
   "cell_type": "markdown",
   "metadata": {
    "deletable": true,
    "editable": true
   },
   "source": [
    "### Precision/Recall Curve"
   ]
  },
  {
   "cell_type": "code",
   "execution_count": 269,
   "metadata": {
    "collapsed": false,
    "deletable": true,
    "editable": true
   },
   "outputs": [
    {
     "name": "stdout",
     "output_type": "stream",
     "text": [
      "Average precision-recall score: 0.23\n"
     ]
    },
    {
     "data": {
      "text/plain": [
       "Text(0.5,1,'2-class Precision-Recall curve: AP=0.23')"
      ]
     },
     "execution_count": 269,
     "metadata": {},
     "output_type": "execute_result"
    },
    {
     "data": {
      "image/png": "[encoded data removed]",
      "text/plain": [
       "<Figure size 576x396 with 1 Axes>"
      ]
     },
     "metadata": {},
     "output_type": "display_data"
    }
   ],
   "source": [
    "from sklearn.metrics import precision_recall_curve\n",
    "from sklearn.metrics import average_precision_score\n",
    "average_precision = average_precision_score(Y_test,y_hat)\n",
    "\n",
    "print('Average precision-recall score: {0:0.2f}'.format(\n",
    "      average_precision))\n",
    "import matplotlib.pyplot as plt\n",
    "from inspect import signature\n",
    "\n",
    "precision, recall, _ = precision_recall_curve(Y_test, y_hat)\n",
    "\n",
    "# In matplotlib < 1.5, plt.fill_between does not have a 'step' argument\n",
    "step_kwargs = ({'step': 'post'}\n",
    "               if 'step' in signature(plt.fill_between).parameters\n",
    "               else {})\n",
    "plt.step(recall, precision, color='b', alpha=0.2,\n",
    "         where='post')\n",
    "plt.fill_between(recall, precision, alpha=0.2, color='b', **step_kwargs)\n",
    "plt.xlabel('Recall')\n",
    "plt.ylabel('Precision')\n",
    "plt.ylim([0.0, 1.05])\n",
    "plt.xlim([0.0, 1.0])\n",
    "plt.title('2-class Precision-Recall curve: AP={0:0.2f}'.format(\n",
    "          average_precision))"
   ]
  },
  {
   "cell_type": "markdown",
   "metadata": {},
   "source": [
    "### PR Curve"
   ]
  },
  {
   "cell_type": "code",
   "execution_count": 276,
   "metadata": {
    "collapsed": false
   },
   "outputs": [
    {
     "name": "stdout",
     "output_type": "stream",
     "text": [
      "f1=0.306 auc=0.403 ap=0.405\n"
     ]
    },
    {
     "data": {
      "image/png": "[encoded data removed]",
      "text/plain": [
       "<Figure size 576x396 with 1 Axes>"
      ]
     },
     "metadata": {},
     "output_type": "display_data"
    }
   ],
   "source": [
    "from matplotlib import pyplot\n",
    "# predict probabilities\n",
    "probs = text_model_pipeline.predict_proba(X_test)\n",
    "# keep probabilities for the positive outcome only\n",
    "probs = probs[:, 1]\n",
    "# predict class values\n",
    "yhat = text_model_pipeline.predict(X_test)\n",
    "# calculate precision-recall curve\n",
    "precision, recall, thresholds = precision_recall_curve(Y_test, probs)\n",
    "# calculate F1 score\n",
    "f1 = f1_score(Y_test, yhat)\n",
    "# calculate precision-recall AUC\n",
    "from sklearn.metrics import auc\n",
    "auc = auc(recall, precision)\n",
    "# calculate average precision score\n",
    "ap = average_precision_score(Y_test, probs)\n",
    "print('f1=%.3f auc=%.3f ap=%.3f' % (f1, auc, ap))\n",
    "# plot no skill\n",
    "pyplot.plot([0, 1], [0.5, 0.5], linestyle='--')\n",
    "# plot the precision-recall curve for the model\n",
    "pyplot.plot(recall, precision, marker='.')\n",
    "# show the plot\n",
    "pyplot.show()"
   ]
  },
  {
   "cell_type": "markdown",
   "metadata": {
    "deletable": true,
    "editable": true
   },
   "source": [
    "### Retreive Results in Source format"
   ]
  },
  {
   "cell_type": "code",
   "execution_count": 52,
   "metadata": {
    "collapsed": false,
    "deletable": true,
    "editable": true
   },
   "outputs": [
    {
     "data": {
      "text/html": [
       "<div>\n",
       "<style>\n",
       "    .dataframe thead tr:only-child th {\n",
       "        text-align: right;\n",
       "    }\n",
       "\n",
       "    .dataframe thead th {\n",
       "        text-align: left;\n",
       "    }\n",
       "\n",
       "    .dataframe tbody tr th {\n",
       "        vertical-align: top;\n",
       "    }\n",
       "</style>\n",
       "<table border=\"1\" class=\"dataframe\">\n",
       "  <thead>\n",
       "    <tr style=\"text-align: right;\">\n",
       "      <th></th>\n",
       "      <th>Breach</th>\n",
       "      <th>Predicted_Breach</th>\n",
       "    </tr>\n",
       "  </thead>\n",
       "  <tbody>\n",
       "    <tr>\n",
       "      <th>32827</th>\n",
       "      <td>0.0</td>\n",
       "      <td>0.0</td>\n",
       "    </tr>\n",
       "    <tr>\n",
       "      <th>2366</th>\n",
       "      <td>0.0</td>\n",
       "      <td>0.0</td>\n",
       "    </tr>\n",
       "    <tr>\n",
       "      <th>3364</th>\n",
       "      <td>0.0</td>\n",
       "      <td>0.0</td>\n",
       "    </tr>\n",
       "    <tr>\n",
       "      <th>6827</th>\n",
       "      <td>0.0</td>\n",
       "      <td>0.0</td>\n",
       "    </tr>\n",
       "    <tr>\n",
       "      <th>19126</th>\n",
       "      <td>0.0</td>\n",
       "      <td>0.0</td>\n",
       "    </tr>\n",
       "  </tbody>\n",
       "</table>\n",
       "</div>"
      ],
      "text/plain": [
       "       Breach  Predicted_Breach\n",
       "32827     0.0               0.0\n",
       "2366      0.0               0.0\n",
       "3364      0.0               0.0\n",
       "6827      0.0               0.0\n",
       "19126     0.0               0.0"
      ]
     },
     "execution_count": 52,
     "metadata": {},
     "output_type": "execute_result"
    }
   ],
   "source": [
    "x_test = pd.DataFrame(X_test)\n",
    "x_test.head()\n",
    "Y_test_df = pd.DataFrame(Y_test, columns=['Breach'])\n",
    "Y_test_df[\"Predicted_Breach\"] = y_hat\n",
    "Y_test_df.head()"
   ]
  },
  {
   "cell_type": "code",
   "execution_count": 53,
   "metadata": {
    "collapsed": false,
    "deletable": true,
    "editable": true
   },
   "outputs": [
    {
     "data": {
      "text/html": [
       "<div>\n",
       "<style>\n",
       "    .dataframe thead tr:only-child th {\n",
       "        text-align: right;\n",
       "    }\n",
       "\n",
       "    .dataframe thead th {\n",
       "        text-align: left;\n",
       "    }\n",
       "\n",
       "    .dataframe tbody tr th {\n",
       "        vertical-align: top;\n",
       "    }\n",
       "</style>\n",
       "<table border=\"1\" class=\"dataframe\">\n",
       "  <thead>\n",
       "    <tr style=\"text-align: right;\">\n",
       "      <th></th>\n",
       "      <th>ConcernID</th>\n",
       "      <th>IssueID</th>\n",
       "      <th>IssueDescription</th>\n",
       "      <th>ConcernDescription</th>\n",
       "      <th>ResolutionDescription</th>\n",
       "      <th>Clause</th>\n",
       "      <th>keyword_corpus</th>\n",
       "      <th>Breach</th>\n",
       "      <th>Predicted_Breach</th>\n",
       "    </tr>\n",
       "  </thead>\n",
       "  <tbody>\n",
       "    <tr>\n",
       "      <th>49</th>\n",
       "      <td>971112</td>\n",
       "      <td>1020452</td>\n",
       "      <td>account opened in different name than business...</td>\n",
       "      <td>you visited ANZ Bourke Street Mall branch on 1...</td>\n",
       "      <td>Thank you for the opportunity to investigate t...</td>\n",
       "      <td>15</td>\n",
       "      <td>you visited ANZ Bourke Street Mall branch on 1...</td>\n",
       "      <td>0.0</td>\n",
       "      <td>0.0</td>\n",
       "    </tr>\n",
       "    <tr>\n",
       "      <th>161</th>\n",
       "      <td>COM-100003</td>\n",
       "      <td>COM-100003_1</td>\n",
       "      <td>rewards fee</td>\n",
       "      <td>***credit card   Customer is not happy with pa...</td>\n",
       "      <td>Acknowledged his dissatisfaction of the reward...</td>\n",
       "      <td>14a</td>\n",
       "      <td>***credit card   Customer is not happy with pa...</td>\n",
       "      <td>0.0</td>\n",
       "      <td>0.0</td>\n",
       "    </tr>\n",
       "    <tr>\n",
       "      <th>163</th>\n",
       "      <td>COM-100006</td>\n",
       "      <td>COM-100006_1</td>\n",
       "      <td>Poor service</td>\n",
       "      <td>Customer dissatisfied with the service he rece...</td>\n",
       "      <td>Apologised to customer and informed him feedba...</td>\n",
       "      <td>15</td>\n",
       "      <td>Customer dissatisfied with the service he rece...</td>\n",
       "      <td>0.0</td>\n",
       "      <td>0.0</td>\n",
       "    </tr>\n",
       "    <tr>\n",
       "      <th>179</th>\n",
       "      <td>COM-100033</td>\n",
       "      <td>COM-100033_1</td>\n",
       "      <td>Retention offer cancelled and reverted to the ...</td>\n",
       "      <td>15/06 ? Retention offer of 12.99% p.a  The var...</td>\n",
       "      <td>I apologise to the customer for the inconvenie...</td>\n",
       "      <td>14a</td>\n",
       "      <td>15/06 ? Retention offer of 12.99% p.a  The var...</td>\n",
       "      <td>0.0</td>\n",
       "      <td>0.0</td>\n",
       "    </tr>\n",
       "    <tr>\n",
       "      <th>187</th>\n",
       "      <td>COM-100037</td>\n",
       "      <td>COM-100037_1</td>\n",
       "      <td>Incorrect information by branch</td>\n",
       "      <td>Customer sold bike for $1900.00. The purchaser...</td>\n",
       "      <td>Credited account for $1900.00. Case found in c...</td>\n",
       "      <td>15</td>\n",
       "      <td>Customer sold bike for $1900.00. The purchaser...</td>\n",
       "      <td>0.0</td>\n",
       "      <td>0.0</td>\n",
       "    </tr>\n",
       "  </tbody>\n",
       "</table>\n",
       "</div>"
      ],
      "text/plain": [
       "      ConcernID       IssueID  \\\n",
       "49       971112       1020452   \n",
       "161  COM-100003  COM-100003_1   \n",
       "163  COM-100006  COM-100006_1   \n",
       "179  COM-100033  COM-100033_1   \n",
       "187  COM-100037  COM-100037_1   \n",
       "\n",
       "                                      IssueDescription  \\\n",
       "49   account opened in different name than business...   \n",
       "161                                        rewards fee   \n",
       "163                                       Poor service   \n",
       "179  Retention offer cancelled and reverted to the ...   \n",
       "187                    Incorrect information by branch   \n",
       "\n",
       "                                    ConcernDescription  \\\n",
       "49   you visited ANZ Bourke Street Mall branch on 1...   \n",
       "161  ***credit card   Customer is not happy with pa...   \n",
       "163  Customer dissatisfied with the service he rece...   \n",
       "179  15/06 ? Retention offer of 12.99% p.a  The var...   \n",
       "187  Customer sold bike for $1900.00. The purchaser...   \n",
       "\n",
       "                                 ResolutionDescription Clause  \\\n",
       "49   Thank you for the opportunity to investigate t...     15   \n",
       "161  Acknowledged his dissatisfaction of the reward...    14a   \n",
       "163  Apologised to customer and informed him feedba...     15   \n",
       "179  I apologise to the customer for the inconvenie...    14a   \n",
       "187  Credited account for $1900.00. Case found in c...     15   \n",
       "\n",
       "                                        keyword_corpus  Breach  \\\n",
       "49   you visited ANZ Bourke Street Mall branch on 1...     0.0   \n",
       "161  ***credit card   Customer is not happy with pa...     0.0   \n",
       "163  Customer dissatisfied with the service he rece...     0.0   \n",
       "179  15/06 ? Retention offer of 12.99% p.a  The var...     0.0   \n",
       "187  Customer sold bike for $1900.00. The purchaser...     0.0   \n",
       "\n",
       "     Predicted_Breach  \n",
       "49                0.0  \n",
       "161               0.0  \n",
       "163               0.0  \n",
       "179               0.0  \n",
       "187               0.0  "
      ]
     },
     "execution_count": 53,
     "metadata": {},
     "output_type": "execute_result"
    }
   ],
   "source": [
    "new_df = data[data.index.isin(Y_test_df.index)]\n",
    "new_df.drop(['Breach'],axis=1,inplace=True)\n",
    "df = new_df.join(Y_test_df)\n",
    "df.head()"
   ]
  },
  {
   "cell_type": "code",
   "execution_count": 54,
   "metadata": {
    "collapsed": false,
    "deletable": true,
    "editable": true
   },
   "outputs": [],
   "source": [
    "df.groupby('Clause').sum()\n",
    "#df_save = df.drop(['features','keyword_corpus'],axis =1)\n",
    "#df.to_csv(\"../datasets/map_pred_actual_68.csv\")\n",
    "df.to_csv(\"../datasets/map_pred_actual_98.csv\")\n",
    "# df_test = df[df['Breach']==0]\n",
    "# df_test.to_csv(\"../datasets/map_precision_68.csv\")\n",
    "df_test = df[df['Breach']==1]\n",
    "df_test.to_csv(\"../datasets/map_precision_98.csv\")"
   ]
  },
  {
   "cell_type": "markdown",
   "metadata": {
    "deletable": true,
    "editable": true
   },
   "source": [
    "### Save the Model"
   ]
  },
  {
   "cell_type": "code",
   "execution_count": 30,
   "metadata": {
    "collapsed": false,
    "deletable": true,
    "editable": true
   },
   "outputs": [
    {
     "data": {
      "text/plain": [
       "{'path': '/user-home/1077/DSX_Projects/Complaints_Breach_Labelled/models/Breach_Detection/1',\n",
       " 'scoring_endpoint': 'https://dsxl-api/v3/project/score/Python35/scikit-learn-0.20/Complaints_Breach_Labelled/Breach_Detection/1'}"
      ]
     },
     "execution_count": 30,
     "metadata": {},
     "output_type": "execute_result"
    }
   ],
   "source": [
    "from dsx_ml.ml import save\n",
    "model_name = \"Binary_Classification_model\"\n",
    "x_test = pd.DataFrame(X_test)\n",
    "Y_test_df = pd.DataFrame(Y_test, columns=['Breach'])\n",
    "save(model = text_model_pipeline, name = 'Breach_Detection', x_test=x_test, y_test=Y_test_df, algorithm_type = 'Classification')\n"
   ]
  },
  {
   "cell_type": "code",
   "execution_count": null,
   "metadata": {
    "collapsed": true,
    "deletable": true,
    "editable": true
   },
   "outputs": [],
   "source": []
  },
  {
   "cell_type": "code",
   "execution_count": null,
   "metadata": {
    "collapsed": true,
    "deletable": true,
    "editable": true
   },
   "outputs": [],
   "source": []
  },
  {
   "cell_type": "code",
   "execution_count": null,
   "metadata": {
    "collapsed": true,
    "deletable": true,
    "editable": true
   },
   "outputs": [],
   "source": []
  },
  {
   "cell_type": "code",
   "execution_count": null,
   "metadata": {
    "collapsed": false,
    "deletable": true,
    "editable": true
   },
   "outputs": [],
   "source": [
    "# text_clean = TextCleaningTransformer(column='keyword_corpus',remove_words=my_stop_words)\n",
    "# #df= text_clean.transform(X=data)\n",
    "# #df.head()\n",
    "# tokenise = TokenizerTransfomer(column='keyword_corpus')"
   ]
  },
  {
   "cell_type": "code",
   "execution_count": null,
   "metadata": {
    "collapsed": false,
    "deletable": true,
    "editable": true
   },
   "outputs": [],
   "source": [
    "# df= text_clean.transform(X=data)\n",
    "# final_d = tokenise.transform(X=df)\n"
   ]
  },
  {
   "cell_type": "code",
   "execution_count": null,
   "metadata": {
    "collapsed": false,
    "deletable": true,
    "editable": true
   },
   "outputs": [],
   "source": [
    "# final_d.columns = ['features']\n",
    "# data['features'] = final_d['features']\n",
    "# final_df = data[['Breach','features']]\n",
    "# drop_transf = DropFeatures(column_list=['ConcernID','IssueID','IssueDescription','ConcernDescription','ResolutionDescription','Clause'])\n",
    "# transformer = DataFrameTransformer(column='keyword_corpus')\n",
    "# transf = drop_transf.transform(X=data)\n",
    "# final_df = transformer.transform(X=data)"
   ]
  },
  {
   "cell_type": "code",
   "execution_count": null,
   "metadata": {
    "collapsed": false,
    "deletable": true,
    "editable": true
   },
   "outputs": [],
   "source": [
    "# final_df.shape"
   ]
  },
  {
   "cell_type": "markdown",
   "metadata": {
    "deletable": true,
    "editable": true
   },
   "source": [
    " "
   ]
  },
  {
   "cell_type": "markdown",
   "metadata": {
    "deletable": true,
    "editable": true
   },
   "source": [
    "### Split Train and Text Pipeline"
   ]
  },
  {
   "cell_type": "code",
   "execution_count": null,
   "metadata": {
    "collapsed": false,
    "deletable": true,
    "editable": true
   },
   "outputs": [],
   "source": [
    "# X = final_df.drop('Breach', axis=1) \n",
    "# Y = final_df['Breach']\n"
   ]
  },
  {
   "cell_type": "code",
   "execution_count": null,
   "metadata": {
    "collapsed": true,
    "deletable": true,
    "editable": true
   },
   "outputs": [],
   "source": [
    "#X_train, X_test, Y_train, Y_test = train_test_split(X['features'], Y, stratify=Y, test_size=0.25, random_state=42)"
   ]
  },
  {
   "cell_type": "code",
   "execution_count": null,
   "metadata": {
    "collapsed": true,
    "deletable": true,
    "editable": true
   },
   "outputs": [],
   "source": [
    "# def tokenizer(x):\n",
    "#     return x"
   ]
  },
  {
   "cell_type": "markdown",
   "metadata": {
    "deletable": true,
    "editable": true
   },
   "source": [
    "### Feature Transformation ; can be put in pipeline"
   ]
  },
  {
   "cell_type": "code",
   "execution_count": null,
   "metadata": {
    "collapsed": false,
    "deletable": true,
    "editable": true
   },
   "outputs": [],
   "source": [
    "# tfidf = TfidfVectorizer(tokenizer=tokenizer, lowercase=False,ngram_range=(1,2))\n",
    "# from sklearn.model_selection import train_test_split,StratifiedKFold\n",
    "# #hashdf = HashingVectorizer(tokenizer=lambda x: str(x), lowercase=False)\n",
    "# X_train = tfidf.fit_transform(X_train)\n",
    "# X_test = tfidf.transform(X_test)\n",
    "# X.shape,Y.shape"
   ]
  },
  {
   "cell_type": "code",
   "execution_count": null,
   "metadata": {
    "collapsed": false,
    "deletable": true,
    "editable": true
   },
   "outputs": [],
   "source": [
    "# X_train.shape,X_test.shape"
   ]
  },
  {
   "cell_type": "markdown",
   "metadata": {
    "deletable": true,
    "editable": true
   },
   "source": []
  },
  {
   "cell_type": "code",
   "execution_count": null,
   "metadata": {
    "collapsed": false,
    "deletable": true,
    "editable": true
   },
   "outputs": [],
   "source": [
    "# smt = SMOTE(random_state=42)\n",
    "# #msmote = SMOTEENN(random_state=56)\n",
    "# adasyn = ADASYN(random_state=42)\n",
    "# x_train_1, y_train_1 = adasyn.fit_sample(X_train, Y_train)\n",
    "# #x_train, y_train = smt.fit_sample(x_train_1, y_train_1)"
   ]
  },
  {
   "cell_type": "markdown",
   "metadata": {
    "deletable": true,
    "editable": true
   },
   "source": [
    "### GridSearch ,StratifiedKFold and Model Selection"
   ]
  },
  {
   "cell_type": "code",
   "execution_count": null,
   "metadata": {
    "collapsed": false,
    "deletable": true,
    "editable": true
   },
   "outputs": [],
   "source": [
    "##LR Params\n",
    "parameters = {\n",
    "    'C': np.linspace(1, 10, 10),\n",
    "    'dual' :[True,False],\n",
    "    'max_iter':[100,110,120,130,140]\n",
    "}\n",
    "\n",
    "\n",
    "### RF Params\n",
    "param_grid = { \n",
    "    'n_estimators': [200, 500],\n",
    "    'max_features': ['auto', 'sqrt', 'log2'],\n",
    "    'max_depth' : [4,5,6,7,8],\n",
    "    'criterion' :['gini', 'entropy']\n",
    "}\n",
    "\n",
    "\n",
    "### XGB Params\n",
    "cv_params = {\n",
    "    'min_child_weight':[0.2,0.1],\n",
    "    'max_delta_step': [1],\n",
    "    'max_depth':[5,8],\n",
    "    'learning_rate' : [0.09,0.02],\n",
    "}\n",
    "\n",
    "ind_params = {\n",
    "    'learning_rate': 0.1, 'n_estimators': 5000, 'seed':0, 'colsample_bytree': 0.8,'scale_pos_weight':6.55,'n_jobs':-1, 'objective': 'binary:logistic'\n",
    "}\n",
    "\n",
    "##SVM Params\n",
    "Cs = [0.001]\n",
    "gammas = [0.001]\n",
    "param_grid = {'C': Cs, 'gamma' : gammas}\n",
    "\n",
    "### Model Initialization and GridSearch\n",
    "\n",
    "# lr = LogisticRegression()\n",
    "#rf = RandomForestClassifier()\n",
    "\n",
    "# clf = GridSearchCV(lr, parameters, cv=StratifiedKFold(5), verbose=5, n_jobs=3)\n",
    "#clf = GridSearchCV(rf, param_grid, cv=StratifiedKFold(5), verbose=5, n_jobs=3)\n",
    "\n",
    "kfold = StratifiedKFold(5)\n",
    "clf = GridSearchCV(XGBClassifier(**ind_params),cv_params,cv=5)\n",
    "\n",
    "# clf = GridSearchCV(svm.SVC(kernel='rbf'), param_grid, cv=StratifiedKFold(5))\n",
    "\n",
    "#clf.fit(x_train, y_train)\n",
    "#clf.fit(X_train, Y_train)\n",
    "\n"
   ]
  },
  {
   "cell_type": "code",
   "execution_count": null,
   "metadata": {
    "collapsed": false,
    "deletable": true,
    "editable": true
   },
   "outputs": [],
   "source": [
    "# clf.best_params_"
   ]
  },
  {
   "cell_type": "markdown",
   "metadata": {
    "deletable": true,
    "editable": true
   },
   "source": [
    "### XGBoost"
   ]
  },
  {
   "cell_type": "code",
   "execution_count": null,
   "metadata": {
    "collapsed": false,
    "deletable": true,
    "editable": true
   },
   "outputs": [],
   "source": [
    "#scale_pos_weight = float(np.float(np.sum(data.Breach==0)))/float(np.float(np.sum(data.Breach==1)))\n",
    "# xgb1 = XGBClassifier(learning_rate=0.09,max_delta_step=1,max_depth=8,min_child_weight=0.2,scale_pos_weight=scale_pos_weight)\n",
    "# xgb1.fit(x_train_1,y_train_1)\n",
    "# pca = PCA(0.95)\n",
    "# pca.fit(x_train)\n",
    "# x_train = pca.transform(x_train)\n",
    "#xgb1.fit(x_train,y_train)"
   ]
  },
  {
   "cell_type": "code",
   "execution_count": null,
   "metadata": {
    "collapsed": true,
    "deletable": true,
    "editable": true
   },
   "outputs": [],
   "source": [
    "#X_test = pca.transform(X_test)\n",
    "# xgb_pred = xgb1.predict(X_test)"
   ]
  },
  {
   "cell_type": "code",
   "execution_count": null,
   "metadata": {
    "collapsed": false,
    "deletable": true,
    "editable": true
   },
   "outputs": [],
   "source": [
    "# print(\"Recall {0:.2f}\".format(recall_score(Y_test,xgb_pred)))\n",
    "# #print(\"Accuracy {0:.2f}\".format(accuracy_score(xgb_pred,Y_test)))\n",
    "# print(\"Precision {0:.2f}\".format(precision_score(xgb_pred,Y_test)))\n",
    "# #print(\"F1 Score: {0:.2f}\".format(f1_score(Y_test,xgb_pred)))"
   ]
  },
  {
   "cell_type": "code",
   "execution_count": null,
   "metadata": {
    "collapsed": false,
    "deletable": true,
    "editable": true
   },
   "outputs": [],
   "source": [
    "# precision = precision_score(xgb_pred,Y_test)\n",
    "# recall = recall_score(Y_test,xgb_pred)\n",
    "# f1 = 2*((precision*recall)/(precision+recall))\n",
    "# f1"
   ]
  },
  {
   "cell_type": "markdown",
   "metadata": {
    "collapsed": false,
    "deletable": true,
    "editable": true
   },
   "source": [
    "### Pipeline Level Steps"
   ]
  },
  {
   "cell_type": "code",
   "execution_count": null,
   "metadata": {
    "collapsed": true,
    "deletable": true,
    "editable": true
   },
   "outputs": [],
   "source": []
  },
  {
   "cell_type": "code",
   "execution_count": null,
   "metadata": {
    "collapsed": true,
    "deletable": true,
    "editable": true
   },
   "outputs": [],
   "source": [
    "# def tokenizer(x):\n",
    "#     return x"
   ]
  },
  {
   "cell_type": "code",
   "execution_count": null,
   "metadata": {
    "collapsed": false,
    "deletable": true,
    "editable": true
   },
   "outputs": [],
   "source": [
    "# scale_pos_weight = float(np.float(np.sum(data.Breach==0)))/float(np.float(np.sum(data.Breach==1)))\n",
    "# drop_transf = DropFeatures(column_list=['ConcernID','IssueID','IssueDescription','ConcernDescription','ResolutionDescription','Clause'])\n",
    "# transformer = DataFrameTransformer(column='keyword_corpus')\n",
    "# final_drop = DropFeatures(column_list=['keyword_corpus'])\n",
    "# tfidf = TfidfVectorizer(tokenizer=tokenizer, lowercase=False)\n",
    "# adasyn = ADASYN(random_state=42)\n",
    "# scale_pos_weight = float(np.float(np.sum(final_df.Breach==0)))/float(np.float(np.sum(final_df.Breach==1)))\n",
    "# #print(scale_pos_weight)\n",
    "# xgb1 = XGBClassifier(learning_rate=0.09,max_delta_step=1,max_depth=8,min_child_weight=0.2,scale_pos_weight=scale_pos_weight)\n"
   ]
  },
  {
   "cell_type": "markdown",
   "metadata": {
    "deletable": true,
    "editable": true
   },
   "source": [
    "### Build Pipeline to Enable Model Deployment"
   ]
  },
  {
   "cell_type": "code",
   "execution_count": null,
   "metadata": {
    "collapsed": false,
    "deletable": true,
    "editable": true
   },
   "outputs": [],
   "source": [
    "# pipeline = Pipeline([('tfidf', tfidf),('adasyn', adasyn), ('xgb', xgb1)])\n",
    "# X = final_df.drop('Breach', axis=1) \n",
    "# Y = final_df['Breach']\n",
    "\n",
    "# X_train, X_test, Y_train, Y_test = train_test_split(X['features'], Y, stratify=Y, test_size=0.20, random_state=42)"
   ]
  },
  {
   "cell_type": "code",
   "execution_count": null,
   "metadata": {
    "collapsed": false,
    "deletable": true,
    "editable": true
   },
   "outputs": [],
   "source": [
    "# pipeline.fit(X_train, Y_train) \n",
    "# y_hat = pipeline.predict(X_test)"
   ]
  },
  {
   "cell_type": "code",
   "execution_count": null,
   "metadata": {
    "collapsed": false,
    "deletable": true,
    "editable": true
   },
   "outputs": [],
   "source": [
    "# print(\"Recall {0:.2f}\".format(recall_score(Y_test,y_hat)))\n",
    "# print(\"Accuracy {0:.2f}\".format(accuracy_score(y_hat,Y_test)))\n",
    "# print(\"Precision {0:.2f}\".format(precision_score(y_hat,Y_test)))"
   ]
  },
  {
   "cell_type": "code",
   "execution_count": null,
   "metadata": {
    "collapsed": false,
    "deletable": true,
    "editable": true
   },
   "outputs": [],
   "source": [
    "# precision = precision_score(y_hat,Y_test)\n",
    "# recall = recall_score(Y_test,y_hat)\n",
    "# f1 = 2*((precision*recall)/(precision+recall))\n",
    "# f1"
   ]
  },
  {
   "cell_type": "code",
   "execution_count": null,
   "metadata": {
    "collapsed": false,
    "deletable": true,
    "editable": true
   },
   "outputs": [],
   "source": [
    "# from xgboost import plot_importance\n",
    "# fig, ax = plt.subplots(figsize=(10,5))\n",
    "# plot_importance(xgb1.get_booster(),ax)"
   ]
  },
  {
   "cell_type": "code",
   "execution_count": null,
   "metadata": {
    "collapsed": false,
    "deletable": true,
    "editable": true
   },
   "outputs": [],
   "source": [
    "# from matplotlib import pyplot\n",
    "# pyplot.bar(range(len(xgb1.feature_importances_)), xgb1.feature_importances_)\n",
    "# pyplot.show()"
   ]
  },
  {
   "cell_type": "markdown",
   "metadata": {
    "deletable": true,
    "editable": true
   },
   "source": [
    "### Save the Model "
   ]
  },
  {
   "cell_type": "code",
   "execution_count": null,
   "metadata": {
    "collapsed": false,
    "deletable": true,
    "editable": true
   },
   "outputs": [],
   "source": [
    "# x_test = pd.DataFrame(X_test)\n",
    "# x_test.head()"
   ]
  },
  {
   "cell_type": "code",
   "execution_count": null,
   "metadata": {
    "collapsed": false,
    "deletable": true,
    "editable": true
   },
   "outputs": [],
   "source": [
    "# Y_test_df = pd.DataFrame(Y_test, columns=['Breach'])\n",
    "# Y_test_df[\"Predicted_Breach\"] = y_hat\n",
    "# Y_test_df.head()\n",
    "# len(Y_test_df)"
   ]
  },
  {
   "cell_type": "code",
   "execution_count": null,
   "metadata": {
    "collapsed": false,
    "deletable": true,
    "editable": true
   },
   "outputs": [],
   "source": [
    "# new_df = data[data.index.isin(Y_test_df.index)]\n",
    "# new_df.drop(['Breach'],axis=1,inplace=True)\n",
    "# df = new_df.join(Y_test_df)\n",
    "# df.head()\n",
    "# df.groupby('Clause').sum()\n",
    "# df_save = df.drop(['features','keyword_corpus'],axis =1)\n",
    "# df_save.to_csv(\"../datasets/map_pred_actual.csv\")"
   ]
  },
  {
   "cell_type": "code",
   "execution_count": null,
   "metadata": {
    "collapsed": false,
    "deletable": true,
    "editable": true
   },
   "outputs": [],
   "source": [
    "# df_test = df[df['Breach']==1]\n",
    "# df_test.to_csv(\"../datasets/map_recall\")"
   ]
  },
  {
   "cell_type": "markdown",
   "metadata": {
    "deletable": true,
    "editable": true
   },
   "source": [
    "### Model Saving"
   ]
  },
  {
   "cell_type": "code",
   "execution_count": null,
   "metadata": {
    "collapsed": false,
    "deletable": true,
    "editable": true
   },
   "outputs": [],
   "source": [
    "# from dsx_ml.ml import save\n",
    "# model_name = \"Binary_Classification_model\"\n",
    "# x_test = pd.DataFrame(X_test)\n",
    "# Y_test_df = pd.DataFrame(Y_test, columns=['Breach'])\n",
    "# save(model = pipeline, name = 'Compliance_Breach_Detection', x_test=x_test, y_test=Y_test_df, algorithm_type = 'Classification')"
   ]
  },
  {
   "cell_type": "code",
   "execution_count": null,
   "metadata": {
    "collapsed": true,
    "deletable": true,
    "editable": true
   },
   "outputs": [],
   "source": []
  },
  {
   "cell_type": "code",
   "execution_count": null,
   "metadata": {
    "collapsed": true,
    "deletable": true,
    "editable": true
   },
   "outputs": [],
   "source": []
  },
  {
   "cell_type": "code",
   "execution_count": null,
   "metadata": {
    "collapsed": true,
    "deletable": true,
    "editable": true
   },
   "outputs": [],
   "source": []
  },
  {
   "cell_type": "code",
   "execution_count": null,
   "metadata": {
    "collapsed": true,
    "deletable": true,
    "editable": true
   },
   "outputs": [],
   "source": []
  },
  {
   "cell_type": "code",
   "execution_count": null,
   "metadata": {
    "collapsed": true,
    "deletable": true,
    "editable": true
   },
   "outputs": [],
   "source": []
  },
  {
   "cell_type": "code",
   "execution_count": null,
   "metadata": {
    "collapsed": true,
    "deletable": true,
    "editable": true
   },
   "outputs": [],
   "source": []
  },
  {
   "cell_type": "code",
   "execution_count": null,
   "metadata": {
    "collapsed": true,
    "deletable": true,
    "editable": true
   },
   "outputs": [],
   "source": []
  },
  {
   "cell_type": "code",
   "execution_count": null,
   "metadata": {
    "collapsed": true,
    "deletable": true,
    "editable": true
   },
   "outputs": [],
   "source": []
  },
  {
   "cell_type": "code",
   "execution_count": null,
   "metadata": {
    "collapsed": true,
    "deletable": true,
    "editable": true
   },
   "outputs": [],
   "source": []
  },
  {
   "cell_type": "code",
   "execution_count": null,
   "metadata": {
    "collapsed": true,
    "deletable": true,
    "editable": true
   },
   "outputs": [],
   "source": []
  },
  {
   "cell_type": "code",
   "execution_count": null,
   "metadata": {
    "collapsed": true,
    "deletable": true,
    "editable": true
   },
   "outputs": [],
   "source": []
  },
  {
   "cell_type": "code",
   "execution_count": null,
   "metadata": {
    "collapsed": true,
    "deletable": true,
    "editable": true
   },
   "outputs": [],
   "source": []
  },
  {
   "cell_type": "code",
   "execution_count": null,
   "metadata": {
    "collapsed": true,
    "deletable": true,
    "editable": true
   },
   "outputs": [],
   "source": []
  },
  {
   "cell_type": "code",
   "execution_count": null,
   "metadata": {
    "collapsed": true,
    "deletable": true,
    "editable": true
   },
   "outputs": [],
   "source": []
  },
  {
   "cell_type": "code",
   "execution_count": null,
   "metadata": {
    "collapsed": true,
    "deletable": true,
    "editable": true
   },
   "outputs": [],
   "source": []
  },
  {
   "cell_type": "code",
   "execution_count": null,
   "metadata": {
    "collapsed": true,
    "deletable": true,
    "editable": true
   },
   "outputs": [],
   "source": []
  },
  {
   "cell_type": "markdown",
   "metadata": {
    "deletable": true,
    "editable": true
   },
   "source": [
    "### Non Linear SVM"
   ]
  },
  {
   "cell_type": "code",
   "execution_count": 22,
   "metadata": {
    "collapsed": false,
    "deletable": true,
    "editable": true
   },
   "outputs": [],
   "source": [
    "svm1 = svm.SVC(kernel='rbf')\n",
    "# svm1.fit(x_train,y_train)"
   ]
  },
  {
   "cell_type": "code",
   "execution_count": null,
   "metadata": {
    "collapsed": true,
    "deletable": true,
    "editable": true
   },
   "outputs": [],
   "source": [
    "# pred = svm1.predict(X_test)"
   ]
  },
  {
   "cell_type": "markdown",
   "metadata": {
    "deletable": true,
    "editable": true
   },
   "source": [
    "### Linear SVM"
   ]
  },
  {
   "cell_type": "code",
   "execution_count": null,
   "metadata": {
    "collapsed": false,
    "deletable": true,
    "editable": true
   },
   "outputs": [],
   "source": [
    "svm2 = svm.LinearSVC()\n",
    "svm2.fit(x_train_1,y_train_1)"
   ]
  },
  {
   "cell_type": "code",
   "execution_count": null,
   "metadata": {
    "collapsed": true,
    "deletable": true,
    "editable": true
   },
   "outputs": [],
   "source": [
    "pred = svm2.predict(X_test)"
   ]
  },
  {
   "cell_type": "code",
   "execution_count": null,
   "metadata": {
    "collapsed": false,
    "deletable": true,
    "editable": true
   },
   "outputs": [],
   "source": [
    "print(\"Recall {0:.2f}\".format(recall_score(Y_test,pred)))\n",
    "print(\"Accuracy {0:.2f}\".format(accuracy_score(pred,Y_test)))\n",
    "print(\"Precision {0:.2f}\".format(precision_score(pred,Y_test)))\n",
    "print(\"F1 Score: {0:.2f}\".format(f1_score(Y_test,pred)))"
   ]
  },
  {
   "cell_type": "markdown",
   "metadata": {
    "deletable": true,
    "editable": true
   },
   "source": [
    "### Random Forest"
   ]
  },
  {
   "cell_type": "code",
   "execution_count": null,
   "metadata": {
    "collapsed": false,
    "deletable": true,
    "editable": true
   },
   "outputs": [],
   "source": [
    "rfc1=RandomForestClassifier(random_state=42, max_features='sqrt', n_estimators= 200, max_depth=8, criterion='gini')\n",
    "rfc1.fit(x_train, y_train)"
   ]
  },
  {
   "cell_type": "code",
   "execution_count": null,
   "metadata": {
    "collapsed": false,
    "deletable": true,
    "editable": true
   },
   "outputs": [],
   "source": [
    "pred=rfc1.predict(X_test)\n",
    "print(\"Recall {0:.2f}\".format(recall_score(Y_test,pred)))\n",
    "print(\"Accuracy {0:.2f}\".format(accuracy_score(pred,Y_test)))\n",
    "print(\"Precision {0:.2f}\".format(precision_score(pred,Y_test)))\n",
    "print(\"F1 Score: {0:.2f}\".format(f1_score(Y_test,pred)))"
   ]
  },
  {
   "cell_type": "markdown",
   "metadata": {
    "deletable": true,
    "editable": true
   },
   "source": [
    "### Logistic Regression"
   ]
  },
  {
   "cell_type": "code",
   "execution_count": null,
   "metadata": {
    "collapsed": false,
    "deletable": true,
    "editable": true
   },
   "outputs": [],
   "source": [
    "lr1 = LogisticRegression(C=10,penalty='l2', verbose=5,dual=True,max_iter=100)\n",
    "lr1.fit(x_train, y_train)"
   ]
  },
  {
   "cell_type": "code",
   "execution_count": null,
   "metadata": {
    "collapsed": false,
    "deletable": true,
    "editable": true
   },
   "outputs": [],
   "source": [
    "pred = lr1.predict(X_test)\n",
    "print(\"Recall {0:.2f}\".format(recall_score(Y_test,pred)))\n",
    "print(\"Accuracy {0:.2f}\".format(accuracy_score(pred,Y_test)))\n",
    "print(\"Precision {0:.2f}\".format(precision_score(pred,Y_test)))\n",
    "print(\"F1 Score: {0:.2f}\".format(f1_score(Y_test,pred)))"
   ]
  },
  {
   "cell_type": "markdown",
   "metadata": {
    "deletable": true,
    "editable": true
   },
   "source": [
    "### Classification Report on Test Set"
   ]
  },
  {
   "cell_type": "code",
   "execution_count": null,
   "metadata": {
    "collapsed": false,
    "deletable": true,
    "editable": true
   },
   "outputs": [],
   "source": [
    "print(confusion_matrix(Y_test, pred))\n",
    "print(classification_report(Y_test, pred, target_names=['No Breach','Breach']))"
   ]
  },
  {
   "cell_type": "code",
   "execution_count": null,
   "metadata": {
    "collapsed": false,
    "deletable": true,
    "editable": true
   },
   "outputs": [],
   "source": [
    "print(\"Recall {}\".format(recall_score(Y_test,pred)))\n",
    "print(\"Accuracy {}\".format(accuracy_score(pred,Y_test)))\n",
    "print(\"F1 Score: {}\".format(f1_score(Y_test,pred)))"
   ]
  },
  {
   "cell_type": "markdown",
   "metadata": {
    "collapsed": true,
    "deletable": true,
    "editable": true
   },
   "source": [
    "### Confusion Matrix"
   ]
  },
  {
   "cell_type": "code",
   "execution_count": null,
   "metadata": {
    "collapsed": false,
    "deletable": true,
    "editable": true
   },
   "outputs": [],
   "source": [
    "import seaborn as sns\n",
    "\n",
    "conf_mat = confusion_matrix(Y_test, xgb_pred)\n",
    "\n",
    "# Define class labels here\n",
    "target_names = ['NO Breach','Breach']\n",
    "\n",
    "df_cm = pd.DataFrame(conf_mat, index=target_names, columns=target_names)\n",
    "fig, ax = plt.subplots(figsize=(7,5))\n",
    "sns.heatmap(df_cm, annot=True, fmt=\"d\", ax=ax)\n",
    "ax.set_ylabel('True label');\n",
    "ax.set_xlabel('Predicted label');"
   ]
  },
  {
   "cell_type": "markdown",
   "metadata": {
    "deletable": true,
    "editable": true
   },
   "source": [
    "### ROC and PR Curve"
   ]
  },
  {
   "cell_type": "code",
   "execution_count": null,
   "metadata": {
    "collapsed": false,
    "deletable": true,
    "editable": true
   },
   "outputs": [],
   "source": [
    "#prob = pd.DataFrame(list(rfc1.predict_proba(X_test)))\n",
    "prob = pd.DataFrame(list(xgb1.predict_proba(X_test)))\n",
    "fpr, tpr, thresholds = roc_curve(Y_test, prob.iloc[:,1])\n",
    "roc_auc = auc(fpr, tpr)\n",
    "p, r, thre = precision_recall_curve(Y_test, prob.iloc[:,1])\n",
    "average_p = average_precision_score(Y_test, prob.iloc[:,1])"
   ]
  },
  {
   "cell_type": "code",
   "execution_count": null,
   "metadata": {
    "collapsed": false,
    "deletable": true,
    "editable": true
   },
   "outputs": [],
   "source": [
    "fig = plt.figure(figsize=(10,4))\n",
    "ax1 = fig.add_subplot(1,2,1)\n",
    "ax1.set_xlim([-0.05,1.05])\n",
    "ax1.set_ylim([-0.05,1.05])\n",
    "ax1.set_xlabel('False Positive Rate')\n",
    "ax1.set_ylabel('True Positive Rate')\n",
    "ax1.set_title('ROC Curve')\n",
    "\n",
    "ax2 = fig.add_subplot(1,2,2)\n",
    "ax2.set_xlim([-0.05,1.05])\n",
    "ax2.set_ylim([-0.05,1.05])\n",
    "ax2.set_xlabel('Recall')\n",
    "ax2.set_ylabel('Precision')\n",
    "ax2.set_title('PR Curve')\n",
    "\n",
    "\n",
    "ax1.plot(fpr, tpr, lw=1, label='LR: area = %0.2f'%roc_auc)\n",
    "\n",
    "\n",
    "\n",
    "ax2.plot(r, p, lw=1, label='LR: area = %0.2f'%average_p)\n",
    "\n",
    "\n",
    "ax1.legend(loc='lower right')    \n",
    "ax2.legend(loc='lower right')\n",
    "\n",
    "plt.show()"
   ]
  },
  {
   "cell_type": "code",
   "execution_count": null,
   "metadata": {
    "collapsed": true,
    "deletable": true,
    "editable": true
   },
   "outputs": [],
   "source": []
  },
  {
   "cell_type": "code",
   "execution_count": null,
   "metadata": {
    "collapsed": true,
    "deletable": true,
    "editable": true
   },
   "outputs": [],
   "source": []
  },
  {
   "cell_type": "code",
   "execution_count": null,
   "metadata": {
    "collapsed": true,
    "deletable": true,
    "editable": true
   },
   "outputs": [],
   "source": []
  },
  {
   "cell_type": "code",
   "execution_count": null,
   "metadata": {
    "collapsed": true,
    "deletable": true,
    "editable": true
   },
   "outputs": [],
   "source": []
  },
  {
   "cell_type": "code",
   "execution_count": null,
   "metadata": {
    "collapsed": true,
    "deletable": true,
    "editable": true
   },
   "outputs": [],
   "source": []
  },
  {
   "cell_type": "code",
   "execution_count": null,
   "metadata": {
    "collapsed": true,
    "deletable": true,
    "editable": true
   },
   "outputs": [],
   "source": []
  }
 ],
 "metadata": {
  "kernelspec": {
   "display_name": "Python3.5 with Watson Studio Spark 2.2.1",
   "language": "python",
   "name": "python3"
  },
  "language_info": {
   "codemirror_mode": {
    "name": "ipython",
    "version": 3
   },
   "file_extension": ".py",
   "mimetype": "text/x-python",
   "name": "python",
   "nbconvert_exporter": "python",
   "pygments_lexer": "ipython3",
   "version": "3.5.5"
  }
 },
 "nbformat": 4,
 "nbformat_minor": 2
}
