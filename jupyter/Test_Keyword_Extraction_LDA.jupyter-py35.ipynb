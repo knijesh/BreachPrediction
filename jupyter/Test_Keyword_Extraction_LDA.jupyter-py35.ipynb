{
 "cells": [
  {
   "cell_type": "markdown",
   "metadata": {
    "deletable": true,
    "editable": true
   },
   "source": [
    "### Load and install necessary packages"
   ]
  },
  {
   "cell_type": "code",
   "execution_count": 1,
   "metadata": {
    "collapsed": false,
    "deletable": true,
    "editable": true
   },
   "outputs": [],
   "source": [
    "# !pip install --user spacy\n",
    "# !python -m spacy download en"
   ]
  },
  {
   "cell_type": "code",
   "execution_count": 2,
   "metadata": {
    "collapsed": false,
    "deletable": true,
    "editable": true
   },
   "outputs": [],
   "source": [
    "# !pip install --user gensim\n",
    "# !pip install --user TextBlob,gingerit,wordcloud, wordsegment"
   ]
  },
  {
   "cell_type": "code",
   "execution_count": 3,
   "metadata": {
    "collapsed": false,
    "deletable": true,
    "editable": true
   },
   "outputs": [],
   "source": [
    "# !pip install --user textblob\n",
    "#!pip install --user gingerit\n",
    "#!pip install --user wordcloud"
   ]
  },
  {
   "cell_type": "code",
   "execution_count": 4,
   "metadata": {
    "collapsed": false,
    "deletable": true,
    "editable": true
   },
   "outputs": [],
   "source": [
    "%matplotlib inline\n",
    "import numpy as np\n",
    "import re\n",
    "import collections\n",
    "import pandas as pd\n",
    "import nltk\n",
    "import matplotlib.pyplot as plt\n",
    "import spacy\n",
    "import warnings\n",
    "import gensim\n",
    "from textblob import TextBlob\n",
    "from IPython.core.debugger import Tracer\n",
    "from gingerit.gingerit import GingerIt\n",
    "from wordcloud import WordCloud, STOPWORDS\n",
    "# from nltk.stem import WordNetLemmatizer\n",
    "# lemmatizer = WordNetLemmatizer()\n",
    "# from nltk.stem.snowball import SnowballStemmer\n",
    "# stemmer = SnowballStemmer(\"english\")\n",
    "warnings.filterwarnings('ignore')"
   ]
  },
  {
   "cell_type": "code",
   "execution_count": 5,
   "metadata": {
    "collapsed": false,
    "deletable": true,
    "editable": true
   },
   "outputs": [],
   "source": [
    "#!pip install --user gensim pyLDAvis wordlcoud"
   ]
  },
  {
   "cell_type": "code",
   "execution_count": 6,
   "metadata": {
    "collapsed": false,
    "deletable": true,
    "editable": true
   },
   "outputs": [],
   "source": [
    "#nltk.download('wordnet')\n",
    "#nltk.download('stopwords')"
   ]
  },
  {
   "cell_type": "markdown",
   "metadata": {
    "collapsed": true,
    "deletable": true,
    "editable": true
   },
   "source": [
    "### Import helper functions from scripts"
   ]
  },
  {
   "cell_type": "code",
   "execution_count": 7,
   "metadata": {
    "collapsed": false,
    "deletable": true,
    "editable": true
   },
   "outputs": [],
   "source": [
    "import sys,os\n",
    "sys.path.insert(0, '../scripts/')\n",
    "#from preprocess_modular import clean_preprocess,read_prepare_data\n",
    "def read_prepare_data(data_path):\n",
    "    #Add asset from file system\n",
    "    complaints_df = pd.read_csv(data_path,encoding='ISO-8859-1')\n",
    "    #complaints_df.columns\n",
    "    columns= ['ConcernID','IssueID','ConcernDescription','IssueDescription','ResolutionDescription']\n",
    "    keywords_df = complaints_df[columns]\n",
    "    keywords_df['keyword_corpus'] = keywords_df['ConcernDescription']+\".\"+keywords_df['IssueDescription']+\".\"+keywords_df['ResolutionDescription']\n",
    "    keywords_df['keyword_corpus'] = keywords_df[['ConcernDescription','IssueDescription','ResolutionDescription']].fillna('').sum(axis=1)\n",
    "    return keywords_df,complaints_df"
   ]
  },
  {
   "cell_type": "code",
   "execution_count": 301,
   "metadata": {
    "collapsed": false,
    "deletable": true,
    "editable": true
   },
   "outputs": [
    {
     "data": {
      "text/plain": [
       "No           24609\n",
       "No            6687\n",
       "Possible      3248\n",
       "Possible        97\n",
       "Yes             74\n",
       " No              5\n",
       "possible         1\n",
       "Name: Breach, dtype: int64"
      ]
     },
     "execution_count": 301,
     "metadata": {},
     "output_type": "execute_result"
    }
   ],
   "source": [
    "complaints_df['Breach'].value_counts()"
   ]
  },
  {
   "cell_type": "code",
   "execution_count": null,
   "metadata": {
    "collapsed": true,
    "deletable": true,
    "editable": true
   },
   "outputs": [],
   "source": []
  },
  {
   "cell_type": "code",
   "execution_count": null,
   "metadata": {
    "collapsed": true,
    "deletable": true,
    "editable": true
   },
   "outputs": [],
   "source": []
  },
  {
   "cell_type": "markdown",
   "metadata": {
    "deletable": true,
    "editable": true
   },
   "source": [
    "### Load Complaints Dataset"
   ]
  },
  {
   "cell_type": "code",
   "execution_count": 8,
   "metadata": {
    "collapsed": false,
    "deletable": true,
    "editable": true
   },
   "outputs": [],
   "source": [
    "keywords_df,complaints_df = read_prepare_data(data_path=os.environ['DSX_PROJECT_DIR']+\n",
    "                       '/datasets/Complaints_All_2018_Consolidated_Final.csv')\n",
    "\n",
    "#keywords_df.tail(30)\n"
   ]
  },
  {
   "cell_type": "code",
   "execution_count": 9,
   "metadata": {
    "collapsed": false,
    "deletable": true,
    "editable": true
   },
   "outputs": [],
   "source": [
    "keywords_df.drop(keywords_df.index[34721:],inplace=True)"
   ]
  },
  {
   "cell_type": "code",
   "execution_count": 10,
   "metadata": {
    "collapsed": false,
    "deletable": true,
    "editable": true
   },
   "outputs": [
    {
     "data": {
      "text/html": [
       "<div>\n",
       "<style>\n",
       "    .dataframe thead tr:only-child th {\n",
       "        text-align: right;\n",
       "    }\n",
       "\n",
       "    .dataframe thead th {\n",
       "        text-align: left;\n",
       "    }\n",
       "\n",
       "    .dataframe tbody tr th {\n",
       "        vertical-align: top;\n",
       "    }\n",
       "</style>\n",
       "<table border=\"1\" class=\"dataframe\">\n",
       "  <thead>\n",
       "    <tr style=\"text-align: right;\">\n",
       "      <th></th>\n",
       "      <th>ConcernID</th>\n",
       "      <th>IssueID</th>\n",
       "      <th>ConcernDescription</th>\n",
       "      <th>IssueDescription</th>\n",
       "      <th>ResolutionDescription</th>\n",
       "      <th>keyword_corpus</th>\n",
       "    </tr>\n",
       "  </thead>\n",
       "  <tbody>\n",
       "    <tr>\n",
       "      <th>0</th>\n",
       "      <td>964163</td>\n",
       "      <td>1016404</td>\n",
       "      <td>Unclaimed Monies  - ANZ Account - $1,978,74. I...</td>\n",
       "      <td>unclaimed money request</td>\n",
       "      <td>CA - 5 September 2017 - Feedback noted. Estate...</td>\n",
       "      <td>Unclaimed Monies  - ANZ Account - $1,978,74. I...</td>\n",
       "    </tr>\n",
       "    <tr>\n",
       "      <th>1</th>\n",
       "      <td>965539</td>\n",
       "      <td>1017305</td>\n",
       "      <td>Customer is unable to pay his business loans s...</td>\n",
       "      <td>customer is wanting legal actions stopped</td>\n",
       "      <td>Customer Advocate- confirmed with customer tha...</td>\n",
       "      <td>Customer is unable to pay his business loans s...</td>\n",
       "    </tr>\n",
       "    <tr>\n",
       "      <th>2</th>\n",
       "      <td>967004</td>\n",
       "      <td>1015985</td>\n",
       "      <td>I am writing to express our grave concern abou...</td>\n",
       "      <td>Loan application declined.</td>\n",
       "      <td>23/08/2017 - Requested further information fro...</td>\n",
       "      <td>I am writing to express our grave concern abou...</td>\n",
       "    </tr>\n",
       "  </tbody>\n",
       "</table>\n",
       "</div>"
      ],
      "text/plain": [
       "  ConcernID  IssueID                                 ConcernDescription  \\\n",
       "0    964163  1016404  Unclaimed Monies  - ANZ Account - $1,978,74. I...   \n",
       "1    965539  1017305  Customer is unable to pay his business loans s...   \n",
       "2    967004  1015985  I am writing to express our grave concern abou...   \n",
       "\n",
       "                            IssueDescription  \\\n",
       "0                    unclaimed money request   \n",
       "1  customer is wanting legal actions stopped   \n",
       "2                 Loan application declined.   \n",
       "\n",
       "                               ResolutionDescription  \\\n",
       "0  CA - 5 September 2017 - Feedback noted. Estate...   \n",
       "1  Customer Advocate- confirmed with customer tha...   \n",
       "2  23/08/2017 - Requested further information fro...   \n",
       "\n",
       "                                      keyword_corpus  \n",
       "0  Unclaimed Monies  - ANZ Account - $1,978,74. I...  \n",
       "1  Customer is unable to pay his business loans s...  \n",
       "2  I am writing to express our grave concern abou...  "
      ]
     },
     "execution_count": 10,
     "metadata": {},
     "output_type": "execute_result"
    }
   ],
   "source": [
    "keywords_df.head(3)"
   ]
  },
  {
   "cell_type": "code",
   "execution_count": 11,
   "metadata": {
    "collapsed": false,
    "deletable": true,
    "editable": true
   },
   "outputs": [],
   "source": [
    "temp_df = keywords_df.copy()"
   ]
  },
  {
   "cell_type": "markdown",
   "metadata": {
    "deletable": true,
    "editable": true
   },
   "source": [
    "# NLP Pre-processing"
   ]
  },
  {
   "cell_type": "markdown",
   "metadata": {
    "deletable": true,
    "editable": true
   },
   "source": [
    "### Load NLTK stop words and custom stop words list"
   ]
  },
  {
   "cell_type": "code",
   "execution_count": 12,
   "metadata": {
    "collapsed": false,
    "deletable": true,
    "editable": true
   },
   "outputs": [],
   "source": [
    "from nltk.corpus import stopwords\n",
    "stop_words = stopwords.words(\"english\")"
   ]
  },
  {
   "cell_type": "code",
   "execution_count": 13,
   "metadata": {
    "collapsed": false,
    "deletable": true,
    "editable": true
   },
   "outputs": [],
   "source": [
    "stop_words = set(stop_words)"
   ]
  },
  {
   "cell_type": "code",
   "execution_count": 14,
   "metadata": {
    "collapsed": false,
    "deletable": true,
    "editable": true
   },
   "outputs": [],
   "source": [
    "#!pip install --user gensim\n",
    "from gensim.parsing.preprocessing import STOPWORDS\n",
    "custom_stopwords = ['anz','account','customer','card','bank','complaint','january','february','march','april','may','june','july','august',\n",
    "                   'september','october','november','december','customers']\n",
    "#custom_stopwords = ['anz','account','customer','bank','complaint']\n",
    "my_stop_words = STOPWORDS.union(set(custom_stopwords))\n",
    "store "
   ]
  },
  {
   "cell_type": "markdown",
   "metadata": {
    "deletable": true,
    "editable": true
   },
   "source": [
    "### Preprocessing of Data"
   ]
  },
  {
   "cell_type": "code",
   "execution_count": 15,
   "metadata": {
    "collapsed": false,
    "deletable": true,
    "editable": true
   },
   "outputs": [],
   "source": [
    "from gensim.parsing import preprocessing as pp\n",
    "\n",
    "pp_list = [\n",
    "    lambda x: x.lower(),\n",
    "    pp.strip_tags,\n",
    "    pp.strip_multiple_whitespaces,\n",
    "    pp.strip_punctuation,\n",
    "    pp.strip_short,\n",
    "    pp.remove_stopwords,\n",
    "    pp.strip_numeric\n",
    "          ]\n",
    "\n",
    "def tokenizer(line):\n",
    "    tokens = pp.preprocess_string(line, filters=pp_list)\n",
    "    return tokens\n",
    "\n",
    "def remove_custom_stopwords(line,custom_stopwords):\n",
    "    result = [val for i,val in line if val not in custom_stopwords]\n",
    "    return result\n",
    "\n",
    "            "
   ]
  },
  {
   "cell_type": "code",
   "execution_count": 16,
   "metadata": {
    "collapsed": false,
    "deletable": true,
    "editable": true
   },
   "outputs": [],
   "source": [
    "def count_null_percategory(df):\n",
    "    null_columns=df.columns[df.isnull().any()]\n",
    "    return df[null_columns].isnull().sum()\n",
    "    #print(keywords_df[keywords_df.isnull().any(axis=1)][null_columns].head(1))"
   ]
  },
  {
   "cell_type": "code",
   "execution_count": 17,
   "metadata": {
    "collapsed": false,
    "deletable": true,
    "editable": true
   },
   "outputs": [
    {
     "data": {
      "text/plain": [
       "IssueID                  121\n",
       "IssueDescription         121\n",
       "ResolutionDescription    545\n",
       "dtype: int64"
      ]
     },
     "execution_count": 17,
     "metadata": {},
     "output_type": "execute_result"
    }
   ],
   "source": [
    "count_null_percategory(keywords_df)"
   ]
  },
  {
   "cell_type": "code",
   "execution_count": 18,
   "metadata": {
    "collapsed": false,
    "deletable": true,
    "editable": true
   },
   "outputs": [
    {
     "data": {
      "text/plain": [
       "34721"
      ]
     },
     "execution_count": 18,
     "metadata": {},
     "output_type": "execute_result"
    }
   ],
   "source": [
    "len(keywords_df['keyword_corpus'])"
   ]
  },
  {
   "cell_type": "markdown",
   "metadata": {
    "deletable": true,
    "editable": true
   },
   "source": [
    "### Apply it on our dataset"
   ]
  },
  {
   "cell_type": "code",
   "execution_count": 19,
   "metadata": {
    "collapsed": false,
    "deletable": true,
    "editable": true
   },
   "outputs": [
    {
     "name": "stdout",
     "output_type": "stream",
     "text": [
      "CPU times: user 10.8 s, sys: 60 ms, total: 10.9 s\n",
      "Wall time: 10.9 s\n"
     ]
    }
   ],
   "source": [
    "%%time\n",
    "\n",
    "train_texts = []\n",
    "try:\n",
    "    for index,line in enumerate(keywords_df['keyword_corpus']):\n",
    "        tokens = tokenizer(line)\n",
    "        tokenz = [val for i, val in enumerate(tokens) if val not in custom_stopwords]\n",
    "        #tokens = remove_custom_stopwords(line,custom_stopwords)\n",
    "        train_texts.append(tokenz)\n",
    "        \n",
    "except Exception as e:\n",
    "    print(index,e)"
   ]
  },
  {
   "cell_type": "code",
   "execution_count": 20,
   "metadata": {
    "collapsed": false,
    "deletable": true,
    "editable": true
   },
   "outputs": [
    {
     "data": {
      "text/plain": [
       "34721"
      ]
     },
     "execution_count": 20,
     "metadata": {},
     "output_type": "execute_result"
    }
   ],
   "source": [
    "len(train_texts)"
   ]
  },
  {
   "cell_type": "code",
   "execution_count": 21,
   "metadata": {
    "collapsed": false,
    "deletable": true,
    "editable": true
   },
   "outputs": [],
   "source": [
    "#train_texts[0]"
   ]
  },
  {
   "cell_type": "code",
   "execution_count": 22,
   "metadata": {
    "collapsed": false,
    "deletable": true,
    "editable": true
   },
   "outputs": [
    {
     "data": {
      "text/html": [
       "<div>\n",
       "<style>\n",
       "    .dataframe thead tr:only-child th {\n",
       "        text-align: right;\n",
       "    }\n",
       "\n",
       "    .dataframe thead th {\n",
       "        text-align: left;\n",
       "    }\n",
       "\n",
       "    .dataframe tbody tr th {\n",
       "        vertical-align: top;\n",
       "    }\n",
       "</style>\n",
       "<table border=\"1\" class=\"dataframe\">\n",
       "  <thead>\n",
       "    <tr style=\"text-align: right;\">\n",
       "      <th></th>\n",
       "      <th>ConcernID</th>\n",
       "      <th>IssueID</th>\n",
       "      <th>ConcernDescription</th>\n",
       "      <th>IssueDescription</th>\n",
       "      <th>ResolutionDescription</th>\n",
       "      <th>keyword_corpus</th>\n",
       "      <th>tokens</th>\n",
       "    </tr>\n",
       "  </thead>\n",
       "  <tbody>\n",
       "    <tr>\n",
       "      <th>0</th>\n",
       "      <td>964163</td>\n",
       "      <td>1016404</td>\n",
       "      <td>Unclaimed Monies  - ANZ Account - $1,978,74. I...</td>\n",
       "      <td>unclaimed money request</td>\n",
       "      <td>CA - 5 September 2017 - Feedback noted. Estate...</td>\n",
       "      <td>Unclaimed Monies  - ANZ Account - $1,978,74. I...</td>\n",
       "      <td>[unclaimed, monies, emailing, london, sydney, ...</td>\n",
       "    </tr>\n",
       "    <tr>\n",
       "      <th>1</th>\n",
       "      <td>965539</td>\n",
       "      <td>1017305</td>\n",
       "      <td>Customer is unable to pay his business loans s...</td>\n",
       "      <td>customer is wanting legal actions stopped</td>\n",
       "      <td>Customer Advocate- confirmed with customer tha...</td>\n",
       "      <td>Customer is unable to pay his business loans s...</td>\n",
       "      <td>[unable, pay, business, loans, expected, compe...</td>\n",
       "    </tr>\n",
       "    <tr>\n",
       "      <th>2</th>\n",
       "      <td>967004</td>\n",
       "      <td>1015985</td>\n",
       "      <td>I am writing to express our grave concern abou...</td>\n",
       "      <td>Loan application declined.</td>\n",
       "      <td>23/08/2017 - Requested further information fro...</td>\n",
       "      <td>I am writing to express our grave concern abou...</td>\n",
       "      <td>[writing, express, grave, concern, processing,...</td>\n",
       "    </tr>\n",
       "    <tr>\n",
       "      <th>3</th>\n",
       "      <td>968151</td>\n",
       "      <td>1019451</td>\n",
       "      <td>Customer request we return his documents as it...</td>\n",
       "      <td>Credit limit increase</td>\n",
       "      <td>28 August 2017 - Response issued advising that...</td>\n",
       "      <td>Customer request we return his documents as it...</td>\n",
       "      <td>[request, return, documents, sensitive, inform...</td>\n",
       "    </tr>\n",
       "    <tr>\n",
       "      <th>4</th>\n",
       "      <td>968359</td>\n",
       "      <td>1019784</td>\n",
       "      <td>Customer is disappointed with collections call...</td>\n",
       "      <td>Collections calls</td>\n",
       "      <td>CA - 1 September 2017- Response to customer an...</td>\n",
       "      <td>Customer is disappointed with collections call...</td>\n",
       "      <td>[disappointed, collections, calls, receiving, ...</td>\n",
       "    </tr>\n",
       "  </tbody>\n",
       "</table>\n",
       "</div>"
      ],
      "text/plain": [
       "  ConcernID  IssueID                                 ConcernDescription  \\\n",
       "0    964163  1016404  Unclaimed Monies  - ANZ Account - $1,978,74. I...   \n",
       "1    965539  1017305  Customer is unable to pay his business loans s...   \n",
       "2    967004  1015985  I am writing to express our grave concern abou...   \n",
       "3    968151  1019451  Customer request we return his documents as it...   \n",
       "4    968359  1019784  Customer is disappointed with collections call...   \n",
       "\n",
       "                            IssueDescription  \\\n",
       "0                    unclaimed money request   \n",
       "1  customer is wanting legal actions stopped   \n",
       "2                 Loan application declined.   \n",
       "3                      Credit limit increase   \n",
       "4                          Collections calls   \n",
       "\n",
       "                               ResolutionDescription  \\\n",
       "0  CA - 5 September 2017 - Feedback noted. Estate...   \n",
       "1  Customer Advocate- confirmed with customer tha...   \n",
       "2  23/08/2017 - Requested further information fro...   \n",
       "3  28 August 2017 - Response issued advising that...   \n",
       "4  CA - 1 September 2017- Response to customer an...   \n",
       "\n",
       "                                      keyword_corpus  \\\n",
       "0  Unclaimed Monies  - ANZ Account - $1,978,74. I...   \n",
       "1  Customer is unable to pay his business loans s...   \n",
       "2  I am writing to express our grave concern abou...   \n",
       "3  Customer request we return his documents as it...   \n",
       "4  Customer is disappointed with collections call...   \n",
       "\n",
       "                                              tokens  \n",
       "0  [unclaimed, monies, emailing, london, sydney, ...  \n",
       "1  [unable, pay, business, loans, expected, compe...  \n",
       "2  [writing, express, grave, concern, processing,...  \n",
       "3  [request, return, documents, sensitive, inform...  \n",
       "4  [disappointed, collections, calls, receiving, ...  "
      ]
     },
     "execution_count": 22,
     "metadata": {},
     "output_type": "execute_result"
    }
   ],
   "source": [
    "keywords_df['tokens'] = train_texts\n",
    "keywords_df.head(5)"
   ]
  },
  {
   "cell_type": "markdown",
   "metadata": {
    "deletable": true,
    "editable": true
   },
   "source": [
    "## Visualize word cloud of all tokens"
   ]
  },
  {
   "cell_type": "code",
   "execution_count": 23,
   "metadata": {
    "collapsed": false,
    "deletable": true,
    "editable": true
   },
   "outputs": [
    {
     "data": {
      "text/plain": [
       "[('advised', 17916),\n",
       " ('credit', 13410),\n",
       " ('happy', 9959),\n",
       " ('branch', 9499),\n",
       " ('sent', 9295),\n",
       " ('closed', 8928),\n",
       " ('feedback', 8887),\n",
       " ('received', 8595),\n",
       " ('inconvenience', 8434),\n",
       " ('apologised', 7874)]"
      ]
     },
     "execution_count": 23,
     "metadata": {},
     "output_type": "execute_result"
    }
   ],
   "source": [
    "unigram_counter = collections.Counter(x for xs in train_texts for x in set(xs))\n",
    "\n",
    "for stop_word in stop_words:\n",
    "    if stop_word in unigram_counter:\n",
    "        unigram_counter.pop(stop_word)\n",
    "\n",
    "unigram_counter.most_common(10)"
   ]
  },
  {
   "cell_type": "code",
   "execution_count": 24,
   "metadata": {
    "collapsed": false,
    "deletable": true,
    "editable": true
   },
   "outputs": [
    {
     "data": {
      "image/png": "[encoded data removed]",
      "text/plain": [
       "<Figure size 720x576 with 1 Axes>"
      ]
     },
     "metadata": {
      "needs_background": "light"
     },
     "output_type": "display_data"
    }
   ],
   "source": [
    "wc = WordCloud(background_color='white', random_state=42)\n",
    "\n",
    "plt.figure(figsize=(10, 8))\n",
    "plt.imshow(wc.fit_words(unigram_counter), interpolation='bilinear')\n",
    "plt.axis(\"off\")\n",
    "plt.savefig('../datasets/total_wordcloud.png')\n",
    "plt.show()"
   ]
  },
  {
   "cell_type": "markdown",
   "metadata": {
    "deletable": true,
    "editable": true
   },
   "source": [
    "### Spellchecker and Slang Removal"
   ]
  },
  {
   "cell_type": "code",
   "execution_count": 25,
   "metadata": {
    "collapsed": false,
    "deletable": true,
    "editable": true
   },
   "outputs": [],
   "source": [
    "%load_ext cython"
   ]
  },
  {
   "cell_type": "markdown",
   "metadata": {
    "deletable": true,
    "editable": true
   },
   "source": [
    "### Phrase Modelling and advanced NLP Cleaning"
   ]
  },
  {
   "cell_type": "code",
   "execution_count": 26,
   "metadata": {
    "collapsed": false,
    "deletable": true,
    "editable": true,
    "scrolled": true
   },
   "outputs": [],
   "source": [
    "%%cython\n",
    "\n",
    "import gensim\n",
    "from numba import jit, autojit\n",
    "\n",
    "slang_hash = {'monies':'money','cust':'customer','cus':'customer','custome':'customer','fos':'financial_ombudsman_service',\n",
    "              'afca':'australian_financial_complaints_authority', 'gtr':'guarantor','cad':'card','kbonus':'bonus','pch':'primary_card_holder',\n",
    "             'rat':'rate','didnt':\"did not\",'feb':'February','isn':'is not'}\n",
    "\n",
    "custom_bi_trigrams = {'break_free_package','financial_ombudsman_service','frequent_fly_points','eligible_bonus_points',\n",
    "                      'business_select_package','platinum_card','frequent_flyer_black','bonus_point_offer','frequent_flyer_credit',\n",
    "                      'reward_program_fee','residential_investment_property_loan','senior_personal_banker'}\n",
    "\n",
    "def replace_slangs(lists):\n",
    "    result = [slang_hash[word] if word in slang_hash else word for word in lists]\n",
    "    return result\n",
    "\n",
    "def get_phrases(lists):\n",
    "    bigram = gensim.models.Phrases(lists)\n",
    "    bigram_phraser = gensim.models.phrases.Phraser(bigram)\n",
    "    tokens_ = bigram_phraser[lists]\n",
    "    trigram = gensim.models.Phrases(tokens_)\n",
    "    trigram_phraser = gensim.models.phrases.Phraser(trigram)\n",
    "    return trigram_phraser,bigram_phraser\n",
    "\n",
    "       \n",
    "def lemmatize_process(lists,phrased):\n",
    "    from wordsegment import load,segment\n",
    "    load() #Load the Segmentation model\n",
    "    from nltk.stem import WordNetLemmatizer\n",
    "    lemmatizer = WordNetLemmatizer()\n",
    "    from nltk.stem.snowball import SnowballStemmer\n",
    "    stemmer = SnowballStemmer(\"english\")\n",
    "    bigram_phraser,trigram_phraser = get_phrases(lists)\n",
    "    for each in lists:\n",
    "        inter_res = replace_slangs(each)\n",
    "        each1 = [segment(word) for word in inter_res]\n",
    "        each2 = flatten_lists(each1)\n",
    "        res= bigram_phraser[each2]\n",
    "        #res= bigram_phraser[each]\n",
    "        res = trigram_phraser[res]\n",
    "        phrased.append([lemmatizer.lemmatize(word, pos='v') for word in res])\n",
    "    return phrased\n",
    "\n",
    "def remove_email_new_line(data):\n",
    "    # Remove Emails\n",
    "    import re\n",
    "    data = [re.sub('\\S*@\\S*\\s?', '', str(sent)) for sent in data]\n",
    "    # Remove new line characters\n",
    "    data = [re.sub('\\s+', ' ', str(sent)) for sent in data]\n",
    "    # Remove distracting single quotes\n",
    "    data = [re.sub(\"\\'\", \"\", str(sent)) for sent in data]\n",
    "    return data\n",
    "\n",
    "def flatten_lists(lists):\n",
    "    flat_list = [item for sublist in lists for item in sublist]\n",
    "    return flat_list\n",
    "    \n",
    "def preprocess_phrase(lists):\n",
    "    phrased=[]\n",
    "    #train_text_final = clean(lists)\n",
    "    phrased = lemmatize_process(lists,phrased)\n",
    "    return phrased\n",
    "                      \n",
    "    "
   ]
  },
  {
   "cell_type": "code",
   "execution_count": 27,
   "metadata": {
    "collapsed": false,
    "deletable": true,
    "editable": true
   },
   "outputs": [],
   "source": [
    "#!pip install --user wordsegment"
   ]
  },
  {
   "cell_type": "code",
   "execution_count": 28,
   "metadata": {
    "collapsed": false,
    "deletable": true,
    "editable": true
   },
   "outputs": [
    {
     "name": "stdout",
     "output_type": "stream",
     "text": [
      "1012.9123854637146\n"
     ]
    }
   ],
   "source": [
    "import time\n",
    "start = time.time()\n",
    "phrased = preprocess_phrase(train_texts)\n",
    "print((time.time()-start))"
   ]
  },
  {
   "cell_type": "code",
   "execution_count": 29,
   "metadata": {
    "collapsed": false,
    "deletable": true,
    "editable": true
   },
   "outputs": [],
   "source": [
    "import copy\n",
    "phrased_copy = phrased.copy()"
   ]
  },
  {
   "cell_type": "code",
   "execution_count": 30,
   "metadata": {
    "collapsed": false,
    "deletable": true,
    "editable": true
   },
   "outputs": [
    {
     "data": {
      "text/plain": [
       "34721"
      ]
     },
     "execution_count": 30,
     "metadata": {},
     "output_type": "execute_result"
    }
   ],
   "source": [
    "# get_phraser = get_phrases(train_text_final)\n",
    "len(phrased)"
   ]
  },
  {
   "cell_type": "code",
   "execution_count": 31,
   "metadata": {
    "collapsed": false,
    "deletable": true,
    "editable": true
   },
   "outputs": [],
   "source": [
    "temp =[]\n",
    "from gensim.parsing.preprocessing import strip_multiple_whitespaces,strip_short\n",
    "for line in phrased:\n",
    "    tmp =[]\n",
    "    for each in line:\n",
    "        if each not in my_stop_words:\n",
    "            tmp.append(strip_short(each))\n",
    "    temp.append(tmp)\n",
    "        \n",
    "\n",
    "    "
   ]
  },
  {
   "cell_type": "code",
   "execution_count": 32,
   "metadata": {
    "collapsed": false,
    "deletable": true,
    "editable": true
   },
   "outputs": [],
   "source": [
    "phrased_final = temp"
   ]
  },
  {
   "cell_type": "code",
   "execution_count": 33,
   "metadata": {
    "collapsed": false,
    "deletable": true,
    "editable": true
   },
   "outputs": [],
   "source": [
    "cleaned_list = []\n",
    "for each in phrased_final:\n",
    "    cleaned_list.append(list(filter(None, each)))"
   ]
  },
  {
   "cell_type": "code",
   "execution_count": 34,
   "metadata": {
    "collapsed": true,
    "deletable": true,
    "editable": true
   },
   "outputs": [],
   "source": [
    "#cleaned_list.append(custom_bi_trigrams)"
   ]
  },
  {
   "cell_type": "code",
   "execution_count": 35,
   "metadata": {
    "collapsed": false,
    "deletable": true,
    "editable": true
   },
   "outputs": [],
   "source": [
    "with open('../cleaned_list.txt', 'w') as f:\n",
    "    for item in cleaned_list:\n",
    "        f.write(\"%s\\n\" % item)"
   ]
  },
  {
   "cell_type": "code",
   "execution_count": 36,
   "metadata": {
    "collapsed": false,
    "deletable": true,
    "editable": true,
    "scrolled": true
   },
   "outputs": [
    {
     "data": {
      "text/html": [
       "<div>\n",
       "<style>\n",
       "    .dataframe thead tr:only-child th {\n",
       "        text-align: right;\n",
       "    }\n",
       "\n",
       "    .dataframe thead th {\n",
       "        text-align: left;\n",
       "    }\n",
       "\n",
       "    .dataframe tbody tr th {\n",
       "        vertical-align: top;\n",
       "    }\n",
       "</style>\n",
       "<table border=\"1\" class=\"dataframe\">\n",
       "  <thead>\n",
       "    <tr style=\"text-align: right;\">\n",
       "      <th></th>\n",
       "      <th>ConcernID</th>\n",
       "      <th>IssueID</th>\n",
       "      <th>ConcernDescription</th>\n",
       "      <th>IssueDescription</th>\n",
       "      <th>ResolutionDescription</th>\n",
       "      <th>keyword_corpus</th>\n",
       "      <th>tokens</th>\n",
       "      <th>finalized_tokens</th>\n",
       "    </tr>\n",
       "  </thead>\n",
       "  <tbody>\n",
       "    <tr>\n",
       "      <th>0</th>\n",
       "      <td>964163</td>\n",
       "      <td>1016404</td>\n",
       "      <td>Unclaimed Monies  - ANZ Account - $1,978,74. I...</td>\n",
       "      <td>unclaimed money request</td>\n",
       "      <td>CA - 5 September 2017 - Feedback noted. Estate...</td>\n",
       "      <td>Unclaimed Monies  - ANZ Account - $1,978,74. I...</td>\n",
       "      <td>[unclaimed, monies, emailing, london, sydney, ...</td>\n",
       "      <td>[unclaimed_money, email, london, sydney, try, ...</td>\n",
       "    </tr>\n",
       "    <tr>\n",
       "      <th>1</th>\n",
       "      <td>965539</td>\n",
       "      <td>1017305</td>\n",
       "      <td>Customer is unable to pay his business loans s...</td>\n",
       "      <td>customer is wanting legal actions stopped</td>\n",
       "      <td>Customer Advocate- confirmed with customer tha...</td>\n",
       "      <td>Customer is unable to pay his business loans s...</td>\n",
       "      <td>[unable, pay, business, loans, expected, compe...</td>\n",
       "      <td>[unable, pay, business, loan, expect, compensa...</td>\n",
       "    </tr>\n",
       "    <tr>\n",
       "      <th>2</th>\n",
       "      <td>967004</td>\n",
       "      <td>1015985</td>\n",
       "      <td>I am writing to express our grave concern abou...</td>\n",
       "      <td>Loan application declined.</td>\n",
       "      <td>23/08/2017 - Requested further information fro...</td>\n",
       "      <td>I am writing to express our grave concern abou...</td>\n",
       "      <td>[writing, express, grave, concern, processing,...</td>\n",
       "      <td>[writing_express, grave, concern, process, loa...</td>\n",
       "    </tr>\n",
       "    <tr>\n",
       "      <th>3</th>\n",
       "      <td>968151</td>\n",
       "      <td>1019451</td>\n",
       "      <td>Customer request we return his documents as it...</td>\n",
       "      <td>Credit limit increase</td>\n",
       "      <td>28 August 2017 - Response issued advising that...</td>\n",
       "      <td>Customer request we return his documents as it...</td>\n",
       "      <td>[request, return, documents, sensitive, inform...</td>\n",
       "      <td>[request, return, document, sensitive_informat...</td>\n",
       "    </tr>\n",
       "    <tr>\n",
       "      <th>4</th>\n",
       "      <td>968359</td>\n",
       "      <td>1019784</td>\n",
       "      <td>Customer is disappointed with collections call...</td>\n",
       "      <td>Collections calls</td>\n",
       "      <td>CA - 1 September 2017- Response to customer an...</td>\n",
       "      <td>Customer is disappointed with collections call...</td>\n",
       "      <td>[disappointed, collections, calls, receiving, ...</td>\n",
       "      <td>[disappoint, collections_calls, receive, relat...</td>\n",
       "    </tr>\n",
       "  </tbody>\n",
       "</table>\n",
       "</div>"
      ],
      "text/plain": [
       "  ConcernID  IssueID                                 ConcernDescription  \\\n",
       "0    964163  1016404  Unclaimed Monies  - ANZ Account - $1,978,74. I...   \n",
       "1    965539  1017305  Customer is unable to pay his business loans s...   \n",
       "2    967004  1015985  I am writing to express our grave concern abou...   \n",
       "3    968151  1019451  Customer request we return his documents as it...   \n",
       "4    968359  1019784  Customer is disappointed with collections call...   \n",
       "\n",
       "                            IssueDescription  \\\n",
       "0                    unclaimed money request   \n",
       "1  customer is wanting legal actions stopped   \n",
       "2                 Loan application declined.   \n",
       "3                      Credit limit increase   \n",
       "4                          Collections calls   \n",
       "\n",
       "                               ResolutionDescription  \\\n",
       "0  CA - 5 September 2017 - Feedback noted. Estate...   \n",
       "1  Customer Advocate- confirmed with customer tha...   \n",
       "2  23/08/2017 - Requested further information fro...   \n",
       "3  28 August 2017 - Response issued advising that...   \n",
       "4  CA - 1 September 2017- Response to customer an...   \n",
       "\n",
       "                                      keyword_corpus  \\\n",
       "0  Unclaimed Monies  - ANZ Account - $1,978,74. I...   \n",
       "1  Customer is unable to pay his business loans s...   \n",
       "2  I am writing to express our grave concern abou...   \n",
       "3  Customer request we return his documents as it...   \n",
       "4  Customer is disappointed with collections call...   \n",
       "\n",
       "                                              tokens  \\\n",
       "0  [unclaimed, monies, emailing, london, sydney, ...   \n",
       "1  [unable, pay, business, loans, expected, compe...   \n",
       "2  [writing, express, grave, concern, processing,...   \n",
       "3  [request, return, documents, sensitive, inform...   \n",
       "4  [disappointed, collections, calls, receiving, ...   \n",
       "\n",
       "                                    finalized_tokens  \n",
       "0  [unclaimed_money, email, london, sydney, try, ...  \n",
       "1  [unable, pay, business, loan, expect, compensa...  \n",
       "2  [writing_express, grave, concern, process, loa...  \n",
       "3  [request, return, document, sensitive_informat...  \n",
       "4  [disappoint, collections_calls, receive, relat...  "
      ]
     },
     "execution_count": 36,
     "metadata": {},
     "output_type": "execute_result"
    }
   ],
   "source": [
    "keywords_df['finalized_tokens'] = cleaned_list\n",
    "keywords_df.head()\n",
    "\n",
    "\n",
    "#keywords_df.drop(['dominant_topic','dominant_topic_probability','topic_label','topic_distribution_string','original labels'],axis =1 ,inplace=True)"
   ]
  },
  {
   "cell_type": "code",
   "execution_count": 433,
   "metadata": {
    "collapsed": false,
    "deletable": true,
    "editable": true
   },
   "outputs": [
    {
     "name": "stdout",
     "output_type": "stream",
     "text": [
      "Stored 'cleaned_list' (list)\n"
     ]
    }
   ],
   "source": [
    "%store cleaned_list"
   ]
  },
  {
   "cell_type": "code",
   "execution_count": 434,
   "metadata": {
    "collapsed": false,
    "deletable": true,
    "editable": true
   },
   "outputs": [
    {
     "name": "stdout",
     "output_type": "stream",
     "text": [
      "Stored 'keywords_df' (DataFrame)\n"
     ]
    }
   ],
   "source": [
    "%store keywords_df"
   ]
  },
  {
   "cell_type": "code",
   "execution_count": 435,
   "metadata": {
    "collapsed": false,
    "deletable": true,
    "editable": true
   },
   "outputs": [
    {
     "name": "stdout",
     "output_type": "stream",
     "text": [
      "Stored 'complaints_df' (DataFrame)\n"
     ]
    }
   ],
   "source": [
    "%store complaints_df"
   ]
  },
  {
   "cell_type": "code",
   "execution_count": null,
   "metadata": {
    "collapsed": true,
    "deletable": true,
    "editable": true
   },
   "outputs": [],
   "source": []
  },
  {
   "cell_type": "markdown",
   "metadata": {
    "deletable": true,
    "editable": true
   },
   "source": [
    "### Remove duplicate tokens to create corpus dictionary"
   ]
  },
  {
   "cell_type": "code",
   "execution_count": 37,
   "metadata": {
    "collapsed": true,
    "deletable": true,
    "editable": true
   },
   "outputs": [],
   "source": [
    "def remove_duplicate_tokens(test):\n",
    "    for each in test:\n",
    "        train_texts_corp =[]\n",
    "        train_texts_c.append(list(dict.fromkeys(each)))\n",
    "    return train_texts_corp"
   ]
  },
  {
   "cell_type": "markdown",
   "metadata": {
    "collapsed": true,
    "deletable": true,
    "editable": true
   },
   "source": [
    "### The Topic Model "
   ]
  },
  {
   "cell_type": "code",
   "execution_count": 38,
   "metadata": {
    "collapsed": true,
    "deletable": true,
    "editable": true
   },
   "outputs": [],
   "source": [
    "from gensim.corpora import Dictionary\n",
    "\n",
    "# Create a dictionary(vocab) with all tokens\n",
    "#dictionary = Dictionary(phrased_final)\n",
    "dictionary = Dictionary(cleaned_list)\n",
    "\n",
    "# Filter tokens which appear less than 5 times,\n",
    "# and those which appear more than 50% of the time.\n",
    "dictionary.filter_extremes(no_below=5, no_above=0.5)\n",
    "\n",
    "# Convert our documents to bag-of-words\n",
    "#corpus = [dictionary.doc2bow(text) for text in phrased]\n",
    "corpus = [dictionary.doc2bow(text) for text in cleaned_list]"
   ]
  },
  {
   "cell_type": "code",
   "execution_count": 312,
   "metadata": {
    "collapsed": false,
    "deletable": true,
    "editable": true
   },
   "outputs": [
    {
     "name": "stdout",
     "output_type": "stream",
     "text": [
      "CPU times: user 16min 1s, sys: 288 ms, total: 16min 2s\n",
      "Wall time: 16min 2s\n"
     ]
    }
   ],
   "source": [
    "%%time\n",
    "\n",
    "from gensim.models import LdaModel\n",
    "\n",
    "# Set random seed to reproduce results\n",
    "np.random.seed(42)\n",
    "\n",
    "NUM_TOPICS = 36\n",
    "\n",
    "# Caution: the below parameters will take a long time to run\n",
    "# First run it with default parameters\n",
    "passes = 40\n",
    "iterations = 400\n",
    "eval_every = 50\n",
    "\n",
    "# Increase the number of passes to get better results. But it'll takes more time\n",
    "ldamodel = LdaModel(corpus=corpus, num_topics=NUM_TOPICS, id2word=dictionary,\n",
    "                    passes=passes,\n",
    "                   iterations=iterations,\n",
    "                   eval_every=eval_every)"
   ]
  },
  {
   "cell_type": "code",
   "execution_count": 145,
   "metadata": {
    "collapsed": true,
    "deletable": true,
    "editable": true
   },
   "outputs": [],
   "source": [
    "# mallet_path = 'path/to/mallet-2.0.8/bin/mallet' # update this path\n",
    "# ldamallet = gensim.models.wrappers.LdaMallet(mallet_path, corpus=corpus, num_topics=20, id2word=dictionary)\n"
   ]
  },
  {
   "cell_type": "code",
   "execution_count": 337,
   "metadata": {
    "collapsed": false,
    "deletable": true,
    "editable": true
   },
   "outputs": [
    {
     "name": "stdout",
     "output_type": "stream",
     "text": [
      "CPU times: user 0 ns, sys: 0 ns, total: 0 ns\n",
      "Wall time: 25 µs\n"
     ]
    }
   ],
   "source": [
    "%%time\n",
    "def get_best_model():\n",
    "    import operator\n",
    "    from gensim.models import LdaModel\n",
    "    from gensim.models import CoherenceModel\n",
    "\n",
    "    models = []\n",
    "    c_score = {}\n",
    "    passes = 40\n",
    "    iterations = 400\n",
    "    eval_every = 50\n",
    "    for i in range(15,40,5):\n",
    "        #ldamallet = gensim.models.wrappers.LdaMallet(mallet_path, corpus=corpus, num_topics=i, id2word=dictionary)\n",
    "        lda = LdaModel(corpus=corpus, num_topics=i, id2word=dictionary,\n",
    "                        passes=passes,\n",
    "                       iterations=iterations,\n",
    "                       eval_every=eval_every)\n",
    "\n",
    "        models.append(lda)\n",
    "\n",
    "    for each in models:\n",
    "#         coherence_model_lda = CoherenceModel(model=each, texts=cleaned_list, dictionary=dictionary, coherence='c_v')\n",
    "#         coherence_lda = coherence_model_lda.get_coherence()\n",
    "        print('\\nPerplexity: ', ldamodel.log_perplexity(each))\n",
    "        #print('\\n Model---> {} Coherence Score: {}'.format(each,coherence_lda))\n",
    "        c_score[each]= coherence_lda\n",
    "     \n",
    "    return c_score,models\n",
    "    #return max(c_score.items(), key=operator.itemgetter(1))[0]\n",
    "    \n",
    "\n",
    "    \n",
    "    \n",
    "    "
   ]
  },
  {
   "cell_type": "code",
   "execution_count": null,
   "metadata": {
    "collapsed": false,
    "deletable": true,
    "editable": true
   },
   "outputs": [],
   "source": [
    "%%time\n",
    "c_score,models = get_best_model()"
   ]
  },
  {
   "cell_type": "code",
   "execution_count": 347,
   "metadata": {
    "collapsed": false,
    "deletable": true,
    "editable": true
   },
   "outputs": [
    {
     "data": {
      "text/plain": [
       "9"
      ]
     },
     "execution_count": 347,
     "metadata": {},
     "output_type": "execute_result"
    }
   ],
   "source": [
    "len(models)"
   ]
  },
  {
   "cell_type": "code",
   "execution_count": 349,
   "metadata": {
    "collapsed": false,
    "deletable": true,
    "editable": true
   },
   "outputs": [
    {
     "name": "stdout",
     "output_type": "stream",
     "text": [
      "0 -7.434769702853471\n",
      "1 -8.166421371755673\n",
      "2 -8.457969101355365\n",
      "3 -8.74222259769105\n",
      "4 -8.996421944615031\n",
      "5 -9.229978682877357\n",
      "6 -9.514776017259944\n",
      "7 -9.793260229137163\n",
      "8 -10.070779475684436\n"
     ]
    },
    {
     "data": {
      "text/plain": [
       "[None, None, None, None, None, None, None, None, None]"
      ]
     },
     "execution_count": 349,
     "metadata": {},
     "output_type": "execute_result"
    }
   ],
   "source": [
    "([print(i,each.log_perplexity(corpus)) for i, each in enumerate(models)])"
   ]
  },
  {
   "cell_type": "markdown",
   "metadata": {
    "deletable": true,
    "editable": true
   },
   "source": [
    "### NMF Model"
   ]
  },
  {
   "cell_type": "code",
   "execution_count": 389,
   "metadata": {
    "collapsed": false,
    "deletable": true,
    "editable": true,
    "scrolled": true
   },
   "outputs": [],
   "source": [
    "# from sklearn.feature_extraction.text import CountVectorizer, TfidfTransformer\n",
    "# from sklearn.decomposition import NMF\n",
    "# from sklearn.preprocessing import normalize\n",
    "\n",
    "# vectorizer = CountVectorizer(analyzer='word', max_features=8000)\n",
    "# data = [' '.join(text) for text in cleaned_list]\n",
    "# x_counts = vectorizer.fit_transform(data)\n",
    "# # Next, we set a TfIdf Transformer, and transform the counts with the model.\n",
    "# transformer = TfidfTransformer(smooth_idf=False);\n",
    "# x_tfidf = transformer.fit_transform(x_counts)\n",
    "# xtfidf_norm = normalize(x_tfidf, norm='l1', axis=1)\n",
    "\n",
    "# num_topics = 35\n",
    "# model = NMF(n_components=num_topics, init='nndsvd')\n",
    "# model.fit(xtfidf_norm)\n",
    "\n",
    "# #the word ids obtained need to be reverse-mapped to the words so we can print the topic names.\n",
    "# feat_names = vectorizer.get_feature_names()\n",
    "\n",
    "# word_dict = {};\n",
    "# for i in range(num_topics):\n",
    "\n",
    "#     #for each topic, obtain the largest values, and add the words they map to into the dictionary.\n",
    "#     words_ids = model.components_[i].argsort()[:-20 - 1:-1]\n",
    "#     words = [feat_names[key] for key in words_ids]\n",
    "#     word_dict['Topic # ' + '{:02d}'.format(i+1)] = words\n",
    "\n",
    "# pd.DataFrame(word_dict)"
   ]
  },
  {
   "cell_type": "code",
   "execution_count": 390,
   "metadata": {
    "collapsed": false,
    "deletable": true,
    "editable": true
   },
   "outputs": [],
   "source": [
    "# topic_pr = model.transform(xtfidf_norm)\n",
    "# probs = topic_pr / topic_pr.sum(axis=1, keepdims=True)\n",
    "# len(topic_pr)"
   ]
  },
  {
   "cell_type": "markdown",
   "metadata": {
    "collapsed": true,
    "deletable": true,
    "editable": true
   },
   "source": [
    "### gensim NMF"
   ]
  },
  {
   "cell_type": "code",
   "execution_count": 394,
   "metadata": {
    "collapsed": false,
    "deletable": true,
    "editable": true
   },
   "outputs": [
    {
     "data": {
      "text/plain": [
       "<bound method Nmf.get_document_topics of <gensim.models.nmf.Nmf object at 0x7fce98cfca58>>"
      ]
     },
     "execution_count": 394,
     "metadata": {},
     "output_type": "execute_result"
    }
   ],
   "source": [
    "from gensim.models.nmf import Nmf\n",
    "nmf_model = Nmf(corpus, num_topics=35)\n"
   ]
  },
  {
   "cell_type": "markdown",
   "metadata": {
    "collapsed": false,
    "deletable": true,
    "editable": true
   },
   "source": [
    "### Save Trained Model"
   ]
  },
  {
   "cell_type": "code",
   "execution_count": 419,
   "metadata": {
    "collapsed": false,
    "deletable": true,
    "editable": true
   },
   "outputs": [
    {
     "name": "stderr",
     "output_type": "stream",
     "text": [
      "WARNING:smart_open.smart_open_lib:this function is deprecated, use smart_open.open instead\n",
      "WARNING:smart_open.smart_open_lib:this function is deprecated, use smart_open.open instead\n",
      "WARNING:smart_open.smart_open_lib:this function is deprecated, use smart_open.open instead\n"
     ]
    }
   ],
   "source": [
    "#ldamodel.save('2305ANZ_final_gensim_36_40passes_usable.model')\n",
    "\n",
    "from gensim.models import LdaModel\n",
    "\n",
    "ldamodel = LdaModel.load('2305ANZ_final_gensim_36_40passes_usable.model')"
   ]
  },
  {
   "cell_type": "code",
   "execution_count": 354,
   "metadata": {
    "collapsed": false,
    "deletable": true,
    "editable": true
   },
   "outputs": [],
   "source": [
    "#list(dictionary.iteritems())"
   ]
  },
  {
   "cell_type": "code",
   "execution_count": 355,
   "metadata": {
    "collapsed": false,
    "deletable": true,
    "editable": true
   },
   "outputs": [],
   "source": [
    "#!pip install --user pyLDAvis"
   ]
  },
  {
   "cell_type": "code",
   "execution_count": 420,
   "metadata": {
    "collapsed": false,
    "deletable": true,
    "editable": true
   },
   "outputs": [],
   "source": [
    "import pyLDAvis.gensim\n",
    "pyLDAvis.enable_notebook()\n",
    "\n",
    "prepared_viz = pyLDAvis.gensim.prepare(ldamodel, corpus, dictionary, sort_topics=False)"
   ]
  },
  {
   "cell_type": "code",
   "execution_count": 421,
   "metadata": {
    "collapsed": false,
    "deletable": true,
    "editable": true,
    "scrolled": true
   },
   "outputs": [
    {
     "data": {
      "text/html": [
       "\n",
       "<link rel=\"stylesheet\" type=\"text/css\" href=\"https://cdn.rawgit.com/bmabey/pyLDAvis/files/ldavis.v1.0.0.css\">\n",
       "\n",
       "\n",
       "<div id=\"ldavis_el14971405246226991601163083362\"></div>\n",
       "<script type=\"text/javascript\">\n",
       "\n",
       "var ldavis_el14971405246226991601163083362_data = {\"topic.order\": [1, 2, 3, 4, 5, 6, 7, 8, 9, 10, 11, 12, 13, 14, 15, 16, 17, 18, 19, 20, 21, 22, 23, 24, 25, 26, 27, 28, 29, 30, 31, 32, 33, 34, 35, 36], \"token.table\": {\"Freq\": [0.028883399208012053, 0.21283980581438006, 0.021031601365057318, 0.004206320273011464, 0.31547402047585976, 0.013460224873636684, 0.10599927087988889, 0.014862331631307173, 0.019349073255852733, 0.045989101651592, 0.016825281092045855, 0.06561859625897884, 0.13488267008790095, 0.9961621905280287, 0.9876639846995016, 0.9957665653409199, 0.18202284959759085, 0.815462366197207, 0.10392605009777464, 0.014532032428926114, 0.015853126286101214, 0.00858711007163816, 0.13232956802703932, 0.04667864962018691, 0.09071511152602363, 0.012550391643163463, 0.052623571977474866, 0.06715560440640099, 0.03721081031043202, 0.018715496309980602, 0.12374245795540116, 0.026201694833972843, 0.08278854838297302, 0.03038515871502733, 0.01849531400045142, 0.11757735328858401, 0.9442096456970996, 0.05486504033104047, 0.22585154071754054, 0.10586790971134713, 0.1940911678041364, 0.4728766633773505, 0.9983385809246321, 0.9958739499950541, 0.3992263087104697, 0.5955671162729957, 0.9950848373002693, 0.9997850899123883, 0.4710999502457908, 0.05607023911910229, 0.09235098207852142, 0.025286578426261818, 0.059368488479049485, 0.2951933177152738, 0.9838620395177703, 0.9894921721014243, 0.13801196292104853, 0.8566259767513357, 0.5107473620666187, 0.2853568257700137, 0.20264470235841553, 0.9916985991475399, 0.9668511554398131, 0.9911530247647904, 0.9799539696565298, 0.9984448129005322, 0.08340873187289122, 0.19506880841240687, 0.2650245190154769, 0.08923837442314705, 0.04574027231739196, 0.1094179063278788, 0.03139038296291605, 0.10538199994693245, 0.013901455312148536, 0.005381208507928466, 0.0044843404232737215, 0.05067304678299305, 0.9979376063663722, 0.9924032127103597, 0.9899698933651199, 0.9980919388870491, 0.24588682761606565, 0.753676099972615, 0.9868611668995382, 0.9867075247178578, 0.09039910037902267, 0.004356583150796273, 0.16228272236716118, 0.08277507986512919, 0.054457289384953415, 0.41714283668874313, 0.1862439296965407, 0.1382536710266321, 0.021957935986582747, 0.023584449763366655, 0.13093435903110454, 0.2195793598658275, 0.013825367102663213, 0.1122294505980896, 0.2366577545220585, 0.10247036793738616, 0.9930554248126638, 0.019719669981719642, 0.37543217849812394, 0.1478975248628973, 0.08570471953593536, 0.0561252145633559, 0.2882105612712871, 0.026545709590776442, 0.9966411186675006, 0.758411681523819, 0.24082266664500412, 0.9764969680397887, 0.9973269079514125, 0.23581844172456462, 0.762296823249174, 0.9903185951792369, 0.9899785463770125, 0.9891002245223142, 0.9852903722641893, 0.9973219551231147, 0.996624496024885, 0.988582815677842, 0.9970354809889016, 0.9957316821358837, 0.22962199521144983, 0.033454860229482755, 0.08059579964375392, 0.14294349370778997, 0.47749209600261755, 0.033454860229482755, 0.14040526434388675, 0.8549120540049994, 0.9685743348611168, 0.9977181540679769, 0.9927847121067761, 0.9960997521200966, 0.995607059709308, 0.03924245437923443, 0.03340911656610499, 0.048257612817707206, 0.027045475315418323, 0.10393947376121553, 0.05196973688060776, 0.1108334184494594, 0.1702274034558683, 0.06310610906930943, 0.10977281157434496, 0.012196979063816107, 0.056212164381065535, 0.02863638562808999, 0.07053035719511053, 0.03446972344121943, 0.027045475315418323, 0.01272728250137333, 0.8340539309138808, 0.16209528692672595, 0.5169799235025695, 0.4797573690103845, 0.9902089036106175, 0.9939439322715022, 0.9937699582701937, 0.9993404534278485, 0.9688219946115083, 0.9923338463838643, 0.9944754087448364, 0.9776822347901372, 0.27205224087834246, 0.15628532986628185, 0.0274946413653644, 0.31618837570169056, 0.08176038090226782, 0.01302377748885682, 0.04268904843569735, 0.015194407070332957, 0.04920093718012577, 0.02532401178388826, 0.04781836961207329, 0.9499054504019964, 0.9922892528467795, 0.9848397957376328, 0.07681833522459275, 0.11095981754663396, 0.8065925198582238, 0.9963270892188472, 0.998318582515383, 0.9904475168616909, 0.98335331985352, 0.9608380876773468, 0.9936431885474618, 0.9964751995044582, 0.20946442993939807, 0.7902521674986381, 0.9715205752578693, 0.027213461491817068, 0.9821440907404717, 0.9904135578501538, 0.04340634257687454, 0.9501166097382537, 0.025478560104755438, 0.030021249115680822, 0.014121837577441967, 0.06349889204402227, 0.011159214309447149, 0.08394099259318652, 0.05658610441870103, 0.0097766567843829, 0.39521394395050874, 0.08660735353438186, 0.003061377376927979, 0.03377390525514093, 0.13726821141709325, 0.013628067032776164, 0.03565023332487098, 0.9806435299547889, 0.9623987874662339, 0.9937936762597999, 0.011147635345474891, 0.11694088058488367, 0.08918108276379913, 0.01836081115725276, 0.07082027160654637, 0.04043750076299715, 0.08284223129284282, 0.12109392120378608, 0.0723503392029841, 0.08284223129284282, 0.020328040924101273, 0.0015300675964377301, 0.044590541381899565, 0.09224121795667459, 0.057923987579428356, 0.022951013946565953, 0.05442669021614212, 0.9927636898635837, 0.9918986071247679, 0.9940048671736121, 0.9967353306345591, 0.8853932533671828, 0.11347097651456675, 0.9886783756674897, 0.5535646361520812, 0.44319660900649493, 0.9946121441505064, 0.9025430397176029, 0.09729409290555138, 0.9969137807552613, 0.055917455286056156, 0.09597929943239884, 0.4858159253208206, 0.09397092202136847, 0.11215202279490658, 0.005390907787502578, 0.09989035018019483, 0.05073795564708309, 0.9981509300606918, 0.996617755980797, 0.9964181100953448, 0.9933535552860355, 0.4372770714107872, 0.4771590192919013, 0.061247277103139576, 0.022789684503493796, 0.1509132797922007, 0.41326252446407274, 0.3358070331799963, 0.05796669025130888, 0.041975879147499534, 0.9847303174222799, 0.17130021892567404, 0.15333166449291102, 0.09703019393692026, 0.5019216204885134, 0.07546792861760465, 0.9907136095467453, 0.9984482217637465, 0.99347800225582, 0.5710023425174943, 0.413720260147406, 0.013676702814790281, 0.47203248706414197, 0.5248473107915984, 0.48517956312163685, 0.17539355098763398, 0.3348422337036649, 0.9908422567989603, 0.0010578852314851663, 0.263942365255549, 0.006523625594158525, 0.016573535293267605, 0.0005289426157425831, 0.03332338479178274, 0.006876254004653581, 0.01163673754633683, 0.10102803960683339, 0.059770515578911894, 0.27892907270158884, 0.219511185533172, 0.99502155689863, 0.994582592919642, 0.9915759212555565, 0.9909670717061296, 0.9854480052057106, 0.5066845943611759, 0.014847900201060098, 0.305619279138487, 0.028458475385365188, 0.14352970194358095, 0.40772214121027844, 0.04518002105303085, 0.10358346290207074, 0.34491089242923556, 0.09807370423706697, 0.982800226586281, 0.545045970779603, 0.1746942214037189, 0.2795107542459503, 0.9990792241057515, 0.9943315032290603, 0.14153741248490018, 0.6340876079323527, 0.22362911172614228, 0.7419185135150604, 0.25697000024056266, 0.9932220229477235, 0.9916319589476786, 0.806860757029176, 0.19068044148610724, 0.9902852379190471, 0.42427890304319615, 0.03655325933910613, 0.4073077469214683, 0.015665682573902627, 0.11618714575644448, 0.615286747084905, 0.38102619658927606, 0.9914979196760136, 0.1684238074556029, 0.22388042698366725, 0.17663960294124206, 0.4272213652532366, 0.9854867976004434, 0.9882916454266999, 0.9892624190842737, 0.9863179994875111, 0.25220108270605107, 0.04286064911820188, 0.07579567423008332, 0.13940990081604612, 0.03383735456700149, 0.03925133129772172, 0.029776872018961308, 0.0018046589102400793, 0.05188394366940228, 0.09248876914980406, 0.13940990081604612, 0.10106089897344443, 0.056202969203658706, 0.1493393181697217, 0.5684528885170052, 0.2232060776945303, 0.9950461749448365, 0.9892907329986298, 0.9970959756145606, 0.9983559786304014, 0.9978494164815791, 0.9930277296502694, 0.9945749113280654, 0.9806837111393396, 0.3735605786422433, 0.040942780811332825, 0.5853802545752544, 0.9907850575749564, 0.9988738437577592, 0.9877337193974773, 0.7398161495344463, 0.25702532894623953, 0.9774763428549254, 0.9955977426939072, 0.9862212660498921, 0.9781814064415655, 0.9834469046108046, 0.9450846042032107, 0.9901335898716618, 0.9954347237358642, 0.0959247751746912, 0.0021883979127305976, 0.024801843010946772, 0.14406952925476435, 0.06601667036737302, 0.024437110025491673, 0.05288628289098944, 0.07404079604738521, 0.015683518374569282, 0.05142735094916904, 0.05398048184735474, 0.03829696347278546, 0.00802412568001219, 0.04230902631279155, 0.03246123570550386, 0.14917579105113574, 0.07294659709101992, 0.05142735094916904, 0.9884918668356228, 0.9979070932134813, 0.11098331575776665, 0.11990161791687291, 0.43303311594771454, 0.24079415829586873, 0.07729195204558749, 0.017836604318212497, 0.9938922184987274, 0.9929431725783252, 0.9997424118351118, 0.9381694680737479, 0.06125154307336765, 0.9773216871509397, 0.9858375823440796, 0.9927166942106683, 0.312337906348134, 0.6868607352271182, 0.980677127642863, 0.9874036778866111, 0.17264360942297952, 0.8266116657472744, 0.9964193466696972, 0.9997117354989038, 0.997578684468356, 0.07366463238364479, 0.9239649604691447, 0.9877194021455027, 0.9917548846047267, 0.9938192964352925, 0.9662369400398567, 0.8012531380418217, 0.19638557304946613, 0.9916396737768248, 0.9999429375164101, 0.997260255966707, 0.9953755164267984, 0.9966909821879001, 0.9996550849982714, 0.9870414969423937, 0.9987204501362652, 0.9921460060553318, 0.1258188925632389, 0.8713427783484007, 0.9941248915220751, 0.9953029955018451, 0.9918254408009506, 0.9998403513478172, 0.9918074877129568, 0.997820228373612, 0.9932684450350043, 0.07862052271990248, 0.06582183297480208, 0.08654352113353607, 0.12128282187023717, 0.01889330390943393, 0.049366374731101566, 0.03656768498600116, 0.1852762705957392, 0.35714439002994464, 0.13986783622685123, 0.8556620569172075, 0.9932740661129843, 0.99714473908214, 0.9941668398193582, 0.9948292825687517, 0.9942348363041578, 0.9782706370551458, 0.9791644256868645, 0.9971826086950362, 0.9978155800037296, 0.9922698166806951, 0.03793568278156441, 0.2848337515515795, 0.07555523487328245, 0.23867867083400943, 0.2481625915294005, 0.11475544041423234, 0.03505721753459478, 0.1827983485732442, 0.7787710466613554, 0.8514730266556667, 0.14267926392608468, 0.8924765106483913, 0.1046204522051942, 0.059461560122855785, 0.9365195719349786, 0.6957313421672597, 0.9874993375246522, 0.9910840871627592, 0.2172273895496725, 0.16180081335014265, 0.02575376267856942, 0.03583132198757485, 0.026873491490681134, 0.3871462367876251, 0.14528481337149488, 0.9987718911876204, 0.03620925699189664, 0.05654596297364681, 0.05902604906898219, 0.026288912610555094, 0.036705274210963715, 0.19493476709336136, 0.02777696426775633, 0.14136490743411703, 0.06497825569778712, 0.04513756693510403, 0.21527147307511155, 0.0957313232799459, 0.993617799916598, 0.43418274816088165, 0.20950076659511074, 0.25909273549926737, 0.09715977581222526, 0.9990621174842201, 0.9921910287708221, 0.9886759200415788, 0.045230117075423945, 0.08602046805755476, 0.0191464912773267, 0.04606257321791642, 0.02941345036806711, 0.028026023463913, 0.05743947383198011, 0.3016266089631033, 0.12181608218473075, 0.033575731080529435, 0.09545497100580269, 0.08463304115340065, 0.051057310072871204, 0.9964890235204962, 0.9858590867258965, 0.13883447395089069, 0.8598780322119681, 0.1165821591095149, 0.8826934904006128, 0.7299575755792896, 0.0681293737207337, 0.19952173732500583, 0.035059594676178966, 0.10050417140504636, 0.5586162085071181, 0.30384982052688436, 0.9925590000584152, 0.9900711732892384, 0.9830773508614015, 0.9932420401958119, 0.078196524300248, 0.9216325268074934, 0.990374821933961, 0.9946197535976861, 0.9853310861097507, 0.9903352598475168, 0.9577227666486428, 0.042182282333702366, 0.9960573857237238, 0.9940841498861663, 0.06328816874902751, 0.036612990185387814, 0.07897945025705086, 0.026675178563639695, 0.02196779411123269, 0.04445863093939949, 0.10251637251908588, 0.13756023455367136, 0.13337589281819848, 0.02196779411123269, 0.06799555320143451, 0.26413657205172636, 0.9998401428399981, 0.9962095076912661, 0.9955590402157016, 0.990294884378734, 0.9861163002925725, 0.9901212691518759, 0.9971404946844742, 0.9926531040834602, 0.9803739965167668, 0.9945946101516498, 0.02961687870720888, 0.04427573786532237, 0.06910605031682072, 0.06551612562503784, 0.25159388881578454, 0.04876314373005099, 0.046070700211213816, 0.07838002243725987, 0.2318493030109786, 0.13492133633284045, 0.9958180217483217, 0.1744654206620835, 0.017171793372252313, 0.17927352280631415, 0.1105863493173049, 0.07967712124725074, 0.2101827508763683, 0.13531373177334824, 0.09272768421016249, 0.9944938028702821, 0.9945926935045698, 0.15129725396719892, 0.8476791352408816, 0.7442857470240039, 0.054488902684581966, 0.07477995636367243, 0.1263984173082855, 0.9972334045078544, 0.9901279199828183, 0.010822345471840548, 0.986997907031858, 0.9920526949337201, 0.08961365214997252, 0.5887438229567995, 0.3214347238085909, 0.9841468683068905, 0.9937310148523961, 0.584315919193982, 0.41224742765219585, 0.7378256814070749, 0.25899187184085076, 0.7710404028948238, 0.22792880270331972, 0.9932285991767169, 0.9871757028117392, 0.11947609267095308, 0.07734504946593278, 0.802376285516506, 0.9852410750096176, 0.05340686492152523, 0.0847281841988107, 0.03814776065823231, 0.0465804235405784, 0.06264263855457095, 0.058225529425723, 0.02449487789633864, 0.10279817608955233, 0.017668436515391805, 0.5111799928203129, 0.9953803535138478, 0.7601235788041554, 0.2346060428407887, 0.9859610006018639, 0.08316161225930614, 0.2016039085074088, 0.13104254052981573, 0.582131285815143, 0.9839380243462148, 0.9980404887510992, 0.984903493205959, 0.9866893547904725, 0.11317639011245857, 0.27644724797961195, 0.25140001410226454, 0.10482731215334277, 0.16048783188078142, 0.09369520820785505, 0.992972310502377, 0.9916356148826728, 0.05642957656462235, 0.03808996418112009, 0.009169806191751131, 0.143895420239787, 0.019044982090560044, 0.018339612383502263, 0.025393309454080058, 0.07970677689752907, 0.32658617436775184, 0.03315237623171563, 0.2497008762984539, 0.9904871162310783, 0.7046137383139996, 0.2941086842815072, 0.9820075988621308, 0.9917162435580051, 0.9915442473459217, 0.037399556714510285, 0.06678492270448265, 0.14311054865246284, 0.037399556714510285, 0.10151308251081363, 0.10685587632717225, 0.09884168560263433, 0.1278454234628668, 0.050374913125666915, 0.18470801479411203, 0.045413747439048205, 0.9809525140322932, 0.9931108951747979, 0.9932991609016083, 0.054013688652599416, 0.2544251345275448, 0.0008854703057803182, 0.017709406115606365, 0.09415500918130718, 0.5144582476583649, 0.0643441755533698, 0.9922891693686249, 0.9971851022610019, 0.9932462762193078, 0.9950784209197031, 0.42999447633239823, 0.10246676882814597, 0.12991322476425649, 0.10612629628629404, 0.23055022986332843, 0.9859016678568217, 0.9906297550871328, 0.1031420266195252, 0.007944359752678834, 0.07715454471669445, 0.04968591099556763, 0.01575406934005803, 0.07042203645171238, 0.03864459744099704, 0.14178662406052225, 0.06921018496401561, 0.13693921810973517, 0.012118514876967714, 0.008079009917978476, 0.1570020927393817, 0.02881513537412323, 0.08334845232047794, 0.08532187902186525, 0.9080685695898516, 0.9954872359580477, 0.9863669661417761, 0.996699382988772, 0.007606997982475543, 0.03740107341383809, 0.0488115703875514, 0.10015880676926131, 0.12551546671084646, 0.06782906534374025, 0.08050739531453283, 0.03296365792406068, 0.034231490921139945, 0.23645085395528145, 0.06465948285104212, 0.16355045662322418, 0.9960328992961986, 0.9992778681383714, 0.9880864088322451, 0.9774659369238332, 0.03330679230416165, 0.9603458447699943, 0.9902217493582678, 0.10896542384959255, 0.1359613621907078, 0.7544137678235304, 0.11901127614535562, 0.27588977651877894, 0.20556493152379604, 0.3949010526641345, 0.9838607182803861, 0.013534101124404457, 0.4999588711972799, 0.05723319034811715, 0.041978652640101956, 0.011240185679590143, 0.017892540469551656, 0.00022939154448143147, 0.020071760142125254, 0.14887511236844903, 0.0013763492668885887, 0.08544835031933322, 0.012731230718719446, 0.0006881746334442944, 0.0306237711882711, 0.05803606075380216, 0.987160690364767, 0.1875207311995939, 0.8086831532982487, 0.9939511711837076, 0.9928324448664279, 0.11124897607735261, 0.04767813260457969, 0.8370161057248434, 0.0035850610046101266, 0.8639997021110405, 0.13175099191942216, 0.053499365183669725, 0.02202915036974636, 0.07028347975109553, 0.6745116041784242, 0.11591529123128441, 0.06346493320807879, 0.9789944276555862, 0.07046297149116473, 0.07574769435300209, 0.17439585444063274, 0.6306435948459245, 0.0475625057565362, 0.20191717468510842, 0.7961305744727132, 0.9735557233444961, 0.18709728948675097, 0.2411634263726562, 0.571251419991867, 0.008162101711289341, 0.16324203422578681, 0.8284533236958681, 0.9941563902930496, 0.9935115371802852, 0.07968788520213442, 0.09813415492485072, 0.4168856957333884, 0.0184462697227163, 0.026562628400711472, 0.058290212323783515, 0.027300479189620124, 0.14314305304827848, 0.1121533199141151, 0.019184120511624953, 0.9673913495685869, 0.9920857822065497, 0.42049159085715493, 0.577510602632928, 0.1264991112920699, 0.09063627664419716, 0.021236183656675497, 0.06747231262675717, 0.18176214830065196, 0.025642538766994332, 0.022398971810787413, 0.032252071432472586, 0.40850583835247534, 0.02359235965316543, 0.9829254167583067, 0.9957013912705107, 0.8414056464036325, 0.15581586044511714, 0.998571083502944, 0.9793501233955195, 0.978381922049075, 0.9945142300015317, 0.09064087775587731, 0.00986567376934719, 0.04377892735147816, 0.05364460112082535, 0.16709984946831805, 0.09002427314529311, 0.05056157806790435, 0.11777148062158209, 0.35824727874941986, 0.018498138317525982, 0.9954006526713245, 0.9957888573648493, 0.9930302206573537, 0.9955693967908389, 0.996653614143988, 0.017422470482719072, 0.33692809852871236, 0.04608524450267625, 0.06154066186637865, 0.035687963730731, 0.053391441801881025, 0.0660367832812739, 0.05704454045148341, 0.06940887434244533, 0.08008716270282154, 0.17619175794620737, 0.9932486462489852, 0.7181781984768418, 0.27719158537702665, 0.15339681799182425, 0.03484470800336478, 0.02603340253124955, 0.044457041245672305, 0.08130431867451782, 0.0452580690158646, 0.07289352708749873, 0.029237513612018724, 0.4806166621153763, 0.031640596922595604, 0.1778333526186579, 0.18266269286549047, 0.02244222820586897, 0.05795208296199075, 0.0585202406380887, 0.02187407052977102, 0.03181682986148512, 0.3323722405172999, 0.11448377173373664, 0.9919601098712417, 0.23395659532240937, 0.7622456815343015, 0.651692240118469, 0.07210212018331998, 0.2754670745465302, 0.9835872394903572, 0.9902505267555254, 0.12201790161198452, 0.0060671884779439815, 0.3134714046937724, 0.5578442739442938, 0.05385433606818984, 0.17053873088260116, 0.15158998300675658, 0.6233140748633083, 0.9911476428245904, 0.9956249629749874, 0.9930705337642847, 0.993592778442801, 0.04250043463311013, 0.6895695519222119, 0.14875152121588545, 0.05950060848635418, 0.05843809762052643, 0.9946416512804023, 0.9857294655729513, 0.8347247908796414, 0.045489089421233864, 0.04094018047911047, 0.07830621821798114, 0.9887800984648164, 0.9981488189152321, 0.3555376736983055, 0.6414091816043754, 0.9920346128913453, 0.9908121986683198, 0.39269811527469173, 0.0666662227913665, 0.28856255558598787, 0.009245680533109223, 0.24233415292044175, 0.9863328734619573, 0.9774221471227651, 0.8498849175862014, 0.1444248879558251, 0.9945423098142764, 0.9846601564996675, 0.9906585632978062, 0.9976189567238298, 0.9959755757066685, 0.9951913970669943, 0.9900828583226411, 0.20890094610643364, 0.35297056411087063, 0.4350902463733997, 0.9997306666434161, 0.9952068001545951, 0.9795832955718418, 0.9862177766112588, 0.9844205945555391, 0.9846262326532996, 0.410036022151528, 0.20438718642630013, 0.2763011964651835, 0.10850183970778896, 0.9835394038922479, 0.5791492069000217, 0.09714760889935847, 0.15693075283742525, 0.01619126814989308, 0.15070334201054328, 0.9390904448348582, 0.06058648031192633, 0.9978220670628923, 0.9905244308360834, 0.969061598771103, 0.9867641054842543, 0.06980229904792555, 0.07822671445026139, 0.11553483980346298, 0.17209877179057506, 0.5632323440418819, 0.986540619436723, 0.9958160724892089, 0.17482548984395352, 0.8238651208896309, 0.9626441818944895, 0.9940236093118554, 0.9932055394205328, 0.9978250531884872, 0.9814339815755863, 0.9944383430847599, 0.9856388678223027, 0.20599223660845994, 0.06197224067457905, 0.025749029576057493, 0.054116604532731004, 0.3478301113918275, 0.11914381481802874, 0.13049084480069814, 0.013529151133182751, 0.04146030185975359, 0.990419338842046, 0.9892279589998261, 0.9901455128594951, 0.9961865861928583, 0.9905557596730403, 0.9891278454977672, 0.007980761681188619, 0.9469971810898415, 0.04485188064828004, 0.9898374813500315, 0.992244048450353, 0.998254241578992, 0.996862055815646, 0.15866297577101313, 0.09933681961315605, 0.5091012005174248, 0.23040623438051475, 0.9876332860678563, 0.9969921251421305, 0.9975630813826974, 0.05862628528565834, 0.11236704679751182, 0.28946728359793805, 0.4830561631349557, 0.0555728329270303, 0.9968647091325789, 0.9963781089562056, 0.9915821747161543, 0.9946593621793981, 0.9920117232546863, 0.9952580305086997, 0.9861316023597566, 0.9252589648461966, 0.06853770109971827, 0.4101359945845561, 0.016255390029265942, 0.13879602255757842, 0.27634163049752103, 0.052517413940705346, 0.10503482788141069, 0.9887149025504005, 0.9975710928309883, 0.04403763399411479, 0.949954676158762, 0.9629944959282827, 0.9808262481044847, 0.06576938418141001, 0.06776239582327091, 0.13153876836282002, 0.7314352725629537, 0.9948006185884611, 0.26199239919424605, 0.3140125506588075, 0.422781958266527, 0.9905258930165151, 0.9739559730693965, 0.9936396907770951, 0.0665155388365382, 0.03750344210996303, 0.019813139227904997, 0.10437278700414239, 0.3067498519748863, 0.20839176795064362, 0.03361157547591026, 0.02618164826544589, 0.07429927210464374, 0.039272472398168834, 0.058024193453150345, 0.025474036150163568, 0.9944347112462363, 0.27342858927933783, 0.7222641980963641, 0.9977088769259229, 0.9912012206064458, 0.9633486728165185, 0.03127755431222463, 0.9888027787069954, 0.17817243174585456, 0.8182733902402209, 0.9920260026073517, 0.9997406300827572, 0.9991369906034687, 0.9938846422486012, 0.9891400728877888, 0.030258745072136762, 0.2320691889007099, 0.5827372726816169, 0.15488374596246274, 0.5889448248804731, 0.19358075023926413, 0.1427247904306439, 0.07382316746412615, 0.9825770873317892, 0.9985256428034464, 0.996360607470479, 0.9959208725083502, 0.9925868204167245, 0.9938325495469004, 0.9869470631419398, 0.993910152601647, 0.9933225283740574, 0.2845040080104137, 0.19508032581294632, 0.009113241497831069, 0.2899149951497509, 0.03417465561686651, 0.05012282823807088, 0.09084762618150347, 0.026200569306264323, 0.019935215776505463, 0.9882630469353499, 0.7509714313725206, 0.24546315394376889, 0.928782461200852, 0.0704131107769599, 0.9893426143969907, 0.9929447715520274, 0.9917255900729148, 0.9901481236985847, 0.9974715335472335, 0.7210830523953595, 0.27733963553667673, 0.9910744762826733, 0.9906178574887797, 0.8466202342378916, 0.15288033090957245, 0.1638448095493356, 0.8288619777201683, 0.9742761477618905, 0.9906830076043665, 0.9928151122617648, 0.9954199882305126, 0.9842904042488189, 0.9963413064031134, 0.9820639639659495, 0.9775774270530769, 0.9941799858994171, 0.9941808231936037, 0.9913169519316828, 0.996525067549618, 0.9825474936612992, 0.9873528364042612, 0.05098201937843185, 0.01991485131969994, 0.2684521957895552, 0.16250518676875153, 0.05337180153679585, 0.04938883127285586, 0.348111601068355, 0.04620245506170387, 0.030324678996238183, 0.03551179514033156, 0.017556393103085266, 0.5873411510850343, 0.19671140454138716, 0.1320719572073005, 0.20953082777461463, 0.7898271983135297, 0.9950425207187973, 0.07419272292027848, 0.01566619248914247, 0.18296930473168277, 0.06148241580644591, 0.1531148624410528, 0.016848546639266427, 0.12532953991313975, 0.026307379840258105, 0.005320593675557819, 0.03340150474100186, 0.03901768695409067, 0.10670746204868736, 0.04049562964174562, 0.03724415572890473, 0.08187802489608421, 0.9865148892270925, 0.07860296056879644, 0.014511315797316265, 0.1257647369100743, 0.06651019740436621, 0.29385414489565437, 0.2841799343641102, 0.03748756580973368, 0.027813355278189508, 0.06892875003725225, 0.9930875034007571, 0.9973380075872689, 0.991720785392718, 0.9825767514988545, 0.9971183019111538, 0.9864787292518735, 0.9806864105731217, 0.0846586421372336, 0.06304366967666333, 0.13509357787856427, 0.7060891003786293, 0.00990686237776138, 0.048167976502666555, 0.005666820765019594, 0.33292571994490117, 0.14875404508176435, 0.08358560628403902, 0.015583757103803884, 0.11616982568290168, 0.25075681885211704, 0.9887298067118917, 0.9898347732875088, 0.9947679813578996, 0.996638263288983, 0.9923970306810217, 0.9834926955338144, 0.6485214650995824, 0.05158693472383042, 0.2972390048373086, 0.9776729820566523, 0.9914334320739087, 0.9725232597307819, 0.9974516319600863, 0.11603736328055245, 0.8818839609321986, 0.994566599592838, 0.9978137311798524, 0.9999353893071625, 0.9977840363641977, 0.2796791788922322, 0.0882954101957295, 0.003467097258994614, 0.004391656528059845, 0.41790078961748417, 0.176590820391459, 0.029354756792821065, 0.9920358871957201, 0.9736696491774043, 0.995984818255159, 0.06447132575728909, 0.06411315172530414, 0.5232922607299964, 0.05336793076575596, 0.2940608802596352, 0.99568450144489, 0.14180093281780057, 0.39935772916033624, 0.2945986726704509, 0.03125408315167849, 0.09607736672553017, 0.035884317692667894, 0.9900152510692143, 0.09029196486812154, 0.13693284738278033, 0.0849103245779686, 0.05262048283705096, 0.14530428783412935, 0.09208584496483918, 0.002391840128956862, 0.3683433798593567, 0.026908201450764696, 0.01209995563504219, 0.9868186040134408, 0.996209518817178, 0.9910792129216656, 0.0710011234886348, 0.10292780317815516, 0.07719585238361637, 0.3888383675619195, 0.35977079351623675, 0.9498536173811076, 0.41767549887121297, 0.2904525020886021, 0.06001084753896738, 0.15602820360131517, 0.06961258314520216, 0.13599807080365206, 0.10010969100824388, 0.08310993215778738, 0.6573240088843183, 0.020777483039446844, 0.9953442757988565, 0.7878876569851787, 0.209393566496061, 0.9919489157579504, 0.21811361486626113, 0.6153484665221333, 0.11332159878526415, 0.051177496225603164, 0.9359196969547782, 0.06224096506842121, 0.9939700966492506, 0.9875591099140778, 0.9846920094478833, 0.6055330707721873, 0.3901630610645537, 0.2818635663433413, 0.7135786489704843, 0.9996823682521494, 0.9946119989214582, 0.9924815702025974, 0.13980122689179558, 0.8470309629326438, 0.983080137987237, 0.9924218589111299, 0.016895465668397322, 0.06382731474727876, 0.5509799081860682, 0.06382731474727876, 0.3031797450495741, 0.996588009209666, 0.9970365533917974, 0.2580570530674029, 0.010547290997305295, 0.028126109326147453, 0.06820581511590756, 0.05168172588679594, 0.08015941157952024, 0.04570492765498961, 0.1051213336064761, 0.035860789390838, 0.14520103939623621, 0.007031527331536863, 0.06609635691644651, 0.05168172588679594, 0.04359546945552855, 0.002461034566037902, 0.9935284664059479, 0.9896149887243911, 0.9938803040490436, 0.1558942144578427, 0.019635530828659577, 0.1404237962292018, 0.02082556300009349, 0.2290811930010284, 0.0743770107146196, 0.14220884448635268, 0.07199694637175177, 0.019635530828659577, 0.1255483940862779, 0.9670201240398204, 0.9901394462097276, 0.991112034535919, 0.9882043788034518, 0.36961444468578397, 0.12495862008949991, 0.08418264932345257, 0.23018693174381563, 0.13416609735925253, 0.0368299090790105, 0.019730308435184196, 0.9937994626282628, 0.9937411074628467, 0.9993265765600007, 0.9926852190640688, 0.9959107108424156, 0.9843237276528405, 0.9839677004336354, 0.9944292568439338, 0.9839170683303935, 0.9978554112192182, 0.9937653178783011, 0.9973771075307496, 0.9903102879047154, 0.9833425113587831, 0.9998250890637295, 0.22068053244816516, 0.33670844126111793, 0.14787870731062613, 0.1228530799195971, 0.04322608367541379, 0.12512813695514519, 0.9882073251791074, 0.997346847022235, 0.9902127959820054, 0.9860542971471069, 0.11242701508289857, 0.887476968618987, 0.7836829385167602, 0.21434063275672074, 0.0837332240313271, 0.02114475354326442, 0.13955537338554516, 0.06343426062979325, 0.30617603130646875, 0.047364247936912296, 0.008457901417305767, 0.028756864818839607, 0.06850900148017672, 0.08288743388959652, 0.10741534799978325, 0.04144371694479826, 0.9850421522954981, 0.9781985361632212, 0.9953089912606488, 0.7798432126406895, 0.21798027148510837, 0.9910610624517223, 0.9922671810362598, 0.9771729518023038, 0.9958661595540593, 0.9877718243982205, 0.9900152510692143, 0.9920459395393454, 0.8948889073116156, 0.10288829682994512, 0.9941881934092985, 0.0958062423751044, 0.14315875297429395, 0.4228689318625298, 0.008809769413802704, 0.29182361183221456, 0.037441520008661494, 0.08431554699739627, 0.9148236849217496, 0.9847849818429475, 0.1646207541091667, 0.8292008355128397, 0.14975186578467456, 0.05032147716651007, 0.010306808576273148, 0.06123456860021106, 0.016975920007979303, 0.10124923719044798, 0.06002200288535539, 0.17036548293722087, 0.23220633439485974, 0.14732673435496324, 0.14579873528517406, 0.32652841756575446, 0.3121004177198258, 0.040246525886011596, 0.11466463035448586, 0.05923073620960197, 0.2987748530069815, 0.26419853470647026, 0.0762452147139478, 0.15071728489966424, 0.054080908111055995, 0.1551501462202426, 0.06887858169242117, 0.22100609665338017, 0.07036516978650222, 0.3597543187676099, 0.0332004674344764, 0.1590649260666705, 0.06144564122201601, 0.020316703952440777, 0.006441881741017808, 0.9983363949705681, 0.9910313865718685, 0.9958466298869693, 0.9905897471206918, 0.9985186746289899, 0.9945932887072207, 0.035566486535563206, 0.03730994175789474, 0.0997256387173635, 0.17364814014422036, 0.3689151250453517, 0.0767120297825873, 0.011855495511854401, 0.07985024918278406, 0.008368585067191342, 0.02161884475691097, 0.08612668798317757, 0.9974113280872006, 0.9865415448502359, 0.06696581444280138, 0.04198650270620087, 0.04889567403760101, 0.08344153069460172, 0.1886735248190039, 0.015944241534000328, 0.5532651812298114, 0.03213829428595755, 0.09313546507359126, 0.16364294743564098, 0.02803902205560582, 0.017134957922870224, 0.3997610279039005, 0.029350789169318374, 0.002213607004389933, 0.011232005911163735, 0.0937093631858405, 0.06370269045966585, 0.06575232657484172, 0.9986593486708064, 0.9893824323193465, 0.9968082075537028, 0.9888620634562998, 0.9869393558193709, 0.9915658649575568, 0.9942752494617344, 0.9936606601988893, 0.16867043826683842, 0.09054939317482906, 0.34740192021976896, 0.39297252985677444, 0.9974023743229724, 0.08808525537572065, 0.5632820277973715, 0.13212788306358098, 0.21557707236689527, 0.988971044998844, 0.2352405302379566, 0.7615002731414265, 0.04334030910022651, 0.28743620091942673, 0.006133062608522619, 0.22079025390681428, 0.09853787257693009, 0.04293143825965833, 0.01676370446329516, 0.03270966724545397, 0.09404029333068016, 0.07523223466454414, 0.026985475477499524, 0.05519756347670357, 0.37993348772017194, 0.27712795574883126, 0.04618799262480521, 0.2950071787003688, 0.8729785311584533, 0.1259521263860455, 0.9942544820294655, 0.2018445751389247, 0.5850071584534936, 0.10149246998510902, 0.1106153886354559, 0.16954064725197954, 0.8302314901690449, 0.32257435202245294, 0.673949985475482, 0.9777044129281045, 0.525204175934251, 0.2995196228802758, 0.11841473462708577, 0.055724581000981536, 0.9933181772547252, 0.9892750919437839, 0.06870782703937596, 0.929049313445475, 0.013136345045290041, 0.17953004895229724, 0.8056958294444558, 0.9882457226156036, 0.9992643574943729, 0.9534982822719354, 0.995509253920617, 0.9860114167475279, 0.28065622685086833, 0.7172325797299969, 0.9947142238563573, 0.99296031779873, 0.25945591600388823, 0.1211830026844508, 0.6167904110990636, 0.9972442811882699, 0.9914075187905562, 0.9931833518700288, 0.9981508296063625, 0.9940884598372279, 0.9923217678614074, 0.9928319293470619, 0.9875271475227341, 0.08404834628960188, 0.910523751470687, 0.9958980234418371, 0.9967451834912732, 0.9929989027367184, 0.9963748664303316, 0.9932379488897122, 0.14617843156952884, 0.37712305422671344, 0.0432480566773754, 0.05968231821477805, 0.0441130178109229, 0.007784650201927572, 0.09168588015603583, 0.05103270687930297, 0.05189766801285048, 0.12714928663148367, 0.9984402705459803, 0.018795792840541305, 0.030878802523746432, 0.5289673127980911, 0.09397896420270653, 0.07384061473069799, 0.059072491784558395, 0.19467071156274926, 0.756330001207589, 0.12843339643147736, 0.11463869829624461, 0.8484712638731968, 0.14860231175180283, 0.9921571143281893, 0.06813468958010152, 0.03406734479005076, 0.7429481219967236, 0.15446974144529868, 0.983505300000459, 0.9911817089651895, 0.21485624498638745, 0.15570278513254027, 0.037395865424845916, 0.43923143753546295, 0.15162323617710255, 0.0021944447986883466, 0.1601944703042493, 0.8053612411186232, 0.03181944958098102, 0.06695625616370929, 0.11313298455247431, 0.2124129505883191, 0.6079935904520728, 0.9861744365862154, 0.02963830209535253, 0.01778298125721152, 0.7439213825933485, 0.04939717015892089, 0.02568652848263886, 0.13238441602590797, 0.997740381686816, 0.9978585861674558, 0.9904120022732161, 0.9977900510884804, 0.9969780049493908, 0.10180460243525957, 0.8008628724907086, 0.0950176289395756, 0.015176688244689842, 0.056258413320833034, 0.10100347693879792, 0.032970046876395175, 0.11120849144815832, 0.07143510156552288, 0.03715671949561996, 0.04736173400498037, 0.05756674851434078, 0.05678174739823613, 0.11120849144815832, 0.010205014509360412, 0.29175874815222713, 0.9944617536006135, 0.0422110440228562, 0.5673597250456723, 0.017100884501567385, 0.16624657338232596, 0.114510986092774, 0.07771161438054039, 0.014719748684893444, 0.9955763167594646, 0.9977592274986622, 0.9903552914378767, 0.9874367452474284, 0.923345731123611, 0.07296957145657716, 0.9902492302350158, 0.9914085163246018, 0.9985378848911061, 0.9817290062137242, 0.9897805999867371, 0.8377112653792632, 0.15286701922979254, 0.9966615493129438, 0.9873865259306819, 0.997468385064856, 0.9861407315426073, 0.9903304950445052, 0.8049010561872306, 0.05993944035436824, 0.1341501760312051, 0.9985239811931627, 0.18466158376838954, 0.6968776435068986, 0.11651266594910292, 0.31149159641848045, 0.6876154549180289, 0.9955377199046661, 0.993436417781404, 0.9940001181159073, 0.9984160705786763, 0.0715012083287502, 0.009750164772102301, 0.8580144999450026, 0.05525093370857971, 0.8093254250697773, 0.19020302568243103, 0.9908030949497297, 0.9942931636932159, 0.9994594041907252, 0.07441346717051694, 0.13562454500432927, 0.1620293236777385, 0.43207819647396933, 0.10561911469363695, 0.09001629093207694, 0.6347247248266592, 0.23802177180999717, 0.12396967281770686, 0.9980993495134276, 0.9966029557719803, 0.9876641898487588, 0.9984406553403544, 0.03730870856745995, 0.0051544926310306514, 0.020249792479048987, 0.054367624655870916, 0.02552701112510418, 0.002209068270441708, 0.01276350556255209, 0.07731738946545977, 0.17353458524469859, 0.06541296600807946, 0.037063256537410876, 0.05989029533197519, 0.004786314585957034, 0.006013574736202427, 0.016568012028312807, 0.141993999383392, 0.08455822435190759, 0.04859950194971757, 0.12653052149030003, 0.9873171728100475, 0.9963711742411415, 0.9929876182845185, 0.9965120776662344, 0.9935944298600827, 0.7496083615525564, 0.24235458305834529, 0.9968387048815018, 0.9850132386678088, 0.9931470938209597, 0.17198531415313617, 0.759906742676623, 0.06830622406082004, 0.995372670111272, 0.9992419781125105, 0.9941593110692594, 0.9758579463841653, 0.017552354672309273, 0.041746140842249084, 0.013757250959377538, 0.27656818307990017, 0.01944990652877514, 0.023245010241706877, 0.008538983354096403, 0.03937420102166675, 0.062144823299257156, 0.023719398205823344, 0.026091338026405675, 0.329225247096828, 0.11859699102911671, 0.7590449161642929, 0.23848370676783529, 0.9976203479628537, 0.9865063886396537, 0.9977063470964198, 0.9755019483496107, 0.9988542042631149, 0.9810056516362071, 0.051482919956245946, 0.9483026737619623, 0.9920450467273997, 0.9869941837449921, 0.14086450309882315, 0.8560227496005407, 0.983487136769642, 0.15464181899493215, 0.07046968966857668, 0.17519547848160036, 0.5980136164930604, 0.9951907863440175, 0.9888724199517428, 0.12934846317924695, 0.7463457316952343, 0.09399434972158155, 0.030084990778878724, 0.5759717027138082, 0.2642908129541208, 0.15675179251071994, 0.9902880126794877, 0.9953478859951665, 0.04364548422846196, 0.09267580092666924, 0.10287864139566034, 0.047046431051459, 0.05384832469745308, 0.03769382728821715, 0.06121704281394665, 0.04392889646371172, 0.165229333150606, 0.012753550586238886, 0.045629369875210234, 0.015020848468236911, 0.02182274211423098, 0.022672978819980243, 0.08162272375192887, 0.0518644390507048, 0.01218672611573938, 0.0887080296331727, 0.6616965356412176, 0.33508991227984736, 0.9745612797664389, 0.9934503996430064, 0.13823155771206308, 0.5152267151085987, 0.16022294189352765, 0.18221432607499224, 0.9782013018694159, 0.0014572567804024355, 0.004371770341207307, 0.042406172309710874, 0.007432009580052421, 0.12240956955380458, 0.06018470503062059, 0.046486491294837694, 0.035119888407698696, 0.012678133989501189, 0.09311870826771564, 0.04138609256342917, 0.005100398731408525, 0.14091673066491553, 0.024481913910760916, 0.04677794265091818, 0.019964417891513368, 0.024773365266841405, 0.027396427471565787, 0.04473778315835477, 0.005829027121609742, 0.010929425853018267, 0.020838771959754827, 0.10681692200349853, 0.05391850087489011, 0.9991938704589842, 0.9935788065006436, 0.09075025688513169, 0.1686671441097397, 0.07241687165581216, 0.015583377444921604, 0.038500108981571024, 0.06325017904115239, 0.04125011676596895, 0.42716787584314514, 0.08066689500900595, 0.9982106314607405, 0.2730666803648432, 0.2580480129447768, 0.4683093568257061, 0.9935925214541756, 0.989258027120911, 0.9804089070503342, 0.062216896309006, 0.0155542240772515, 0.22775828113118268, 0.6932739874432098, 0.995111716767338, 0.9989422940667894, 0.9999145366631598, 0.9929051608282387, 0.9971998562167864, 0.9928315697157183, 0.06925929322083865, 0.3637395473598119, 0.2585680280244643, 0.27806323648662634, 0.015390954049075258, 0.014364890445803573, 0.9822304210755244, 0.45016076265642074, 0.5466237832256537, 0.041469946148554704, 0.956248170013732, 0.9973947408357299, 0.9919369643744819, 0.9907948940944505, 0.06477761288936375, 0.1536154819947769, 0.04071735667331436, 0.05034145915973411, 0.05626398376676166, 0.0011104733638176642, 0.13029554135460594, 0.10253370725916433, 0.034054516490408374, 0.012585364789933528, 0.0207288361245964, 0.14917358853950624, 0.18396842060579305, 0.9666846763878617, 0.9897247011413279, 0.05404168860292501, 0.12103086510030081, 0.08106253290438752, 0.11709032530633753, 0.3906763738586454, 0.18689417308511566, 0.049538214552681266, 0.045554432640497355, 0.6849434336303352, 0.06995859298362093, 0.19848717079073847, 0.9700281291971404, 0.9806214253654942, 0.9984051253448354, 0.9908913426492972, 0.9950693225163897, 0.7772700165084474, 0.19565762484522986, 0.025462293644242243, 0.9948973291340922, 0.9961955334564573, 0.5902700476241257, 0.4075674138357059, 0.9939135048693041, 0.9927717805537924, 0.999510741313289, 0.997238198618084, 0.9914733467980558, 0.9137377060034908, 0.9903703203972564, 0.9904714946544501, 0.9920768817577535, 0.9958459584310383, 0.989776874396405, 0.9804880957291794, 0.01631449823771544, 0.18578551054377992, 0.04694580105138525, 0.010321417252432219, 0.6665637851409452, 0.07358171654153291, 0.9976250694812323, 0.9910716400912803, 0.9853209114044731, 0.9947665129209581, 0.9887467837723901, 0.991860344248873, 0.9859667690612719, 0.9943405361920676, 0.9968159590265725, 0.9964608617340228, 0.9922885496092658, 0.9919897973020287, 0.9961811060677109, 0.25841957618849987, 0.05617816873663041, 0.027928575314781975, 0.2105878782355974, 0.2606667029379651, 0.03338588313491179, 0.07030296544755463, 0.08218063540901363, 0.6840083188797488, 0.1633930878822819, 0.15057794373465197, 0.9895540367014105, 0.248144317439823, 0.7444329523194689, 0.9845246995106546, 0.9959085201313399, 0.9878130060482029, 0.9877951466781086, 0.9904819148393071, 0.9882822838755935, 0.9837808272484404, 0.9916004711542358, 0.9972364227947098, 0.10431462244658321, 0.8944589641128665, 0.9941900533740081, 0.9833280347222124, 0.9953233467486583, 0.9919050663128259, 0.9914600661753035, 0.9874556763336786, 0.9872757463188395, 0.9949302010432745, 0.048776068239788924, 0.9492573280512768, 0.9913461519508465, 0.9934093348538643, 0.996622012321004, 0.8089486386348348, 0.19008082765736553, 0.974237062031598, 0.9912800892044247, 0.9937111420793092, 0.9964807477719126, 0.1340691555861967, 0.3462368484070711, 0.2225808311188314, 0.0741936103729438, 0.2225808311188314, 0.9905119994822783, 0.9039856049604975, 0.09425442326602344, 0.9928585208796372, 0.9831744785041214, 0.9842935281561713, 0.9954143694134349, 0.9972622658934418, 0.9914559063762047, 0.17792895279398455, 0.8218380283779458, 0.9870016919278914, 0.2251263886024624, 0.06559717185140715, 0.30392062461332425, 0.1606936635886542, 0.07646534233566395, 0.05666974609648191, 0.11101059851776594, 0.9933431646519284, 0.08532681712930215, 0.6202113424174649, 0.29418648890848953, 0.013160963461149991, 0.2580581070813724, 0.08180441994479505, 0.014967370210719599, 0.599468982750028, 0.03225726338517155, 0.5667203050704729, 0.04012179150941401, 0.09278164286551989, 0.29840582435126667, 0.08751109198134058, 0.9107635869169148, 0.7795418305240122, 0.21961171623902934, 0.9901969928843085, 0.9975346739648386, 0.9908471598028886, 0.9973200136949838, 0.9897338669734776, 0.035228993161163624, 0.9511828153514178, 0.9857202248846367, 0.028637825008909764, 0.021649647614391115, 0.18429605089465853, 0.013428262444369172, 0.04042181041927455, 0.06700428913567882, 0.03521493314492732, 0.02781568649190757, 0.0068511543083516185, 0.07782911294287438, 0.011235893065696655, 0.014661470219872463, 0.0056179465328483275, 0.05617946532848327, 0.08495431342356007, 0.040969902763942675, 0.07892529763221065, 0.20430142147504526, 0.9941706392873949, 0.04102575215806598, 0.957267550354873, 0.9850845814168379, 0.9760719981246833, 0.03377418768528372, 0.06896217857599793, 0.1281848239590303, 0.011938782623635175, 0.03346000919518806, 0.6391961380996254, 0.08435692459068539, 0.9949534307343468, 0.9850442613795902, 0.019108950099888722, 0.9745564550943249, 0.9873272923817964, 0.4841246690714419, 0.1483607856831838, 0.25767925934447716, 0.10671565285983398, 0.9872996373328052, 0.11898239858052245, 0.06864369148876295, 0.2114225697853899, 0.12447389389962348, 0.06681319304906261, 0.05491495319101036, 0.20227007758688817, 0.04667771021235881, 0.10342316184306952, 0.9857815914721028, 0.11420528218703335, 0.11740729944461373, 0.012808069030321497, 0.16010086287901873, 0.09392583955569098, 0.08218510961122961, 0.24762266791954896, 0.09819519589913148, 0.02881815531822337, 0.021346781717202494, 0.02241412080306262, 0.030083644279841584, 0.16427253126492444, 0.2159293151928103, 0.025927351320126628, 0.05442764590102918, 0.05561515817523345, 0.24739839045922354, 0.039583742473475764, 0.166647555813333, 0.9867589129551241, 0.9982116559665968, 0.10022431884045514, 0.1252803985505689, 0.24262049015074968, 0.08284386918238325, 0.09634239099804315, 0.09757754985699242, 0.09995964194210886, 0.10507672864347013, 0.02223285946108688, 0.016498193330250977, 0.01120465536332553, 0.8793423160595596, 0.11687461162816933, 0.9977096190391016, 0.9925376560859859, 0.9974267398969329, 0.9995335160819044, 0.9970675461131168, 0.004660191104936015, 0.914562504343693, 0.07922324878391226, 0.9939144416510055, 0.9890345289765772, 0.9956132971229162, 0.30909689175586175, 0.15939974238530985, 0.009702593014757992, 0.26890043498043575, 0.16321147535539335, 0.08940246420741292, 0.9630601131785782, 0.9995215502648, 0.1201507771285445, 0.07437905250814658, 0.006579685414182198, 0.10527496662691517, 0.0024316228704586384, 0.20897653022000418, 0.4507084508714806, 0.03146806067652356, 0.9925162978544372, 0.9868196269367385, 0.01255079187269652, 0.9852371620066768, 0.9873039327084592, 0.04740506178694681, 0.9481012357389362, 0.9942419224944372, 0.052151458497365646, 0.15081637997886824, 0.06624644728043745, 0.4876866118942842, 0.0831604338201236, 0.1113504113862672, 0.04933246074075129, 0.035656053011548935, 0.02354645010196628, 0.05785699167911715, 0.06054801454791329, 0.10898642618624392, 0.5556962224064042, 0.08678548751867572, 0.07131210602309787, 0.0339106014282433, 0.12099919145986815, 0.022350169123160357, 0.049324511168353895, 0.05086590214236495, 0.2134826499005317, 0.01849669168813271, 0.013872518766099533, 0.09710763136269673, 0.18419622139432157, 0.19498595821239897, 0.991725460706343, 0.08815618270946204, 0.040342659883991105, 0.5349137866099561, 0.08068531976798221, 0.10907459894560557, 0.14344056847641282, 0.9909324074749055, 0.4376657678419799, 0.07951955500227521, 0.19540851888156005, 0.1436283435312413, 0.1436283435312413, 0.24336896281669165, 0.08905615043134457, 0.6671534028003313, 0.9976338034845943, 0.9971834657266737, 0.9848339672698418, 0.04301835437480939, 0.7982294645103519, 0.15534405746458943, 0.9985232406615104, 0.9982247749338404, 0.1303082927403372, 0.8694708498363879, 0.9965150456535549, 0.9968530377603438, 0.9945142212481823, 0.9786954190707391, 0.9995667779685244, 0.9936486427006039, 0.6604439470391889, 0.33772701837231245, 0.9975839472138391, 0.9998142905675066, 0.6251526122644517, 0.37397522340819883, 0.9979640037836535, 0.993794835176727, 0.9013240847254143, 0.09506152456088353, 0.9973975132979462, 0.09123175435866217, 0.9043843475554336, 0.9903667378521944, 0.4537055141360695, 0.2437191330582232, 0.3019081302243734, 0.9995017808078606, 0.26237601535468513, 0.593393188760596, 0.14369737760256593, 0.827089596855945, 0.17221591605767622, 0.9941567442259993, 0.9940295720186826, 0.9851434540933788, 0.9971127124216128, 0.993078705858167, 0.4142181411346617, 0.04581517936238479, 0.04807301161022306, 0.13133057574925908, 0.07253286096180427, 0.020320490230544386, 0.09257112216136887, 0.09558156515848655, 0.01608705476584764, 0.0635015319704512, 0.9956812338710083, 0.9907569359811207, 0.9850701060786448, 0.8570725175793442, 0.14272540159992103, 0.9970428846984405, 0.8496345347394216, 0.10042663392815122, 0.04916282916147988, 0.9964552646042303, 0.9962736733384671, 0.9874599538127655, 0.03146314713539786, 0.15731573567698934, 0.5892189372629055, 0.22024202994778505, 0.9868402271765785, 0.7382421196919637, 0.25800157124182815, 0.9963435665793913, 0.1334923428683165, 0.8662386336491485, 0.2402271226023985, 0.07347152546946209, 0.023114637226347625, 0.11227109509940275, 0.08750541235688743, 0.18821918884311636, 0.1832660522946133, 0.08998198063113896, 0.9808141442676, 0.35009462265934516, 0.6492045915333489, 0.8764979894086691, 0.11657855031543875, 0.994155010696626, 0.9991012819037066, 0.991459112919562, 0.9805673478266063, 0.9910500700204075, 0.9933109309216833, 0.22643899773118664, 0.00019453522141854522, 0.058360566425563566, 0.03559994551959377, 0.04727205880470649, 0.18947730566166304, 0.020231663027528702, 0.042408678269242855, 0.3799272874304188, 0.05566792105867938, 0.7164219405812651, 0.22509202862857317, 0.9977956537089842, 0.9934727536865333, 0.9874101050007125, 0.02120008930209155, 0.0417766465658863, 0.16461245811035793, 0.09477686982111518, 0.043023710642479916, 0.06796499217435233, 0.023694217455278794, 0.09540040185941198, 0.029306005799950085, 0.044270774719073536, 0.12408287562106526, 0.023070685416981984, 0.22634212990174216, 0.9825192654229203, 0.9634291715741443, 0.9846214309389151, 0.6738194583116868, 0.32596320365980513, 0.9896336904963795, 0.9970469583670365, 0.9969314395161474, 0.15921531961847873, 0.8407108081077339, 0.9982085492615029, 0.956930719996805, 0.03527855188928314, 0.06240937783594052, 0.9326734798815556, 0.03184043335854177, 0.09222746214198305, 0.2569193588240956, 0.11089254376595581, 0.33597146923150967, 0.12187200354476331, 0.048309623026753026, 0.06938683137882981, 0.2095210202419567, 0.14217497802132775, 0.419722303536647, 0.15850129128693477, 0.47892078375831865, 0.5208539399399226, 0.10647655591794733, 0.07220823907079187, 0.14441647814158373, 0.40632432833055765, 0.08689466057671565, 0.18235640036522013, 0.9932354622845876, 0.9855578693125454, 0.9925181898652661, 0.9943637186978217, 0.992268484992071, 0.9826120687800021, 0.3788990689824596, 0.34719835006360844, 0.11623596936912108, 0.1569940365505012, 0.9940010661843022, 0.002410679742775906, 0.1393372891324474, 0.03567806019308341, 0.369798272541824, 0.05592777003240102, 0.03760660398730414, 0.09449864591681552, 0.16826544604575824, 0.09594505376248107, 0.997788261150901, 0.9943206498121059, 0.9953380221993947, 0.9931525405046449, 0.9973195462801813, 0.9904007857576712, 0.993944823667654, 0.997709532977165, 0.9969689699606615, 0.9971759944786344, 0.011533446038181877, 0.141284713967728, 0.8462666030515952, 0.8811148268583815, 0.11775267271379292, 0.04095259934340273, 0.033218517114462894, 0.10548781007340889, 0.09940197487686607, 0.01229845862634695, 0.03575428177968907, 0.06681739892870972, 0.05718149320085025, 0.1764892206997418, 0.01546816445787967, 0.027005893684658767, 0.14390464475158546, 0.0035500705313166454, 0.17560170306691264, 0.006846564596110673, 0.9785661507226935, 0.5896878840121268, 0.14320991468865935, 0.07734867050029196, 0.18839379151556257, 0.9911557446222936, 0.2010013302366672, 0.2297158059847625, 0.5690687011895252, 0.980593404167097, 0.9770829800240354, 0.6679104741945389, 0.33094663135765434, 0.9121532803343334, 0.0793176765508116, 0.8008182677617532, 0.19340516655378193, 0.9981948104350237, 0.9955347697762852, 0.1262473793014135, 0.04233445054418656, 0.0861808457506655, 0.08996070740639645, 0.15421835555382246, 0.10281223703588165, 0.11415182200307447, 0.2751739285372126, 0.009071667973754263, 0.9962976304875071, 0.9937839034274051, 0.9929316210453757, 0.9947032119398302, 0.7991200394094231, 0.199577187507328, 0.9889712705296452, 0.9881059034296307, 0.01692475857805971, 0.19928438259770306, 0.03952210107513943, 0.03561638755712565, 0.015529860893054788, 0.01106618830103904, 0.0020458499380072177, 0.028734892311101375, 0.025294144688089236, 0.3059475589110794, 0.23025111120481231, 0.005486597561019356, 0.07160474783025261, 0.001208911327004265, 0.01162414737504101, 0.8588931955940238, 0.13992367484547355, 0.9794737058741138, 0.9991433178732158, 0.98192686051015, 0.9966994880494155, 0.9661613033883326, 0.9892031841518548, 0.9960403476553281, 0.02271608727172812, 0.025871099392801467, 0.23157788968678386, 0.7193427636047237, 0.9939043180579658, 0.9992395461620149, 0.9954045593778811, 0.9958332130546786, 0.9978565236480271, 0.997138730600619, 0.8246363412519769, 0.1695513972667616, 0.03530548924276684, 0.33223370646398537, 0.005431613729656437, 0.043452909837251495, 0.12673765369198353, 0.009957958504370134, 0.4472028637417133, 0.9980597864368156, 0.9880956012130829, 0.17092713147714467, 0.8261478021395325, 0.05077619883202447, 0.02364918849710729, 0.05703627814008229, 0.4590724825909062, 0.10433465513429686, 0.23718744933863486, 0.06816530802107396, 0.9936625937538435, 0.9938709297690359, 0.9992737955740943, 0.999694828954877, 0.9895439309950983, 0.983764544143955, 0.9882031825400373, 0.5303686893386232, 0.1716800381674156, 0.29430863685842673, 0.9976450829904396, 0.9973764787962539, 0.9915898131166377, 0.018108752308916044, 0.23809655813574798, 0.13212682240209114, 0.03219333743807297, 0.029510559318233553, 0.06975223111582476, 0.04091236632755106, 0.027498475728353993, 0.1254198771024926, 0.02280361401863502, 0.007377639829558388, 0.04694861709718975, 0.07109362017574447, 0.13749237864176997, 0.9879216639985964, 0.9972680797265098, 0.16848848146442746, 0.8262415917967115, 0.994658706045075, 0.7041344300221313, 0.2948786318620601, 0.06055795523925682, 0.014439085412918886, 0.012337875222232928, 0.04407153682002854, 0.11599757796274016, 0.0033403854313469065, 0.0015624383469203273, 0.3020354956150122, 0.012337875222232928, 0.14234352112287946, 0.011583594640961047, 0.09406956392147901, 0.08517982849934612, 0.00948238445027509, 0.07090237463955691, 0.019611295113068933, 0.9917230306459611, 0.9948464004478615, 0.9912931939771049, 0.9910338121637121, 0.9926292549609146, 0.9976418625427632, 0.9906908843524105, 0.9864211021025602, 0.9941050524043002, 0.9982650232505786, 0.9960249531345916, 0.9943130595877168, 0.14245670507856634, 0.8567187958197114, 0.9809367117143333, 0.15661657255515193, 0.8406624850386832, 0.9969820622473262, 0.9670438100075057, 0.02661588467910566, 0.998567628582246, 0.5371033266539536, 0.2535035097784824, 0.2083590491329992, 0.9856022502418715, 0.7329566522549272, 0.052700189046428654, 0.09207389350640409, 0.08480490191379324, 0.03695070726243848, 0.9822865993755074, 0.9984835327112068, 0.9912629847811224, 0.04025233714487948, 0.9583152574107845, 0.6223111615478512, 0.068476999218935, 0.2745586096949223, 0.03448247941666086, 0.11637481642579892, 0.32787759482621354, 0.010623427225591602, 0.3500902153888142, 0.10816580447875086, 0.00627747972421322, 0.08064147030335445, 0.06128766013243974, 0.7383703815955835, 0.19962266443137516, 0.2750624808268773, 0.7223379931279734, 0.9910982929467226, 0.08641991265138747, 0.9113372606873588, 0.6160472427220444, 0.009314803670024038, 0.059699423521517705, 0.06859082702472247, 0.24599549692199849, 0.049550111968972396, 0.19643080101985486, 0.5963709904837035, 0.1557289233310561, 0.9982567108322986, 0.9815878734760924, 0.9958599825657253, 0.6340119124896686, 0.11148938291661545, 0.20954631006014468, 0.042983858473875834, 0.03326921334464265, 0.017696390076937577, 0.1649303555170582, 0.04317919178772769, 0.024067090504635104, 0.2328844934124985, 0.45231973036652445, 0.019819956886170085, 0.012033545252317552, 0.9988893284037825, 0.989575247874363, 0.014947132076952868, 0.1345241886925758, 0.12051125237043249, 0.01961811085100064, 0.12705062265409936, 0.5829381510011619, 0.6710535985349108, 0.06473185837957338, 0.26108516213094596, 0.5800289963553132, 0.17572307032439294, 0.07714671380095299, 0.16572257038723237, 0.9933054690587065, 0.5165894991934351, 0.337002591748507, 0.1452215115758369, 0.9840894171494796, 0.9733926595666603, 0.9849092287711935, 0.9708114666419563, 0.9891083990664651, 0.9869423273109669, 0.9242953608369084, 0.09821793587397623, 0.10389527320773208, 0.23049989575048754, 0.1141144804084926, 0.04144456253641771, 0.15839771161178826, 0.10900487680811234, 0.14420436827739863, 0.992121376224307, 0.990137790546667, 0.9951102337719437, 0.9971119099011561, 0.9941662747456529, 0.9979065078971734, 0.057665569401824913, 0.09414786841114271, 0.8473308157002845, 0.9956892870911953, 0.986531720949188, 0.9966097505393663, 0.9990544023637041, 0.6374286805281318, 0.06327984479819226, 0.08797441837797461, 0.20990387542814995, 0.595387466891583, 0.4031498161424556, 0.9982465475924214, 0.9776691268885414, 0.04975788336474606, 0.20311761129820843, 0.04560590104424407, 0.024055135666400412, 0.0009226627378893309, 0.04217886801779799, 0.23488357127411252, 0.02220981019062175, 0.027284455249013073, 0.08910285868759825, 0.058127752487027846, 0.12647069957211615, 0.0035588419890017053, 0.018914586126731286, 0.05377805672269243, 0.38884770442201816, 0.6048742068786949, 0.09101994731185802, 0.006501424807989858, 0.28678507208577486, 0.006140234540879311, 0.11088541200293814, 0.0310623629715071, 0.1462820581797718, 0.08632447383942089, 0.023838557629296146, 0.02311617709507505, 0.14447610684421908, 0.039008548847939147, 0.004334283205326572, 0.9777713471793545, 0.015397973971328418, 0.6601431378508558, 0.3340483348160957, 0.9951050916529968, 0.9970733451121533, 0.9906725880667377, 0.03625612862833031, 0.16909370914893548, 0.013100954042169776, 0.09627677854245696, 0.07677768415411125, 0.04387296237377786, 0.11272913943262365, 0.09505808514318535, 0.24800410675177204, 0.06520009686103098, 0.043568289023959955, 0.9954852197835835, 0.08952734989739371, 0.016854782254521555, 0.006129011728916929, 0.0391818964098618, 0.09018402972549196, 0.014884742770226828, 0.15804094529564366, 0.18430813841957336, 0.03370956450904311, 0.11776458250561814, 0.12717699337502628, 0.04487312158671323, 0.04137082917018927, 0.03589849726937058, 0.9979445840723226, 0.9948028031918484, 0.6053874110722974, 0.045806409426738255, 0.27112442336366693, 0.07675668606642626, 0.9987369923067645, 0.4027821513573079, 0.017539502702962086, 0.11588600000171378, 0.11839164324499407, 0.12653498378565506, 0.1218369027045045, 0.04322234594658514, 0.030067718919363575, 0.02349040540575279, 0.9927448787972447, 0.9916027790550573, 0.9815138419074637, 0.9926510821603474, 0.9967521017257555, 0.9879262203446175, 0.9837294916170732, 0.09094210643287907, 0.056195358220316786, 0.037749553613647915, 0.03474674821256229, 0.1368421318494737, 0.15142718665474675, 0.1025243558370665, 0.06863555202481439, 0.09995052263613596, 0.08450752343055272, 0.0012869166004652699, 0.081075745829312, 0.053621525019386246, 0.9905271277217996, 0.09948190706059702, 0.8976506962677128, 0.8702174587366444, 0.12722477466910004, 0.9897285409503624, 0.9895729221092435, 0.09922702401743949, 0.01902279735049358, 0.04421515059844454, 0.0544977437608735, 0.007711944871821722, 0.010282593162428962, 0.026220612564193852, 0.03187603880352978, 0.1475552118808556, 0.11156613581235424, 0.2668332925650316, 0.1814877693168712, 0.981053552265221, 0.9217674305782521, 0.07662046652161793, 0.9928325980123609, 0.8844725515672689, 0.046973283179090705, 0.06788212264295425, 0.9901897204085596, 0.9851584415149527, 0.07699832465274084, 0.09994068261049627, 0.06725567949259811, 0.03739918625990269, 0.018856732568018165, 0.006914135274939994, 0.16405357334175802, 0.10402630800023355, 0.1970528553357898, 0.08359818105154719, 0.14425400414533895, 0.8937468863238053, 0.09971556169728406, 0.9854727109370855, 0.8950575647210667, 0.10417336647126009, 0.9976236010121895, 0.9834235953044577, 0.9986269207464163, 0.9955921249529923, 0.9982012428200908, 0.9990894200505515, 0.9973735849282381, 0.9968802866059413, 0.9574942844699385, 0.9944548209211077, 0.031591760849624034, 0.07551201373812574, 0.026198045582615053, 0.0693477677186869, 0.7967287980124695, 0.9909221532659084, 0.995935777685629, 0.9959783136445192, 0.9869797903983218, 0.9829082614709379, 0.9984642119210454, 0.9940563581830044, 0.37425590798022923, 0.07185713433220402, 0.5509046965468974, 0.9940788305516531, 0.9948985456394309, 0.9940765541254947, 0.9976555958008356, 0.9962426139013659, 0.9912657139862273, 0.017570683007633446, 0.07568909603288253, 0.4717052592049287, 0.4338607111884874, 0.9104789829617433, 0.08277081663288575, 0.06831519082996332, 0.012870977982456856, 0.029702256882592745, 0.11979910275979073, 0.331675201855619, 0.029702256882592745, 0.013861053211876615, 0.39206979085022425, 0.9939047574353959, 0.9943110493322718, 0.9938924902215883, 0.9957266542797952, 0.9934409862423783, 0.9930110332610758, 0.9874985634759399, 0.9966036810896919, 0.16573990150072573, 0.47650221681458643, 0.2574887755457703, 0.09766815624149909, 0.1972066961781117, 0.7996326310783708, 0.9958608424523957, 0.18553567097043, 0.3157674400169818, 0.46829916951671036, 0.03032794621632029, 0.9972136662662655, 0.9913213711240614, 0.032718464033589, 0.011603641314237962, 0.06277379727374635, 0.042800316323008875, 0.13829257763034422, 0.04926791967848577, 0.1607389657464111, 0.01274498308285153, 0.060300890108416945, 0.10823724439018688, 0.01046229954562439, 0.07570900398470014, 0.05611597029016719, 0.009511181405113082, 0.016929902901101287, 0.04337098720731566, 0.02054415183504426, 0.08750286892704036, 0.9964076704545213, 0.7190424982343014, 0.2755801645215164, 0.998959084812568, 0.9913480662516698, 0.9675234734778869, 0.012665959383444092, 0.014548737129631726, 0.641684888223404, 0.15498684083390032, 0.03388999943137743, 0.06555489788998765, 0.035687196370920174, 0.04090762557625862, 0.9865090547273714, 0.9909953253531667, 0.9970233203912202, 0.8822619027363372, 0.11608709246530752, 0.9799616731665666, 0.9946825734477384, 0.9989634682701372, 0.028003247686139175, 0.17153208861405111, 0.5224020491693001, 0.2779834587380157, 0.9956049120380093, 0.9970640472796496, 0.993835456408958, 0.9942184504074358, 0.13536093256348372, 0.12764805891314276, 0.064788138662864, 0.30080207236329715, 0.056689621330006, 0.31468524493391087, 0.9888272792486101, 0.5925605518038843, 0.13039633312676005, 0.27564794471099907, 0.999302733878362, 0.9843485437570904, 0.996001362809421, 0.9954710951958973, 0.9920440281204868, 0.9961513083754525, 0.9759992630415104, 0.9879752484389385, 0.9963640946763285, 0.1097120682709215, 0.8873770227795121, 0.9951806568857996, 0.9882750248801339, 0.9949116607606543, 0.9946087872385139, 0.9830796525893094, 0.06853692979584122, 0.22058524463703522, 0.6174083087490907, 0.09272643442966755, 0.9920482594561173, 0.9942298349779449, 0.9920430655923587, 0.9973283958851225, 0.9959539644091797, 0.42800432821609863, 0.5710255765061316, 0.1774191194051624, 0.8218053610847121, 0.9965630038114504, 0.988019543207798, 0.10630639898416355, 0.8903160914923697, 0.9007774206579154, 0.09806850950711175, 0.988625943495946, 0.17057186059446458, 0.8288726350762263, 0.46777018058224895, 0.5246611484909008, 0.4583379280710383, 0.24966872450331593, 0.029372791118037166, 0.12422242910336552, 0.03243245685949937, 0.10586443465459229, 0.975055383783454, 0.9975995966953926, 0.5858476403436115, 0.35264615243984376, 0.06067030579610215, 0.767656882728759, 0.04699940098339341, 0.1801643704363414, 0.9887505520057839, 0.9887576774727086, 0.9877172453610485, 0.14348383569539036, 0.8546645865334122, 0.9873441867217296, 0.7436176733556016, 0.25244585220928173, 0.187840894882251, 0.808014008144286, 0.9967647262199125, 0.9897204703855287, 0.1587944128274526, 0.2108581547380928, 0.6299712771187463, 0.9766348834686641, 0.9755042777330207, 0.9963331533374442, 0.990983338087158, 0.9894195878187065, 0.022792080563181365, 0.20128427774472218, 0.012631755492847504, 0.044760350985524854, 0.03157938873211876, 0.2762510005609693, 0.01922223661955055, 0.024988907605415715, 0.002471430422513642, 0.08869689183021182, 0.2751525870398521, 0.9802125785018038, 0.994734395141557, 0.9930749291437765, 0.9888825621463533, 0.009237995509859247, 0.2854540612546508, 0.32332984284507366, 0.07390396407887398, 0.11270354522028282, 0.1939979057070442, 0.9925788084454972, 0.9960841426333459, 0.9858535972363252, 0.993641873696631, 0.017907533229421697, 0.00032857859136553575, 0.0542154675753134, 0.05980130362852751, 0.1099095388117717, 0.5250685890021262, 0.2326336426867993, 0.06575990167025819, 0.04705754431449669, 0.287171680688467, 0.47721176349701133, 0.12247027558772856, 0.9827925638668656, 0.7196928389792884, 0.27728425397903317, 0.9789234173027894, 0.1774290772420391, 0.16936411918558278, 0.04301310963443372, 0.2527020191022981, 0.35620231416015424, 0.09045508548588155, 0.0221841487720124, 0.06061584312352684, 0.0553041455302281, 0.0009373583988174254, 0.06186565432195007, 0.08967395348686702, 0.020934337573589167, 0.023902639169844347, 0.20824979093727133, 0.053116975932987434, 0.029995468762157612, 0.17341130378122369, 0.011248300785809105, 0.02030943197437755, 0.0776445207020434, 0.04115441940405588, 0.028952857872200116, 0.6925937215285585, 0.2369998222967238, 0.6908615414179399, 0.059478145949888865, 0.24706306779184606, 0.9951851360788165, 0.9997024623012504, 0.9721369392264201, 0.24409959720199126, 0.7538858308143132, 0.9958961098661927, 0.9961152528567567, 0.8573061185962073, 0.140871897421912, 0.037094886829727225, 0.3241522418351548, 0.05992250949417475, 0.15522783411824315, 0.02054486039800277, 0.24197280024314374, 0.16036404921774383, 0.9863111095765289, 0.9973071514335514, 0.9852621173885882, 0.9834931444581201, 0.9781168339679521, 0.9832768631474375, 0.5771221489226804, 0.10714504030632042, 0.15341221680223152, 0.13271374310669234, 0.030438931905204667, 0.9765217997264224, 0.9895517005802231, 0.9914137596924081, 0.9875528439536034, 0.9940768872141053, 0.9978290928723657, 0.9891299033213972, 0.7366404534524019, 0.25599561857565745, 0.9900673315242147, 0.8901186407757186, 0.10855105375313641, 0.9923460558470371, 0.9822839933335491, 0.9959744413800046, 0.9903431713212035, 0.9871853769664819, 0.9972657195097656, 0.433262968664388, 0.2010925171016147, 0.13893664817929743, 0.13710853438746456, 0.08774946200797733, 0.9869001027637777, 0.02385139917842167, 0.03733262480100783, 0.013481225622586161, 0.0020740347111671015, 0.05807297191267885, 0.06429507604618015, 0.1545155859819491, 0.11718296118094125, 0.49258324390218666, 0.03525859008984073, 0.9842770565443332, 0.9873265340223141, 0.2729948955612002, 0.721817011992326, 0.29049525490203737, 0.038932353749757585, 0.6678396066304569, 0.19105943361935357, 0.8066953863928262, 0.1710630544814673, 0.8279451836903018, 0.9953722993406405, 0.9968988361518054, 0.9829004161748037, 0.0111097608709946, 0.26688114447878136, 0.05949894155354885, 0.05456127005532903, 0.01357859662010451, 0.0249352410660101, 0.012344178745549553, 0.036045001937004696, 0.04888294783237623, 0.0034563700487538753, 0.3498340256488744, 0.008147157972062705, 0.11035695798521301, 0.9963109262064382, 0.9961678143378904, 0.06050757974532323, 0.0970557822760554, 0.0494077552730268, 0.023824013501514293, 0.06037221603224645, 0.0380372033745768, 0.6707271982954734, 0.9993831162841023, 0.9972594013513442, 0.9876954578147954, 0.9971183187649953, 0.9896545965880297, 0.982205843020762, 0.09234976773096969, 0.12903666176108092, 0.6021710882183777, 0.17584407828225734, 0.9994595816745018, 0.9843004777827834, 0.9952699337831871, 0.9900147350003421, 0.9153391676619065, 0.08414431947864315, 0.9874351136956325, 0.9886695666446791, 0.9925121772715362, 0.6251278093756891, 0.28218935595642397, 0.0911236461942619, 0.9993658268824371, 0.9885817564352886, 0.9930971382272243, 0.9982042524679002, 0.9970242979694127, 0.01700071948611393, 0.04760201456111901, 0.034568129621765, 0.013600575588891146, 0.049302086509730406, 0.06630280599584434, 0.021534244682410983, 0.10257100756622073, 0.3031794975023651, 0.3434145336195014, 0.9869947038420518, 0.8997213376425864, 0.0965802565831025, 0.10466524134635825, 0.6257645280495036, 0.2672304034375104, 0.051013265844935055, 0.042494351116409555, 0.11164789420679302, 0.03738300227929425, 0.05442083173634526, 0.059532180573460554, 0.008819582307179342, 0.04810681258461459, 0.04299546374749929, 0.031670318284871275, 0.018942057455191997, 0.026358524395320077, 0.003608010943846094, 0.002104673050576888, 0.17158096488512536, 0.2892422106649952, 0.6417830323875473, 0.11492923097720262, 0.24351342009031052, 0.8056379379238059, 0.1205285103980497, 0.06977966391466035, 0.996618152431455, 0.010411336641709268, 0.028784283656490328, 0.032458873059446544, 0.0012248631343187374, 0.02112888906699822, 0.041032914999677705, 0.03552103089524339, 0.029090499440070014, 0.038583188731040226, 0.19352837522236052, 0.03705210981314181, 0.026946988955012224, 0.00704296302233274, 0.004287020970115581, 0.0802285352978773, 0.04685101488769171, 0.1953656699238386, 0.1699497598867248, 0.9950446001306982, 0.984762386252613, 0.9855108430249803, 0.025684941176729276, 0.05556334213741435, 0.38527411765093916, 0.015201291716839775, 0.10745740696386738, 0.033547678271646404, 0.2584219591862762, 0.09959466986895026, 0.019394751500795577, 0.9933496961639884, 0.9772892042255018, 0.9956501453629814, 0.9899955542426387, 0.9958305726597393, 0.9989414961282018, 0.9856063599998283, 0.9189133642829971, 0.08080955787729108, 0.9915455540837124, 0.9978290928723657, 0.9995938520184456, 0.10015822961845615, 0.8996580524418505, 0.9902694183295588, 0.9983968320991741, 0.9663572458829004, 0.8256223513316749, 0.17403986383614287, 0.9930151844306071, 0.9966073973698933, 0.8090268730072961, 0.0907818933407527, 0.09612200471373816, 0.01692525274541387, 0.1944744727218143, 0.09292295624933107, 0.1569734225211914, 0.022898871361442297, 0.019912062053428086, 0.020243929754318553, 0.4596367657332983, 0.015929649642742467, 0.9934936782340956, 0.06705663484771843, 0.0723159787573434, 0.10781655014731198, 0.04207475127699979, 0.0723159787573434, 0.29452325893899856, 0.3431721901030296, 0.9697455652916132, 0.03108811424099809, 0.02020727425664876, 0.15284989501824062, 0.07927469131454513, 0.06865291894887078, 0.24196915584243514, 0.0341969256650979, 0.06165809324464622, 0.10984467031819325, 0.05569953801512158, 0.023575153299423553, 0.011917110459049269, 0.04378242755607231, 0.05388606468439669, 0.0113989752216993, 0.9926231994366086, 0.9897525673439326, 0.9067382076726438, 0.9966112964517894, 0.9860648494098546, 0.997296698875077, 0.986518265021098, 0.9932351110009466, 0.9899294089061293, 0.9977978602259755, 0.9518948024571118, 0.031038819156643208, 0.25535028543300287, 0.058557772223357805, 0.023679099150428838, 0.049598113085357706, 0.09791627486528683, 0.13183498445914435, 0.005119805221714344, 0.020799208713214522, 0.0038398539162857576, 0.15583407143593034, 0.04511828351635765, 0.12159537401571566, 0.9932829148211577, 0.22686178094943002, 0.7625076526355843, 0.0065107338643413835, 0.06590457136149645, 0.035078239595635205, 0.0463723697684723, 0.14044583050222126, 0.4181485606343333, 0.0712194561487139, 0.005049140547856583, 0.07334541006360089, 0.03268654144138735, 0.04411354373390488, 0.060988302933320304, 0.9932453676638034, 0.9901515686073107, 0.9871031609942104, 0.0844530760704866, 0.914422961590786, 0.055118298200174276, 0.024198277258613097, 0.14787836102485782, 0.19291404370060997, 0.08939919098320949, 0.4900151144869152, 0.9953502151903728, 0.9737648135725835, 0.9969684470936349, 0.9929965056434633, 0.09365839905621076, 0.3766696483782389, 0.07736998182904367, 0.0179172589498838, 0.004886525168150127, 0.12990012738665752, 0.036648938761125946, 0.043978726513351135, 0.218264790844039, 0.3391142882548331, 0.6598270259842101, 0.9971842043838051, 0.15436581824063825, 0.5378932635601621, 0.09548401128286901, 0.05251620620557796, 0.15914001880478168, 0.39351982294285914, 0.6040071700983419, 0.9877335842361271, 0.11299282654178978, 0.8813440470259604, 0.9873714668626328, 0.9934217264342956, 0.9980164842657483, 0.19386387199433286, 0.796995918198924, 0.17469555543178905, 0.7930258766311477, 0.029882134481753392, 0.9770989389999393, 0.9933628194621361, 0.9969830077571934, 0.06620948146528237, 0.9312043199633261, 0.9853739055118473, 0.9988275988750005, 0.9000539924612492, 0.09752907039053783, 0.06358618432235508, 0.7845413036243516, 0.15054964229263482, 0.44653034459820434, 0.2864534286101688, 0.08846355883549331, 0.17692711767098662, 0.15599237694330523, 0.8435903542591902, 0.9846909644215394, 0.9946055732133401, 0.9889662782541269, 0.10220518037089539, 0.12069455973447446, 0.04006032195442131, 0.02876125678778966, 0.4874005837787926, 0.2203317707493172, 0.9934718301511721, 0.0633088179521035, 0.9363452334150616, 0.2727929388871762, 0.7255131353382346, 0.9831099043019943, 0.996252881768077, 0.9813607840842444, 0.002470862464001907, 0.007811113595876998, 0.01841191061885292, 0.008608166003619548, 0.07571997873554231, 0.10162418198717522, 0.027498308067118, 0.018252500137304412, 0.051011354095523244, 0.029092412882603103, 0.040649672794870084, 0.14075945520733446, 0.02781712903021502, 0.014506353820914423, 0.16427250123573972, 0.03156327534660501, 0.0447146400743571, 0.0018332205378078668, 0.0017535152970336117, 0.02152041500904887, 0.06416271882327533, 0.0219986464536944, 0.031483570105830756, 0.04941724928003815, 0.0031882096309702027, 0.9956779458683269, 0.893848724828696, 0.09990073983379544, 0.9804853041643001, 0.1457849444824883, 0.06062344226004464, 0.2107386326182504, 0.028868305838116493, 0.17754008090441642, 0.2569279219592368, 0.11980346922818344, 0.9902658161452547, 0.9865793378522242, 0.9941649997938622, 0.9884138182222948, 0.9884396736283877, 0.16962480132807656, 0.049774072976578446, 0.05435852706652646, 0.017682894346942344, 0.3340102265533554, 0.3726506253114886, 0.9968351847353677, 0.8392057621845544, 0.15934286623757363, 0.048399936818117696, 0.13879393646371987, 0.02989407862295505, 0.15302921199846037, 0.1338115900265607, 0.024911732185795874, 0.4704758564231735, 0.6657442737660115, 0.32139378733531593, 0.9932124127454309, 0.05078430941056916, 0.03808823205792687, 0.0957088908122265, 0.17481521893253615, 0.03027526137937777, 0.07617646411585374, 0.036134989388289594, 0.4980768807575052, 0.9771801368167051, 0.9762252809135686, 0.9982826681102447, 0.999161535481571, 0.990457028960266, 0.9758342211506271, 0.13550495758814526, 0.48956629838297644, 0.30051502690919313, 0.07321638837423979, 0.06364266800048476, 0.9281222416737362, 0.4858931228321081, 0.5128871852116696, 0.994126844051271, 0.9864153162003159, 0.9944325231784578, 0.9961092974477286, 0.025536897145705745, 0.03528123947761978, 0.041665463764046215, 0.0944193170782015, 0.011760413159206593, 0.039313381132204894, 0.1337326982104064, 0.04468957000498505, 0.11928419061480973, 0.45361593614082574, 0.9876394538598812, 0.9629097002576926, 0.13732261332262652, 0.8582663332664158, 0.9944737124854762, 0.14370961935541468, 0.4607161326394177, 0.1757121816488474, 0.02777580878297931, 0.051324864055505244, 0.03381402808362698, 0.04347517896466327, 0.0634013026568006, 0.9867400220152485, 0.12180416145001569, 0.840745797325718, 0.03564999847317532, 0.07220476482499547, 0.6128147988993204, 0.31473871846792895, 0.9892237920326329, 0.9698931099805745, 0.9944955547452126, 0.08430014238569901, 0.06911965697524747, 0.26614297825983135, 0.3139453578501894, 0.05975297448794757, 0.08623807669341622, 0.035205806590196134, 0.08494612048827141, 0.9770280699350546, 0.07034812943930159, 0.021792627054566253, 0.14643116073506798, 0.029056836072755002, 0.04434990768999448, 0.23092538142031607, 0.037468025462236716, 0.01338143766508454, 0.0902291225417129, 0.13954927850731022, 0.09175842970343685, 0.08372956710438613, 0.23018023034620386, 0.7097223769007952, 0.05967635601568248, 0.9902219265212593, 0.996354395978987, 0.9820270248186904], \"Term\": [\"able\", \"able\", \"able\", \"able\", \"able\", \"able\", \"able\", \"able\", \"able\", \"able\", \"able\", \"able\", \"able\", \"able_redeem\", \"absolute\", \"absolutely\", \"acc\", \"acc\", \"accept\", \"accept\", \"accept\", \"accept\", \"accept\", \"accept\", \"accept\", \"accept\", \"accept\", \"accept\", \"accept\", \"accept\", \"accept\", \"accept\", \"accept\", \"accept\", \"accept\", \"accept\", \"accept_apologies\", \"accept_apologies\", \"accept_offer\", \"accept_offer\", \"accept_offer\", \"accept_offer\", \"acceptance\", \"acceptance_received\", \"accepted_outcome\", \"accepted_outcome\", \"accepts_resolution\", \"access\", \"access_advantage\", \"access_advantage\", \"access_advantage\", \"access_advantage\", \"access_advantage\", \"access_advantage\", \"accidently\", \"accordance\", \"accountant\", \"accountant\", \"accrue\", \"accrue\", \"accrue\", \"accumulate\", \"accuse\", \"acknowledge_concerns\", \"acknowledged_error\", \"act\", \"action\", \"action\", \"action\", \"action\", \"action\", \"action\", \"action\", \"action\", \"action\", \"action\", \"action\", \"action\", \"action_appropriate\", \"action_required\", \"action_taken\", \"actioned_blr\", \"activate\", \"activate\", \"activation\", \"adamant\", \"add\", \"add\", \"add\", \"add\", \"add\", \"add\", \"add\", \"additional\", \"additional\", \"additional\", \"additional\", \"additional\", \"additional\", \"additional\", \"additional\", \"additional\", \"additional_holder\", \"address\", \"address\", \"address\", \"address\", \"address\", \"address\", \"address\", \"address_internally\", \"addressed_internally\", \"addressed_internally\", \"addressing_concerns\", \"adjust\", \"adjustment\", \"adjustment\", \"adjustments\", \"admin\", \"administration\", \"admit\", \"adv\", \"advance\", \"advantage\", \"adventure\", \"advertise\", \"advice\", \"advice\", \"advice\", \"advice\", \"advice\", \"advice\", \"advocate\", \"advocate\", \"advocate_offered\", \"advs\", \"afford\", \"age\", \"agent\", \"agree\", \"agree\", \"agree\", \"agree\", \"agree\", \"agree\", \"agree\", \"agree\", \"agree\", \"agree\", \"agree\", \"agree\", \"agree\", \"agree\", \"agree\", \"agree\", \"agree\", \"agreement\", \"agreement\", \"ahead\", \"ahead\", \"airport_lounge\", \"alert\", \"allege\", \"allocate\", \"allocate_k\", \"allocate_points\", \"allocation\", \"allocation_k\", \"allow\", \"allow\", \"allow\", \"allow\", \"allow\", \"allow\", \"allow\", \"allow\", \"allow\", \"allow\", \"allow_business\", \"allow_business\", \"allow_hours\", \"allow_working\", \"amend\", \"amend\", \"amend\", \"american_express\", \"amex\", \"amex_cards\", \"amex_discontinued\", \"amex_removal\", \"annoy\", \"annual\", \"annual_fee\", \"annual_fee\", \"annual_fees\", \"annual_fees\", \"annual_rewards\", \"annum\", \"apologies_inconvenience\", \"apologies_inconvenience\", \"apologise\", \"apologise\", \"apologise\", \"apologise\", \"apologise\", \"apologise\", \"apologise\", \"apologise\", \"apologise\", \"apologise\", \"apologise\", \"apologise\", \"apologise\", \"apologise\", \"apologise\", \"apologise_advise\", \"apologise_delay\", \"apologised_confusion\", \"apologised_inconvenience\", \"apologised_inconvenience\", \"apologised_inconvenience\", \"apologised_inconvenience\", \"apologised_inconvenience\", \"apologised_inconvenience\", \"apologised_inconvenience\", \"apologised_inconvenience\", \"apologised_inconvenience\", \"apologised_inconvenience\", \"apologised_inconvenience\", \"apologised_inconvenience\", \"apologised_inconvenience\", \"apologised_inconvenience\", \"apologised_inconvenience\", \"apologised_inconvenience\", \"apologised_inconvenience\", \"apologised_misinformation\", \"apologising_inconvenience\", \"apologize\", \"apologized_inconvenience\", \"app\", \"app\", \"appeal\", \"applicable\", \"applicable\", \"applicant\", \"application\", \"application\", \"application_declined\", \"apply\", \"apply\", \"apply\", \"apply\", \"apply\", \"apply\", \"apply\", \"apply\", \"appointment\", \"appreciative_outcome\", \"approach\", \"appropriate_action\", \"approval\", \"approval\", \"approval\", \"approval\", \"approve\", \"approve\", \"approve\", \"approve\", \"approve\", \"approved_good\", \"area\", \"area\", \"area\", \"area\", \"area\", \"areas\", \"arrangement\", \"arrangements\", \"arrears\", \"arrears\", \"arrears\", \"arrive\", \"arrive\", \"asap\", \"asap\", \"asap\", \"asic\", \"ask\", \"ask\", \"ask\", \"ask\", \"ask\", \"ask\", \"ask\", \"ask\", \"ask\", \"ask\", \"ask\", \"ask\", \"assess\", \"assessment\", \"assessments\", \"assessments_team\", \"assessor\", \"assist\", \"assist\", \"assist\", \"assist\", \"assist\", \"assistance\", \"assistance\", \"assistance\", \"assistance\", \"assistance\", \"assurance\", \"assure\", \"assure\", \"assure\", \"atm\", \"atms\", \"attempted_contact\", \"attempted_contact\", \"attempted_contact\", \"attend\", \"attend\", \"attitude\", \"attract\", \"aud\", \"aud\", \"aussie\", \"australia\", \"australia\", \"australia\", \"australia\", \"australia\", \"australian\", \"australian\", \"auth\", \"authorise\", \"authorise\", \"authorise\", \"authorise\", \"auto\", \"automatic\", \"automatic_payment\", \"avail\", \"available\", \"available\", \"available\", \"available\", \"available\", \"available\", \"available\", \"available\", \"available\", \"available\", \"available\", \"available\", \"avoid\", \"avoid\", \"avoid\", \"avoid\", \"avoid_escalation\", \"await\", \"award\", \"away\", \"backdate\", \"background\", \"bad\", \"bag\", \"balance\", \"balance\", \"balance\", \"balance_owing\", \"balance_transfer\", \"ban\", \"banker\", \"banker\", \"banking_ombudsman\", \"banking_years\", \"base_rate\", \"based_investigation\", \"baycorp\", \"bee\", \"behavior\", \"behaviour\", \"believe\", \"believe\", \"believe\", \"believe\", \"believe\", \"believe\", \"believe\", \"believe\", \"believe\", \"believe\", \"believe\", \"believe\", \"believe\", \"believe\", \"believe\", \"believe\", \"believe\", \"believe\", \"bendigo\", \"beneficiary\", \"benefit\", \"benefit\", \"benefit\", \"benefit\", \"benefit\", \"benefit\", \"better_rate\", \"big\", \"black\", \"block\", \"block\", \"block_placed\", \"blocked_falcon\", \"blr\", \"blr_template\", \"blr_template\", \"blue\", \"board\", \"bonus\", \"bonus\", \"bonus_point\", \"bonus_points\", \"bonus_rate\", \"book\", \"book\", \"booklet\", \"borrow\", \"bounce\", \"bourke_street\", \"box\", \"box\", \"bpay\", \"branch\", \"branch_load\", \"breach\", \"breach_privacy\", \"break_free\", \"brochure\", \"broker\", \"brother\", \"bsb\", \"bsb\", \"bsb_number\", \"build\", \"bus_days\", \"business\", \"business_advantage\", \"business_areas\", \"business_banker\", \"business_days\", \"business_days\", \"business_days\", \"business_days\", \"business_days\", \"business_days\", \"business_days\", \"business_days\", \"business_days\", \"business_extra\", \"business_extra\", \"business_overdraft\", \"business_select\", \"business_unit\", \"busy\", \"calculation\", \"calculations\", \"called_complain\", \"called_lodge\", \"called_regards\", \"caller\", \"cancel\", \"cancel\", \"cancel\", \"cancel\", \"cancel\", \"cancel\", \"cancellation\", \"cancellation\", \"cancellation\", \"cap\", \"cap\", \"car\", \"car\", \"car_loan\", \"car_loan\", \"caravan\", \"cards_solutions\", \"carry\", \"case\", \"case\", \"case\", \"case\", \"case\", \"case\", \"case\", \"case_actioned\", \"case_closed\", \"case_closed\", \"case_closed\", \"case_closed\", \"case_closed\", \"case_closed\", \"case_closed\", \"case_closed\", \"case_closed\", \"case_closed\", \"case_closed\", \"case_closed\", \"case_management\", \"cash\", \"cash\", \"cash\", \"cash\", \"cash_advance\", \"cash_advances\", \"cash_deposit\", \"cause\", \"cause\", \"cause\", \"cause\", \"cause\", \"cause\", \"cause\", \"cause\", \"cause\", \"cause\", \"cause\", \"cause\", \"cause\", \"caused_inconvenience\", \"caused_reassured\", \"caused_relation\", \"caused_relation\", \"caused_result\", \"caused_result\", \"cba\", \"cba\", \"cba\", \"centre\", \"centre\", \"centre\", \"centre\", \"centrelink\", \"cents\", \"ceo\", \"certificate\", \"change\", \"change\", \"change_banks\", \"change_type\", \"changing_banks\", \"channel\", \"charge\", \"charge\", \"chargeback\", \"chase\", \"check\", \"check\", \"check\", \"check\", \"check\", \"check\", \"check\", \"check\", \"check\", \"check\", \"check\", \"check\", \"cheque\", \"cheque_book\", \"cheque_cleared\", \"cheque_deposited\", \"cheque_dishonoured\", \"child\", \"children\", \"choice\", \"christine\", \"circumstances\", \"claim\", \"claim\", \"claim\", \"claim\", \"claim\", \"claim\", \"claim\", \"claim\", \"claim\", \"claim\", \"clarify\", \"clear\", \"clear\", \"clear\", \"clear\", \"clear\", \"clear\", \"clear\", \"clear\", \"clear_arrears\", \"clearance\", \"client\", \"client\", \"close\", \"close\", \"close\", \"close\", \"closed_status\", \"closer\", \"closing_balance\", \"closing_balance\", \"closing_concern\", \"closure\", \"closure\", \"closure\", \"closure_notification\", \"closures_team\", \"collect\", \"collect\", \"collection\", \"collection\", \"collections\", \"collections\", \"collections_team\", \"collins_street\", \"com\", \"com\", \"com\", \"combine\", \"come\", \"come\", \"come\", \"come\", \"come\", \"come\", \"come\", \"come\", \"come\", \"come\", \"comment\", \"commercial\", \"commercial\", \"commercial_cards\", \"commercial_decision\", \"commercial_decision\", \"commercial_decision\", \"commercial_decision\", \"commit\", \"communication\", \"communications\", \"community\", \"company\", \"company\", \"company\", \"company\", \"company\", \"company\", \"compare\", \"compensated_goodwill\", \"compensation\", \"compensation\", \"compensation\", \"compensation\", \"compensation\", \"compensation\", \"compensation\", \"compensation\", \"compensation\", \"compensation\", \"compensation\", \"competitive\", \"complain\", \"complain\", \"complainant\", \"complaints_actioned\", \"complaints_department\", \"complete\", \"complete\", \"complete\", \"complete\", \"complete\", \"complete\", \"complete\", \"complete\", \"complete\", \"complete\", \"complete\", \"completed_investigation\", \"completely\", \"compromise\", \"concern\", \"concern\", \"concern\", \"concern\", \"concern\", \"concern\", \"concern\", \"concerns_considered\", \"concerns_genuinely\", \"concerns_raised\", \"concierge\", \"condition\", \"condition\", \"condition\", \"condition\", \"condition\", \"conditions_use\", \"confidential\", \"confirm\", \"confirm\", \"confirm\", \"confirm\", \"confirm\", \"confirm\", \"confirm\", \"confirm\", \"confirm\", \"confirm\", \"confirm\", \"confirm\", \"confirm\", \"confirm\", \"confirm\", \"conflicting_information\", \"conflicting_information\", \"connect\", \"connection\", \"consent\", \"consider\", \"consider\", \"consider\", \"consider\", \"consider\", \"consider\", \"consider\", \"consider\", \"consider\", \"consider\", \"consider\", \"consider\", \"consideration\", \"considered_information\", \"consistent\", \"consistently\", \"consolidate\", \"consolidate\", \"construction_loan\", \"consultant\", \"consultant\", \"consultant\", \"consultants\", \"consultants\", \"consultants\", \"consultants\", \"consumer\", \"contact\", \"contact\", \"contact\", \"contact\", \"contact\", \"contact\", \"contact\", \"contact\", \"contact\", \"contact\", \"contact\", \"contact\", \"contact\", \"contact\", \"contact\", \"content\", \"contract\", \"contract\", \"conversion\", \"conversion_fee\", \"convert\", \"convert\", \"convert\", \"copy\", \"copy\", \"copy\", \"correct\", \"correct\", \"correct\", \"correct\", \"correct\", \"correct\", \"correction\", \"correctly\", \"correctly\", \"correctly\", \"correctly\", \"correctly\", \"correspondence\", \"correspondence\", \"correspondent\", \"cost\", \"cost\", \"cost\", \"couldn\", \"couldn\", \"couldn\", \"country\", \"court\", \"cover\", \"cover\", \"cover\", \"cover\", \"cover\", \"cover\", \"cover\", \"cover\", \"cover\", \"cover\", \"cover_cost\", \"crc\", \"create\", \"create\", \"credit\", \"credit\", \"credit\", \"credit\", \"credit\", \"credit\", \"credit\", \"credit\", \"credit\", \"credit\", \"credit_corp\", \"credit_rating\", \"criteria\", \"criteria\", \"crn\", \"csc\", \"culture\", \"currency\", \"current\", \"current\", \"current\", \"current\", \"current\", \"current\", \"current\", \"current\", \"current\", \"current\", \"cuso\", \"cust\", \"custo\", \"cycle\", \"daily\", \"date\", \"date\", \"date\", \"date\", \"date\", \"date\", \"date\", \"date\", \"date\", \"date\", \"date\", \"date_birth\", \"daughter\", \"daughter\", \"day\", \"day\", \"day\", \"day\", \"day\", \"day\", \"day\", \"day\", \"day\", \"day\", \"days\", \"days\", \"days\", \"days\", \"days\", \"days\", \"days\", \"days\", \"days\", \"days_later\", \"dda\", \"dda\", \"deal\", \"deal\", \"deal\", \"death\", \"death_certificate\", \"debit\", \"debit\", \"debit\", \"debit\", \"debt\", \"debt\", \"debt\", \"debt\", \"debts\", \"dec\", \"deceased_estate\", \"deceased_estates\", \"decision\", \"decision\", \"decision\", \"decision\", \"decision\", \"decision_close\", \"decision_remove\", \"decline\", \"decline\", \"decline\", \"decline\", \"decrease\", \"deduct\", \"default\", \"default\", \"default_listing\", \"default_notice\", \"delay\", \"delay\", \"delay\", \"delay\", \"delay\", \"delay_processing\", \"delay_receiving\", \"delay_response\", \"delay_response\", \"delay_settlement\", \"delays_response\", \"delete\", \"deliver\", \"delivery\", \"dens\", \"deny\", \"department\", \"department\", \"department\", \"deposit\", \"deposited_cheque\", \"description\", \"destination\", \"destroy\", \"detect\", \"difference\", \"difference\", \"difference\", \"difference\", \"difficulties\", \"direct\", \"direct\", \"direct\", \"direct\", \"direct\", \"direct_debit\", \"direct_debit\", \"direct_debits\", \"director\", \"directors\", \"disable\", \"disappoint\", \"disappoint\", \"disappoint\", \"disappoint\", \"disappoint\", \"disappointment\", \"discharge\", \"disclose\", \"disclose\", \"disclosed_resolved\", \"disconnect\", \"discontinue\", \"discount\", \"discount_rate\", \"discrepancy\", \"discretion\", \"discuss\", \"discuss\", \"discuss\", \"discuss\", \"discuss\", \"discuss\", \"discuss\", \"discuss\", \"discuss\", \"discuss_matter\", \"discuss_options\", \"discussions\", \"dishonour\", \"dishonour_fee\", \"display\", \"dispute\", \"dispute\", \"dispute\", \"dispute_favour\", \"dispute_raised\", \"disputed_transaction\", \"disputes_team\", \"dissatisfy\", \"dissatisfy\", \"dissatisfy\", \"dissatisfy\", \"distress\", \"district_manager\", \"docs\", \"document\", \"document\", \"document\", \"document\", \"document\", \"documentation\", \"doesnt\", \"dollar\", \"domestic_telegraphic\", \"domestic_transfer\", \"door\", \"double\", \"draft\", \"draft\", \"draw\", \"draw\", \"draw\", \"draw\", \"draw\", \"draw\", \"drawdown\", \"drive\", \"duplicate\", \"duplicate\", \"duplicate_icm\", \"earlier_year\", \"early\", \"early\", \"early\", \"early\", \"early_repayment\", \"earn\", \"earn\", \"earn\", \"easily\", \"eat\", \"edu\", \"educate\", \"educate\", \"educate\", \"educate\", \"educate\", \"educate\", \"educate\", \"educate\", \"educate\", \"educate\", \"educate\", \"educate\", \"educated_policy\", \"educated_terms\", \"educated_terms\", \"effect\", \"effective\", \"eftpos\", \"eftpos\", \"eligable\", \"eligibility\", \"eligibility\", \"eligibility_criteria\", \"eligible\", \"eligible_bonus\", \"eligible_receive\", \"elizabeth\", \"email\", \"email\", \"email\", \"email\", \"email_address\", \"email_address\", \"email_address\", \"email_address\", \"emergency\", \"empathise\", \"employee\", \"employees\", \"employer\", \"employment\", \"emr\", \"enable\", \"enclose\", \"end\", \"end\", \"end\", \"end\", \"end\", \"end\", \"end\", \"end\", \"end\", \"end_month\", \"enquiries\", \"enquiries\", \"enquiry\", \"enquiry\", \"entry\", \"envelope\", \"equality\", \"equality_transgender\", \"equity\", \"equity_manager\", \"equity_manager\", \"equivalent\", \"erc\", \"error\", \"error\", \"errors\", \"errors\", \"escalate_matter\", \"establish\", \"estate\", \"everyday\", \"everyday_visa\", \"evidence\", \"exact\", \"exception\", \"excess\", \"excessive\", \"exchange\", \"exchange_rate\", \"exchange_rates\", \"exemption\", \"exist\", \"exist\", \"exist\", \"exist\", \"exist\", \"exist\", \"exist\", \"exist\", \"experience\", \"experience\", \"experience\", \"experience\", \"experience\", \"experience\", \"expire\", \"expire\", \"expiry\", \"explain\", \"explain\", \"explain\", \"explain\", \"explain\", \"explain\", \"explain\", \"explain\", \"explain\", \"explain\", \"explain\", \"explain\", \"explain\", \"explain\", \"explain\", \"explained_policy\", \"explanation\", \"explanation\", \"explanation\", \"explanation\", \"explanation\", \"explanation\", \"explanation\", \"explanation\", \"explanation\", \"express\", \"extend\", \"extension\", \"external\", \"extremely\", \"extremely_disappointed\", \"extremely_unhappy\", \"facility\", \"facility\", \"facility\", \"facility\", \"facility\", \"fail\", \"fail\", \"fail\", \"fail\", \"fail\", \"fail\", \"fail\", \"fail\", \"failed_security\", \"failure\", \"fair\", \"falcon\", \"falcon_block\", \"falcon_team\", \"family\", \"family\", \"family\", \"fast\", \"fast_track\", \"faster\", \"father\", \"favour\", \"favour\", \"fax\", \"feature\", \"fee\", \"fee_waiver\", \"feedback\", \"feedback\", \"feedback\", \"feedback\", \"feedback\", \"feedback\", \"feedback\", \"feedback_addressed\", \"feedback_icm\", \"feedback_lodged\", \"feedback_passed\", \"feedback_passed\", \"feedback_passed\", \"feedback_passed\", \"feedback_passed\", \"feedback_presented\", \"feedback_provided\", \"feedback_provided\", \"feedback_provided\", \"feedback_provided\", \"feedback_provided\", \"feedback_provided\", \"feedback_provides\", \"feel\", \"feel\", \"feel\", \"feel\", \"feel\", \"feel\", \"feel\", \"feel\", \"feel\", \"fees_charges\", \"fees_charges\", \"felt\", \"field\", \"file\", \"file\", \"file\", \"file\", \"file\", \"filled_form\", \"final\", \"final\", \"final\", \"final\", \"final\", \"final_resolution\", \"final_resolution\", \"final_resolution\", \"final_resolution\", \"final_resolution\", \"final_response\", \"final_settlement\", \"final_settlement\", \"final_statement\", \"finalise\", \"finalise\", \"finalise\", \"finalise\", \"finance\", \"finance\", \"financial_assistance\", \"financial_counsellor\", \"financial_difficulty\", \"financial_hardship\", \"financial_hardship\", \"financial_institution\", \"financial_institution\", \"financial_ombudsman\", \"financial_position\", \"financial_situation\", \"financial_year\", \"financial_year\", \"financially\", \"firstly\", \"fix\", \"fix\", \"fix\", \"fix\", \"fix\", \"fixed_rate\", \"flight\", \"follow\", \"follow\", \"follow\", \"follow\", \"follow\", \"follow\", \"follow\", \"follow\", \"follow\", \"follow\", \"follow\", \"follow\", \"follow\", \"follow\", \"follow\", \"following_day\", \"foreign_currency\", \"forget\", \"form\", \"form\", \"form\", \"form\", \"form\", \"form\", \"form\", \"form\", \"form\", \"form\", \"formal_overdraft\", \"format\", \"fortnight\", \"fortnightly\", \"forward\", \"forward\", \"forward\", \"forward\", \"forward\", \"forward\", \"forward\", \"forward_feedback\", \"fos\", \"fraud\", \"fraud_team\", \"fraudulent\", \"fraudulent_activity\", \"fraudulent_transaction\", \"fraudulent_transactions\", \"fraudulently\", \"free\", \"free_days\", \"free_package\", \"free_period\", \"freeze\", \"frequent_flyer\", \"friday\", \"friday\", \"friday\", \"friday\", \"friday\", \"friday\", \"friends\", \"frustration_inconvenience\", \"fsp\", \"function\", \"fund\", \"fund\", \"funds_returned\", \"funds_returned\", \"future\", \"future\", \"future\", \"future\", \"future\", \"future\", \"future\", \"future\", \"future\", \"future\", \"future\", \"future\", \"gail\", \"gbp\", \"gender\", \"general\", \"general\", \"general_enquiries\", \"general_simple\", \"generally\", \"generate\", \"genuine\", \"genuinely_grateful\", \"george\", \"gesture\", \"gesture\", \"gesture_good\", \"gesture_goodwill\", \"gesture_goodwill\", \"gesture_goodwill\", \"gesture_goodwill\", \"gesture_goodwill\", \"gesture_goodwill\", \"gift\", \"gift\", \"girls\", \"going_forward\", \"going_forward\", \"good\", \"good\", \"good\", \"good\", \"good\", \"good\", \"good\", \"good\", \"good\", \"good\", \"good_gesture\", \"good_gesture\", \"good_gesture\", \"good_gesture\", \"good_gesture\", \"good_gesture\", \"goodwill\", \"goodwill\", \"goodwill\", \"goodwill\", \"goodwill\", \"goodwill\", \"goodwill_gesture\", \"goodwill_gesture\", \"goodwill_gesture\", \"goodwill_gesture\", \"goodwill_gesture\", \"goodwill_gesture\", \"goodwill_gesture\", \"goodwill_gesture\", \"goodwill_gesture\", \"goodwill_payment\", \"grant\", \"grateful_feedback\", \"group\", \"guarantee\", \"guy\", \"gwg\", \"gwg\", \"gwg\", \"gwg\", \"gwg\", \"gwg\", \"gwg\", \"gwg\", \"gwg\", \"gwg\", \"gwg\", \"gwg_resolve\", \"hack\", \"happen\", \"happen\", \"happen\", \"happen\", \"happen\", \"happen\", \"happen\", \"happy\", \"happy\", \"happy\", \"happy\", \"happy\", \"happy\", \"happy\", \"happy\", \"happy\", \"happy\", \"happy\", \"happy\", \"hardship\", \"hardship_arrangement\", \"hardship_assistance\", \"hassle\", \"haven_received\", \"head_office\", \"health\", \"hello\", \"help\", \"help\", \"help\", \"help\", \"helpful\", \"higher\", \"higher\", \"higher\", \"higher\", \"higher_rate\", \"history\", \"history\", \"hold\", \"hold\", \"hold\", \"hold\", \"hold\", \"hold\", \"hold\", \"hold\", \"hold\", \"hold\", \"hold\", \"hold\", \"holder\", \"holder\", \"holder\", \"holder\", \"holders\", \"holders\", \"holiday\", \"home\", \"home\", \"home\", \"home\", \"home_loan\", \"home_loan\", \"home_loans\", \"home_loans\", \"honest\", \"honour\", \"honour\", \"honour\", \"honour\", \"hopefully\", \"hospital\", \"hour\", \"hour\", \"house\", \"house\", \"house\", \"huge\", \"husband\", \"huskisson\", \"i_apologise\", \"ibb\", \"icm\", \"icm\", \"idea\", \"identification\", \"identify\", \"identify\", \"identify\", \"identifying_girls\", \"identity\", \"idr\", \"ied\", \"ignore\", \"illegal\", \"ils\", \"ils_ending\", \"impact\", \"impact\", \"impress\", \"improve\", \"improve_service\", \"imt\", \"inappropriate\", \"include\", \"include\", \"include\", \"include\", \"include\", \"include\", \"include\", \"include\", \"include\", \"include\", \"income\", \"inconvenience\", \"inconvenience\", \"inconvenience\", \"inconvenience\", \"inconvenience\", \"inconvenience\", \"inconvenience\", \"inconvenience_caused\", \"inconvenience_caused\", \"inconvenience_caused\", \"inconvenience_matter\", \"inconvenience_matter\", \"inconvenient\", \"incorrect\", \"incorrect\", \"incorrect\", \"incorrect\", \"incorrect_advice\", \"incorrect_info\", \"incorrect_information\", \"incorrect_information\", \"incorrect_information\", \"incorrect_information\", \"incorrect_information\", \"incorrectly\", \"incorrectly\", \"incorrectly\", \"incorrectly\", \"increase\", \"increase\", \"increase\", \"increase\", \"increase_annual\", \"incur\", \"incur\", \"incur\", \"incur\", \"incur\", \"incur\", \"individual\", \"individual_simple\", \"industry\", \"ineligible\", \"ineligible_bonus\", \"info\", \"info\", \"info\", \"inform\", \"inform\", \"inform\", \"inform\", \"inform\", \"inform\", \"inform\", \"inform\", \"inform\", \"inform\", \"inform\", \"inform\", \"inform\", \"informal_overdraft\", \"information\", \"information\", \"information\", \"information\", \"information\", \"information\", \"information\", \"information_relevant\", \"ing\", \"initiate\", \"instruction\", \"instructions\", \"instructions\", \"insufficient_funds\", \"insufficient_information\", \"insurance\", \"insurance_claim\", \"insurance_premium\", \"int\", \"int\", \"intend\", \"intention\", \"inter_product\", \"interest_charges\", \"intermediary\", \"internal\", \"internal\", \"internal\", \"internal_review\", \"internally\", \"internally\", \"internally\", \"international\", \"international\", \"international_cheque\", \"international_payments\", \"international_telegraphic\", \"international_transfer\", \"internet\", \"internet\", \"internet\", \"internet\", \"internet_banking\", \"internet_banking\", \"introduce\", \"invest\", \"investigate_matter\", \"investigation\", \"investigation\", \"investigation\", \"investigation\", \"investigation\", \"investigation\", \"investment\", \"investment\", \"investment\", \"investment_loan\", \"invoice\", \"ion\", \"ipt\", \"issue\", \"issue\", \"issue\", \"issue\", \"issue\", \"issue\", \"issue\", \"issue\", \"issue\", \"issue\", \"issue\", \"issue\", \"issue\", \"issue\", \"issue\", \"issue\", \"issue\", \"issue\", \"issue\", \"issue_rectified\", \"issue_resolved\", \"issues_encountered\", \"issues_raised\", \"items\", \"ivr\", \"ivr\", \"jan\", \"jennifer\", \"john\", \"joint\", \"joint\", \"joint\", \"joint_names\", \"k_bonus\", \"keeping_fee\", \"kid\", \"know\", \"know\", \"know\", \"know\", \"know\", \"know\", \"know\", \"know\", \"know\", \"know\", \"know\", \"know\", \"know\", \"knowledge\", \"knowledge\", \"kyc\", \"lack_service\", \"lady\", \"lapse\", \"late\", \"late_husband\", \"late_payment\", \"late_payment\", \"lawyers\", \"layout\", \"legal\", \"legal\", \"legitimate\", \"lend\", \"lend\", \"lend\", \"lend\", \"lender\", \"lending_criteria\", \"letter\", \"letter\", \"letter\", \"letter\", \"letter_advising\", \"letter_advising\", \"letter_advising\", \"letter_apologising\", \"letter_dated\", \"letter_sent\", \"letter_sent\", \"letter_sent\", \"letter_sent\", \"letter_sent\", \"letter_sent\", \"letter_sent\", \"letter_sent\", \"letter_sent\", \"letter_sent\", \"letter_sent\", \"letter_sent\", \"letter_sent\", \"letter_sent\", \"letter_sent\", \"letter_sent\", \"letter_sent\", \"letter_sent\", \"letter_stating\", \"letter_stating\", \"letting_know\", \"liable\", \"liaise\", \"liaise\", \"liaise\", \"liaise\", \"light_poor\", \"like\", \"like\", \"like\", \"like\", \"like\", \"like\", \"like\", \"like\", \"like\", \"like\", \"like\", \"like\", \"like\", \"like\", \"like\", \"like\", \"like\", \"like\", \"like\", \"like\", \"like\", \"like\", \"like\", \"like\", \"limit\", \"limit_increase\", \"line\", \"line\", \"line\", \"line\", \"line\", \"line\", \"line\", \"line\", \"line\", \"line_staff\", \"link\", \"link\", \"link\", \"linked_break\", \"linked_offset\", \"liquidations\", \"list\", \"list\", \"list\", \"list\", \"loa\", \"load\", \"loan\", \"loan_drawn\", \"local_branch\", \"location\", \"lodge\", \"lodge\", \"lodge\", \"lodge\", \"lodge\", \"lodge\", \"lodgement\", \"log\", \"log\", \"long_term\", \"long_term\", \"long_time\", \"long_wait\", \"loo\", \"look\", \"look\", \"look\", \"look\", \"look\", \"look\", \"look\", \"look\", \"look\", \"look\", \"look\", \"look\", \"look\", \"looked_internally\", \"loose\", \"lose\", \"lose\", \"lose\", \"lose\", \"lose\", \"lose\", \"lose\", \"loss\", \"loss\", \"loss\", \"loss\", \"loss_incurred\", \"lost_stolen\", \"lounge\", \"lounge_access\", \"lounge_passes\", \"low_rate\", \"low_rate\", \"low_rate\", \"lower\", \"lower_rate\", \"loyalty\", \"loyalty\", \"machine\", \"madam\", \"mail\", \"mailing_address\", \"maintenance\", \"makes_difference\", \"making_payments\", \"making_people\", \"mall\", \"man\", \"management_review\", \"management_team\", \"manager\", \"manager\", \"manager\", \"manager\", \"manager\", \"manager\", \"manager_investigation\", \"managers\", \"manger\", \"manner\", \"manual\", \"manually\", \"margin\", \"mark\", \"marriage\", \"marriage_equality\", \"marry\", \"mastercard\", \"match\", \"matter\", \"matter\", \"matter\", \"matter\", \"matter\", \"matter\", \"matter\", \"matter\", \"matter_caused\", \"matter_caused\", \"matter_caused\", \"matter_consider\", \"matter_resolved\", \"matter_resolved\", \"matter_respond\", \"matter_reviewed\", \"mcs\", \"measure\", \"media\", \"meet_criteria\", \"meet_needs\", \"membership\", \"mer\", \"merchant\", \"merchant\", \"merchant_facility\", \"merchant_services\", \"merchant_terminal\", \"merchants\", \"merge\", \"met_criteria\", \"michael\", \"mind\", \"minimum\", \"minimum\", \"minimum_monthly\", \"minimum_payment\", \"mins\", \"minutes\", \"minutes\", \"mis\", \"misinformation\", \"mislead\", \"misleading_information\", \"miss\", \"miss\", \"miss\", \"miss\", \"miss\", \"missed_bonus\", \"mistake\", \"mistake\", \"mistaken_internet\", \"mistaken_payment\", \"misunderstand\", \"mobile_lender\", \"mobile_number\", \"mobile_phone\", \"money\", \"money\", \"money_app\", \"month\", \"month\", \"month\", \"month\", \"month\", \"month\", \"month\", \"month_period\", \"monthly\", \"monthly\", \"monthly\", \"months\", \"months\", \"months\", \"months\", \"months\", \"months\", \"months_ago\", \"months_ago\", \"months_ago\", \"months_ago\", \"morning\", \"morning\", \"mortgage\", \"mortgage\", \"mortgage_broker\", \"mother\", \"mrs\", \"nab\", \"national\", \"near\", \"near\", \"nearest_branch\", \"need\", \"need\", \"need\", \"need\", \"need\", \"need\", \"need\", \"need\", \"need\", \"need\", \"need\", \"need\", \"need\", \"need\", \"need\", \"need\", \"need\", \"need\", \"need_visit\", \"negotiate\", \"negotiate\", \"net\", \"network\", \"new\", \"new\", \"new\", \"new\", \"new\", \"new\", \"new\", \"new_zealand\", \"news\", \"night\", \"night\", \"nil_balance\", \"nominate\", \"nominate\", \"nominate\", \"nominate\", \"non_payment\", \"notice\", \"notice\", \"notice\", \"notice\", \"notice\", \"notice\", \"notice\", \"notice\", \"notice\", \"notifications\", \"notify\", \"notify\", \"notify\", \"notify\", \"notify\", \"notify\", \"notify\", \"notify\", \"notify\", \"notify\", \"notify\", \"number\", \"number\", \"number\", \"number\", \"number\", \"number\", \"number\", \"number\", \"number\", \"numerous_times\", \"nzs\", \"offer\", \"offer\", \"offer\", \"offer\", \"offer\", \"offer\", \"offer\", \"offer\", \"offer\", \"offer\", \"offer\", \"offered_good\", \"offered_good\", \"offered_goodwill\", \"offerred\", \"officer\", \"offset\", \"offset_linked\", \"old\", \"old\", \"old\", \"ombudsman\", \"ones\", \"ongoing\", \"online\", \"online\", \"online\", \"online\", \"online\", \"online\", \"online_channels\", \"online_saver\", \"open\", \"open\", \"open\", \"open\", \"open\", \"open\", \"open\", \"open\", \"opening_new\", \"operation\", \"operator\", \"operator\", \"operators\", \"opportunity_investigate\", \"opportunity_investigate\", \"opportunity_review\", \"option\", \"option\", \"option\", \"option\", \"option\", \"option\", \"option\", \"order\", \"order\", \"order\", \"order\", \"order\", \"order\", \"order\", \"order\", \"organise\", \"organise\", \"organise\", \"organise\", \"organise\", \"organise\", \"organise\", \"organise\", \"organise\", \"organise\", \"organise\", \"organize\", \"original\", \"original\", \"original\", \"original\", \"original\", \"original\", \"outbound\", \"outcome\", \"outcome\", \"outcome\", \"outcome\", \"outcome\", \"outcome_sought\", \"outcome_sought\", \"outcome_sought\", \"outcome_type\", \"outline\", \"outside_terms\", \"outstanding\", \"outstanding\", \"outstanding\", \"overdraft\", \"overdraft_facility\", \"overdraw\", \"overdraw\", \"overdrawn_fees\", \"overdue\", \"overnight\", \"overpay\", \"overseas\", \"overseas_transaction\", \"owe\", \"owe\", \"owing_balance\", \"package\", \"pad\", \"pad\", \"page\", \"paper_statements\", \"paperwork\", \"paperwork\", \"parent\", \"park\", \"park\", \"partial\", \"partner\", \"partner\", \"partner\", \"party\", \"pass\", \"pass\", \"pass\", \"pass_feedback\", \"pass_feedback\", \"passed_away\", \"passed_relevant\", \"passport\", \"password\", \"past_years\", \"pay\", \"pay\", \"pay\", \"pay\", \"pay\", \"pay\", \"pay\", \"pay\", \"pay\", \"pay\", \"pay_direct\", \"pay_wave\", \"payee\", \"payment\", \"payment\", \"payment_arrangement\", \"payments\", \"payments\", \"payments\", \"payout\", \"payout_figure\", \"penalties\", \"pending\", \"pending\", \"pending\", \"pending\", \"pending_transactions\", \"pension\", \"pension\", \"pensioner_advantage\", \"people\", \"people\", \"period\", \"period\", \"period\", \"period\", \"period\", \"period\", \"period\", \"period\", \"permission\", \"personal\", \"personal\", \"personal_banker\", \"personal_banker\", \"personal_information\", \"personal_loan\", \"personally\", \"persons\", \"pertain\", \"perth\", \"phone\", \"phone\", \"phone\", \"phone\", \"phone\", \"phone\", \"phone\", \"phone\", \"phone\", \"pick\", \"pick\", \"pick\", \"pin\", \"pin_number\", \"pkg\", \"place\", \"place\", \"place\", \"place\", \"place\", \"place\", \"place\", \"place\", \"place\", \"place\", \"place\", \"place\", \"place\", \"place_residence\", \"place_waiver\", \"platform\", \"platinum\", \"platinum\", \"play\", \"pleased_resolution\", \"poa\", \"point\", \"point\", \"points_allocated\", \"police\", \"police\", \"policies\", \"policies\", \"policy\", \"policy\", \"policy\", \"policy\", \"policy\", \"policy\", \"policy\", \"poor_experience\", \"poor_experience\", \"poor_experience\", \"poor_experience\", \"poor_experience\", \"poor_service\", \"poor_service\", \"post\", \"post\", \"post\", \"post\", \"post\", \"post\", \"post_office\", \"potential\", \"power_attorney\", \"pre\", \"premium\", \"prepared_offer\", \"present\", \"present\", \"present\", \"present\", \"presently\", \"previous\", \"previous\", \"previous\", \"previous\", \"previous\", \"previous\", \"previous\", \"previous\", \"previous\", \"price\", \"primary_holder\", \"principal\", \"principle\", \"print\", \"prior_applying\", \"prior_complaints\", \"privacy_breach\", \"private\", \"pro_rata\", \"problem\", \"problem\", \"problem\", \"procedure\", \"procedure\", \"process\", \"process\", \"process\", \"process\", \"process\", \"process\", \"process\", \"process\", \"process\", \"process\", \"process\", \"process\", \"process\", \"process\", \"process\", \"processing_times\", \"product\", \"product\", \"product\", \"product\", \"product_transfer\", \"products\", \"products\", \"products\", \"products_services\", \"products_team\", \"profile\", \"profile\", \"program\", \"program\", \"progress\", \"progress\", \"progress_saver\", \"project\", \"promise\", \"promise\", \"promise\", \"promise\", \"promise\", \"promise\", \"promise\", \"promise\", \"promise\", \"promotion\", \"promotional_offer\", \"prompt\", \"properties\", \"property\", \"property\", \"propose\", \"protect\", \"provide\", \"provide\", \"provide\", \"provide\", \"provide\", \"provide\", \"provide\", \"provide\", \"provide\", \"provide\", \"provide\", \"provide\", \"provide\", \"provide\", \"provide\", \"provide_feedback\", \"provide_feedback\", \"provide_supporting\", \"provided_known\", \"providers\", \"provides_opportunity\", \"provision\", \"pts\", \"pty\", \"purchase\", \"purchase\", \"purchase\", \"purchase\", \"pursue\", \"qantas\", \"qantas_lounge\", \"qantas_membership\", \"qantas_points\", \"qld\", \"qualify\", \"qualify\", \"question\", \"question\", \"question\", \"question\", \"question\", \"question\", \"question\", \"queue\", \"quick\", \"quote\", \"quote\", \"raise\", \"raise\", \"raise\", \"raise\", \"raise\", \"raise\", \"raise\", \"raised_concerns\", \"raised_dispute\", \"rat\", \"rate\", \"rate_increase\", \"rate_increased\", \"rd_party\", \"reach\", \"reach\", \"reach\", \"read\", \"ready\", \"real_estate\", \"reason\", \"reason\", \"reason\", \"reason\", \"reason\", \"reason\", \"reason\", \"reason\", \"reason\", \"reason\", \"reason\", \"reason\", \"reason\", \"reason\", \"reassure\", \"recall\", \"recall_funds\", \"recall_funds\", \"recall_request\", \"receipt\", \"receipt\", \"receive\", \"receive\", \"receive\", \"receive\", \"receive\", \"receive\", \"receive\", \"receive\", \"receive\", \"receive\", \"receive\", \"receive\", \"receive\", \"receive\", \"receive\", \"receive\", \"receive_notification\", \"received_text\", \"receiving_statements\", \"recent_experience\", \"recieved\", \"recipient\", \"recipients\", \"reconciliation\", \"reconfirmed_concerns\", \"recorded_outcome\", \"recorded_passed\", \"recover\", \"rectify\", \"rectify\", \"rectify_error\", \"redeem\", \"redeem\", \"redeem_points\", \"redemption\", \"redemption\", \"redraw\", \"reduce\", \"reduce\", \"reduce\", \"reduction\", \"refer\", \"refer\", \"refer\", \"refer\", \"refer\", \"refer_icm\", \"reference\", \"referral\", \"refinance\", \"refinance\", \"refund\", \"refund\", \"refund\", \"refund\", \"regard\", \"regard\", \"regard\", \"regard\", \"regard\", \"regard\", \"regard\", \"registration\", \"registration\", \"registration\", \"registration_referral\", \"registration_referral\", \"regret\", \"regular\", \"regular\", \"reimburse\", \"reimburse\", \"reimburse\", \"reimburse\", \"reimburse\", \"reimbursement\", \"reimbursement\", \"reimbursement\", \"reimbursement\", \"reinstate\", \"reinstatement\", \"reissue\", \"relate\", \"relate\", \"relate\", \"relate\", \"relation\", \"relation\", \"relation\", \"relation\", \"relation\", \"relation\", \"relation\", \"relation\", \"relation\", \"release\", \"release_title\", \"relevant\", \"relevant\", \"relevant\", \"relevant\", \"relevant\", \"relevant\", \"relevant_area\", \"relevant_area\", \"relevant_area\", \"relevant_areas\", \"relevant_areas\", \"relevant_areas\", \"relevant_areas\", \"relevant_manager\", \"relevant_team\", \"relevant_team\", \"relevant_team\", \"relevant_teams\", \"reluctant\", \"rely\", \"remained_open\", \"remains_open\", \"reminder\", \"remitter\", \"remove\", \"remove\", \"remove\", \"remove\", \"remove\", \"remove\", \"remove\", \"remove\", \"renew\", \"rent\", \"rental\", \"reopen\", \"repay\", \"repayment\", \"repayments\", \"repayments\", \"repayments\", \"repeat\", \"repeatedly\", \"replace\", \"replacement\", \"reply\", \"reply\", \"reply\", \"reply\", \"report\", \"report\", \"representative\", \"req\", \"request\", \"request\", \"request\", \"request\", \"request\", \"request\", \"request\", \"request\", \"request\", \"request\", \"request\", \"request\", \"request\", \"request\", \"request\", \"request_actioned\", \"request_actioned\", \"require\", \"require\", \"require\", \"require\", \"require\", \"require\", \"require\", \"require\", \"require\", \"require\", \"require\", \"require\", \"require\", \"requirement\", \"requirement\", \"requirements\", \"requirements\", \"residential_address\", \"residential_investment\", \"residual\", \"resolution\", \"resolution\", \"resolution\", \"resolution\", \"resolution\", \"resolution\", \"resolution\", \"resolution\", \"resolution\", \"resolution\", \"resolution\", \"resolution_centre\", \"resolve\", \"resolve\", \"resolve\", \"resolve\", \"resolve\", \"resolve\", \"resolve\", \"resolve\", \"resolve\", \"resolve\", \"resolve\", \"resolve\", \"resolve\", \"resolve\", \"resolved_fsp\", \"respect\", \"respond\", \"respond\", \"respond\", \"respond\", \"respond_concerns\", \"response\", \"response\", \"response\", \"response\", \"response\", \"response\", \"response\", \"response\", \"response\", \"response_writing\", \"responsibility\", \"responsible_lending\", \"restrain\", \"restraint\", \"restraint_placed\", \"restraints\", \"result\", \"result\", \"result\", \"result\", \"result\", \"result\", \"result\", \"result\", \"result\", \"result\", \"result\", \"result\", \"result\", \"retail_solutions\", \"retain\", \"retain\", \"retention\", \"retention\", \"retention_team\", \"retrieve\", \"return\", \"return\", \"return\", \"return\", \"return\", \"return\", \"return\", \"return\", \"return\", \"return\", \"return\", \"return\", \"return_flight\", \"reversal\", \"reversal\", \"reversals\", \"reverse\", \"reverse\", \"reverse\", \"reverse_charges\", \"revert\", \"review\", \"review\", \"review\", \"review\", \"review\", \"review\", \"review\", \"review\", \"review\", \"review\", \"review\", \"review_improve\", \"review_improve\", \"review_internally\", \"reward\", \"reward\", \"reward_points\", \"reward_program\", \"rewards_black\", \"rewards_centre\", \"rewards_platinum\", \"rewards_points\", \"rewards_program\", \"rewards_travel\", \"ride\", \"ridiculous\", \"ring\", \"ring\", \"ring\", \"ring\", \"ring\", \"risk\", \"roll\", \"rooms_toilets\", \"roughly\", \"royal\", \"rude\", \"rule\", \"run\", \"run\", \"run\", \"safe_deposit\", \"safety_deposit\", \"salary\", \"sale\", \"sales\", \"sarah\", \"satisfy\", \"satisfy\", \"satisfy\", \"satisfy\", \"saturday\", \"saturday\", \"save\", \"save\", \"save\", \"save\", \"save\", \"save\", \"save\", \"save\", \"saver\", \"saw\", \"scam\", \"school\", \"screen\", \"secondary\", \"secondary_holder\", \"section\", \"secure\", \"secure\", \"secure\", \"secure\", \"secure_mail\", \"secure_mail\", \"securemail\", \"security\", \"security\", \"security\", \"security\", \"security_code\", \"security_reasons\", \"seek\", \"seek\", \"seek\", \"seek\", \"seek\", \"seek\", \"seek\", \"seek\", \"seek\", \"seek\", \"seek\", \"seek\", \"seek\", \"seek\", \"seek\", \"seek\", \"seek\", \"seek\", \"seeking_compensation\", \"seeking_reimbursement\", \"seeking_reimbursement\", \"sell\", \"sell_property\", \"selling_house\", \"send\", \"send\", \"send\", \"send\", \"send\", \"send\", \"send\", \"send\", \"senior_personal\", \"sent_apologising\", \"sent_final\", \"sent_writing\", \"sent_writing\", \"separation\", \"seriously\", \"serve\", \"service\", \"service\", \"service\", \"service\", \"service_general\", \"service_individual\", \"servicing_fee\", \"servicing_fees\", \"set\", \"set\", \"set\", \"set\", \"set\", \"set\", \"set_correctly\", \"settle\", \"settle\", \"settle\", \"settlement\", \"settlement_agreement\", \"setup\", \"sex_marriage\", \"sexual\", \"share\", \"share_investing\", \"shareholders\", \"shield\", \"short\", \"short\", \"shortfall\", \"shortly\", \"showers_change\", \"sick\", \"sight\", \"sign\", \"sign\", \"sign\", \"sign\", \"signatories\", \"signatory\", \"signature\", \"signed_acceptance\", \"signing_authority\", \"simple\", \"simple\", \"simple_actioned\", \"simple_actioned\", \"simple_compliant\", \"simplicity_plus\", \"simply\", \"simply\", \"sincerely_apologise\", \"sincerely_apologise\", \"sister\", \"sit\", \"sit\", \"site\", \"site\", \"situation\", \"situation\", \"situation\", \"situation\", \"situation\", \"situation\", \"situations\", \"small_business\", \"sms\", \"sms\", \"sms\", \"social_media\", \"social_media\", \"social_media\", \"society\", \"sold_property\", \"solely\", \"solicitor\", \"solicitor\", \"solicitors\", \"solution\", \"solution\", \"solutions\", \"solutions\", \"son\", \"sons\", \"soon\", \"soon\", \"soon\", \"sooner\", \"sop\", \"sorry_hear\", \"sorry_service\", \"space\", \"speak\", \"speak\", \"speak\", \"speak\", \"speak\", \"speak\", \"speak\", \"speak\", \"speak\", \"speak\", \"speak\", \"special_clearance\", \"specialist\", \"specifically\", \"spell\", \"spend\", \"spend\", \"spend\", \"spend\", \"spend\", \"spend\", \"spent_months\", \"split\", \"spot\", \"st_year\", \"staff\", \"staff\", \"staff\", \"staff\", \"staff\", \"staff\", \"staff\", \"staff_member\", \"staff_member\", \"staff_member\", \"staff_member\", \"staff_member\", \"stamp\", \"standard\", \"standard\", \"standard_variable\", \"start\", \"start\", \"start\", \"start\", \"start\", \"state\", \"state\", \"state\", \"state\", \"state\", \"state\", \"state\", \"state\", \"state\", \"state\", \"state\", \"state\", \"state\", \"state\", \"state\", \"state\", \"statement\", \"statement\", \"statement\", \"statement\", \"statement_cycle\", \"statement_cycle\", \"statement_cycle\", \"statement_period\", \"statements\", \"statment\", \"status\", \"status\", \"status_credits\", \"steal\", \"step\", \"step\", \"stop\", \"stop\", \"stop\", \"stop\", \"stop\", \"stop\", \"stop\", \"straight\", \"structure\", \"struggle\", \"stuff\", \"stupid\", \"subject_change\", \"submit\", \"submit\", \"submit\", \"submit\", \"submit\", \"submitting_application\", \"subsequent\", \"substantial\", \"success\", \"successfully\", \"successfully_transaction\", \"sufficient_funds\", \"suggestion\", \"suggestion\", \"suit\", \"summary\", \"summary\", \"super\", \"super_fund\", \"superannuation\", \"supervisor\", \"supplier\", \"supply\", \"support\", \"support\", \"support\", \"support\", \"support\", \"support_marriage\", \"sure\", \"sure\", \"sure\", \"sure\", \"sure\", \"sure\", \"sure\", \"sure\", \"sure\", \"sure\", \"surplus_funds\", \"suspect\", \"switch\", \"switch\", \"systems\", \"systems\", \"systems\", \"talk\", \"talk\", \"tax\", \"tax\", \"tax_file\", \"tax_return\", \"taxi\", \"team\", \"team\", \"team\", \"team\", \"team\", \"team\", \"team\", \"team\", \"team\", \"team\", \"team\", \"team\", \"team\", \"teh\", \"telegraphic_transfer\", \"tell\", \"tell\", \"tell\", \"tell\", \"tell\", \"tell\", \"tell\", \"teller\", \"tellers\", \"telstra\", \"template_poor\", \"temporary\", \"tenure\", \"term\", \"term\", \"term\", \"term\", \"term_deposit\", \"term_deposits\", \"terminal\", \"terminate\", \"terms_conditions\", \"terms_conditions\", \"test\", \"text_message\", \"tfn\", \"thank\", \"thank\", \"thank\", \"thank_opportunity\", \"thank_patience\", \"thanked_time\", \"thanks_sharing\", \"thing\", \"think\", \"think\", \"think\", \"think\", \"think\", \"think\", \"think\", \"think\", \"think\", \"think\", \"threaten\", \"thursday\", \"thursday\", \"ticket\", \"ticket\", \"ticket\", \"time\", \"time\", \"time\", \"time\", \"time\", \"time\", \"time\", \"time\", \"time\", \"time\", \"time\", \"time\", \"time\", \"time\", \"time\", \"time\", \"time_frame\", \"time_frame\", \"time_frame\", \"time_frames\", \"time_frames\", \"time_frames\", \"title\", \"today\", \"today\", \"today\", \"today\", \"today\", \"today\", \"today\", \"today\", \"today\", \"today\", \"today\", \"today\", \"today\", \"today\", \"today\", \"today\", \"today\", \"today\", \"tomorrow\", \"tonight\", \"tot\", \"total\", \"total\", \"total\", \"total\", \"total\", \"total\", \"total\", \"total\", \"total\", \"totally\", \"townsville\", \"trace\", \"track\", \"trade\", \"train\", \"trans\", \"transaction\", \"transaction\", \"transaction_query\", \"transaction_saved\", \"transactions\", \"transfer\", \"transfer\", \"transferring_funds\", \"transgender_marriage\", \"transpire\", \"travel\", \"travel\", \"travel_cards\", \"travel_insurance\", \"trust\", \"trust\", \"trust\", \"try\", \"try\", \"try\", \"try\", \"try\", \"try\", \"try\", \"try\", \"try\", \"txn\", \"type\", \"type\", \"type\", \"type\", \"type\", \"type\", \"type\", \"uber\", \"unable\", \"unable\", \"unable\", \"unable\", \"unable\", \"unable\", \"unable\", \"unable\", \"unable\", \"unable\", \"unable\", \"unable\", \"unable\", \"unable\", \"unable\", \"unable_assist\", \"unable_identify\", \"unable_overturn\", \"unable_redeem\", \"unable_verify\", \"unauthorised\", \"unauthorised_transaction\", \"unauthorised_transactions\", \"unavailable\", \"unaware\", \"unconditional_contract\", \"understand\", \"understand\", \"understand\", \"understand\", \"understand\", \"understand\", \"understand\", \"understand\", \"understand\", \"understand\", \"understand\", \"understand\", \"understand\", \"unfair\", \"unfortunately_unable\", \"unfortunately_unable\", \"unhappy\", \"unhappy\", \"unhappy\", \"unhappy\", \"unhappy\", \"unhappy\", \"unhappy\", \"unhappy\", \"unhappy\", \"unhappy\", \"unhappy\", \"unhappy\", \"unprofessional\", \"unreasonable\", \"unsatisfied\", \"unsuccessful\", \"unsuccessful\", \"update\", \"update\", \"update\", \"update\", \"update\", \"update\", \"upgrade\", \"urgency\", \"urgently\", \"usd\", \"use\", \"use\", \"use\", \"use\", \"use\", \"use\", \"use\", \"use\", \"use\", \"valid\", \"valid\", \"valuation\", \"value\", \"value\", \"value\", \"value\", \"value\", \"variable\", \"variable\", \"variable_fixed\", \"variable_rate\", \"variable_rate\", \"vehicle\", \"velocity\", \"velocity_points\", \"verbally\", \"verbally\", \"verify\", \"verify\", \"verify\", \"version\", \"vic\", \"victoria\", \"view\", \"view\", \"virgin\", \"visa\", \"visa_debit\", \"visa_debit\", \"visit\", \"visit\", \"visit\", \"visit_branch\", \"visit_branch\", \"visit_branch\", \"visit_branch\", \"visited_branch\", \"visited_branch\", \"visiting_branch\", \"voucher\", \"wag\", \"wait\", \"wait\", \"wait\", \"wait\", \"wait\", \"wait\", \"wait_minutes\", \"waive\", \"waive\", \"waiver\", \"waiver\", \"waivers\", \"walk\", \"wallet\", \"want\", \"want\", \"want\", \"want\", \"want\", \"want\", \"want\", \"want\", \"want\", \"want\", \"want\", \"want\", \"want\", \"want\", \"want\", \"want\", \"want\", \"want\", \"want\", \"want\", \"want\", \"want\", \"want\", \"want\", \"want\", \"want_know\", \"wanted_know\", \"wanted_know\", \"wanted_lodge\", \"wants_know\", \"wants_know\", \"wants_know\", \"wants_know\", \"wants_know\", \"wants_know\", \"wants_know\", \"wants_lodge\", \"warm\", \"warm_transferred\", \"waste\", \"wasting_time\", \"way\", \"way\", \"way\", \"way\", \"way\", \"way\", \"web_voucher\", \"website\", \"website\", \"week\", \"week\", \"week\", \"week\", \"week\", \"week\", \"week\", \"week_ago\", \"week_ago\", \"weekly\", \"weeks\", \"weeks\", \"weeks\", \"weeks\", \"weeks\", \"weeks\", \"weeks\", \"weeks\", \"western_union\", \"westfield_gift\", \"westpac\", \"wife\", \"wifes\", \"wil\", \"withdraw\", \"withdraw\", \"withdraw\", \"withdraw\", \"withdraw_funds\", \"withdraw_funds\", \"withdrawal\", \"withdrawal\", \"withdrawals\", \"withhold\", \"wonder\", \"wont\", \"work\", \"work\", \"work\", \"work\", \"work\", \"work\", \"work\", \"work\", \"work\", \"work\", \"world\", \"worst_service\", \"worth\", \"worth\", \"wouldn\", \"write\", \"write\", \"write\", \"write\", \"write\", \"write\", \"write\", \"write\", \"written_confirmation\", \"written_response\", \"written_response\", \"written_response\", \"wrong\", \"wrong\", \"wrong\", \"wrong_address\", \"www\", \"xxx\", \"year\", \"year\", \"year\", \"year\", \"year\", \"year\", \"year\", \"year\", \"year_ago\", \"years\", \"years\", \"years\", \"years\", \"years\", \"years\", \"years\", \"years\", \"years\", \"years\", \"years\", \"years\", \"years_ago\", \"years_ago\", \"years_ago\", \"young\", \"yrs\", \"zero_balance\"], \"Topic\": [1, 7, 9, 14, 15, 16, 20, 21, 22, 29, 32, 33, 35, 32, 31, 35, 5, 28, 1, 3, 9, 10, 12, 14, 16, 18, 19, 20, 21, 22, 23, 24, 25, 28, 31, 33, 13, 19, 12, 13, 23, 26, 23, 26, 20, 21, 4, 15, 8, 13, 20, 23, 24, 33, 3, 23, 2, 30, 8, 16, 22, 36, 18, 36, 25, 7, 2, 4, 8, 13, 14, 17, 18, 20, 23, 26, 29, 33, 13, 13, 3, 34, 12, 32, 19, 29, 2, 6, 7, 21, 22, 32, 35, 7, 8, 14, 16, 22, 24, 26, 32, 33, 32, 15, 17, 20, 23, 29, 30, 35, 18, 13, 20, 18, 22, 21, 22, 36, 27, 27, 30, 27, 5, 21, 1, 1, 7, 14, 22, 24, 27, 34, 1, 23, 21, 14, 19, 35, 2, 1, 2, 4, 5, 8, 12, 14, 16, 18, 19, 20, 22, 24, 25, 28, 31, 33, 7, 16, 11, 14, 20, 2, 36, 9, 12, 12, 31, 12, 1, 2, 4, 6, 8, 12, 29, 30, 35, 36, 22, 33, 11, 33, 14, 19, 30, 31, 31, 31, 36, 16, 24, 16, 9, 16, 16, 31, 16, 19, 4, 13, 8, 9, 10, 12, 14, 16, 17, 18, 20, 21, 25, 28, 29, 30, 33, 18, 33, 31, 1, 4, 8, 9, 12, 15, 16, 20, 21, 22, 23, 25, 28, 29, 30, 31, 33, 9, 26, 14, 8, 6, 10, 32, 1, 16, 10, 10, 12, 10, 9, 10, 12, 16, 18, 19, 21, 22, 35, 23, 7, 35, 12, 14, 18, 19, 4, 10, 12, 14, 18, 5, 2, 7, 19, 29, 34, 6, 19, 2, 5, 19, 23, 15, 35, 4, 24, 34, 13, 5, 7, 8, 12, 14, 16, 17, 18, 20, 32, 34, 35, 26, 26, 10, 10, 18, 7, 15, 20, 23, 29, 7, 13, 15, 19, 20, 26, 21, 30, 34, 29, 29, 8, 19, 27, 29, 35, 34, 16, 24, 33, 5, 6, 23, 24, 34, 35, 6, 24, 29, 2, 5, 7, 28, 10, 11, 4, 25, 1, 9, 12, 15, 18, 21, 22, 23, 29, 31, 33, 35, 23, 24, 31, 35, 10, 14, 9, 2, 22, 11, 34, 3, 8, 22, 31, 8, 2, 33, 3, 22, 31, 31, 18, 5, 4, 21, 6, 10, 1, 2, 6, 7, 8, 9, 14, 16, 18, 22, 23, 24, 26, 28, 29, 30, 31, 32, 20, 33, 9, 12, 16, 22, 23, 34, 18, 14, 12, 11, 28, 20, 11, 28, 6, 34, 18, 29, 12, 21, 9, 12, 30, 14, 35, 11, 29, 11, 33, 2, 17, 35, 29, 35, 6, 7, 18, 8, 14, 22, 4, 29, 35, 29, 27, 11, 8, 35, 32, 1, 8, 9, 16, 18, 20, 25, 31, 33, 3, 25, 2, 22, 35, 6, 21, 31, 17, 21, 21, 20, 5, 8, 16, 28, 32, 35, 9, 11, 28, 3, 7, 4, 15, 4, 27, 17, 17, 7, 4, 7, 8, 9, 22, 23, 28, 34, 1, 12, 16, 18, 19, 20, 22, 23, 25, 28, 33, 35, 8, 3, 24, 29, 36, 36, 31, 3, 5, 8, 9, 13, 15, 16, 20, 21, 23, 28, 29, 30, 33, 13, 11, 1, 8, 16, 35, 23, 27, 34, 25, 29, 34, 35, 7, 29, 28, 22, 18, 26, 19, 11, 22, 9, 16, 31, 19, 15, 5, 9, 15, 18, 24, 25, 29, 30, 31, 32, 33, 35, 3, 24, 3, 20, 3, 30, 6, 10, 33, 4, 1, 2, 5, 9, 10, 12, 16, 20, 23, 30, 15, 1, 2, 3, 8, 14, 31, 33, 35, 2, 1, 7, 14, 8, 12, 23, 29, 36, 1, 8, 31, 23, 4, 8, 29, 25, 29, 6, 35, 5, 8, 5, 8, 7, 6, 1, 19, 23, 31, 2, 5, 9, 14, 20, 22, 28, 29, 33, 35, 7, 26, 35, 23, 1, 3, 28, 36, 2, 7, 15, 29, 6, 7, 11, 23, 24, 35, 31, 18, 1, 2, 3, 9, 12, 14, 16, 21, 23, 24, 30, 19, 25, 35, 25, 6, 3, 7, 9, 10, 13, 14, 17, 22, 23, 29, 33, 35, 33, 32, 23, 5, 7, 15, 18, 20, 23, 29, 33, 13, 23, 15, 1, 9, 12, 19, 36, 11, 23, 8, 9, 12, 13, 16, 17, 18, 20, 22, 23, 28, 29, 30, 31, 33, 1, 23, 7, 22, 25, 3, 7, 9, 12, 16, 19, 22, 23, 29, 31, 34, 35, 1, 13, 20, 16, 9, 19, 27, 9, 12, 20, 9, 17, 33, 34, 30, 1, 7, 8, 9, 12, 13, 15, 17, 20, 22, 23, 28, 30, 33, 35, 2, 8, 14, 24, 16, 21, 24, 33, 6, 23, 35, 7, 9, 22, 30, 33, 35, 21, 14, 16, 20, 30, 36, 2, 23, 33, 23, 24, 27, 9, 34, 35, 10, 7, 1, 14, 16, 21, 25, 26, 27, 31, 33, 35, 33, 3, 7, 10, 8, 9, 10, 12, 16, 21, 23, 28, 31, 33, 5, 23, 9, 31, 30, 30, 29, 24, 7, 8, 9, 15, 18, 19, 21, 22, 31, 35, 10, 2, 32, 12, 24, 1, 5, 7, 8, 13, 14, 18, 21, 22, 23, 31, 32, 2, 7, 5, 8, 9, 11, 14, 28, 33, 34, 35, 36, 5, 9, 13, 14, 17, 19, 22, 33, 35, 10, 22, 27, 7, 14, 34, 16, 16, 4, 5, 8, 28, 2, 7, 8, 19, 27, 9, 13, 35, 14, 19, 24, 26, 29, 3, 8, 10, 18, 19, 28, 14, 30, 4, 8, 8, 8, 14, 17, 20, 25, 33, 1, 31, 22, 35, 1, 19, 5, 4, 11, 4, 10, 17, 24, 35, 3, 3, 28, 36, 30, 28, 18, 24, 31, 33, 23, 7, 9, 29, 33, 34, 8, 33, 8, 23, 17, 15, 3, 11, 24, 31, 35, 26, 7, 25, 27, 36, 13, 10, 18, 29, 1, 25, 7, 13, 15, 18, 19, 20, 22, 23, 34, 10, 18, 27, 31, 16, 11, 23, 28, 36, 8, 24, 28, 1, 10, 18, 29, 35, 30, 29, 14, 2, 7, 10, 14, 20, 14, 1, 20, 33, 21, 34, 5, 4, 14, 8, 14, 16, 22, 29, 35, 22, 2, 19, 28, 21, 5, 3, 8, 9, 35, 27, 21, 30, 31, 10, 20, 27, 1, 4, 5, 9, 16, 21, 22, 27, 28, 29, 31, 33, 32, 12, 36, 26, 36, 28, 32, 32, 1, 9, 9, 12, 12, 29, 22, 2, 7, 17, 23, 2, 5, 9, 27, 11, 4, 29, 32, 4, 7, 32, 15, 12, 4, 8, 13, 22, 23, 31, 33, 34, 35, 5, 7, 20, 7, 20, 28, 5, 6, 6, 14, 8, 22, 4, 25, 30, 33, 14, 30, 12, 15, 16, 35, 11, 13, 23, 36, 14, 26, 24, 24, 36, 9, 1, 9, 12, 18, 19, 31, 32, 34, 13, 14, 18, 20, 34, 35, 21, 36, 10, 1, 5, 7, 12, 16, 18, 20, 22, 26, 28, 29, 31, 32, 33, 35, 26, 5, 13, 16, 18, 23, 24, 29, 30, 32, 25, 4, 25, 27, 14, 20, 3, 2, 8, 16, 24, 25, 1, 3, 5, 6, 14, 18, 24, 35, 3, 13, 24, 28, 28, 20, 2, 7, 35, 3, 8, 17, 2, 19, 28, 27, 15, 16, 16, 6, 13, 18, 19, 20, 29, 34, 35, 20, 20, 9, 15, 20, 21, 29, 35, 1, 20, 29, 30, 31, 34, 19, 1, 7, 16, 19, 20, 26, 31, 34, 35, 11, 16, 34, 9, 8, 10, 14, 23, 36, 17, 5, 8, 11, 14, 18, 1, 14, 18, 19, 36, 6, 23, 25, 8, 2, 8, 20, 27, 14, 32, 7, 23, 23, 4, 8, 23, 33, 23, 19, 19, 2, 21, 31, 2, 5, 11, 22, 34, 35, 22, 1, 7, 8, 9, 12, 14, 17, 19, 20, 22, 23, 25, 28, 32, 33, 35, 23, 2, 1, 2, 11, 14, 16, 17, 20, 23, 30, 34, 35, 12, 26, 6, 26, 2, 7, 14, 20, 23, 24, 29, 36, 23, 28, 24, 24, 26, 5, 28, 18, 32, 31, 18, 5, 10, 12, 5, 11, 14, 24, 32, 34, 11, 21, 36, 12, 3, 33, 4, 24, 1, 3, 6, 15, 16, 19, 23, 24, 30, 31, 33, 35, 23, 28, 34, 2, 24, 26, 34, 5, 32, 28, 19, 27, 18, 24, 4, 1, 12, 16, 25, 31, 35, 9, 25, 6, 15, 16, 4, 9, 10, 16, 19, 21, 24, 31, 34, 35, 9, 16, 21, 28, 31, 33, 9, 16, 21, 23, 28, 31, 4, 12, 13, 16, 18, 21, 28, 31, 33, 25, 25, 13, 30, 32, 4, 1, 8, 9, 12, 16, 20, 25, 28, 29, 31, 33, 36, 28, 14, 22, 23, 28, 30, 33, 35, 9, 12, 16, 18, 19, 20, 21, 22, 28, 29, 31, 33, 19, 19, 19, 16, 11, 23, 16, 35, 7, 32, 34, 35, 34, 2, 4, 18, 26, 18, 14, 31, 2, 7, 9, 12, 14, 18, 22, 23, 30, 33, 34, 35, 15, 23, 28, 32, 15, 23, 35, 7, 14, 22, 24, 18, 22, 14, 18, 16, 1, 12, 18, 31, 11, 4, 9, 34, 2, 7, 14, 27, 32, 21, 15, 17, 23, 32, 35, 10, 20, 29, 30, 34, 30, 19, 14, 21, 32, 14, 11, 23, 30, 20, 15, 19, 14, 1, 6, 7, 8, 9, 10, 13, 16, 20, 24, 31, 10, 2, 3, 15, 19, 22, 24, 29, 13, 19, 33, 13, 23, 35, 4, 9, 30, 33, 12, 9, 9, 12, 18, 20, 29, 20, 23, 27, 31, 6, 18, 19, 26, 8, 13, 14, 16, 23, 24, 33, 34, 34, 7, 9, 9, 1, 2, 28, 1, 7, 8, 9, 12, 16, 17, 18, 22, 23, 29, 33, 35, 1, 1, 7, 13, 20, 23, 30, 33, 19, 11, 26, 4, 15, 34, 5, 21, 5, 28, 5, 11, 36, 4, 8, 9, 5, 33, 23, 24, 33, 35, 5, 10, 34, 24, 33, 14, 20, 33, 24, 1, 6, 24, 34, 15, 33, 11, 3, 13, 2, 4, 23, 28, 30, 33, 3, 7, 35, 22, 5, 31, 9, 3, 4, 5, 7, 8, 9, 14, 15, 20, 21, 22, 23, 25, 28, 29, 30, 31, 32, 35, 30, 36, 13, 13, 5, 21, 34, 5, 22, 30, 3, 15, 22, 22, 12, 28, 33, 1, 2, 5, 7, 10, 12, 13, 28, 29, 32, 33, 34, 35, 25, 34, 20, 20, 35, 3, 5, 20, 5, 16, 4, 20, 6, 7, 20, 10, 14, 18, 22, 18, 23, 7, 17, 19, 22, 20, 22, 23, 35, 23, 2, 7, 8, 10, 12, 13, 16, 18, 20, 21, 22, 25, 26, 28, 29, 30, 32, 33, 5, 31, 12, 24, 3, 11, 23, 29, 26, 1, 2, 5, 6, 7, 8, 9, 12, 15, 16, 17, 18, 20, 21, 22, 23, 26, 28, 29, 30, 31, 33, 34, 35, 6, 18, 1, 7, 8, 13, 16, 20, 23, 34, 35, 13, 22, 30, 32, 18, 22, 26, 8, 13, 23, 30, 2, 30, 22, 14, 24, 6, 4, 20, 23, 28, 29, 34, 16, 6, 15, 22, 34, 9, 20, 8, 2, 7, 9, 16, 17, 18, 20, 22, 24, 28, 29, 31, 34, 21, 20, 2, 3, 9, 14, 21, 24, 33, 23, 24, 30, 33, 3, 28, 13, 13, 25, 8, 9, 13, 31, 19, 22, 34, 2, 4, 17, 30, 3, 17, 18, 34, 33, 34, 12, 36, 4, 7, 20, 23, 29, 34, 13, 2, 17, 7, 30, 30, 36, 10, 6, 6, 6, 21, 19, 7, 13, 14, 19, 23, 28, 33, 35, 4, 13, 36, 19, 7, 27, 33, 35, 21, 30, 19, 12, 8, 31, 10, 11, 28, 11, 17, 27, 24, 19, 33, 7, 6, 23, 31, 7, 16, 35, 34, 35, 28, 9, 1, 15, 3, 5, 9, 14, 21, 30, 4, 14, 4, 21, 15, 4, 15, 35, 33, 35, 6, 5, 12, 16, 19, 21, 31, 35, 15, 7, 16, 26, 7, 12, 16, 18, 19, 31, 2, 7, 29, 35, 28, 34, 14, 18, 29, 7, 11, 35, 8, 2, 29, 27, 1, 5, 7, 8, 14, 15, 16, 17, 18, 20, 21, 22, 28, 29, 32, 33, 34, 35, 5, 2, 26, 11, 33, 9, 10, 12, 14, 18, 32, 34, 24, 11, 11, 35, 8, 3, 5, 8, 32, 8, 2, 3, 7, 8, 16, 23, 26, 28, 35, 27, 8, 11, 13, 20, 23, 24, 26, 28, 29, 33, 35, 1, 4, 7, 13, 20, 23, 30, 34, 35, 1, 19, 1, 9, 12, 16, 18, 19, 21, 23, 25, 31, 33, 21, 28, 8, 3, 7, 22, 22, 31, 32, 34, 7, 26, 32, 1, 9, 13, 15, 17, 35, 12, 21, 8, 12, 17, 21, 22, 29, 32, 34, 29, 12, 34, 35, 26, 23, 33, 19, 2, 6, 14, 15, 19, 29, 31, 2, 9, 11, 13, 14, 15, 19, 34, 5, 13, 15, 16, 19, 20, 22, 26, 29, 32, 33, 32, 2, 9, 14, 18, 20, 30, 20, 10, 12, 23, 27, 31, 7, 16, 35, 36, 26, 23, 4, 31, 35, 24, 24, 8, 21, 21, 8, 8, 25, 24, 24, 8, 19, 8, 18, 27, 34, 23, 15, 7, 34, 14, 5, 24, 27, 4, 15, 32, 25, 13, 25, 34, 20, 29, 7, 35, 32, 30, 18, 5, 8, 14, 16, 22, 23, 27, 31, 33, 35, 31, 28, 10, 5, 33, 19, 5, 19, 22, 22, 14, 16, 18, 23, 28, 29, 28, 18, 29, 28, 6, 34, 5, 9, 13, 14, 21, 22, 23, 31, 20, 7, 11, 29, 34, 32, 27, 7, 5, 8, 7, 7, 9, 12, 13, 15, 20, 23, 34, 35, 3, 6, 35, 15, 1, 16, 3, 5, 7, 8, 16, 20, 23, 28, 29, 31, 32, 34, 35, 36, 16, 17, 12, 31, 25, 5, 2, 9, 12, 12, 2, 10, 6, 13, 7, 14, 19, 24, 26, 29, 31, 4, 13, 14, 20, 29, 20, 34, 2, 14, 23, 25, 30, 35, 29, 10, 23, 10, 35, 8, 2, 3, 19, 24, 19, 4, 7, 9, 12, 16, 18, 20, 23, 31, 25, 32, 4, 1, 2, 12, 31, 21, 7, 25, 30, 34, 35, 8, 16, 3, 5, 8, 10, 12, 13, 14, 16, 20, 21, 23, 28, 31, 33, 35, 28, 9, 18, 22, 31, 31, 1, 18, 26, 30, 18, 20, 23, 30, 31, 23, 24, 21, 8, 1, 8, 9, 11, 12, 16, 18, 20, 23, 9, 9, 29, 14, 14, 22, 3, 10, 1, 7, 9, 10, 12, 13, 14, 16, 19, 20, 23, 25, 29, 30, 31, 20, 29, 12, 13, 32, 13, 16, 25, 2, 6, 12, 14, 31, 24, 12, 25, 36, 12, 2, 12, 31, 6, 7, 10, 15, 20, 30, 34, 34, 6, 14, 24, 1, 3, 22, 23, 27, 28, 29, 23, 28, 18, 18, 18, 26, 9, 6, 23, 33, 1, 14, 2, 1, 7, 10, 12, 13, 16, 17, 22, 24, 25, 28, 31, 34, 35, 30, 27, 27, 33, 33, 2, 23, 5, 7, 8, 9, 12, 13, 14, 17, 18, 20, 21, 23, 25, 28, 33, 35, 20, 27, 17, 4, 10, 33, 33, 26, 33, 36, 15, 14, 22, 30, 33, 25, 36, 36, 1, 13, 4, 19, 22, 31, 22, 7, 8, 22, 28, 31, 36, 23, 7, 18, 22, 16, 22, 28, 33, 2, 7, 16, 20, 21, 29, 31, 8, 23, 36, 25, 36, 6, 20, 32, 16, 21, 22, 24, 33, 14, 24, 31, 35, 8, 8, 25, 23, 30, 31, 34, 1, 4, 7, 13, 18, 20, 23, 29, 31, 14, 22, 13, 19, 20, 29, 33, 35, 15, 19, 29, 13, 15, 29, 31, 29, 25, 29, 33, 22, 21, 2, 16, 29, 5, 21, 2, 7, 8, 15, 22, 24, 29, 30, 10, 22, 22, 3, 19, 26, 7, 8, 22, 13, 11, 24, 25, 7, 17, 34, 35, 7, 30, 7, 3, 7, 8, 10, 13, 14, 16, 17, 18, 19, 20, 22, 23, 28, 29, 33, 8, 11, 5, 6, 7, 9, 10, 13, 14, 15, 19, 20, 23, 32, 33, 1, 6, 6, 19, 17, 19, 31, 1, 4, 8, 9, 12, 16, 20, 22, 23, 31, 33, 11, 4, 5, 8, 9, 12, 15, 16, 21, 22, 23, 28, 31, 33, 35, 36, 7, 7, 17, 23, 26, 13, 7, 12, 17, 20, 22, 23, 24, 28, 33, 27, 4, 3, 15, 27, 32, 26, 5, 7, 8, 9, 14, 16, 20, 22, 23, 24, 28, 33, 35, 26, 16, 26, 22, 29, 26, 28, 2, 3, 4, 7, 11, 14, 17, 19, 23, 24, 33, 35, 36, 16, 33, 27, 16, 28, 33, 31, 26, 1, 7, 10, 13, 18, 19, 20, 22, 23, 29, 31, 13, 19, 36, 9, 16, 9, 12, 9, 9, 9, 9, 16, 1, 17, 24, 2, 9, 12, 32, 35, 6, 29, 34, 29, 18, 34, 23, 11, 32, 35, 25, 2, 9, 14, 24, 11, 12, 20, 31, 35, 11, 15, 3, 5, 16, 21, 22, 31, 34, 35, 35, 14, 30, 13, 11, 2, 32, 6, 2, 6, 14, 22, 9, 20, 20, 6, 14, 15, 22, 35, 15, 4, 7, 8, 9, 12, 14, 16, 18, 19, 20, 21, 22, 23, 28, 29, 30, 31, 33, 30, 22, 24, 14, 7, 21, 2, 7, 17, 20, 22, 23, 29, 35, 5, 35, 9, 22, 25, 33, 9, 34, 13, 20, 23, 34, 34, 34, 29, 20, 11, 15, 16, 22, 31, 32, 22, 14, 19, 23, 14, 25, 32, 34, 6, 22, 16, 29, 6, 16, 35, 14, 15, 34, 2, 12, 2, 14, 25, 32, 15, 13, 32, 25, 15, 6, 34, 6, 34, 34, 36, 24, 35, 19, 20, 6, 7, 35, 35, 36, 4, 7, 12, 19, 22, 35, 21, 24, 5, 20, 30, 1, 18, 29, 6, 22, 8, 7, 14, 7, 5, 14, 1, 32, 15, 15, 4, 20, 24, 12, 25, 13, 13, 26, 5, 7, 8, 12, 16, 20, 22, 28, 33, 34, 35, 3, 24, 15, 23, 3, 9, 12, 24, 31, 34, 9, 22, 5, 1, 4, 9, 12, 13, 20, 29, 34, 1, 9, 20, 29, 34, 3, 26, 35, 18, 5, 11, 16, 34, 35, 1, 2, 5, 8, 9, 12, 16, 17, 18, 20, 21, 22, 23, 24, 28, 29, 5, 12, 17, 31, 12, 13, 26, 5, 17, 21, 1, 31, 1, 1, 2, 10, 2, 5, 7, 8, 13, 28, 30, 29, 31, 9, 11, 17, 18, 10, 14, 17, 20, 22, 25, 1, 3, 31, 27, 4, 33, 6, 34, 29, 6, 20, 6, 18, 18, 20, 4, 7, 6, 7, 19, 32, 34, 6, 1, 2, 3, 6, 14, 24, 31, 32, 35, 36, 31, 30, 2, 27, 2, 7, 30, 7, 34, 2, 30, 21, 30, 20, 1, 7, 8, 9, 13, 14, 15, 16, 18, 19, 20, 28, 33, 14, 30, 9, 12, 16, 18, 29, 34, 35, 34, 34, 15, 34, 1, 33, 7, 14, 19, 26, 3, 32, 27, 13, 1, 16, 20, 33, 30, 2, 24, 29, 13, 15, 12, 13, 34, 1, 2, 6, 9, 14, 16, 30, 31, 34, 35, 26, 2, 5, 1, 26, 34, 1, 5, 7, 12, 14, 16, 17, 19, 20, 21, 22, 23, 28, 29, 34, 35, 1, 20, 33, 1, 8, 10, 22, 1, 3, 5, 9, 12, 13, 14, 16, 17, 20, 21, 22, 25, 28, 29, 33, 34, 35, 21, 28, 2, 3, 14, 16, 19, 23, 24, 31, 33, 36, 10, 28, 4, 11, 2, 34, 33, 28, 33, 28, 4, 28, 9, 33, 33, 34, 21, 21, 35, 4, 1, 2, 14, 26, 4, 7, 15, 20, 32, 33, 34, 35, 36, 28, 4, 6, 9, 12, 18, 26, 34, 16, 1, 3, 7, 8, 9, 15, 18, 19, 20, 23, 26, 28, 32, 33, 35, 32, 27, 17, 9, 30, 24, 22, 24, 15, 26, 21, 4, 7, 12, 14, 15, 16, 20, 22, 24, 29, 31, 33, 34, 4, 2, 26, 1, 8, 9, 12, 16, 20, 21, 23, 26, 27, 28, 29, 13, 1, 32, 19, 27, 2, 6, 7, 20, 23, 30, 31, 33, 27, 35, 6, 15, 16, 21, 22, 24, 29, 34, 35, 18, 27, 4, 1, 14, 24, 30, 34, 14, 36, 27, 18, 22, 32, 1, 1, 15, 33, 20, 30, 32, 12, 2, 29, 3, 15, 36, 31, 15, 24, 13, 29, 34, 3, 8, 16, 34, 20, 29, 23, 25, 29, 9, 20, 28, 33, 34, 35, 19, 8, 16, 9, 16, 16, 34, 8, 2, 3, 4, 5, 7, 8, 9, 10, 12, 13, 15, 16, 18, 19, 20, 21, 22, 25, 26, 28, 29, 30, 33, 34, 35, 27, 15, 16, 3, 3, 5, 15, 16, 26, 30, 31, 2, 5, 26, 14, 20, 7, 15, 20, 31, 34, 35, 10, 1, 24, 1, 7, 11, 14, 17, 34, 35, 17, 25, 27, 1, 9, 12, 14, 19, 20, 33, 35, 16, 25, 24, 3, 1, 22, 3, 24, 29, 36, 2, 29, 24, 29, 24, 23, 6, 15, 4, 5, 6, 7, 15, 16, 19, 29, 34, 35, 10, 16, 9, 31, 5, 2, 7, 8, 13, 23, 25, 30, 31, 30, 9, 20, 27, 12, 30, 35, 36, 28, 28, 1, 2, 9, 16, 19, 22, 25, 34, 17, 2, 6, 7, 9, 14, 16, 18, 20, 22, 31, 32, 34, 2, 32, 34, 25, 14, 25]}, \"plot.opts\": {\"ylab\": \"PC2\", \"xlab\": \"PC1\"}, \"tinfo\": {\"logprob\": [30.0, 29.0, 28.0, 27.0, 26.0, 25.0, 24.0, 23.0, 22.0, 21.0, 20.0, 19.0, 18.0, 17.0, 16.0, 15.0, 14.0, 13.0, 12.0, 11.0, 10.0, 9.0, 8.0, 7.0, 6.0, 5.0, 4.0, 3.0, 2.0, 1.0, -4.135900020599365, -4.253600120544434, -4.275899887084961, -4.298999786376953, -4.337200164794922, -4.355599880218506, -4.616799831390381, -4.650400161743164, -4.658999919891357, -4.721700191497803, -4.7677001953125, -4.778500080108643, -4.838900089263916, -4.957900047302246, -5.097599983215332, -5.165999889373779, -5.201399803161621, -5.293399810791016, -5.336599826812744, -5.374800205230713, -5.499100208282471, -5.520899772644043, -5.557300090789795, -5.56220006942749, -5.599299907684326, -5.637700080871582, -5.6717000007629395, -5.678599834442139, -5.685100078582764, -5.717299938201904, -2.826200008392334, -4.878600120544434, -5.418600082397461, -3.5903000831604004, -4.723599910736084, -3.9286000728607178, -4.9822001457214355, -4.329500198364258, -3.469399929046631, -4.490099906921387, -3.9370999336242676, -3.227400064468384, -4.331999778747559, -3.9010000228881836, -4.105100154876709, -4.803199768066406, -4.029900074005127, -4.725100040435791, -4.690299987792969, -4.6992998123168945, -4.737500190734863, -4.761499881744385, -4.7617998123168945, -3.5882999897003174, -4.156700134277344, -4.263999938964844, -4.3856000900268555, -4.531499862670898, -4.644499778747559, -4.695000171661377, -4.736000061035156, -4.859899997711182, -4.867000102996826, -4.879799842834473, -4.909599781036377, -4.93209981918335, -4.9604997634887695, -5.026599884033203, -5.0960001945495605, -5.181600093841553, -5.188799858093262, -5.277299880981445, -5.355000019073486, -5.3821001052856445, -5.4274001121521, -5.581200122833252, -5.588799953460693, -5.652100086212158, -5.690800189971924, -5.705900192260742, -5.735300064086914, -5.758500099182129, -5.8165998458862305, -4.90369987487793, -4.049799919128418, -5.109099864959717, -4.256999969482422, -4.416200160980225, -4.570700168609619, -4.92549991607666, -3.8264999389648438, -4.309199810028076, -4.631499767303467, -4.402299880981445, -4.708099842071533, -4.86329984664917, -4.647299766540527, -4.758999824523926, -4.71619987487793, -4.814300060272217, -4.8018999099731445, -4.82289981842041, -4.910099983215332, -1.559999942779541, -1.9539999961853027, -2.512200117111206, -2.8127999305725098, -3.85509991645813, -4.682000160217285, -4.690499782562256, -4.885200023651123, -5.060100078582764, -5.09119987487793, -5.2617998123168945, -5.265100002288818, -5.295199871063232, -5.460000038146973, -5.462600231170654, -5.494500160217285, -5.600800037384033, -5.664700031280518, -5.702400207519531, -5.726500034332275, -5.745800018310547, -5.794099807739258, -5.8242998123168945, -5.830699920654297, -5.897200107574463, -5.931600093841553, -5.981500148773193, -6.002099990844727, -6.014100074768066, -6.071100234985352, -4.701000213623047, -4.564599990844727, -4.377399921417236, -3.8624000549316406, -4.698500156402588, -4.56850004196167, -2.9995999336242676, -4.487800121307373, -4.360799789428711, -4.597499847412109, -4.554900169372559, -4.14709997177124, -4.205999851226807, -4.9766998291015625, -5.105800151824951, -5.307799816131592, -5.342100143432617, -3.6108999252319336, -3.7806999683380127, -3.996500015258789, -3.996500015258789, -4.321700096130371, -4.377900123596191, -4.388599872589111, -4.412799835205078, -4.517899990081787, -4.527900218963623, -4.676599979400635, -4.738399982452393, -4.85099983215332, -4.933300018310547, -4.953999996185303, -4.954999923706055, -4.976600170135498, -5.0278000831604, -5.109899997711182, -5.122200012207031, -5.123199939727783, -5.1296000480651855, -5.163899898529053, -5.184700012207031, -5.3125, -5.323599815368652, -5.427999973297119, -5.472400188446045, -5.477399826049805, -5.527400016784668, -3.999500036239624, -4.007599830627441, -4.184000015258789, -5.13670015335083, -3.986999988555908, -3.4249000549316406, -3.7560999393463135, -3.1368000507354736, -3.3889999389648438, -3.321700096130371, -4.55210018157959, -3.7249999046325684, -3.9686999320983887, -3.7620999813079834, -4.6803998947143555, -4.0289998054504395, -4.151500225067139, -4.774199962615967, -4.334700107574463, -4.183599948883057, -4.532400131225586, -4.599100112915039, -3.605600118637085, -3.626499891281128, -4.416900157928467, -4.730800151824951, -4.99459981918335, -5.026500225067139, -5.037600040435791, -5.293700218200684, -5.45389986038208, -5.523399829864502, -5.609799861907959, -5.622000217437744, -5.785099983215332, -5.7972002029418945, -5.819799900054932, -5.878699779510498, -5.896999835968018, -5.952499866485596, -5.9994001388549805, -6.094900131225586, -6.160099983215332, -6.249199867248535, -6.298799991607666, -6.313000202178955, -6.384300231933594, -6.440899848937988, -6.4654998779296875, -6.484099864959717, -6.53380012512207, -6.577400207519531, -1.7760000228881836, -2.855299949645996, -3.7032999992370605, -4.864699840545654, -2.0773000717163086, -4.96560001373291, -3.962399959564209, -4.734099864959717, -3.378499984741211, -4.191400051116943, -4.12470006942749, -5.4207000732421875, -4.103600025177002, -4.0278000831604, -3.4423000812530518, -5.009200096130371, -4.792699813842773, -4.520299911499023, -4.5055999755859375, -4.417099952697754, -5.305799961090088, -4.936500072479248, -4.793399810791016, -4.8993000984191895, -5.025400161743164, -2.5041000843048096, -3.9260001182556152, -4.052199840545654, -4.077899932861328, -4.1132001876831055, -4.189700126647949, -4.430300235748291, -4.4344000816345215, -4.490499973297119, -4.604100227355957, -4.6143999099731445, -4.905099868774414, -4.975599765777588, -5.055500030517578, -5.089399814605713, -5.107100009918213, -5.111400127410889, -5.117700099945068, -5.122000217437744, -5.122399806976318, -5.162199974060059, -5.169899940490723, -5.185299873352051, -5.212600231170654, -5.227499961853027, -5.22760009765625, -5.2382001876831055, -5.251699924468994, -5.294899940490723, -5.3317999839782715, -3.5683000087738037, -4.195099830627441, -2.7864999771118164, -3.884000062942505, -4.499100208282471, -5.076300144195557, -4.101900100708008, -3.8046998977661133, -3.7936999797821045, -4.772299766540527, -4.416999816894531, -4.9334001541137695, -4.729899883270264, -4.793300151824951, -4.758399963378906, -4.802999973297119, -4.549300193786621, -4.444399833679199, -4.756999969482422, -4.777500152587891, -4.933899879455566, -5.062399864196777, -5.146399974822998, -5.3632001876831055, -5.518499851226807, -5.52869987487793, -5.559000015258789, -5.7052998542785645, -5.785799980163574, -5.89139986038208, -5.9704999923706055, -6.005799770355225, -6.012199878692627, -6.033699989318848, -6.124100208282471, -6.139200210571289, -6.139900207519531, -6.255000114440918, -6.286399841308594, -6.302299976348877, -6.407299995422363, -6.610300064086914, -6.628600120544434, -6.639800071716309, -6.652299880981445, -6.664999961853027, -6.668499946594238, -6.681099891662598, -6.697700023651123, -6.704800128936768, -4.605599880218506, -5.781300067901611, -4.230000019073486, -3.4570000171661377, -5.682000160217285, -2.948199987411499, -5.860099792480469, -4.770500183105469, -5.594299793243408, -4.619699954986572, -5.033199787139893, -4.168600082397461, -5.1356000900268555, -4.691400051116943, -5.303899765014648, -5.1859002113342285, -4.017099857330322, -3.8273000717163086, -3.6584999561309814, -4.342199802398682, -4.2683000564575195, -4.124199867248535, -4.333700180053711, -4.651500225067139, -4.569300174713135, -4.808199882507324, -4.6371002197265625, -4.646500110626221, -4.772799968719482, -4.729800224304199, -4.312600135803223, -4.696800231933594, -4.731100082397461, -4.595399856567383, -4.471700191497803, -4.693399906158447, -4.701600074768066, -4.900700092315674, -4.617300033569336, -4.968699932098389, -5.0391998291015625, -5.239500045776367, -5.520100116729736, -5.568600177764893, -5.870999813079834, -5.890200138092041, -5.903800010681152, -5.960899829864502, -6.285099983215332, -6.295199871063232, -6.303999900817871, -6.330900192260742, -6.335599899291992, -6.362100124359131, -6.370500087738037, -6.39709997177124, -6.420499801635742, -6.435100078582764, -6.520299911499023, -6.535200119018555, -6.557700157165527, -6.621099948883057, -6.655900001525879, -6.6645002365112305, -6.670000076293945, -6.69920015335083, -6.72160005569458, -6.731299877166748, -3.972399950027466, -1.4254000186920166, -5.665999889373779, -4.680300235748291, -3.3006999492645264, -5.787799835205078, -5.301499843597412, -4.956600189208984, -4.819300174713135, -4.28980016708374, -4.037399768829346, -5.455699920654297, -3.0106000900268555, -4.208700180053711, -2.7167999744415283, -4.240699768066406, -4.661499977111816, -5.251699924468994, -5.533999919891357, -4.515100002288818, -3.892899990081787, -4.3105998039245605, -4.320300102233887, -4.402400016784668, -5.038599967956543, -4.8368000984191895, -4.831600189208984, -4.855500221252441, -5.0329999923706055, -5.088399887084961, -5.019400119781494, -5.150599956512451, -5.173799991607666, -3.4316999912261963, -3.7888998985290527, -3.874500036239624, -4.5106000900268555, -4.640399932861328, -4.705900192260742, -4.7230000495910645, -4.764100074768066, -4.764400005340576, -4.804599761962891, -4.895299911499023, -4.93779993057251, -5.033699989318848, -5.10830020904541, -5.148499965667725, -5.1768999099731445, -5.241799831390381, -5.311699867248535, -5.348499774932861, -5.58650016784668, -5.593900203704834, -5.680200099945068, -5.769000053405762, -5.833399772644043, -5.8678998947143555, -5.95419979095459, -6.105199813842773, -6.235199928283691, -6.236100196838379, -6.2729997634887695, -3.0524001121520996, -5.127699851989746, -5.211100101470947, -4.0782999992370605, -3.0627999305725098, -4.010200023651123, -2.7314000129699707, -3.8050999641418457, -3.4665000438690186, -4.258699893951416, -4.047699928283691, -4.0183000564575195, -4.592899799346924, -4.905700206756592, -4.454699993133545, -4.621699810028076, -4.888899803161621, -4.673099994659424, -4.753900051116943, -4.821300029754639, -4.880300045013428, -3.7434000968933105, -4.278299808502197, -4.287300109863281, -4.3796000480651855, -4.637499809265137, -4.757699966430664, -4.7652997970581055, -4.87060022354126, -4.947000026702881, -4.9583001136779785, -4.970099925994873, -4.9847002029418945, -5.0569000244140625, -5.070099830627441, -5.116499900817871, -5.1554999351501465, -5.160999774932861, -5.252799987792969, -5.264400005340576, -5.394000053405762, -5.407299995422363, -5.418700218200684, -5.449100017547607, -5.463600158691406, -5.53380012512207, -5.550099849700928, -5.570499897003174, -5.576000213623047, -5.597499847412109, -5.628399848937988, -1.8753999471664429, -2.282099962234497, -4.376100063323975, -3.9732000827789307, -3.415299892425537, -3.5676000118255615, -3.3984999656677246, -4.753300189971924, -3.9711999893188477, -3.322000026702881, -3.4688000679016113, -4.2052998542785645, -3.5931999683380127, -4.049499988555908, -3.5915000438690186, -4.406400203704834, -4.185100078582764, -4.758699893951416, -4.769700050354004, -4.698400020599365, -4.848700046539307, -1.0132999420166016, -4.029900074005127, -4.304900169372559, -4.45419979095459, -4.545899868011475, -4.59689998626709, -4.6168999671936035, -4.624599933624268, -4.646200180053711, -4.662799835205078, -4.688300132751465, -4.843900203704834, -4.885900020599365, -4.934999942779541, -4.940199851989746, -4.996200084686279, -5.067399978637695, -5.100399971008301, -5.109899997711182, -5.136000156402588, -5.174200057983398, -5.194300174713135, -5.227399826049805, -5.27269983291626, -5.302999973297119, -5.350299835205078, -5.352799892425537, -5.4730000495910645, -5.490300178527832, -5.505300045013428, -2.8859000205993652, -4.264599800109863, -3.0697999000549316, -4.785200119018555, -4.66949987411499, -4.607900142669678, -4.106100082397461, -3.848400115966797, -4.879199981689453, -4.714300155639648, -4.882199764251709, -4.869800090789795, -4.809999942779541, -4.929999828338623, -2.4286000728607178, -2.723400115966797, -3.0041000843048096, -3.2363998889923096, -4.018799781799316, -4.065199851989746, -4.107800006866455, -4.4720001220703125, -5.2067999839782715, -5.981299877166748, -6.184700012207031, -6.57390022277832, -6.686800003051758, -6.720399856567383, -6.7820000648498535, -6.826300144195557, -6.947400093078613, -7.026400089263916, -7.10699987411499, -7.1407999992370605, -7.150899887084961, -7.159800052642822, -7.163400173187256, -7.288400173187256, -7.311299800872803, -7.54449987411499, -7.566100120544434, -7.758600234985352, -7.838399887084961, -7.877299785614014, -1.8667999505996704, -5.825099945068359, -3.6231000423431396, -2.759700059890747, -6.177199840545654, -3.2734999656677246, -4.550899982452393, -4.683199882507324, -4.2846999168396, -5.46560001373291, -3.5179998874664307, -5.33489990234375, -4.901500225067139, -3.4941000938415527, -5.091599941253662, -4.488699913024902, -4.157199859619141, -4.604499816894531, -4.981599807739258, -5.372200012207031, -4.794600009918213, -4.188499927520752, -4.6178998947143555, -4.725900173187256, -4.842700004577637, -4.731800079345703, -4.938799858093262, -3.0423998832702637, -3.0764000415802, -3.097899913787842, -3.1363000869750977, -3.1412999629974365, -4.0559000968933105, -4.184500217437744, -4.189599990844727, -4.22790002822876, -4.316199779510498, -4.3917999267578125, -4.473800182342529, -4.539299964904785, -4.539599895477295, -4.734799861907959, -4.764200210571289, -4.787700176239014, -5.015600204467773, -5.020299911499023, -5.038599967956543, -5.112100124359131, -5.128399848937988, -5.207099914550781, -5.2108001708984375, -5.244699954986572, -5.32889986038208, -5.369900226593018, -5.434199810028076, -5.479100227355957, -5.488100051879883, -3.2244999408721924, -4.601399898529053, -4.913099765777588, -2.8257999420166016, -4.7067999839782715, -4.153500080108643, -4.191199779510498, -5.023600101470947, -4.184100151062012, -4.46589994430542, -4.250999927520752, -4.30079984664917, -4.287499904632568, -4.298900127410889, -4.2967000007629395, -4.538599967956543, -4.554500102996826, -2.9005000591278076, -3.9263999462127686, -3.9384000301361084, -3.98580002784729, -4.034800052642822, -4.071499824523926, -4.909299850463867, -4.911399841308594, -5.0071001052856445, -5.007699966430664, -5.019800186157227, -5.122300148010254, -5.149099826812744, -5.165900230407715, -5.166999816894531, -5.185100078582764, -5.278800010681152, -5.363399982452393, -5.378699779510498, -5.3993000984191895, -5.425899982452393, -5.491700172424316, -5.513000011444092, -5.627999782562256, -5.703499794006348, -5.711900234222412, -5.728700160980225, -5.769000053405762, -5.851200103759766, -5.880000114440918, -4.562099933624268, -3.860100030899048, -3.2767999172210693, -3.674499988555908, -4.659800052642822, -4.954500198364258, -4.723299980163574, -3.8938000202178955, -4.327600002288818, -3.874500036239624, -4.683499813079834, -4.6859002113342285, -4.745299816131592, -4.752200126647949, -4.697400093078613, -4.620299816131592, -4.661099910736084, -4.301000118255615, -4.270299911499023, -4.564799785614014, -4.331699848175049, -4.802199840545654, -4.8815999031066895, -1.9398000240325928, -4.131100177764893, -4.196599960327148, -4.710400104522705, -4.752500057220459, -4.846099853515625, -4.853000164031982, -4.866199970245361, -4.900599956512451, -4.957099914550781, -5.054800033569336, -5.10099983215332, -5.104899883270264, -5.184700012207031, -5.1992998123168945, -5.2957000732421875, -5.317399978637695, -5.31850004196167, -5.523200035095215, -5.523799896240234, -5.527699947357178, -5.601399898529053, -5.629799842834473, -5.829999923706055, -5.830900192260742, -5.877699851989746, -5.957499980926514, -5.964099884033203, -5.990499973297119, -6.022299766540527, -4.2642998695373535, -4.546199798583984, -2.690999984741211, -4.565199851989746, -3.9079999923706055, -5.040500164031982, -5.2052001953125, -3.625499963760376, -4.6016998291015625, -3.51200008392334, -3.316200017929077, -4.079100131988525, -4.366399765014648, -3.502500057220459, -3.687299966812134, -4.496300220489502, -4.684100151062012, -3.8959999084472656, -4.148399829864502, -4.107999801635742, -4.7993998527526855, -4.676400184631348, -4.539400100708008, -4.608099937438965, -4.707699775695801, -4.8491997718811035, -1.526900053024292, -5.172599792480469, -5.54580020904541, -5.729300022125244, -6.418799877166748, -6.5, -6.51669979095459, -6.84250020980835, -6.952600002288818, -6.990600109100342, -7.018599987030029, -7.019999980926514, -4.951900005340576, -7.241700172424316, -7.290599822998047, -7.31279993057251, -7.359300136566162, -7.502299785614014, -7.687699794769287, -7.741799831390381, -7.754499912261963, -7.838699817657471, -7.857100009918213, -7.950099945068359, -7.957499980926514, -7.964200019836426, -7.985899925231934, -5.673099994659424, -8.07610034942627, -8.093500137329102, -1.8660999536514282, -4.242199897766113, -3.7681000232696533, -4.872700214385986, -3.5143001079559326, -3.3022000789642334, -4.925899982452393, -3.3001999855041504, -5.335299968719482, -4.267199993133545, -6.637800216674805, -5.361999988555908, -4.5854997634887695, -2.860300064086914, -4.949699878692627, -5.213699817657471, -4.67080020904541, -4.962699890136719, -4.785099983215332, -5.46999979019165, -4.886300086975098, -3.950700044631958, -4.073500156402588, -4.308599948883057, -5.599100112915039, -4.586599826812744, -4.810100078582764, -4.967299938201904, -4.7052001953125, -4.759300231933594, -4.804999828338623, -5.1468000411987305, -5.0894999504089355, -5.087600231170654, -2.544300079345703, -3.365999937057495, -5.68720006942749, -5.780099868774414, -5.869999885559082, -6.286300182342529, -6.409900188446045, -6.465000152587891, -6.6209001541137695, -6.671599864959717, -6.745800018310547, -6.771599769592285, -6.8470001220703125, -6.852200031280518, -7.759699821472168, -7.962399959564209, -8.35260009765625, -8.746899604797363, -9.462300300598145, -2.256999969482422, -2.52810001373291, -7.280399799346924, -1.722000002861023, -2.222599983215332, -3.746299982070923, -2.0127999782562256, -6.712900161743164, -2.46589994430542, -4.692299842834473, -5.665800094604492, -4.490499973297119, -5.815999984741211, -4.731500148773193, -4.385200023651123, -5.011300086975098, -4.293300151824951, -5.145400047302246, -5.408599853515625, -5.2170000076293945, -4.99429988861084, -5.317299842834473, -5.8119001388549805, -5.333600044250488, -5.618500232696533, -5.721700191497803, -5.4781999588012695, -5.690499782562256, -5.746399879455566, -5.8078999519348145, -2.10260009765625, -2.135999917984009, -2.1802000999450684, -3.408400058746338, -3.8457000255584717, -4.747000217437744, -4.83650016784668, -4.901299953460693, -4.998799800872803, -5.06820011138916, -5.186999797821045, -5.210400104522705, -5.237400054931641, -5.345600128173828, -5.358699798583984, -5.504300117492676, -5.5152997970581055, -5.715799808502197, -5.864200115203857, -5.878600120544434, -5.989299774169922, -6.104800224304199, -6.115600109100342, -6.129199981689453, -6.216599941253662, -6.379899978637695, -6.4633002281188965, -6.480899810791016, -6.512800216674805, -6.53980016708374, -4.386300086975098, -4.642899990081787, -4.855100154876709, -4.5278000831604, -3.343400001525879, -4.287199974060059, -3.315000057220459, -4.049300193786621, -4.006400108337402, -4.709199905395508, -4.991300106048584, -5.122300148010254, -4.457200050354004, -4.474699974060059, -4.492000102996826, -4.6508002281188965, -4.853300094604492, -5.078000068664551, -4.950300216674805, -4.877200126647949, -5.023900032043457, -3.2736001014709473, -3.670099973678589, -4.03249979019165, -4.529200077056885, -4.540800094604492, -4.667799949645996, -4.849599838256836, -4.9394001960754395, -4.988999843597412, -5.085400104522705, -5.148600101470947, -5.164299964904785, -5.23390007019043, -5.257400035858154, -5.292399883270264, -5.292399883270264, -5.39709997177124, -5.410799980163574, -5.413099765777588, -5.447299957275391, -5.474299907684326, -5.680699825286865, -5.691500186920166, -5.714900016784668, -5.722899913787842, -5.740300178527832, -5.814899921417236, -5.872700214385986, -5.884799957275391, -5.9120001792907715, -5.15880012512207, -4.801199913024902, -2.5620999336242676, -3.836699962615967, -3.8756000995635986, -4.146999835968018, -4.460400104522705, -4.172800064086914, -3.632499933242798, -4.13070011138916, -4.901800155639648, -3.8264999389648438, -3.3041000366210938, -4.567399978637695, -3.9969000816345215, -4.286099910736084, -4.325099945068359, -4.139400005340576, -4.693900108337402, -4.286499977111816, -4.896500110626221, -4.552299976348877, -4.71589994430542, -4.856599807739258, -4.708399772644043, -4.834700107574463, -4.837600231170654, -4.839300155639648, -5.490699768066406, -5.66349983215332, -5.838500022888184, -6.153900146484375, -6.210999965667725, -6.330100059509277, -6.335400104522705, -6.422399997711182, -6.590799808502197, -6.600900173187256, -6.645100116729736, -6.7164998054504395, -6.739200115203857, -6.809800148010254, -6.855199813842773, -6.864200115203857, -6.935400009155273, -6.965000152587891, -7.011600017547607, -7.043499946594238, -7.102200031280518, -7.121600151062012, -7.128200054168701, -7.144800186157227, -7.20419979095459, -7.214700222015381, -7.225800037384033, -7.263400077819824, -7.2982001304626465, -7.2993998527526855, -4.315899848937988, -4.9567999839782715, -3.976900100708008, -5.670300006866455, -5.622700214385986, -4.020299911499023, -4.027500152587891, -3.6322999000549316, -2.822700023651123, -3.260499954223633, -3.02020001411438, -5.507199764251709, -3.8148000240325928, -3.216099977493286, -4.058499813079834, -4.843699932098389, -5.558300018310547, -4.777299880981445, -4.889500141143799, -4.750500202178955, -4.728899955749512, -4.400700092315674, -3.435499906539917, -3.6839001178741455, -3.842900037765503, -4.119200229644775, -3.8127999305725098, -4.076099872589111, -4.060299873352051, -4.146200180053711, -4.4334001541137695, -4.355599880218506, -4.105599880218506, -4.440000057220459, -4.670599937438965, -4.809100151062012, -2.974900007247925, -3.6640000343322754, -4.030099868774414, -4.255899906158447, -4.354100227355957, -4.359499931335449, -4.540200233459473, -4.7846999168396, -4.863100051879883, -5.113100051879883, -5.397900104522705, -5.51170015335083, -5.56850004196167, -5.6504998207092285, -5.702400207519531, -5.838399887084961, -5.932700157165527, -6.2967000007629395, -6.4039998054504395, -6.505799770355225, -6.508200168609619, -6.552299976348877, -6.614699840545654, -6.7540998458862305, -7.001999855041504, -7.049200057983398, -7.251999855041504, -7.313600063323975, -7.433199882507324, -7.464600086212158, -2.908799886703491, -4.496099948883057, -2.831899881362915, -2.7909998893737793, -5.6168999671936035, -5.360499858856201, -4.286900043487549, -5.047599792480469, -3.7109999656677246, -3.261699914932251, -4.235000133514404, -3.517400026321411, -3.875499963760376, -3.2204999923706055, -3.402100086212158, -3.6526999473571777, -3.476799964904785, -4.417799949645996, -4.628699779510498, -3.969599962234497, -4.610899925231934, -3.974600076675415, -3.5225000381469727, -4.483099937438965, -4.272600173950195, -4.452300071716309, -4.425600051879883, -4.371500015258789, -4.497700214385986, -1.3567999601364136, -2.819000005722046, -4.7617998123168945, -4.829500198364258, -4.845300197601318, -4.848599910736084, -4.92080020904541, -4.964900016784668, -5.268700122833252, -5.3007001876831055, -5.425600051879883, -5.766499996185303, -5.908699989318848, -5.908999919891357, -5.94290018081665, -5.969200134277344, -6.0970001220703125, -6.155200004577637, -6.162399768829346, -6.169300079345703, -6.232500076293945, -6.2779998779296875, -6.281300067901611, -6.32480001449585, -6.335299968719482, -6.709700107574463, -6.7104997634887695, -6.731400012969971, -6.819300174713135, -6.854700088500977, -4.353400230407715, -2.930799961090088, -4.746099948883057, -4.202099800109863, -5.325300216674805, -4.748499870300293, -5.639999866485596, -4.365200042724609, -5.753200054168701, -4.405300140380859, -5.3541998863220215, -3.85509991645813, -4.122099876403809, -5.433199882507324, -4.78879976272583, -4.967700004577637, -4.132699966430664, -3.998699903488159, -4.778900146484375, -4.537600040435791, -4.451300144195557, -4.607699871063232, -4.737500190734863, -4.7947998046875, -4.843500137329102, -4.799200057983398, -4.979800224304199, -3.082900047302246, -4.427199840545654, -5.044899940490723, -5.142099857330322, -5.320199966430664, -5.655900001525879, -5.701700210571289, -5.820700168609619, -5.881199836730957, -5.881999969482422, -5.888000011444092, -6.0157999992370605, -6.029600143432617, -6.162399768829346, -6.416800022125244, -6.485199928283691, -6.532299995422363, -6.534299850463867, -6.598999977111816, -6.631800174713135, -6.712600231170654, -6.787099838256836, -6.789899826049805, -6.791100025177002, -6.820799827575684, -6.830100059509277, -6.873799800872803, -6.876399993896484, -6.878200054168701, -6.933899879455566, -4.264699935913086, -3.983799934387207, -4.598400115966797, -3.9923999309539795, -5.521699905395508, -6.130099773406982, -2.5499000549316406, -5.495200157165527, -5.554200172424316, -3.672300100326538, -5.433000087738037, -5.7322998046875, -4.978300094604492, -3.903599977493286, -4.643199920654297, -4.6757001876831055, -3.3213000297546387, -4.43120002746582, -3.5757999420166016, -4.435699939727783, -4.433700084686279, -4.123600006103516, -4.03879976272583, -4.483099937438965, -3.6702001094818115, -4.211299896240234, -4.053299903869629, -3.81469988822937, -4.695300102233887, -4.997000217437744, -4.913700103759766, -4.522200107574463, -4.49429988861084, -4.540299892425537, -4.803899765014648, -4.847499847412109, -4.864200115203857, -2.9393999576568604, -3.5241000652313232, -4.2758002281188965, -4.293300151824951, -4.407299995422363, -4.505799770355225, -4.5208001136779785, -4.569399833679199, -4.691500186920166, -4.7382001876831055, -4.778900146484375, -4.8404998779296875, -4.950699806213379, -4.986999988555908, -5.011300086975098, -5.061699867248535, -5.077400207519531, -5.086299896240234, -5.094799995422363, -5.130899906158447, -5.146299839019775, -5.159800052642822, -5.2058000564575195, -5.237100124359131, -5.269999980926514, -5.271500110626221, -5.290599822998047, -5.3190999031066895, -5.378900051116943, -5.4471001625061035, -4.290599822998047, -3.750699996948242, -4.986100196838379, -4.839200019836426, -4.744800090789795, -4.371600151062012, -4.309899806976318, -4.927599906921387, -4.672999858856201, -4.566299915313721, -4.589700222015381, -4.611100196838379, -4.751299858093262, -4.650100231170654, -4.782599925994873, -4.912499904632568, -4.959799766540527, -4.956699848175049, -2.5427000522613525, -3.2279000282287598, -3.4625000953674316, -3.6403000354766846, -3.8503000736236572, -3.8791000843048096, -3.952699899673462, -3.9899001121520996, -4.012700080871582, -4.189700126647949, -4.332399845123291, -4.544099807739258, -4.624499797821045, -4.726500034332275, -4.742099761962891, -4.810999870300293, -4.847599983215332, -4.8557000160217285, -4.941100120544434, -4.9552998542785645, -5.0914998054504395, -5.252900123596191, -5.3491997718811035, -5.485000133514404, -5.492800235748291, -5.584400177001953, -5.636099815368652, -5.6528000831604, -5.656400203704834, -5.71120023727417, -4.249499797821045, -4.288400173187256, -3.1082000732421875, -2.6500000953674316, -3.937999963760376, -2.7978999614715576, -3.482300043106079, -3.8222999572753906, -2.2614998817443848, -3.6975998878479004, -4.0970001220703125, -4.733699798583984, -4.749100208282471, -3.654900074005127, -4.040900230407715, -4.089099884033203, -4.276299953460693, -4.302700042724609, -4.317399978637695, -4.531300067901611, -4.814499855041504, -4.821599960327148, -4.943900108337402, -4.973199844360352, -5.155099868774414, -5.1666998863220215, -5.1905999183654785, -5.288599967956543, -5.323200225830078, -5.341300010681152, -5.352399826049805, -5.380000114440918, -5.414700031280518, -5.4440999031066895, -5.459400177001953, -5.464000225067139, -5.522500038146973, -5.588799953460693, -5.6194000244140625, -5.652200222015381, -5.654099941253662, -5.656400203704834, -5.677499771118164, -1.1238000392913818, -4.955900192260742, -3.933500051498413, -3.2237000465393066, -4.401400089263916, -4.452700138092041, -4.25570011138916, -4.512400150299072, -5.097700119018555, -4.171299934387207, -4.454100131988525, -4.481400012969971, -3.5813000202178955, -4.447999954223633, -4.497700214385986, -4.997099876403809, -4.860899925231934, -4.964099884033203, -4.7606000900268555, -4.9679999351501465, -2.2915000915527344, -3.3817999362945557, -3.566499948501587, -3.8018999099731445, -3.969099998474121, -4.177000045776367, -4.274099826812744, -4.3968000411987305, -4.406199932098389, -4.521100044250488, -4.618199825286865, -4.6331000328063965, -4.660900115966797, -4.663899898529053, -4.696100234985352, -4.7718000411987305, -4.832699775695801, -4.841899871826172, -4.906099796295166, -4.917900085449219, -4.937099933624268, -4.94350004196167, -4.962500095367432, -4.964399814605713, -5.082099914550781, -5.097300052642822, -5.1203999519348145, -5.130499839782715, -5.13539981842041, -5.138599872589111, -3.1647000312805176, -4.366700172424316, -3.009000062942505, -3.6760001182556152, -3.8919999599456787, -2.9184000492095947, -4.082200050354004, -4.1971001625061035, -3.857300043106079, -4.555300235748291, -2.7156999111175537, -4.724899768829346, -4.157299995422363, -4.099999904632568, -4.599599838256836, -2.774899959564209, -3.2016000747680664, -3.965399980545044, -4.884500026702881, -4.891499996185303, -5.113699913024902, -5.127399921417236, -5.26039981842041, -5.715099811553955, -5.785299777984619, -5.8480000495910645, -5.876200199127197, -5.882900238037109, -6.106500148773193, -6.154099941253662, -6.230500221252441, -6.251699924468994, -6.279900074005127, -6.312099933624268, -6.3171000480651855, -6.35230016708374, -6.366000175476074, -6.394700050354004, -6.427499771118164, -6.429699897766113, -6.489099979400635, -6.615799903869629, -6.627699851989746, -6.6570000648498535, -6.744800090789795, -1.8198000192642212, -2.2421000003814697, -4.79610013961792, -5.473400115966797, -3.4611001014709473, -4.791900157928467, -4.768400192260742, -5.09630012512207, -3.096299886703491, -3.076900005340576, -5.1803998947143555, -4.6219000816345215, -3.881700038909912, -4.212100028991699, -3.4739999771118164, -4.457600116729736, -5.168600082397461, -4.143099784851074, -4.2565999031066895, -4.675099849700928, -3.547800064086914, -4.704400062561035, -4.672100067138672, -4.909200191497803, -5.023099899291992, -5.072999954223633, -1.1368000507354736, -3.729599952697754, -5.371200084686279, -5.626399993896484, -5.677800178527832, -5.724999904632568, -5.933700084686279, -5.94890022277832, -5.95550012588501, -6.061399936676025, -6.074699878692627, -6.217199802398682, -6.319300174713135, -6.36870002746582, -6.3790998458862305, -6.410299777984619, -6.417200088500977, -6.512199878692627, -6.53879976272583, -6.6072998046875, -6.624800205230713, -6.764400005340576, -6.77370023727417, -6.790299892425537, -6.790299892425537, -6.814799785614014, -6.8354997634887695, -6.885799884796143, -6.89769983291626, -6.904300212860107, -5.963200092315674, -4.989699840545654, -6.447800159454346, -5.11299991607666, -4.39769983291626, -3.52839994430542, -5.815199851989746, -4.797100067138672, -3.060800075531006, -4.457399845123291, -3.9921000003814697, -5.091899871826172, -5.219099998474121, -4.4197001457214355, -3.8434998989105225, -3.2852001190185547, -3.893199920654297, -4.897200107574463, -4.491600036621094, -4.088799953460693, -5.622900009155273, -4.484099864959717, -4.439199924468994, -5.413000106811523, -4.921000003814697, -5.077899932861328, -5.085700035095215, -5.000500202178955, -5.03000020980835, -5.114799976348877, -5.098400115966797, -5.289400100708008, -3.4837000370025635, -4.299600124359131, -4.338699817657471, -4.353700160980225, -4.357900142669678, -4.676199913024902, -4.760300159454346, -4.945899963378906, -5.104700088500977, -5.209700107574463, -5.368100166320801, -5.36899995803833, -5.375899791717529, -5.590199947357178, -5.670899868011475, -5.7581000328063965, -5.812099933624268, -5.855599880218506, -5.900100231170654, -5.9532999992370605, -5.978700160980225, -6.01609992980957, -6.029699802398682, -6.0706000328063965, -6.090000152587891, -6.159200191497803, -6.164700031280518, -6.187300205230713, -6.198299884796143, -6.19890022277832, -2.5841000080108643, -4.6483001708984375, -4.363800048828125, -5.217100143432617, -3.061199903488159, -4.251699924468994, -3.274600028991699, -4.59089994430542, -3.9979000091552734, -5.241799831390381, -3.9386000633239746, -5.189599990844727, -5.285900115966797, -4.44980001449585, -3.841399908065796, -4.553599834442139, -3.302799940109253, -3.799799919128418, -3.372499942779541, -3.3803999423980713, -4.527100086212158, -5.02839994430542, -4.499499797821045, -4.629300117492676, -4.564799785614014, -4.322299957275391, -4.419000148773193, -4.560400009155273, -4.549600124359131, -3.9756999015808105, -4.741700172424316, -4.88730001449585, -5.032899856567383, -5.0395002365112305, -5.32390022277832, -5.353600025177002, -5.383200168609619, -5.4653000831604, -5.510799884796143, -5.540900230407715, -5.5569000244140625, -5.78380012512207, -5.9567999839782715, -5.978400230407715, -6.058899879455566, -6.113900184631348, -6.1545000076293945, -6.251200199127197, -6.2855000495910645, -6.355800151824951, -6.426300048828125, -4.707699775695801, -6.504700183868408, -6.589000225067139, -6.633299827575684, -6.640399932861328, -6.680500030517578, -6.686399936676025, -6.691100120544434, -5.297900199890137, -3.7909998893737793, -5.530200004577637, -5.017499923706055, -4.711100101470947, -3.3740999698638916, -1.3308000564575195, -5.080699920654297, -5.008999824523926, -4.959400177001953, -3.986299991607666, -4.726600170135498, -3.785599946975708, -4.465799808502197, -4.973599910736084, -4.630099773406982, -3.9066998958587646, -4.389800071716309, -4.295000076293945, -4.174900054931641, -4.6427001953125, -4.700099945068359, -4.268899917602539, -4.907199859619141, -4.831900119781494, -4.9309000968933105, -4.940000057220459, -2.6445999145507812, -3.347100019454956, -4.035600185394287, -4.623600006103516, -4.668499946594238, -4.934299945831299, -4.9532999992370605, -5.0157999992370605, -5.048099994659424, -5.075699806213379, -5.13100004196167, -5.172599792480469, -5.201000213623047, -5.240499973297119, -5.254300117492676, -5.479700088500977, -5.516900062561035, -5.5447001457214355, -5.620800018310547, -5.647900104522705, -5.672100067138672, -5.678899765014648, -5.704800128936768, -5.753300189971924, -5.822199821472168, -5.861000061035156, -5.985300064086914, -6.017899990081787, -6.050899982452393, -6.077000141143799, -3.5822999477386475, -1.9371999502182007, -3.563800096511841, -4.646299839019775, -2.192699909210205, -4.440800189971924, -5.498899936676025, -3.7174999713897705, -3.544300079345703, -4.299699783325195, -3.5820000171661377, -5.167300224304199, -4.169099807739258, -4.366799831390381, -3.8178999423980713, -4.574399948120117, -4.2667999267578125, -4.4217000007629395, -4.770699977874756, -4.958799839019775, -4.767399787902832, -4.954699993133545, -4.595200061798096, -5.208199977874756, -5.84660005569458, -5.872700214385986, -6.021399974822998, -6.062900066375732, -6.08620023727417, -6.087800025939941, -6.100800037384033, -6.133200168609619, -6.138800144195557, -6.187600135803223, -6.219200134277344, -6.282700061798096, -6.285699844360352, -6.29040002822876, -6.311500072479248, -6.398099899291992, -6.6194000244140625, -6.679299831390381, -6.766600131988525, -6.854300022125244, -6.958199977874756, -7.016900062561035, -7.026000022888184, -7.0655999183654785, -7.115699768066406, -7.148799896240234, -7.160799980163574, -7.188000202178955, -4.197199821472168, -1.9253000020980835, -1.8070000410079956, -6.421599864959717, -5.254899978637695, -5.73390007019043, -4.156300067901611, -5.500100135803223, -6.086299896240234, -3.7332000732421875, -4.425099849700928, -3.5638999938964844, -4.511099815368652, -4.432400226593018, -4.5467000007629395, -3.8989999294281006, -4.586699962615967, -4.249100208282471, -4.595399856567383, -3.615299940109253, -4.723700046539307, -4.615699768066406, -4.659900188446045, -4.517899990081787, -4.110499858856201, -4.369200229644775, -4.093699932098389, -4.694799900054932, -4.666800022125244, -4.150000095367432, -4.99560022354126, -5.063700199127197, -4.962800025939941, -4.817999839782715, -4.908599853515625, -4.016300201416016, -4.5065999031066895, -4.553800106048584, -4.602799892425537, -4.7530999183654785, -4.800600051879883, -4.927000045776367, -4.941199779510498, -5.057199954986572, -5.11870002746582, -5.1356000900268555, -5.164000034332275, -5.244999885559082, -5.315499782562256, -5.3171000480651855, -5.330399990081787, -5.3730998039245605, -5.42579984664917, -5.462800025939941, -5.464600086212158, -5.502099990844727, -5.644100189208984, -5.670000076293945, -5.671000003814697, -5.6819000244140625, -5.730999946594238, -5.740600109100342, -5.947500228881836, -5.968999862670898, -6.020299911499023, -5.10129976272583, -4.283199787139893, -5.333499908447266, -4.7118000984191895, -4.193299770355225, -3.30649995803833, -4.94980001449585, -5.434700012207031, -5.171000003814697, -3.1182000637054443, -4.217700004577637, -3.7063000202178955, -4.782800197601318, -3.8171000480651855, -3.627500057220459, -4.902400016784668, -4.531000137329102, -4.6504998207092285, -4.697400093078613, -4.871399879455566, -4.614500045776367, -4.475299835205078, -4.790999889373779, -4.838099956512451, -4.928400039672852, -4.643799781799316, -4.716899871826172, -4.786200046539307, -4.863800048828125, -4.872200012207031, -4.7399001121521, -4.945700168609619, -5.350800037384033, -5.355899810791016, -5.3968000411987305, -5.547900199890137, -5.571300029754639, -5.655099868774414, -5.707099914550781, -5.878200054168701, -5.942999839782715, -5.9440999031066895, -5.944300174713135, -5.972099781036377, -6.071000099182129, -6.0954999923706055, -6.115799903869629, -6.125999927520752, -6.186299800872803, -6.198800086975098, -6.269999980926514, -6.276199817657471, -6.310999870300293, -6.340000152587891, -6.353799819946289, -6.3653998374938965, -6.376800060272217, -6.428899765014648, -6.48859977722168, -6.514699935913086, -5.584499835968018, -6.015900135040283, -3.2560999393463135, -5.2494001388549805, -2.8262999057769775, -4.3927001953125, -4.9593000411987305, -5.573599815368652, -5.328999996185303, -5.718900203704834, -4.5671000480651855, -5.74429988861084, -4.386499881744385, -4.185200214385986, -5.595600128173828, -4.100900173187256, -4.244500160217285, -4.126800060272217, -3.7572999000549316, -3.3668999671936035, -4.89739990234375, -5.428599834442139, -4.840099811553955, -4.317599773406982, -4.026899814605713, -4.424200057983398, -4.207499980926514, -4.836299896240234, -5.1855998039245605, -5.100800037384033, -4.926799774169922, -4.9899001121521, -4.396100044250488, -4.598299980163574, -5.170599937438965, -5.049699783325195, -4.820000171661377, -5.0157999992370605, -5.109799861907959, -5.1072001457214355, -2.350600004196167, -2.746799945831299, -3.2901999950408936, -3.315999984741211, -3.3427000045776367, -3.358099937438965, -3.5169999599456787, -3.6473000049591064, -4.242199897766113, -4.278800010681152, -4.39900016784668, -4.411399841308594, -4.553699970245361, -4.616499900817871, -4.663700103759766, -4.686299800872803, -4.733500003814697, -4.740900039672852, -4.9274001121521, -5.0233001708984375, -5.048600196838379, -5.132599830627441, -5.236100196838379, -5.287300109863281, -5.338200092315674, -5.475900173187256, -5.590799808502197, -5.6178998947143555, -5.690100193023682, -5.695799827575684, -2.375999927520752, -3.443700075149536, -3.6328001022338867, -4.401400089263916, -3.90120005607605, -2.7179999351501465, -4.465099811553955, -3.5088999271392822, -3.7074999809265137, -4.51200008392334, -4.9293999671936035, -4.799699783325195, -4.780600070953369], \"Total\": [21887.0, 22536.0, 32680.0, 20205.0, 12383.0, 16760.0, 13352.0, 18560.0, 11684.0, 6995.0, 9045.0, 5976.0, 7927.0, 6943.0, 10629.0, 6265.0, 10248.0, 7799.0, 6402.0, 4290.0, 6365.0, 15173.0, 6991.0, 4456.0, 9460.0, 11334.0, 4275.0, 5883.0, 4232.0, 4767.0, 459.0810978861798, 408.2097076736408, 399.2455316325522, 390.15662673726865, 375.5411797423831, 368.7313845028739, 284.2131119027506, 274.8625031933927, 272.5092232243217, 256.01563982493366, 244.53786388218427, 241.939875239172, 227.82515789894524, 202.36842563726768, 176.1197918813044, 164.55828085643938, 158.85899929876575, 144.99283254798917, 138.90667810256085, 133.74383733780053, 118.23535842684835, 115.70809838115602, 111.60912804275613, 111.05984084485996, 107.0543170972232, 103.06626205916592, 99.65556154619476, 98.97710994928876, 98.34408099928474, 95.26136401290853, 1853.9575929376279, 225.42929052853148, 129.88721787191432, 941.3662722519136, 315.27810203995426, 878.8016690030265, 255.32240302892444, 717.8160747282324, 2885.826495804884, 579.8780829485853, 2216.4853298886646, 11334.574414103758, 1382.0874946152028, 6400.96681010126, 4541.690938469593, 546.5186483426781, 9977.796786177276, 1455.875892403713, 2741.731732193728, 3096.080179863101, 3383.0811179380003, 1727.7742475417951, 3181.8874125500724, 810.9132149789641, 459.7558484396327, 413.1073150392814, 365.93253076616924, 316.3898818595883, 282.68661955682524, 268.8249054820376, 258.07602925223017, 228.11509117530943, 226.50334358379547, 223.6398939851405, 217.10756433076773, 212.29211492376865, 206.3881530726298, 193.26044418098763, 180.3668454022124, 165.65593993095644, 164.46843336672137, 150.63434270287397, 139.44817082639514, 135.7474522318455, 129.7859927623793, 111.43069317251052, 110.5962479030675, 103.87359635761447, 99.97315709166965, 98.48623321462885, 95.66862483694402, 93.50182402100997, 88.27908958663255, 226.7666775299308, 636.5029673972775, 196.72757841196506, 532.1582508806293, 442.02323788471915, 374.52402399650254, 248.4526767973802, 1020.5912941821708, 559.552243436834, 396.83744313660065, 609.5647416086208, 407.0798180280155, 398.78578194211065, 760.2516731695464, 662.4455443347092, 1680.626833466297, 1656.117391915092, 2070.894781206058, 7799.398138864539, 1382.0874946152028, 4290.685896861933, 2893.7793913166765, 1656.3888232570232, 1226.6629111163763, 433.25126869944245, 190.084782739505, 188.4917648795284, 155.32439726931648, 130.5799000849148, 126.60685194316116, 106.91802384595421, 106.57104482156583, 103.43607540990597, 87.88146041923392, 87.65410507756391, 84.93674437581353, 76.47725678329707, 71.80930474435354, 69.19059270498474, 67.57136676385315, 66.29370141901478, 63.221024918420824, 61.370455862661466, 60.98415996353348, 57.13046458309344, 55.2331924795595, 52.595596742978366, 51.544896993227724, 50.94171662707326, 48.18032406753907, 217.27053495355582, 287.9093679342324, 403.32444914590747, 988.0632102891356, 384.19855851747997, 474.7717653785909, 9045.86855081148, 662.4455443347092, 1455.875892403713, 1536.5204554268787, 1776.4063722243495, 7887.1672416084075, 8148.231650804012, 819.8374419018895, 915.0956703509438, 692.8013064622879, 12546.226449930024, 622.892213002246, 525.775180421023, 423.92029158254536, 423.92029158254536, 306.50652946082977, 289.8160627991327, 286.76336189361007, 279.9345476830432, 252.0965834926822, 249.5942948174455, 215.25099716397264, 202.41382322391473, 180.9782580387749, 166.76472140724508, 163.37186968594122, 163.20990433057173, 159.74472636809182, 151.8208515123512, 139.93998882486284, 138.23948115442153, 138.09856765269018, 137.2248032358874, 132.63780252625517, 129.92787722233638, 114.46684952651675, 113.21566233525232, 102.09495904880154, 97.70624215959384, 97.22141743463746, 92.53168582193352, 466.82159282662536, 468.35966550684867, 447.8852132015547, 145.90509806348183, 624.2614135151596, 1634.1654358657215, 1185.791186656484, 3511.374082165597, 3572.2935381615644, 5052.5793546180175, 431.40023648582303, 3282.2037129197006, 2229.982351049892, 4574.961273800744, 439.0127206297844, 4568.43635457489, 2966.7777860264778, 320.3788684119391, 2001.149272057684, 3916.8139181805195, 1649.3951424629108, 12546.226449930024, 956.0954901366537, 936.3690793784604, 425.3446399339024, 311.04995034384496, 239.15148184161677, 231.6841730085931, 229.2669953338056, 177.60332635467023, 151.47701752254886, 141.37340903333205, 129.7563968419597, 128.1975492920884, 109.05672829927363, 107.76027334607251, 105.3759648584122, 99.40624071842566, 97.62534600124467, 92.41108798011817, 88.22351884050158, 80.28718825341994, 75.28546799008657, 68.95567521445795, 65.67111943886452, 64.76008609091173, 60.37825739157028, 57.109794777607135, 55.74817745497751, 54.73847375371864, 52.13756841435795, 49.95787999627449, 6943.40312860292, 2379.8467662571375, 1123.1577447156546, 364.4345874367169, 10629.664813662981, 332.05675293488196, 1169.872608674165, 527.4408885879702, 3558.622760273654, 1536.5204554268787, 1752.2630625175566, 235.7576193879088, 2576.330583013919, 3520.1495713932877, 18560.732368839374, 705.863157820586, 1211.353642534511, 2496.792339071943, 6400.96681010126, 9977.796786177276, 416.591350151596, 2768.623883472295, 6862.208592529865, 7887.1672416084075, 3342.68850471076, 1605.2940749758557, 388.10980204194664, 342.21113251412413, 333.55293045066145, 322.0253418830376, 298.3798527275127, 234.79744700937, 233.85025739580738, 221.1434703971895, 197.51174385703607, 195.50764752489738, 146.44273571752996, 136.55316339627657, 126.14512612118074, 121.97039301697625, 119.85920233587433, 119.34253767102801, 118.60128466928263, 118.09669199308556, 118.04921736701986, 113.48666363125112, 112.6270484819017, 110.91777917307998, 107.9610375292533, 106.38279636066835, 106.36404411183547, 105.25297336848723, 103.86035387548391, 99.51410897493656, 95.94664898936882, 625.7106634742447, 413.1643424541716, 4326.385699474057, 943.9156881516888, 354.306347459679, 138.18382670068368, 766.0055630126665, 1382.0874946152028, 1415.1340295767486, 251.4606158604104, 547.011900718392, 191.4095259623299, 326.18818470549854, 278.9586842419863, 373.2000075009287, 337.87880584540346, 1121.078221304141, 2455.7327726898407, 1156.1213113688132, 1182.3263841239548, 599.4779084953176, 527.3570267971292, 484.95026550040546, 390.6074676947146, 334.5866818227859, 331.1862727669845, 321.3444820187592, 277.7594723061044, 256.34156024335505, 230.76360086564875, 213.29803765386865, 205.92931038709895, 204.62021000317537, 200.29963674582768, 183.06972321723381, 180.34192424779312, 180.22034418700022, 160.7425738665376, 155.80977406042567, 153.3674104637683, 138.18018132545515, 112.98717062932634, 110.9602329958447, 109.73401842951631, 108.37904242959543, 107.02616664247444, 106.65780673849595, 105.3330757385733, 103.62484781707306, 102.89019918671596, 894.7197376289536, 284.0265830441995, 1650.8479679902732, 4619.64408874636, 339.3065957856157, 8718.717180797803, 276.86180082316156, 1081.7989790270333, 411.46705066430155, 1616.3901747054083, 910.3315574136791, 3192.7929171300093, 807.7472227806236, 1656.117391915092, 647.9156219607426, 802.9019024112603, 5671.692752130203, 7799.398138864539, 10753.476875938095, 4050.49222233812, 5140.457304893319, 7298.040264404723, 5052.5793546180175, 2768.623883472295, 3388.0300450688273, 2070.894781206058, 3115.0890806074462, 3125.1188877537948, 2445.7601295567597, 2844.332256279327, 9977.796786177276, 3566.0622649784423, 3641.6157695616134, 6862.208592529865, 12546.226449930024, 5883.332366658509, 15173.475014311496, 3383.0811179380003, 619.0792341227951, 435.94946870681116, 406.32652174791656, 332.7621520976721, 251.60789796289333, 239.75449835310494, 177.45379237440977, 174.11121259554852, 171.76697910654272, 162.29272437456157, 117.64537650668998, 116.46907971688628, 115.46646599402341, 112.42472567756857, 111.90092376398702, 109.00338772810083, 108.09855356665577, 105.29329166666925, 102.88133998732874, 101.40193893705496, 93.20783400190656, 91.84384298286459, 89.82775761458922, 84.36838541786247, 81.51945879379305, 80.82980957763245, 80.39795409605068, 78.11473907320409, 76.40681188776595, 75.67730659507004, 1254.4052667974433, 20205.94920718666, 246.27891097204025, 746.201432811472, 3916.8139181805195, 223.28748125602792, 432.68247528987115, 666.2185367472097, 820.6732079047698, 1819.1468701129568, 2955.3439605769913, 416.27093539906167, 15173.475014311496, 2966.7777860264778, 32680.07148647183, 3163.248719970749, 2229.982351049892, 799.7347327006618, 483.6050430110354, 3511.374082165597, 12546.226449930024, 6991.215704758345, 7887.1672416084075, 7426.652598418044, 1761.3890829672587, 7526.0333198946955, 8718.717180797803, 10629.664813662981, 4574.961273800744, 3821.6506173732314, 6862.208592529865, 3528.429177091681, 6400.96681010126, 1471.3397724956608, 1029.6791213348924, 945.2979690297295, 500.9009992688585, 440.04572421361155, 412.197030227386, 405.2245866953786, 388.98475962701514, 388.8593593178587, 373.5825439448372, 341.26348351710084, 327.10847364529155, 297.30070157696144, 275.98821813238004, 265.1688310737341, 257.7672906378521, 241.62950748874312, 225.40111509902613, 217.28708830681427, 171.495424806159, 170.23185046506123, 156.24590443457325, 143.06168819218476, 134.19714414947805, 129.68961500236617, 119.04981592446252, 102.51079201918155, 90.14001552283979, 90.06245028602116, 86.8392790672136, 2399.8456464298997, 320.89159509927714, 303.07719028623734, 1305.7755142619908, 13352.986415468362, 3096.080179863101, 32680.07148647183, 4831.369222415426, 11334.574414103758, 3520.1495713932877, 7927.456415959749, 18560.732368839374, 2885.826495804884, 1127.9396395255706, 9460.37328225689, 7387.504208256646, 1536.5204554268787, 10753.476875938095, 12197.287028119592, 8718.717180797803, 12546.226449930024, 596.9310509421734, 350.08042494467054, 346.9588475622969, 316.45548870662753, 244.77466660125492, 217.17008109174517, 215.51717240263085, 194.09849339856336, 179.8911492825179, 177.88184556388507, 175.80258737933656, 173.27718192909055, 161.27059030711368, 159.16940102240963, 152.01091879638727, 146.23186877752903, 145.44237261511532, 132.77589048247236, 131.25753395727327, 115.42673751485576, 113.915871087465, 112.63484165197686, 109.30002505312567, 107.7319806959868, 100.5004612251386, 98.89329605198205, 96.91821352357054, 96.39210741249035, 94.36960518034864, 91.52456947644616, 4275.696371452207, 3077.66107832111, 454.8861668237201, 821.316598028373, 2001.149272057684, 1622.2424785489436, 3342.68850471076, 375.75067714891384, 1637.490752351733, 9460.37328225689, 7887.1672416084075, 2620.351913475433, 15173.475014311496, 6365.8081728988855, 32680.07148647183, 2768.623883472295, 10753.476875938095, 2098.55834216272, 3181.8874125500724, 12546.226449930024, 1490.9917336881488, 5976.954212684213, 293.6580208178459, 223.2973456600103, 192.4841969738561, 175.70712000224836, 167.03237761172636, 163.73924671170494, 162.49444599097527, 159.04316631592184, 156.4317952234273, 152.52593746798917, 130.7032155049916, 125.36296553010135, 119.4081413822885, 118.79375883981255, 112.38009475048096, 104.73020731921288, 101.3652150016883, 100.41569380363129, 97.85469085774082, 94.23071382414383, 92.37785436567849, 89.40450868985052, 85.4894756686256, 82.97145926453328, 79.18425908167636, 78.98517037801672, 70.15808944760592, 68.97687937430089, 67.96103104604072, 979.5671584654032, 253.71261096941345, 1176.824702048883, 163.54083520409026, 254.5983912831715, 318.30647594706403, 1077.963344464104, 2593.0672414315886, 241.78888640997434, 439.54941980568213, 333.99606348125667, 743.9592317776234, 1284.5754205611768, 1322.799735916025, 6402.119800768469, 4767.374264763971, 3600.927556321128, 2854.740433790062, 1306.1272000467054, 1246.9452117630167, 1194.908672886338, 830.487777943109, 398.8549361234483, 184.41374409112933, 150.66754812222678, 102.42843653966864, 91.61173475945967, 88.61167413802906, 83.38217670546501, 79.81596867291582, 70.82996542798668, 65.53114278766542, 60.54006169231329, 58.56215063039267, 57.981059672905545, 57.478570247915165, 57.27832419090707, 50.667820780185316, 49.5447050820184, 39.45755771628945, 38.63731085128089, 32.0572439283833, 29.679696540947532, 28.58678066810574, 13352.986415468362, 259.50833027210706, 2877.62541743501, 9460.37328225689, 218.5676737629427, 11334.574414103758, 2074.103793746772, 2001.149272057684, 3875.0962382463504, 702.0720272607155, 18560.732368839374, 1082.4859125908324, 2445.7601295567597, 32680.07148647183, 2018.0438764071473, 6365.8081728988855, 12197.287028119592, 5256.970492973741, 2867.8683203079227, 1255.3445465731288, 4541.690938469593, 20205.94920718666, 7387.504208256646, 10126.160934496675, 7426.652598418044, 12546.226449930024, 6991.215704758345, 1281.6928777985152, 1238.785604528816, 1212.5314365326306, 1166.842614229241, 1160.9946033259623, 465.8365247897531, 409.73316363249523, 407.6501508938346, 392.3685510322125, 359.3175624045006, 333.21914675860575, 307.0781441414503, 287.68322767714807, 287.5931302408839, 236.78150017099168, 229.95508859229858, 224.63231700123268, 179.07019343657862, 178.23507392679596, 175.00983563207984, 162.69525306337601, 160.0812902596076, 148.03809966327336, 147.49936447988642, 142.6147713357834, 131.18283123804284, 125.95686753029707, 118.18005920887589, 113.02954741793498, 112.02590446495425, 1130.0456470260326, 288.4181932932858, 207.34297030579356, 2102.2569479742147, 270.7701740874353, 556.426028607718, 699.9650061482325, 208.61048280175163, 1558.8315092258172, 1470.0195696084284, 4326.385699474057, 6086.823830147377, 7426.652598418044, 12546.226449930024, 15173.475014311496, 10248.811252776833, 7887.1672416084075, 2137.490399640996, 766.9813909342571, 757.8417132653526, 722.7523238706688, 688.2727335616502, 663.5140368057254, 287.6744251302676, 287.0589817668426, 260.97246866792335, 260.81773947664254, 257.6705842690707, 232.6704860951112, 226.55208900348137, 222.8077077007669, 222.56274242786458, 218.57343203351547, 199.13285699979562, 183.06544346227992, 180.2923482907321, 176.6439739818359, 172.03135079833896, 161.13711682465785, 157.76030102041693, 140.74549907904452, 130.58269656768903, 129.50041535256312, 127.36397481262418, 122.37301315819872, 112.80029998693372, 109.62342186795364, 433.7979009534801, 964.9877718973845, 1880.5918330444783, 1232.6058056658778, 456.74805125123174, 320.59360399073734, 426.6194968856502, 1637.490752351733, 876.9123464337608, 2055.0136825472277, 605.8452573447984, 669.2667285112309, 628.377454967319, 702.0720272607155, 1121.078221304141, 1736.2902066736704, 1584.7799653774316, 7887.1672416084075, 9977.796786177276, 2768.623883472295, 10629.664813662981, 2331.1533932466054, 7298.040264404723, 4456.957845200994, 499.1001896519045, 467.5125310335151, 280.08974588919614, 268.58720382922246, 244.66984096846554, 243.01628883471034, 239.84407178401946, 231.75431777947736, 219.07821073892154, 198.79020036282617, 189.8525797280746, 189.1187984654298, 174.7068702148501, 172.19244488171222, 156.45771534409917, 153.12530528773127, 152.94907421507153, 124.8309792753747, 124.75976794825884, 124.27751438958057, 115.52913139666194, 112.31691301058933, 92.13366253736845, 92.05106143991112, 87.88505444659421, 81.22623236881009, 80.70036854878639, 78.62520724824707, 76.19678262082431, 468.2108863253245, 356.31290524259305, 2597.2247193627613, 358.8673598533106, 819.8374419018895, 230.24621204976316, 190.18878170081865, 1486.4236370423105, 463.4503125815823, 2455.7327726898407, 3566.0622649784423, 1121.078221304141, 744.8475368276515, 3859.9961087941297, 2885.826495804884, 709.4720083786151, 605.8905008399072, 8148.231650804012, 7298.040264404723, 12546.226449930024, 671.1701080369421, 1185.791186656484, 2593.0672414315886, 2216.4853298886646, 3013.248946242126, 5140.457304893319, 22536.456096042468, 589.3058804013339, 406.066499173567, 338.19205953905157, 170.2230333853355, 157.03496486969132, 154.45874551322763, 111.80134228483392, 100.257230298548, 96.55274035230286, 93.91562790146335, 93.78479501476711, 743.804380070243, 75.34535990967363, 71.79970050811608, 70.24828239838699, 67.10131785991622, 58.29982891177918, 48.61202023040403, 46.106592191234164, 45.54104976642283, 41.94519568531505, 41.20264477134812, 37.63567006912611, 37.36652476609121, 37.12313960329832, 36.34816430931514, 367.46519743572287, 33.304258449365015, 32.74728864653786, 16760.59143521327, 1573.33733340766, 2558.885242851346, 861.3886471361873, 3491.346333504778, 4831.369222415426, 1012.203732301662, 6148.0497802477685, 689.1673984191889, 2361.8318516790837, 164.01334173269066, 785.2162104965178, 2867.8683203079227, 32680.07148647183, 1907.7326151088996, 1355.2875663101076, 3096.080179863101, 2018.0438764071473, 2826.407231880202, 1009.1606944277315, 2576.330583013919, 12197.287028119592, 12546.226449930024, 10629.664813662981, 908.0827913005307, 7526.0333198946955, 5256.970492973741, 4568.43635457489, 11334.574414103758, 9460.37328225689, 10126.160934496675, 2615.5635049082657, 6862.208592529865, 15173.475014311496, 3295.980678506206, 1449.7092828598447, 143.24722580843186, 130.63946822345505, 119.49375104978661, 79.16202639891105, 70.0776946670793, 66.38313065183489, 56.94945940987013, 54.18575589277358, 50.384399046213446, 49.128578264072466, 45.638416792817345, 45.40475038511253, 18.95028841352288, 15.665889857821853, 10.944059694918398, 7.7199790863199, 4.31200927452076, 5883.332366658509, 4835.446663606388, 43.56026952504078, 11684.862987438088, 7799.398138864539, 2636.9609657871856, 18560.732368839374, 184.856433041942, 15173.475014311496, 1680.626833466297, 694.108871704791, 2885.826495804884, 636.5029673972775, 3192.7929171300093, 7426.652598418044, 2620.351913475433, 10126.160934496675, 2229.982351049892, 1404.9605117365638, 2844.332256279327, 6862.208592529865, 3520.1495713932877, 821.316598028373, 7298.040264404723, 2701.5506159340794, 2055.0136825472277, 8718.717180797803, 3821.6506173732314, 6400.96681010126, 3265.6709863545525, 3672.2666198475326, 3551.6595766843957, 3398.036982497315, 995.7230985211226, 643.3993593852242, 261.8796225756313, 239.53481418285466, 224.5890729882167, 203.82049133582865, 190.22144873002338, 169.03241304551486, 165.14300330131408, 160.77319263352908, 144.39043361339824, 142.5353971419896, 123.36053782054115, 122.02062752084225, 100.04608880824958, 86.38939473246083, 85.17358415565793, 76.35266430991575, 68.13950628873252, 67.42100437422229, 66.52454431086402, 61.04333675068418, 52.004883730267714, 47.927711308274134, 47.10716111319832, 45.664509707548014, 44.47427068589439, 417.9289707853835, 391.4704841286855, 347.2067735633371, 792.6132886927112, 9460.37328225689, 1880.5918330444783, 11334.574414103758, 3090.7042558425874, 6995.195820976728, 1621.784824236968, 1255.3445465731288, 1021.7158659080303, 12546.226449930024, 12197.287028119592, 15173.475014311496, 7426.652598418044, 3558.622760273654, 1305.7755142619908, 6365.8081728988855, 18560.732368839374, 4050.49222233812, 1141.5303942403532, 768.1920637257523, 534.9566865986078, 325.96391287451746, 322.23056434698276, 283.90616956748266, 236.90128300531606, 216.6340129929998, 206.20293124753917, 187.3517971537774, 175.94800805717935, 173.21267881159352, 161.63727342177103, 157.90925372177557, 152.5229028915669, 152.5229028915669, 137.4594853894705, 135.5998507873471, 135.28767965615987, 130.78456796735077, 127.330085398883, 103.78026463400664, 102.67024882273624, 100.31806227722215, 99.52672437602901, 97.8355087706065, 90.871130838878, 85.82609141255801, 84.80675682045216, 82.56280156690623, 180.14343576551218, 275.3177358940283, 3875.0962382463504, 941.1668455935705, 1002.7047762992701, 790.4730222241728, 529.4192746597882, 863.8933645982559, 2291.3484885217044, 1169.872608674165, 353.2634878805222, 3115.0890806074462, 11334.574414103758, 907.4807634966686, 5883.332366658509, 2576.330583013919, 2976.085918597204, 9977.796786177276, 1299.3558030975237, 15173.475014311496, 666.2185367472097, 5256.970492973741, 2102.2569479742147, 910.7916237647636, 10753.476875938095, 2379.8467662571375, 4541.690938469593, 3859.9961087941297, 339.3626025265463, 285.67981856221314, 239.9933703703434, 175.35553039601513, 165.6796138923519, 147.18677218775488, 146.41389388948625, 134.3034303195842, 113.65711424254098, 112.52143275727826, 107.70694337837764, 100.35413976032774, 98.12928487769764, 91.51111045093447, 87.49614771218629, 86.7177602439904, 80.83055814182048, 78.50620879605886, 74.97511253735944, 72.65884076136983, 68.57727148984436, 67.27789986726317, 66.83983492645358, 65.76020948389947, 62.02384651864728, 61.392273177637435, 60.723434168991446, 58.52420599708014, 56.55372295260741, 56.48733124881343, 1323.919444957929, 671.7948203105019, 2037.3435183111997, 336.60590501930443, 370.1699861858057, 2506.2095466675146, 2791.9388640716656, 4531.020731593606, 12197.287028119592, 7526.0333198946955, 10126.160934496675, 498.5698126707455, 4326.385699474057, 10753.476875938095, 4050.49222233812, 1470.7508270007263, 548.6380641811074, 1727.7742475417951, 1470.0195696084284, 1949.1969051653757, 2070.894781206058, 3641.6157695616134, 18560.732368839374, 12546.226449930024, 10248.811252776833, 6400.96681010126, 11684.862987438088, 7887.1672416084075, 8148.231650804012, 8718.717180797803, 5140.457304893319, 7426.652598418044, 15173.475014311496, 6862.208592529865, 4619.64408874636, 6086.823830147377, 1449.693605521683, 728.3147461798222, 505.34074630584735, 403.4058509737323, 365.7990587786129, 363.83334828605683, 303.85608148192756, 238.1802785210535, 220.30232604838716, 171.79501590839394, 129.47827735831538, 115.66683825673056, 109.33243370833878, 100.80748841568301, 95.76499730095424, 83.7192727652791, 76.28350983450147, 53.3303039651217, 48.00844486168492, 43.46218769397979, 43.36270174454122, 41.53710137402377, 39.089143171782545, 34.13729503120773, 26.87273302686877, 25.683366064348196, 21.162126555708475, 19.960188826491734, 17.82908298428548, 17.31048394045028, 1780.393213057452, 359.35948290994867, 2021.5054653134864, 2108.712291027345, 121.60122180585576, 177.425982448403, 715.5359747768908, 305.5910828974898, 1776.4063722243495, 3603.793457535997, 1316.8838510461621, 4568.43635457489, 2826.407231880202, 11334.574414103758, 9460.37328225689, 6991.215704758345, 10126.160934496675, 1536.5204554268787, 1057.282580914216, 7526.0333198946955, 1345.8640095830579, 8148.231650804012, 32680.07148647183, 2018.0438764071473, 12546.226449930024, 4574.961273800744, 6400.96681010126, 12197.287028119592, 9977.796786177276, 12383.05829748239, 2870.3389669675735, 412.2087832486449, 385.31469017425496, 379.28267619628565, 378.0104567462112, 351.7564816920246, 336.63983466555675, 248.71013232069106, 240.92725470731727, 212.7541571915942, 151.5936189896584, 131.64370695239194, 131.6089982512335, 127.255015618012, 123.97368859955913, 109.2327016831777, 103.10757881526207, 102.38026358066466, 101.68719799666196, 95.51977529875391, 91.31472658256773, 91.02331344727703, 87.18864575969461, 86.29325643882626, 59.66663869228295, 59.62153977348741, 58.41156086203871, 53.581895479440846, 51.75925201076969, 645.9252268115188, 3090.7042558425874, 473.78221671316885, 849.7271510241833, 265.5035803437014, 547.0310085021752, 196.50260780593013, 1021.7158659080303, 180.02437369349084, 1065.3746012854024, 315.69761252975565, 3511.374082165597, 2593.0672414315886, 355.769364963144, 1464.8436765172585, 1010.0242590515655, 10629.664813662981, 15173.475014311496, 3192.7929171300093, 7426.652598418044, 12546.226449930024, 9460.37328225689, 6148.0497802477685, 5256.970492973741, 4574.961273800744, 11684.862987438088, 3181.8874125500724, 3142.998316048618, 820.2438730022409, 442.73556932021245, 401.81810013152733, 336.44625079065264, 240.8144933799718, 230.07031332672366, 204.3803282834335, 192.43979803123625, 192.2884942605117, 191.1360441849528, 168.33783210594214, 166.03922164523007, 145.5291957430865, 113.0714160229878, 105.66967163706202, 100.8505874738643, 100.65136871391945, 94.4122033592948, 91.39923412709577, 84.38909480549201, 78.40629818962563, 78.185767915235, 78.09639524585313, 75.84395973310694, 75.15040163826636, 71.97779559373924, 71.79821216171077, 71.67158026033152, 67.8440402477066, 1115.7411254247256, 1590.2763117913098, 866.6920001872749, 1713.2323174534638, 320.5008032304545, 164.08452510067494, 10248.811252776833, 350.353621519417, 330.9115322015089, 3388.0300450688273, 410.9827886393561, 281.7660589448429, 744.465507196115, 3572.2935381615644, 1437.6814664976262, 1412.7175029092905, 10753.476875938095, 2098.55834216272, 15173.475014311496, 3115.0890806074462, 3282.2037129197006, 6400.96681010126, 7799.398138864539, 3342.68850471076, 18560.732368839374, 7426.652598418044, 11334.574414103758, 20205.94920718666, 3181.8874125500724, 1417.6962662192784, 1949.1969051653757, 8718.717180797803, 11684.862987438088, 32680.07148647183, 4541.690938469593, 4568.43635457489, 4619.64408874636, 1765.7649682866695, 984.453801344447, 464.8251692919089, 456.7844505035942, 407.64568198917823, 369.51103747917136, 364.0193063977795, 346.83253797028925, 307.0670372120508, 293.1110351242435, 281.4726702580318, 264.71560599547223, 237.19703124779932, 228.7756063761228, 223.31154352024578, 212.3910766715905, 209.10104347040325, 207.25364180080626, 205.50321096987508, 198.2603033670272, 195.2400392484148, 192.64466337676018, 184.0204262175504, 178.38353404732587, 172.64870785484092, 172.39553038644345, 169.14424202210859, 164.42773391736898, 154.94449234399897, 144.79430827226898, 566.3926470815768, 1110.3414563113809, 252.10520351915412, 307.6871078716292, 351.0267766239489, 614.6492970501477, 915.0956703509438, 384.14449799492087, 766.0055630126665, 1113.9947401143206, 1405.68578369824, 1776.4063722243495, 1020.5912941821708, 2455.7327726898407, 1761.3890829672587, 694.108871704791, 481.5873882636833, 826.9408624005888, 1194.595170240651, 602.569788567773, 476.7931955581294, 399.317995769727, 323.8652397070672, 314.6960254250897, 292.4419368734051, 281.79579287497654, 275.48608954077093, 230.9561625394666, 200.3851617491296, 162.34408149088512, 149.88750934099872, 135.46256436173113, 133.38268620765282, 124.57246536774845, 120.12704909405275, 119.16520614176345, 109.49815379635837, 107.96832617999074, 94.3550452768535, 80.44585128865023, 73.15981213644217, 64.0017201219598, 63.5099307630912, 58.0443573614368, 55.175490707080684, 54.2742619927668, 54.08417297250839, 51.25554150945934, 237.2041777848825, 243.0866231808684, 962.2293224402905, 1736.2902066736704, 389.9637474627809, 1558.8315092258172, 902.070213830475, 817.081274370329, 18560.732368839374, 4541.690938469593, 11334.574414103758, 1885.7128375527373, 2016.0590430324723, 514.0762144952969, 349.7702429638008, 333.37552408279066, 276.63380208703126, 269.45977328365854, 265.5494812779969, 214.60444076261592, 161.94237129098934, 160.8005363207426, 142.40418411744997, 138.3341929754245, 115.5021395314836, 114.17272042240444, 111.50363892245154, 101.19364186696184, 97.79225346547813, 96.05326934167113, 95.00519411308018, 92.44925977451865, 89.3257330919032, 86.77568240573403, 85.4700657648104, 85.0801837379132, 80.3066296916018, 75.22125130499877, 72.99113922698099, 70.669442603757, 70.53762846986182, 70.37879756477726, 68.92772447507068, 6995.195820976728, 146.24960383134263, 432.23940182215824, 1299.3558030975237, 319.6848601674657, 320.9702632690053, 449.05070102946195, 383.08204184189754, 158.686931969492, 910.7916237647636, 785.2162104965178, 760.5511388368642, 7526.0333198946955, 936.9093788916584, 1092.5985822350126, 283.3719876192525, 1672.352575564695, 790.4730222241728, 6862.208592529865, 1229.623768668338, 1504.3519883551296, 506.3560442100767, 421.15054972498524, 333.0095360267893, 281.91563329887396, 229.18110765376304, 208.08189714810962, 184.17138697114777, 182.4512280994235, 162.7611775903702, 147.80307327853137, 145.6294182287487, 141.67010899649654, 141.25039898296632, 136.81034309241332, 126.90961220678139, 119.46541241812324, 118.39160779804286, 111.08622898990818, 109.79658755032655, 107.73123515868205, 107.05497184335748, 105.05278157855533, 104.85716107061602, 93.32696085611938, 91.94217120770357, 89.8656998447, 88.96975030260415, 88.54270149104116, 88.26033777503348, 686.7719057573673, 201.8110519671254, 911.3922579394255, 457.59917544865306, 397.5096315273317, 1405.68578369824, 380.4027269504516, 358.31250738698606, 657.6025082481757, 216.12125706128208, 10629.664813662981, 177.3161700979526, 1622.2424785489436, 7526.0333198946955, 1437.6814664976262, 2283.9276125898696, 1491.00407709465, 695.2136751277542, 277.93434208102616, 276.00920929727033, 221.21768061232157, 218.21562318942924, 191.1717048049225, 121.7108753624804, 113.52791028886918, 106.69418670928206, 103.75568437669686, 103.07476864119343, 82.62821982017458, 78.8402307400267, 73.11408417413948, 71.60538384503285, 69.64372137518382, 67.47096582138752, 67.13612102055738, 64.85345675774552, 63.98367005745129, 62.20545301390317, 60.22969181559813, 60.098051118554395, 56.69325507853682, 50.0732627669702, 49.489989676245216, 48.09221241448925, 44.137101405618004, 6265.066167538187, 4232.172641252726, 317.9099041031806, 159.85904620572532, 1284.5754205611768, 344.71655395416843, 399.34715258518946, 274.69078805511555, 2966.7777860264778, 6148.0497802477685, 349.6153754951094, 833.1825186686741, 3163.248719970749, 1949.1969051653757, 7887.1672416084075, 1752.2630625175566, 486.8670364290125, 4568.43635457489, 3572.2935381615644, 1437.6814664976262, 32680.07148647183, 7526.0333198946955, 10126.160934496675, 12546.226449930024, 3077.66107832111, 2867.8683203079227, 21887.248940783513, 1638.5086993128439, 318.1579014898904, 246.74216956822042, 234.4336456118813, 223.67482521257747, 181.7386261799035, 179.0147445011554, 177.8352931719594, 160.07160430786146, 157.97383660197704, 137.13065810026646, 123.9274360188282, 118.00327330815928, 116.79003056655161, 113.23329182696986, 112.46430887425062, 102.36251106757685, 99.70475096338565, 93.17364524802272, 91.57407652564481, 79.78210453849572, 79.0507805464477, 77.77248834325039, 77.77218656330406, 75.91283295659947, 74.38095824113037, 70.78097761187026, 69.9576425025011, 69.50251069396718, 188.55274891851792, 532.5114427177506, 113.54284187745657, 487.2032947329335, 1069.414696363423, 3003.4635013612033, 231.60349761549858, 758.8434440496968, 6086.823830147377, 1657.545057572651, 3916.8139181805195, 834.7916943529809, 724.8067763834912, 2791.9388640716656, 6991.215704758345, 20205.94920718666, 10126.160934496675, 1727.7742475417951, 4326.385699474057, 12197.287028119592, 481.5873882636833, 10753.476875938095, 12546.226449930024, 902.070213830475, 6400.96681010126, 3821.6506173732314, 4574.961273800744, 7526.0333198946955, 7387.504208256646, 7298.040264404723, 11684.862987438088, 3603.793457535997, 1044.1043553715676, 462.3348937959119, 444.6353467821913, 438.0606831358795, 436.20471077301113, 317.5879127368093, 292.0491367426522, 242.7528162578262, 207.2658783789304, 186.71552857148487, 159.51346382737773, 159.36937838916967, 158.28841319278138, 127.95812777746377, 118.11145869425692, 108.33980740564921, 102.70381964022353, 98.37081208000983, 94.13701854009766, 89.31377234284419, 87.10390841988286, 83.94464726684424, 82.81813809558909, 79.54367189146267, 78.03473892012671, 72.88960696165734, 72.4970552449974, 70.89920233107044, 70.13187813880785, 70.09199155484262, 3028.5125447161736, 356.93742142921235, 505.4167156280307, 201.7204826940469, 2142.8144884751737, 584.5797638953877, 1906.5646788484646, 435.0425505225556, 900.0770421248722, 210.12671210676, 1080.2611183493304, 234.31905869052798, 207.51343965987644, 643.6546237685222, 1487.709212323626, 567.67404430305, 5052.5793546180175, 2636.9609657871856, 7426.652598418044, 8148.231650804012, 910.3315574136791, 333.9125110071452, 1464.8436765172585, 1057.282580914216, 1417.6962662192784, 3342.68850471076, 2741.731732193728, 1881.5570459106782, 4619.64408874636, 949.1127408451182, 441.7427539902621, 382.02874555982294, 330.4270370959129, 328.25175979301326, 247.26169504757422, 240.05679176542654, 233.08378946361827, 214.78890046820163, 205.27985463966687, 199.2365263836096, 196.0832799738272, 156.49491503712323, 131.79806049656793, 129.0074151935974, 119.1109973379528, 112.79267187554863, 108.34863233407589, 98.45306134750129, 95.1740489997863, 88.78523933040891, 82.81241292443048, 462.0070587295393, 76.64377157015166, 70.5326290971058, 67.5208157030513, 67.05429082307099, 64.45526140926204, 64.08429747038375, 63.78687587678704, 266.52414737675167, 1584.7799653774316, 233.02789850655566, 418.42604770907764, 602.2132018446479, 2955.3439605769913, 32680.07148647183, 412.34390987760503, 565.0844950165445, 622.7428994573754, 2877.62541743501, 1057.282580914216, 4835.446663606388, 1621.784824236968, 739.8687913470553, 1907.7326151088996, 10629.664813662981, 3558.622760273654, 8148.231650804012, 12197.287028119592, 3125.1188877537948, 3181.8874125500724, 16760.59143521327, 1577.494831422953, 2701.5506159340794, 2615.5635049082657, 3383.0811179380003, 2006.4760490682172, 994.4731382905378, 500.07244976534486, 278.22047053857517, 266.0638929775302, 204.1935088751939, 200.38044186895556, 188.30771709975488, 182.34512361058222, 177.41165288515845, 167.9346045661598, 161.12299169917026, 156.64755600276197, 150.61437523867374, 148.5701840596366, 118.80207483355586, 114.49448933995022, 111.39256710693951, 103.30458537970965, 100.57117894403252, 98.18546972684211, 97.53119313347057, 95.06445777075868, 90.60994583073487, 84.6499620592137, 81.47246319184794, 72.07072198976427, 69.7901377213958, 67.55901976367548, 65.84924713900419, 858.3338987457512, 6365.8081728988855, 1061.4639366022993, 335.39022500660394, 6991.215704758345, 469.19754940535944, 127.28547926648935, 1464.8436765172585, 2593.0672414315886, 918.1507299519582, 3163.248719970749, 224.47390783699294, 1255.3445465731288, 1185.791186656484, 7298.040264404723, 1229.623768668338, 8148.231650804012, 5671.692752130203, 1297.5293314424523, 671.1701080369421, 2615.5635049082657, 1603.7668292579144, 495.03606433862586, 268.63347465886073, 142.3767123253773, 138.74105676781383, 119.71829563316388, 114.88586545042719, 112.27209144983485, 112.09070778661521, 110.65228944763803, 107.16489274468685, 106.5691472181425, 101.53935739883586, 98.41657271775001, 92.43038802909707, 92.15603513250706, 91.7267619811551, 89.83629647322034, 82.46743854718426, 66.30122813430654, 62.509097995279504, 57.37281686964917, 52.645767759877906, 47.550559574999234, 44.89971516724941, 44.50254199371251, 42.81552817205721, 40.77735038593268, 39.48467152587019, 39.023796578338285, 38.00501513451369, 773.7612198024033, 7927.456415959749, 9045.86855081148, 84.37917490704373, 308.62643872173913, 188.7657823061533, 1113.9947401143206, 280.277444243252, 139.27298429688477, 3520.1495713932877, 1640.7929575790538, 7887.1672416084075, 1819.1468701129568, 2361.8318516790837, 1945.0346507024094, 6943.40312860292, 2055.0136825472277, 3922.9141128491938, 2597.2247193627613, 18560.732368839374, 2016.0590430324723, 2620.351913475433, 3028.5125447161736, 4541.690938469593, 12197.287028119592, 7426.652598418044, 15173.475014311496, 4050.49222233812, 5256.970492973741, 32680.07148647183, 2142.8144884751737, 2216.4853298886646, 4232.172641252726, 12546.226449930024, 10126.160934496675, 1161.7166440802205, 711.8742590508465, 679.0886931947437, 646.684518066205, 556.5769096269373, 530.8152196865223, 467.89276799564345, 461.3294042874911, 410.9285416581407, 386.46488788535083, 379.9870641547868, 369.38412599309163, 340.7296431710443, 317.6162433432222, 317.0898365596835, 312.93118997745, 299.8804347782671, 284.5436746661017, 274.2420159836753, 273.7543901226547, 263.7227582348382, 228.95107227147406, 223.1353885532622, 222.89641948894422, 220.49450670661042, 209.9850416655863, 207.98626452096795, 169.30923768389846, 165.72839085560958, 157.50074670692504, 409.93542502086126, 1026.2760923684114, 334.75079901477403, 704.5463894708231, 1415.1340295767486, 4531.020731593606, 565.2691309405202, 308.5323173176383, 452.43910740446285, 10248.811252776833, 1947.063732756432, 5671.692752130203, 943.9156881516888, 6086.823830147377, 9977.796786177276, 855.6858764936984, 2107.979282025988, 1672.352575564695, 1689.6855366506309, 1104.6440889638732, 3265.6709863545525, 6862.208592529865, 1764.6311983739151, 1526.899356533719, 1090.906002892207, 12546.226449930024, 7298.040264404723, 6365.8081728988855, 2701.5506159340794, 2506.2095466675146, 732.0805646815901, 596.1022347229807, 397.91267355908013, 395.86289069708147, 380.04121565299073, 326.9108828207283, 319.37827649072926, 293.7873460640387, 278.9422635293534, 235.2434441852226, 220.54458274058845, 220.3153770921052, 220.2655396161541, 214.24975312866246, 194.1835961204211, 189.50927322945648, 185.724371084569, 183.84199851693364, 173.15083746841043, 171.0046709923117, 159.33206806685203, 158.35298270988045, 152.96972707923845, 148.62921205767674, 146.5998101720684, 144.92858958343342, 143.29028237282012, 136.06715917308256, 128.24551885301298, 124.96617787976089, 318.70499013705705, 209.32599536294217, 3922.9141128491938, 475.1262426413844, 7387.504208256646, 1297.806734963554, 693.6348402303804, 360.26095519938053, 490.06985473697716, 309.9020967870267, 1302.5490035011906, 301.01668672613994, 1881.5570459106782, 2490.3165575329504, 375.2084299072067, 3013.248946242126, 2496.792339071943, 2976.085918597204, 5140.457304893319, 9977.796786177276, 1070.4394607357863, 501.7532155839706, 1404.9605117365638, 3821.6506173732314, 7298.040264404723, 3641.6157695616134, 5671.692752130203, 1689.6855366506309, 830.9181902472552, 1023.9383109377841, 1764.6311983739151, 1526.899356533719, 8148.231650804012, 5052.5793546180175, 964.304015372317, 2455.7327726898407, 10629.664813662981, 3265.6709863545525, 1911.8897321840948, 8718.717180797803, 1091.023251632015, 734.5097229836546, 427.0103904980385, 416.1513223725263, 405.22293760163734, 399.03296542988943, 340.59091732261885, 299.08532854431826, 165.45580916421795, 159.54461601461065, 141.58997526050385, 139.86725212387628, 121.45508742711365, 114.11688523771964, 108.9040562251841, 106.4944613701021, 101.63317894596625, 100.8925942830381, 83.90416877201632, 76.33218799482661, 74.45271423281342, 68.53677074149778, 61.89922797760186, 58.8609051605362, 55.99180527858821, 48.92699271020379, 43.727924777235984, 42.58694275854176, 39.6938781482444, 39.474606209342866, 1345.8640095830579, 434.1813825357087, 418.0868275974735, 193.83488807695446, 396.81770354695306, 2098.55834216272, 218.5404520587203, 1713.2323174534638, 6265.066167538187, 546.5186483426781, 158.19734363547877, 624.2614135151596, 988.0632102891356], \"Term\": [\"branch\", \"fee\", \"credit\", \"close\", \"loan\", \"charge\", \"point\", \"receive\", \"send\", \"change\", \"fund\", \"business\", \"transfer\", \"payment\", \"pay\", \"dispute\", \"service\", \"email\", \"frequent_flyer\", \"cheque\", \"new\", \"request\", \"open\", \"access\", \"apply\", \"offer\", \"application\", \"letter\", \"transaction\", \"bonus_points\", \"read\", \"flight\", \"rewards_travel\", \"adventure\", \"status_credits\", \"velocity_points\", \"advertise\", \"disputes_team\", \"informal_overdraft\", \"consideration\", \"mislead\", \"steal\", \"doesnt\", \"inappropriate\", \"st_year\", \"travel_insurance\", \"clearance\", \"principle\", \"pin_number\", \"discrepancy\", \"subsequent\", \"forget\", \"delay_settlement\", \"wifes\", \"unreasonable\", \"temporary\", \"velocity\", \"closer\", \"delay_processing\", \"numerous_times\", \"terms_conditions\", \"redemption\", \"requirement\", \"website\", \"time_frames\", \"time_frame\", \"social_media\", \"honour\", \"online\", \"applicable\", \"available\", \"offer\", \"allow\", \"state\", \"accept\", \"condition\", \"time\", \"clear\", \"believe\", \"year\", \"explain\", \"feedback_provided\", \"review\", \"balance_transfer\", \"away\", \"print\", \"father\", \"agent\", \"drive\", \"poa\", \"trade\", \"loa\", \"vic\", \"qld\", \"safety_deposit\", \"machine\", \"business_overdraft\", \"arrangements\", \"firstly\", \"pty\", \"managers\", \"cust\", \"foreign_currency\", \"clear_arrears\", \"alert\", \"content\", \"sick\", \"real_estate\", \"wants_lodge\", \"rely\", \"secondary\", \"commit\", \"tot\", \"police\", \"box\", \"thursday\", \"general\", \"info\", \"trust\", \"step\", \"thank\", \"receipt\", \"daughter\", \"email_address\", \"family\", \"months_ago\", \"forward\", \"present\", \"form\", \"write\", \"regard\", \"email\", \"allow\", \"cheque\", \"deposit\", \"wife\", \"term_deposit\", \"reopen\", \"invest\", \"crc\", \"maintenance\", \"cheque_cleared\", \"deposited_cheque\", \"substantial\", \"decision_close\", \"cheque_dishonoured\", \"action_taken\", \"offerred\", \"propose\", \"bag\", \"failed_security\", \"stamp\", \"complaints_department\", \"wanted_lodge\", \"extremely_unhappy\", \"req\", \"accidently\", \"special_clearance\", \"fast\", \"cash_deposit\", \"loss_incurred\", \"responsible_lending\", \"lapse\", \"cap\", \"banker\", \"investment\", \"cash\", \"nominate\", \"visit_branch\", \"fund\", \"present\", \"clear\", \"miss\", \"lose\", \"process\", \"issue\", \"joint\", \"withdraw\", \"wants_know\", \"want\", \"redraw\", \"empathise\", \"successfully_transaction\", \"transaction_saved\", \"accepts_resolution\", \"valuation\", \"extend\", \"intend\", \"trace\", \"deliver\", \"gesture_good\", \"travel_cards\", \"circumstances\", \"mobile_lender\", \"responsibility\", \"employer\", \"principal\", \"guy\", \"unfair\", \"recent_experience\", \"lawyers\", \"equivalent\", \"dens\", \"mistaken_internet\", \"supplier\", \"automatic_payment\", \"hospital\", \"madam\", \"instruction\", \"baycorp\", \"mistake\", \"car\", \"funds_returned\", \"draft\", \"matter_caused\", \"situation\", \"partner\", \"end\", \"case\", \"number\", \"higher\", \"resolution\", \"action\", \"apologised_inconvenience\", \"asap\", \"resolve\", \"debit\", \"financial_hardship\", \"approve\", \"closure\", \"good\", \"want\", \"late\", \"insurance\", \"jan\", \"advance\", \"statement_period\", \"pleased_resolution\", \"wouldn\", \"invoice\", \"insufficient_funds\", \"aussie\", \"need_visit\", \"delete\", \"free_period\", \"envelope\", \"reminder\", \"spot\", \"items\", \"approved_good\", \"double\", \"fraudulent_transaction\", \"credit_corp\", \"interest_charges\", \"insurance_premium\", \"end_month\", \"generally\", \"persons\", \"warm\", \"senior_personal\", \"based_investigation\", \"earlier_year\", \"payment\", \"payments\", \"collections\", \"solution\", \"pay\", \"collection\", \"arrears\", \"sms\", \"date\", \"miss\", \"stop\", \"letter_stating\", \"month\", \"days\", \"receive\", \"fail\", \"period\", \"day\", \"state\", \"time\", \"final\", \"require\", \"like\", \"process\", \"claim\", \"limit\", \"children\", \"marriage_equality\", \"final_response\", \"marriage\", \"breach\", \"section\", \"shield\", \"busy\", \"super\", \"marry\", \"equality_transgender\", \"sister\", \"risk\", \"sexual\", \"location\", \"society\", \"mind\", \"areas\", \"fortnight\", \"support_marriage\", \"wonder\", \"equality\", \"regret\", \"money_app\", \"collins_street\", \"quick\", \"complaints_actioned\", \"girls\", \"behavior\", \"app\", \"pick\", \"feedback\", \"simple\", \"australian\", \"summary\", \"australia\", \"allow\", \"blr_template\", \"requirements\", \"support\", \"suggestion\", \"reach\", \"collect\", \"log\", \"secure\", \"security\", \"use\", \"include\", \"future\", \"mother\", \"officer\", \"communication\", \"act\", \"representative\", \"approach\", \"discharge\", \"supply\", \"manner\", \"breach_privacy\", \"ombudsman\", \"connect\", \"private\", \"court\", \"passed_away\", \"centrelink\", \"collections_team\", \"comment\", \"respect\", \"carry\", \"personally\", \"referral\", \"minimum_monthly\", \"perth\", \"michael\", \"industry\", \"employment\", \"solicitors\", \"financial_assistance\", \"sell_property\", \"enquiry\", \"paperwork\", \"refer\", \"information\", \"agreement\", \"contact\", \"legal\", \"deal\", \"enquiries\", \"assist\", \"report\", \"response\", \"respond\", \"write\", \"reply\", \"direct\", \"ask\", \"email\", \"provide\", \"team\", \"phone\", \"need\", \"number\", \"require\", \"concern\", \"regard\", \"matter\", \"understand\", \"hold\", \"follow\", \"time\", \"able\", \"speak\", \"like\", \"want\", \"letter\", \"request\", \"explain\", \"reinstate\", \"direct_debits\", \"apologized_inconvenience\", \"offered_goodwill\", \"owing_balance\", \"overdue\", \"business_advantage\", \"case_management\", \"project\", \"default_listing\", \"overnight\", \"intention\", \"non_payment\", \"nil_balance\", \"final_statement\", \"loo\", \"dispute_favour\", \"solely\", \"fast_track\", \"increase_annual\", \"brochure\", \"default_notice\", \"balance_owing\", \"meet_needs\", \"wallet\", \"national\", \"prepared_offer\", \"decision_remove\", \"reinstatement\", \"pertain\", \"direct_debit\", \"close\", \"procedure\", \"low_rate\", \"closure\", \"caused_relation\", \"equity_manager\", \"owe\", \"finalise\", \"access_advantage\", \"balance\", \"default\", \"request\", \"debit\", \"credit\", \"cancel\", \"action\", \"draw\", \"accrue\", \"end\", \"want\", \"open\", \"process\", \"confirm\", \"remove\", \"unhappy\", \"contact\", \"pay\", \"apologised_inconvenience\", \"inform\", \"like\", \"letter_sent\", \"state\", \"rewards_points\", \"allocate\", \"rewards_black\", \"rewards_platinum\", \"reward_points\", \"award\", \"ineligible_bonus\", \"inter_product\", \"ineligible\", \"ipt\", \"promotion\", \"unable_redeem\", \"dec\", \"bonus_point\", \"rewards_centre\", \"sent_final\", \"long_time\", \"promotional_offer\", \"salary\", \"misinformation\", \"apologised_misinformation\", \"eligibility_criteria\", \"spent_months\", \"field\", \"seriously\", \"incorrect_info\", \"struggle\", \"exemption\", \"rd_party\", \"channel\", \"reward\", \"criteria\", \"eligibility\", \"product\", \"point\", \"year\", \"credit\", \"annual_fee\", \"offer\", \"days\", \"transfer\", \"receive\", \"online\", \"goodwill\", \"apply\", \"tell\", \"miss\", \"provide\", \"happy\", \"contact\", \"want\", \"income\", \"application_declined\", \"mer\", \"cuso\", \"web_voucher\", \"applicant\", \"identification\", \"mark\", \"avoid_escalation\", \"expiry\", \"behaviour\", \"recieved\", \"renew\", \"choice\", \"totally\", \"assessments\", \"deny\", \"country\", \"discuss_matter\", \"world\", \"days_later\", \"pre\", \"protect\", \"discontinue\", \"payee\", \"assessments_team\", \"easily\", \"potential\", \"auto\", \"freeze\", \"application\", \"decline\", \"internally\", \"submit\", \"approve\", \"outcome\", \"claim\", \"create\", \"document\", \"apply\", \"process\", \"complete\", \"request\", \"new\", \"credit\", \"require\", \"provide\", \"file\", \"review\", \"want\", \"reason\", \"business\", \"ing\", \"merchant_facility\", \"allow_hours\", \"delivery\", \"bounce\", \"resolution_centre\", \"introduce\", \"screen\", \"mrs\", \"track\", \"change_type\", \"display\", \"friends\", \"hopefully\", \"booklet\", \"background\", \"repeatedly\", \"conditions_use\", \"sarah\", \"haven_received\", \"net\", \"everyday_visa\", \"emergency\", \"automatic\", \"news\", \"ils_ending\", \"stuff\", \"blocked_falcon\", \"caused_reassured\", \"block\", \"saturday\", \"personal\", \"int\", \"request_actioned\", \"liaise\", \"company\", \"set\", \"ahead\", \"friday\", \"run\", \"start\", \"merchant\", \"promise\", \"frequent_flyer\", \"bonus_points\", \"black\", \"eligible\", \"eligible_bonus\", \"k_bonus\", \"qantas\", \"points_allocated\", \"qantas_points\", \"allocate_points\", \"cycle\", \"function\", \"enclose\", \"thanked_time\", \"reward_program\", \"management_review\", \"meet_criteria\", \"sooner\", \"letting_know\", \"prior_applying\", \"sight\", \"escalate_matter\", \"allocation_k\", \"operation\", \"allocate_k\", \"online_channels\", \"incorrect_advice\", \"formal_overdraft\", \"version\", \"provide_supporting\", \"point\", \"qualify\", \"platinum\", \"apply\", \"statement_cycle\", \"offer\", \"previous\", \"approve\", \"months\", \"approval\", \"receive\", \"spend\", \"hold\", \"credit\", \"goodwill_gesture\", \"new\", \"happy\", \"seek\", \"gwg\", \"exist\", \"accept\", \"close\", \"tell\", \"apologise\", \"confirm\", \"want\", \"open\", \"investigate_matter\", \"thank_opportunity\", \"respond_concerns\", \"considered_information\", \"provided_known\", \"thanks_sharing\", \"line_staff\", \"lounge\", \"issues_raised\", \"sorry_hear\", \"evidence\", \"caused_inconvenience\", \"manager_investigation\", \"action_appropriate\", \"provides_opportunity\", \"grateful_feedback\", \"concerns_genuinely\", \"disconnect\", \"deceased_estate\", \"signatory\", \"school\", \"unprofessional\", \"issues_encountered\", \"failure\", \"repeat\", \"sorry_service\", \"action_required\", \"terminate\", \"lounge_access\", \"asic\", \"accept_apologies\", \"policies\", \"apologies_inconvenience\", \"inconvenience_caused\", \"review_improve\", \"addressed_internally\", \"relevant_areas\", \"inconvenience_matter\", \"pass\", \"poor_experience\", \"feedback\", \"staff\", \"confirm\", \"want\", \"request\", \"service\", \"process\", \"settlement\", \"broker\", \"release\", \"sell\", \"ied\", \"advs\", \"sale\", \"teh\", \"payout_figure\", \"documentation\", \"parent\", \"extremely\", \"docs\", \"imt\", \"equity\", \"ready\", \"saw\", \"excess\", \"ils\", \"yrs\", \"apologize\", \"big\", \"shortfall\", \"properties\", \"international_cheque\", \"waste\", \"await\", \"decrease\", \"loan_drawn\", \"recover\", \"finance\", \"client\", \"mortgage\", \"property\", \"house\", \"solicitor\", \"contract\", \"document\", \"home\", \"delay\", \"settle\", \"original\", \"value\", \"approval\", \"security\", \"sign\", \"purchase\", \"process\", \"time\", \"require\", \"pay\", \"result\", \"need\", \"access\", \"pin\", \"son\", \"wont\", \"feature\", \"mobile_number\", \"clarify\", \"misleading_information\", \"improve\", \"concierge\", \"recorded_passed\", \"i_apologise\", \"chase\", \"signing_authority\", \"specifically\", \"establish\", \"restrain\", \"paper_statements\", \"month_period\", \"enable\", \"sons\", \"disable\", \"shortly\", \"telstra\", \"thank_patience\", \"unavailable\", \"communications\", \"security_reasons\", \"signatories\", \"misunderstand\", \"view\", \"instructions\", \"internet_banking\", \"visa_debit\", \"joint\", \"holders\", \"wanted_know\", \"order\", \"relevant_area\", \"use\", \"able\", \"security\", \"inconvenience\", \"unable\", \"online\", \"option\", \"arrive\", \"issue\", \"need\", \"want\", \"holder\", \"partner\", \"set\", \"available\", \"try\", \"phone\", \"fee\", \"fee_waiver\", \"rewards_program\", \"annual\", \"estate\", \"minimum_payment\", \"dishonour_fee\", \"conversion_fee\", \"penalties\", \"health\", \"death_certificate\", \"attract\", \"fees_charges\", \"annual_rewards\", \"hassle\", \"lodgement\", \"death\", \"honest\", \"pkg\", \"share_investing\", \"provision\", \"consistently\", \"remained_open\", \"waivers\", \"place_waiver\", \"uber\", \"worst_service\", \"annual_fees\", \"amex_removal\", \"western_union\", \"charge\", \"late_payment\", \"waive\", \"reversal\", \"reverse\", \"annual_fee\", \"incur\", \"refund\", \"waiver\", \"reimburse\", \"going_forward\", \"monthly\", \"gwg\", \"credit\", \"total\", \"cover\", \"year\", \"goodwill_gesture\", \"educate\", \"benefit\", \"month\", \"happy\", \"want\", \"pay\", \"gesture_goodwill\", \"unhappy\", \"seek\", \"resolve\", \"offer\", \"apply\", \"apologise\", \"years\", \"like\", \"request\", \"statements\", \"mail\", \"receiving_statements\", \"residential_address\", \"cards_solutions\", \"manger\", \"platform\", \"called_complain\", \"merchant_services\", \"stupid\", \"faster\", \"year_ago\", \"ibb\", \"directors\", \"filled_form\", \"ride\", \"makes_difference\", \"unable_overturn\", \"caravan\", \"letter\", \"statement\", \"week_ago\", \"send\", \"email\", \"address\", \"receive\", \"consultants\", \"request\", \"form\", \"department\", \"online\", \"box\", \"response\", \"confirm\", \"complete\", \"apologise\", \"action\", \"week\", \"follow\", \"like\", \"days\", \"submit\", \"need\", \"look\", \"delay\", \"contact\", \"inform\", \"state\", \"today\", \"break_free\", \"package\", \"rate\", \"rat\", \"discount\", \"address_internally\", \"linked_break\", \"free_package\", \"superannuation\", \"limit_increase\", \"better_rate\", \"past_years\", \"lender\", \"making_payments\", \"discuss_options\", \"higher_rate\", \"compensated_goodwill\", \"rate_increase\", \"fraudulently\", \"base_rate\", \"super_fund\", \"subject_change\", \"standard_variable\", \"products_team\", \"royal\", \"blue\", \"apologise_advise\", \"addressing_concerns\", \"assessor\", \"accuse\", \"gesture\", \"pension\", \"home_loans\", \"difference\", \"apply\", \"mortgage\", \"offer\", \"home_loan\", \"change\", \"current\", \"exist\", \"lend\", \"want\", \"happy\", \"request\", \"confirm\", \"date\", \"product\", \"new\", \"receive\", \"team\", \"hardship\", \"arrangement\", \"nzs\", \"payment_arrangement\", \"match\", \"hardship_assistance\", \"lower_rate\", \"residential_investment\", \"repay\", \"afford\", \"financial_position\", \"improve_service\", \"chargeback\", \"opportunity_review\", \"genuinely_grateful\", \"feedback_provides\", \"hardship_arrangement\", \"information_relevant\", \"media\", \"presently\", \"matter_consider\", \"financial_situation\", \"wait_minutes\", \"activation\", \"delays_response\", \"merge\", \"annum\", \"change_banks\", \"competitive\", \"idr\", \"consolidate\", \"sincerely_apologise\", \"months\", \"decision\", \"debt\", \"term\", \"final_resolution\", \"reduce\", \"discuss\", \"arrears\", \"attempted_contact\", \"matter\", \"offer\", \"assistance\", \"letter\", \"month\", \"work\", \"time\", \"increase\", \"request\", \"owe\", \"seek\", \"inconvenience_caused\", \"policy\", \"provide\", \"payments\", \"accept\", \"unable\", \"feedback_lodged\", \"kyc\", \"securemail\", \"caller\", \"impress\", \"long_wait\", \"supervisor\", \"cheque_deposited\", \"servicing_fees\", \"extremely_disappointed\", \"international_payments\", \"lack_service\", \"bendigo\", \"legitimate\", \"taxi\", \"receive_notification\", \"loose\", \"permission\", \"layout\", \"outbound\", \"dollar\", \"late_husband\", \"test\", \"wasting_time\", \"falcon_team\", \"block_placed\", \"consistent\", \"eat\", \"airport_lounge\", \"feedback_icm\", \"pass_feedback\", \"provide_feedback\", \"consultant\", \"written_response\", \"secure_mail\", \"experience\", \"feedback_passed\", \"poor_service\", \"happy\", \"unhappy\", \"apologise\", \"profile\", \"feedback\", \"provide\", \"team\", \"incorrect_information\", \"letter_advising\", \"feedback_provided\", \"poor_experience\", \"lodge\", \"regard\", \"speak\", \"receive\", \"want\", \"service\", \"state\", \"send\", \"process\", \"issue\", \"contact\", \"phone\", \"confirm\", \"request\", \"like\", \"information\", \"staff\", \"online_saver\", \"progress_saver\", \"frustration_inconvenience\", \"overdrawn_fees\", \"called_regards\", \"privacy_breach\", \"called_lodge\", \"tomorrow\", \"ignore\", \"tax_file\", \"advantage\", \"calculation\", \"mcs\", \"mastercard\", \"domestic_transfer\", \"insufficient_information\", \"mistaken_payment\", \"situations\", \"correction\", \"transpire\", \"advocate_offered\", \"duplicate_icm\", \"statment\", \"looked_internally\", \"selling_house\", \"reluctant\", \"bee\", \"unconditional_contract\", \"huskisson\", \"remitter\", \"overdraw\", \"offered_good\", \"bonus\", \"travel\", \"financial_year\", \"ivr\", \"assure\", \"accepted_outcome\", \"lose\", \"cause\", \"good_gesture\", \"resolve\", \"educate\", \"offer\", \"apply\", \"open\", \"apologise\", \"miss\", \"earn\", \"unhappy\", \"expire\", \"issue\", \"credit\", \"goodwill_gesture\", \"want\", \"apologised_inconvenience\", \"state\", \"happy\", \"time\", \"loan\", \"offset\", \"offset_linked\", \"fixed_rate\", \"title\", \"adjust\", \"backdate\", \"investment_loan\", \"business_select\", \"share\", \"payout\", \"split\", \"rental\", \"joint_names\", \"rent\", \"brother\", \"drawdown\", \"linked_offset\", \"unauthorised_transaction\", \"certificate\", \"relevant_teams\", \"reduction\", \"sold_property\", \"connection\", \"jennifer\", \"set_correctly\", \"release_title\", \"wil\", \"elizabeth\", \"changing_banks\", \"refinance\", \"home_loan\", \"sent_writing\", \"repayments\", \"variable_rate\", \"adjustment\", \"retention\", \"lend\", \"delay_response\", \"fix\", \"seeking_reimbursement\", \"end\", \"set\", \"loyalty\", \"link\", \"save\", \"pay\", \"request\", \"response\", \"confirm\", \"want\", \"apply\", \"refund\", \"seek\", \"apologised_inconvenience\", \"send\", \"review\", \"financial_ombudsman\", \"reference\", \"acceptance\", \"page\", \"credit_rating\", \"appreciative_outcome\", \"letter_dated\", \"concerns_raised\", \"power_attorney\", \"compromise\", \"rule\", \"closing_concern\", \"fos\", \"accordance\", \"director\", \"raised_concerns\", \"head_office\", \"following_day\", \"gail\", \"visiting_branch\", \"difficulties\", \"exact\", \"outside_terms\", \"commercial_cards\", \"lending_criteria\", \"financial_difficulty\", \"withhold\", \"spell\", \"confidential\", \"financial_counsellor\", \"copy\", \"com\", \"correspondence\", \"registration\", \"advocate\", \"conflicting_information\", \"service\", \"internal\", \"progress\", \"concern\", \"cba\", \"final_settlement\", \"relate\", \"case\", \"raise\", \"relation\", \"provide\", \"file\", \"request\", \"matter\", \"resolution\", \"state\", \"email\", \"claim\", \"receive\", \"confirm\", \"offer\", \"close\", \"review\", \"compensation\", \"lodge\", \"contact\", \"send\", \"credit\", \"accept\", \"resolve\", \"information\", \"overseas\", \"overdraft\", \"overdraft_facility\", \"westpac\", \"international_transfer\", \"fraudulent\", \"local_branch\", \"small_business\", \"exchange_rate\", \"cheque_book\", \"fair\", \"unauthorised\", \"new_zealand\", \"replace\", \"withdrawals\", \"liable\", \"specialist\", \"conversion\", \"fraud_team\", \"annoy\", \"overseas_transaction\", \"daily\", \"ridiculous\", \"dispute_raised\", \"sales\", \"merchants\", \"unauthorised_transactions\", \"exchange\", \"pursue\", \"currency\", \"aud\", \"facility\", \"park\", \"internet\", \"quote\", \"loss\", \"withdraw\", \"soon\", \"australia\", \"international\", \"cost\", \"lose\", \"thank\", \"use\", \"remove\", \"department\", \"withdrawal\", \"explanation\", \"party\", \"replacement\", \"goodwill_payment\", \"consent\", \"signed_acceptance\", \"price\", \"lounge_passes\", \"pro_rata\", \"voucher\", \"reissue\", \"express\", \"extension\", \"safe_deposit\", \"pts\", \"play\", \"qantas_lounge\", \"erc\", \"young\", \"avail\", \"grant\", \"discretion\", \"zero_balance\", \"closure_notification\", \"settlement_agreement\", \"westfield_gift\", \"complainant\", \"overpay\", \"submitting_application\", \"acknowledged_error\", \"sop\", \"gift\", \"business_extra\", \"complain\", \"sign\", \"knowledge\", \"pass\", \"relevant_team\", \"post\", \"receive\", \"accept\", \"offer\", \"agree\", \"case_closed\", \"repayment\", \"unaware\", \"acceptance_received\", \"effect\", \"assessment\", \"warm_transferred\", \"outline\", \"excessive\", \"assess\", \"format\", \"initiate\", \"threaten\", \"retention_team\", \"explained_policy\", \"fortnightly\", \"apologising_inconvenience\", \"ones\", \"space\", \"fraudulent_activity\", \"revert\", \"general_enquiries\", \"assurance\", \"operators\", \"restraints\", \"rate_increased\", \"reconciliation\", \"retail_solutions\", \"light_poor\", \"liquidations\", \"disappointment\", \"change\", \"negotiate\", \"retain\", \"increase\", \"commercial\", \"standard\", \"ticket\", \"products\", \"unfortunately_unable\", \"policy\", \"monthly\", \"type\", \"unhappy\", \"notify\", \"notice\", \"accept_offer\", \"feel\", \"term\", \"like\", \"additional\", \"personal_loan\", \"adv\", \"recall\", \"urgently\", \"restraint\", \"received_text\", \"early_repayment\", \"edu\", \"george\", \"merchant_terminal\", \"fax\", \"want_know\", \"terminal\", \"debts\", \"successfully\", \"reversals\", \"variable_fixed\", \"huge\", \"construction_loan\", \"response_writing\", \"weekly\", \"discussions\", \"admin\", \"bus_days\", \"notifications\", \"unable_identify\", \"partial\", \"administration\", \"external\", \"nearest_branch\", \"unsuccessful\", \"car_loan\", \"incorrectly\", \"disclose\", \"dda\", \"cost\", \"valid\", \"pad\", \"advice\", \"switch\", \"pay\", \"matter_resolved\", \"outcome\", \"unhappy\", \"raise\", \"transactions\", \"fraud\", \"disputed_transaction\", \"falcon\", \"pensioner_advantage\", \"xxx\", \"fraudulent_transactions\", \"raised_dispute\", \"keeping_fee\", \"hack\", \"txn\", \"blr\", \"retrieve\", \"falcon_block\", \"entry\", \"tonight\", \"transaction_query\", \"pay_wave\", \"gbp\", \"ceo\", \"pending_transactions\", \"detect\", \"lost_stolen\", \"description\", \"insurance_claim\", \"genuine\", \"processing_times\", \"www\", \"townsville\", \"mis\", \"dispute\", \"transaction\", \"duplicate\", \"eftpos\", \"merchant\", \"favour\", \"cancellation\", \"acc\", \"debit\", \"refund\", \"pending\", \"investigation\", \"cancel\", \"lodge\", \"process\", \"stop\", \"authorise\", \"resolve\", \"case\", \"raise\", \"credit\", \"unhappy\", \"apologise\", \"want\", \"decline\", \"gwg\", \"branch\", \"atm\", \"employee\", \"district_manager\", \"eligible_receive\", \"victoria\", \"roll\", \"atms\", \"build\", \"relevant_manager\", \"servicing_fee\", \"borrow\", \"opening_new\", \"auth\", \"post_office\", \"remains_open\", \"roughly\", \"community\", \"prompt\", \"board\", \"closures_team\", \"mortgage_broker\", \"adamant\", \"suit\", \"cents\", \"shareholders\", \"discount_rate\", \"wag\", \"straight\", \"culture\", \"withdraw_funds\", \"bsb\", \"near\", \"visited_branch\", \"visit\", \"manager\", \"personal_banker\", \"attend\", \"staff\", \"staff_member\", \"closure\", \"area\", \"dissatisfy\", \"feedback_passed\", \"open\", \"close\", \"apologise\", \"feedback_provided\", \"feedback\", \"happy\", \"withdrawal\", \"provide\", \"want\", \"relevant_team\", \"state\", \"inform\", \"apologised_inconvenience\", \"unhappy\", \"tell\", \"need\", \"send\", \"cause\", \"load\", \"password\", \"crn\", \"bonus_rate\", \"mailing_address\", \"deduct\", \"seeking_compensation\", \"tax_return\", \"scam\", \"telegraphic_transfer\", \"missed_bonus\", \"identity\", \"manually\", \"tfn\", \"group\", \"distress\", \"john\", \"unable_verify\", \"reassure\", \"admit\", \"suspect\", \"manual\", \"child\", \"products_services\", \"written_confirmation\", \"measure\", \"csc\", \"issue_rectified\", \"consumer\", \"destroy\", \"error\", \"impact\", \"rectify\", \"program\", \"incorrect\", \"tax\", \"correct\", \"verify\", \"list\", \"accountant\", \"wrong\", \"amend\", \"errors\", \"identify\", \"update\", \"correctly\", \"number\", \"address\", \"confirm\", \"issue\", \"report\", \"systems\", \"link\", \"earn\", \"compensation\", \"claim\", \"believe\", \"happen\", \"information\", \"visa\", \"amex\", \"structure\", \"pay_direct\", \"dishonour\", \"lower\", \"banking_years\", \"upgrade\", \"american_express\", \"free_days\", \"apologised_confusion\", \"allocation\", \"amex_cards\", \"prior_complaints\", \"cash_advances\", \"residual\", \"compare\", \"success\", \"combine\", \"ion\", \"product_transfer\", \"reverse_charges\", \"closing_balance\", \"membership\", \"calculations\", \"banking_ombudsman\", \"surplus_funds\", \"delay_receiving\", \"financially\", \"absolute\", \"minimum\", \"purchase\", \"worth\", \"outstanding\", \"status\", \"balance\", \"credit\", \"history\", \"reimbursement\", \"avoid\", \"platinum\", \"earn\", \"statement\", \"current\", \"satisfy\", \"total\", \"pay\", \"date\", \"issue\", \"happy\", \"understand\", \"review\", \"charge\", \"consider\", \"look\", \"years\", \"explain\", \"husband\", \"guarantee\", \"free\", \"ongoing\", \"setup\", \"personal_information\", \"completely\", \"additional_holder\", \"unable_assist\", \"signature\", \"educated_policy\", \"custo\", \"generate\", \"employees\", \"able_redeem\", \"date_birth\", \"emr\", \"secondary_holder\", \"vehicle\", \"primary_holder\", \"restraint_placed\", \"term_deposits\", \"eligable\", \"business_banker\", \"illegal\", \"providers\", \"passport\", \"appeal\", \"organize\", \"unsatisfied\", \"old\", \"new\", \"activate\", \"solutions\", \"open\", \"years_ago\", \"regular\", \"link\", \"set\", \"add\", \"cancel\", \"icm\", \"exist\", \"partner\", \"need\", \"additional\", \"issue\", \"ask\", \"organise\", \"holder\", \"years\", \"place\", \"beneficiary\", \"recipient\", \"intermediary\", \"recall_request\", \"international_telegraphic\", \"concerns_considered\", \"text_message\", \"transferring_funds\", \"reconfirmed_concerns\", \"sufficient_funds\", \"domestic_telegraphic\", \"allow_working\", \"trans\", \"matter_respond\", \"met_criteria\", \"mall\", \"recipients\", \"tenure\", \"christine\", \"kid\", \"network\", \"ban\", \"cover_cost\", \"separation\", \"bourke_street\", \"completed_investigation\", \"rectify_error\", \"apologise_delay\", \"urgency\", \"correspondent\", \"allow_business\", \"transfer\", \"fund\", \"opportunity_investigate\", \"recall_funds\", \"convert\", \"international\", \"financial_institution\", \"verbally\", \"days\", \"business_days\", \"process\", \"access_advantage\", \"reimburse\", \"return\", \"payment\", \"delay\", \"money\", \"internet_banking\", \"receive\", \"case_closed\", \"complete\", \"error\", \"accept\", \"happy\", \"confirm\", \"request\", \"team\", \"seek\", \"credit\", \"incorrect\", \"available\", \"transaction\", \"want\", \"apologise\", \"teller\", \"case_actioned\", \"transgender_marriage\", \"train\", \"serve\", \"rude\", \"actioned_blr\", \"template_poor\", \"individual\", \"felt\", \"helpful\", \"walk\", \"individual_simple\", \"queue\", \"simple_compliant\", \"thing\", \"service_individual\", \"bad\", \"sex_marriage\", \"identifying_girls\", \"tellers\", \"man\", \"showers_change\", \"rooms_toilets\", \"attitude\", \"gender\", \"door\", \"general_simple\", \"service_general\", \"making_people\", \"long_term\", \"people\", \"hour\", \"simple_actioned\", \"blr_template\", \"poor_service\", \"talk\", \"morning\", \"minutes\", \"service\", \"wait\", \"ask\", \"simple\", \"staff\", \"time\", \"centre\", \"know\", \"feel\", \"help\", \"question\", \"today\", \"like\", \"think\", \"way\", \"line\", \"want\", \"need\", \"new\", \"look\", \"experience\", \"internal_review\", \"appointment\", \"lady\", \"business_areas\", \"branch_load\", \"security_code\", \"feedback_presented\", \"nab\", \"mins\", \"idea\", \"usd\", \"passed_relevant\", \"holiday\", \"business_unit\", \"saver\", \"feedback_addressed\", \"age\", \"everyday\", \"appropriate_action\", \"bsb_number\", \"bpay\", \"mobile_phone\", \"hello\", \"absolutely\", \"matter_reviewed\", \"deceased_estates\", \"sent_apologising\", \"inconvenient\", \"letter_apologising\", \"premium\", \"operator\", \"night\", \"money\", \"book\", \"tell\", \"ring\", \"problem\", \"caused_result\", \"couldn\", \"short\", \"outcome_sought\", \"simply\", \"happen\", \"come\", \"sit\", \"try\", \"day\", \"work\", \"phone\", \"time\", \"relevant\", \"early\", \"week\", \"inform\", \"need\", \"speak\", \"ask\", \"help\", \"disappoint\", \"weeks\", \"think\", \"way\", \"issue\", \"number\", \"sure\", \"use\", \"pay\", \"today\", \"check\", \"contact\", \"cash_advance\", \"resolved_fsp\", \"outcome_type\", \"closed_status\", \"redeem_points\", \"gwg_resolve\", \"recorded_outcome\", \"issue_resolved\", \"effective\", \"adjustments\", \"qantas_membership\", \"forward_feedback\", \"simplicity_plus\", \"fsp\", \"accumulate\", \"margin\", \"allege\", \"acknowledge_concerns\", \"wrong_address\", \"exchange_rates\", \"management_team\", \"exception\", \"review_internally\", \"virgin\", \"refer_icm\", \"return_flight\", \"amex_discontinued\", \"destination\", \"place_residence\", \"disclosed_resolved\", \"expire\", \"redeem\", \"registration_referral\", \"educated_terms\", \"commercial_decision\", \"file\", \"variable\", \"registration\", \"dispute\", \"condition\", \"site\", \"matter_caused\", \"cash\"], \"loglift\": [30.0, 29.0, 28.0, 27.0, 26.0, 25.0, 24.0, 23.0, 22.0, 21.0, 20.0, 19.0, 18.0, 17.0, 16.0, 15.0, 14.0, 13.0, 12.0, 11.0, 10.0, 9.0, 8.0, 7.0, 6.0, 5.0, 4.0, 3.0, 2.0, 1.0, 3.9561, 3.9558, 3.9558, 3.9557, 3.9556, 3.9555, 3.9547, 3.9546, 3.9545, 3.9543, 3.9541, 3.954, 3.9538, 3.9532, 3.9524, 3.952, 3.9518, 3.9511, 3.9508, 3.9505, 3.9495, 3.9493, 3.9489, 3.9489, 3.9485, 3.9482, 3.9478, 3.9477, 3.9477, 3.9473, 3.8699, 3.9246, 3.9359, 3.7836, 3.7442, 3.5141, 3.6965, 3.3155, 2.7842, 3.3683, 2.5804, 1.6582, 2.6578, 1.556, 1.6951, 3.1144, 0.9832, 2.2127, 1.6146, 1.484, 1.3572, 2.0051, 1.3941, 3.9348, 3.9338, 3.9335, 3.9332, 3.9327, 3.9323, 3.9322, 3.932, 3.9315, 3.9314, 3.9314, 3.9312, 3.9311, 3.931, 3.9306, 3.9302, 3.9297, 3.9297, 3.9291, 3.9285, 3.9283, 3.9279, 3.9266, 3.9265, 3.9259, 3.9255, 3.9254, 3.925, 3.9248, 3.9241, 3.8936, 3.7154, 3.8303, 3.6872, 3.7137, 3.7249, 3.7804, 3.4666, 3.5848, 3.6062, 3.4062, 3.5041, 3.3695, 2.9402, 2.9662, 2.0781, 1.9947, 1.7836, 0.4365, 2.0797, 4.297, 4.2969, 4.2966, 4.2964, 4.2948, 4.2917, 4.2916, 4.2904, 4.2892, 4.2889, 4.2874, 4.2873, 4.287, 4.2852, 4.2852, 4.2848, 4.2834, 4.2825, 4.2819, 4.2816, 4.2813, 4.2805, 4.28, 4.2799, 4.2787, 4.278, 4.2771, 4.2767, 4.2764, 4.2752, 4.1391, 3.9939, 3.8441, 3.463, 3.5715, 3.4899, 2.1116, 3.2374, 2.577, 2.2865, 2.1839, 1.1011, 1.0096, 2.5354, 2.2964, 2.3727, -0.558, 4.176, 4.1757, 4.1752, 4.1752, 4.1742, 4.174, 4.174, 4.1739, 4.1735, 4.1734, 4.1728, 4.1725, 4.1718, 4.1713, 4.1712, 4.1712, 4.1711, 4.1707, 4.1701, 4.17, 4.17, 4.17, 4.1697, 4.1695, 4.1684, 4.1683, 4.1673, 4.1669, 4.1668, 4.1662, 4.0758, 4.0644, 3.9327, 4.1015, 3.7976, 3.3974, 3.387, 2.9206, 2.6513, 2.3719, 3.602, 2.4, 2.5427, 2.0308, 3.4563, 1.7652, 2.0745, 3.6775, 2.285, 1.7646, 2.2807, 0.1849, 3.7528, 3.7527, 3.7514, 3.7505, 3.7495, 3.7493, 3.7487, 3.7479, 3.7469, 3.7464, 3.7457, 3.7456, 3.7442, 3.7441, 3.7439, 3.7432, 3.7431, 3.7424, 3.7419, 3.7407, 3.7398, 3.7385, 3.7377, 3.7375, 3.7363, 3.7353, 3.7348, 3.7345, 3.7335, 3.7326, 3.5997, 3.5911, 3.494, 3.4581, 2.8725, 3.4503, 3.1941, 3.2191, 2.6656, 2.6926, 2.6279, 3.3377, 2.2635, 2.0272, 0.9501, 2.6526, 2.329, 1.8782, 0.9514, 0.596, 2.8833, 1.3586, 0.5941, 0.3489, 1.0813, 4.336, 4.3339, 4.3336, 4.3335, 4.3334, 4.3331, 4.3322, 4.3321, 4.3319, 4.3313, 4.3313, 4.3294, 4.3289, 4.3283, 4.328, 4.3278, 4.3278, 4.3277, 4.3277, 4.3277, 4.3273, 4.3273, 4.3271, 4.3268, 4.3267, 4.3267, 4.3266, 4.3265, 4.326, 4.3256, 4.2141, 4.0023, 3.0622, 3.4872, 3.8519, 4.2163, 3.4781, 3.1852, 3.1725, 3.9217, 3.4997, 4.0334, 3.7038, 3.7968, 3.5407, 3.5956, 2.6498, 1.9706, 2.4114, 2.3685, 2.8912, 2.891, 2.8908, 2.8903, 2.8898, 2.8898, 2.8897, 2.8892, 2.8889, 2.8884, 2.888, 2.8879, 2.8878, 2.8877, 2.8872, 2.8871, 2.8871, 2.8864, 2.8862, 2.8861, 2.8853, 2.8836, 2.8835, 2.8833, 2.8832, 2.8831, 2.8831, 2.8829, 2.8828, 2.8827, 2.8191, 2.7908, 2.5822, 2.3261, 2.7123, 2.1998, 2.7376, 2.4643, 2.6071, 2.2136, 2.3742, 1.984, 2.3914, 2.1176, 2.4436, 2.3471, 1.5609, 1.4321, 1.2797, 1.5724, 1.408, 1.2016, 1.3598, 1.6436, 1.5239, 1.7773, 1.5401, 1.5275, 1.6463, 1.5383, 0.7005, 1.3452, 1.2899, 0.7921, 0.3123, 0.8479, -0.1077, 1.194, 3.1757, 3.175, 3.1748, 3.1743, 3.1732, 3.173, 3.1715, 3.1714, 3.1713, 3.1709, 3.1684, 3.1684, 3.1683, 3.168, 3.168, 3.1677, 3.1677, 3.1674, 3.1672, 3.167, 3.1661, 3.1659, 3.1657, 3.1649, 3.1644, 3.1643, 3.1643, 3.1639, 3.1636, 3.1634, 3.1144, 2.8821, 3.0488, 2.9259, 2.6475, 3.025, 2.8497, 2.7629, 2.6918, 2.4253, 2.1924, 2.7341, 1.5833, 2.0173, 1.1099, 1.9211, 1.85, 2.2852, 2.506, 1.5423, 0.8912, 1.0582, 0.9279, 0.9059, 1.7088, 0.4583, 0.3164, 0.0943, 0.7599, 0.8843, 0.368, 0.902, 0.2832, 3.4956, 3.4953, 3.4952, 3.4942, 3.4939, 3.4938, 3.4937, 3.4936, 3.4936, 3.4935, 3.4932, 3.4931, 3.4928, 3.4925, 3.4924, 3.4922, 3.492, 3.4917, 3.4915, 3.4902, 3.4901, 3.4896, 3.489, 3.4885, 3.4882, 3.4875, 3.486, 3.4846, 3.4846, 3.4842, 3.3857, 3.3224, 3.2961, 2.9684, 1.6589, 2.1731, 1.0953, 1.9332, 1.4191, 1.7963, 1.1954, 0.3741, 1.6607, 2.2874, 0.6117, 0.692, 1.995, 0.2651, 0.0583, 0.3267, -0.0963, 4.086, 4.0847, 4.0847, 4.0844, 4.0834, 4.0829, 4.0828, 4.0823, 4.0819, 4.0818, 4.0817, 4.0816, 4.0812, 4.0811, 4.0808, 4.0805, 4.0805, 4.0798, 4.0797, 4.0786, 4.0784, 4.0783, 4.0781, 4.0779, 4.0772, 4.077, 4.0768, 4.0768, 4.0765, 4.0762, 3.9851, 3.9072, 3.725, 3.5371, 3.2044, 3.2621, 2.7082, 3.539, 2.8491, 1.7444, 1.7794, 2.1448, 1.0007, 1.4131, 0.2352, 1.8887, 0.7531, 1.8135, 1.3863, 0.0856, 2.0653, 4.5123, 4.5089, 4.5078, 4.507, 4.5065, 4.5062, 4.506, 4.506, 4.5059, 4.5057, 4.5056, 4.5044, 4.5041, 4.5036, 4.5036, 4.5031, 4.5024, 4.5021, 4.502, 4.5017, 4.5013, 4.5011, 4.5007, 4.5001, 4.4998, 4.4991, 4.4991, 4.4974, 4.4972, 4.4969, 4.4482, 4.4204, 4.0808, 4.339, 4.012, 3.8503, 3.1323, 2.5122, 3.854, 3.4212, 3.5279, 2.7394, 2.253, 2.1037, 3.0283, 3.0282, 3.0281, 3.0281, 3.0276, 3.0276, 3.0276, 3.0272, 3.0258, 3.0227, 3.0214, 3.0181, 3.0169, 3.0165, 3.0158, 3.0152, 3.0135, 3.0123, 3.0109, 3.0103, 3.0101, 3.01, 3.0099, 3.0075, 3.007, 3.0014, 3.0009, 2.9951, 2.9924, 2.991, 2.8549, 2.8373, 2.6334, 2.3066, 2.6569, 1.6121, 2.033, 1.9365, 1.6741, 2.2016, 0.8744, 1.8993, 1.5176, 0.3326, 1.5198, 0.9738, 0.6551, 1.0494, 1.2783, 1.7139, 1.0056, 0.1189, 0.6958, 0.2724, 0.4657, 0.0523, 0.43, 4.0229, 4.0229, 4.0229, 4.0228, 4.0228, 4.0215, 4.0212, 4.0212, 4.0211, 4.0208, 4.0206, 4.0203, 4.0201, 4.0201, 4.0193, 4.0192, 4.0191, 4.0179, 4.0178, 4.0177, 4.0173, 4.0172, 4.0166, 4.0166, 4.0164, 4.0157, 4.0154, 4.0148, 4.0144, 4.0143, 3.9667, 3.9554, 3.9737, 3.7446, 3.9132, 3.7462, 3.4789, 3.8571, 2.6854, 2.4623, 1.5977, 1.2065, 1.0209, 0.4852, 0.2972, 0.4477, 0.6937, 3.6533, 3.6524, 3.6524, 3.6523, 3.6522, 3.6522, 3.6501, 3.6501, 3.6497, 3.6497, 3.6497, 3.6492, 3.6491, 3.649, 3.649, 3.6489, 3.6485, 3.648, 3.6479, 3.6478, 3.6476, 3.6472, 3.6471, 3.6463, 3.6457, 3.6456, 3.6455, 3.6451, 3.6444, 3.6441, 3.5866, 3.489, 3.405, 3.4298, 3.4373, 3.4965, 3.442, 2.9265, 3.1172, 2.7187, 3.1311, 3.0291, 3.0327, 2.915, 2.5017, 2.1414, 2.1919, 0.9472, 0.7428, 1.7303, 0.6181, 1.6648, 0.4442, 3.8792, 3.8773, 3.8772, 3.8757, 3.8755, 3.8752, 3.8751, 3.8751, 3.8749, 3.8747, 3.8742, 3.8739, 3.8739, 3.8734, 3.8733, 3.8727, 3.8726, 3.8726, 3.871, 3.871, 3.871, 3.8703, 3.8701, 3.868, 3.868, 3.8674, 3.8665, 3.8664, 3.866, 3.8656, 3.808, 3.7992, 3.6681, 3.773, 3.6041, 3.7416, 3.768, 3.2916, 3.4809, 2.9031, 2.7258, 3.1201, 3.2416, 2.4603, 2.5663, 3.1604, 3.1304, 1.3197, 1.1775, 0.676, 2.9128, 2.4666, 1.8212, 1.9095, 1.5028, 0.8271, 2.6714, 2.6697, 2.6689, 2.6683, 2.6653, 2.6647, 2.6646, 2.662, 2.6609, 2.6605, 2.6602, 2.6602, 2.6576, 2.6574, 2.6567, 2.6564, 2.6557, 2.6533, 2.6496, 2.6484, 2.6481, 2.6461, 2.6456, 2.6432, 2.6429, 2.6428, 2.6421, 2.6414, 2.6394, 2.6389, 2.6283, 2.618, 2.6058, 2.59, 2.5488, 2.4361, 2.3754, 2.1971, 2.3504, 2.1868, 2.4834, 2.1932, 1.6743, 0.9664, 1.7178, 1.7958, 1.5125, 1.6486, 1.4893, 1.8344, 1.4808, 0.8616, 0.7105, 0.6412, 1.8108, 0.7085, 0.8437, 0.827, 0.1804, 0.307, 0.1934, 1.2052, 0.2979, -0.4937, 3.5764, 3.576, 3.5694, 3.5687, 3.5679, 3.5634, 3.5617, 3.5608, 3.5581, 3.5572, 3.5557, 3.5552, 3.5535, 3.5534, 3.5197, 3.5074, 3.4759, 3.4305, 3.2975, 3.2843, 3.2094, 3.1666, 3.1331, 3.0368, 2.5975, 2.3796, 2.2888, 2.128, 2.102, 2.0128, 1.7631, 1.9493, 1.4211, 0.9232, 1.3389, 0.705, 1.366, 1.5649, 1.0511, 0.3931, 0.7376, 1.6984, -0.0078, 0.7011, 0.8715, -0.3302, 0.2823, -0.2893, 0.322, 3.9101, 3.9101, 3.91, 3.9093, 3.9087, 3.9063, 3.906, 3.9057, 3.9052, 3.9048, 3.9041, 3.904, 3.9038, 3.9031, 3.903, 3.9018, 3.9017, 3.8998, 3.8981, 3.898, 3.8965, 3.8948, 3.8947, 3.8945, 3.893, 3.89, 3.8882, 3.8878, 3.8871, 3.8865, 3.7996, 3.6084, 3.5162, 3.0181, 1.7229, 2.3947, 1.5706, 2.1358, 1.3618, 2.1207, 2.0948, 2.1697, 0.3268, 0.3375, 0.1019, 0.6576, 1.1908, 1.9686, 0.5122, -0.4848, 0.8908, 3.9075, 3.9071, 3.9065, 3.9052, 3.9052, 3.9047, 3.904, 3.9036, 3.9033, 3.9028, 3.9025, 3.9024, 3.9019, 3.9018, 3.9015, 3.9015, 3.9008, 3.9007, 3.9007, 3.9004, 3.9002, 3.8983, 3.8982, 3.8979, 3.8978, 3.8977, 3.8968, 3.8961, 3.896, 3.8957, 3.8686, 3.8021, 3.3968, 3.5374, 3.4352, 3.4016, 3.489, 3.2869, 2.8518, 3.0259, 3.4521, 2.3507, 1.5815, 2.8432, 1.5444, 2.081, 1.8978, 0.8737, 2.3577, 0.3074, 2.8231, 1.1016, 1.8546, 2.5503, 0.2298, 1.6117, 0.9626, 1.1235, 2.9034, 2.9028, 2.9021, 2.9005, 2.9002, 2.8994, 2.8993, 2.8987, 2.8972, 2.8972, 2.8967, 2.896, 2.8958, 2.895, 2.8945, 2.8943, 2.8934, 2.8931, 2.8924, 2.892, 2.8911, 2.8908, 2.8907, 2.8904, 2.8894, 2.8893, 2.8891, 2.8884, 2.8878, 2.8878, 2.717, 2.7545, 2.6249, 2.732, 2.6845, 2.3744, 2.2592, 2.1703, 1.9896, 2.0345, 1.9781, 2.5022, 2.034, 1.7221, 1.8561, 2.0839, 2.3555, 1.9893, 2.0387, 1.8955, 1.8566, 1.6203, 0.9569, 1.1001, 1.1434, 1.3379, 1.0423, 1.1722, 1.1553, 1.0018, 1.2429, 0.9528, 0.4883, 0.9474, 1.1125, 0.6982, 3.9672, 3.9665, 3.9659, 3.9653, 3.9651, 3.965, 3.9645, 3.9635, 3.9632, 3.9618, 3.9598, 3.9588, 3.9583, 3.9575, 3.9569, 3.9553, 3.9541, 3.948, 3.9458, 3.9435, 3.9434, 3.9423, 3.9407, 3.9367, 3.9281, 3.9262, 3.917, 3.9139, 3.9072, 3.9053, 3.8278, 3.8408, 3.7777, 3.7764, 3.8036, 3.6822, 3.3613, 3.4513, 3.0278, 2.7698, 2.8032, 2.2769, 2.399, 1.6651, 1.6642, 1.7161, 1.5216, 2.4661, 2.6291, 1.3254, 2.4056, 1.241, 0.3042, 2.1282, 0.5115, 1.3406, 1.0314, 0.4408, 0.5154, 3.4403, 3.4401, 3.4379, 3.4377, 3.4377, 3.4376, 3.4374, 3.4373, 3.4362, 3.4361, 3.4355, 3.4335, 3.4324, 3.4324, 3.4321, 3.4319, 3.4308, 3.4302, 3.4301, 3.4301, 3.4294, 3.4289, 3.4288, 3.4283, 3.4282, 3.4227, 3.4227, 3.4223, 3.4207, 3.4199, 3.3972, 3.2542, 3.3143, 3.2742, 3.3143, 3.1682, 3.3005, 2.9268, 3.275, 2.8448, 3.1122, 2.2023, 2.2385, 2.9138, 2.1429, 2.3357, 0.8171, 0.5953, 1.3737, 0.7707, 0.3327, 0.4587, 0.7599, 0.8591, 0.9493, 0.056, 1.1762, 3.0854, 3.0844, 3.0833, 3.0831, 3.0826, 3.0813, 3.0811, 3.0805, 3.0802, 3.0802, 3.0802, 3.0794, 3.0794, 3.0785, 3.0764, 3.0757, 3.0752, 3.0752, 3.0745, 3.0742, 3.0732, 3.0722, 3.0722, 3.0722, 3.0718, 3.0716, 3.071, 3.071, 3.071, 3.0701, 2.9392, 2.8657, 2.8581, 2.7827, 2.9296, 2.9907, 2.4364, 2.8671, 2.8652, 2.4209, 2.7696, 2.8478, 2.6302, 2.1367, 2.3072, 2.2922, 1.6169, 2.141, 1.0181, 1.7415, 1.6912, 1.3334, 1.2206, 1.6236, 0.7222, 1.0971, 0.8323, 0.4928, 1.4607, 1.9674, 1.7323, 0.6258, 0.3609, -0.7136, 0.9963, 0.9468, 0.9189, 3.8055, 3.805, 3.8038, 3.8037, 3.8035, 3.8032, 3.8032, 3.803, 3.8026, 3.8025, 3.8023, 3.8021, 3.8016, 3.8014, 3.8013, 3.8011, 3.801, 3.801, 3.8009, 3.8007, 3.8007, 3.8006, 3.8003, 3.8001, 3.7999, 3.7999, 3.7998, 3.7996, 3.7992, 3.7988, 3.5913, 3.458, 3.7053, 3.653, 3.6155, 3.4285, 3.0923, 3.3426, 2.907, 2.6392, 2.3833, 2.1277, 2.5417, 1.7649, 1.9647, 2.7661, 3.0843, 2.5468, 4.5929, 4.5921, 4.5916, 4.5912, 4.5906, 4.5905, 4.5902, 4.5901, 4.59, 4.5893, 4.5886, 4.5873, 4.5868, 4.5861, 4.5859, 4.5854, 4.5851, 4.585, 4.5842, 4.5841, 4.5826, 4.5807, 4.5794, 4.5773, 4.5772, 4.5756, 4.5746, 4.5743, 4.5742, 4.5731, 4.5028, 4.4394, 4.2438, 4.1117, 4.3172, 4.0717, 3.9342, 3.6932, 2.1309, 2.1026, 0.7886, 1.9455, 1.8632, 4.3239, 4.323, 4.3228, 4.3222, 4.3221, 4.322, 4.3211, 4.3195, 4.3194, 4.3186, 4.3184, 4.3169, 4.3168, 4.3165, 4.3156, 4.3152, 4.315, 4.3149, 4.3146, 4.3142, 4.3138, 4.3136, 4.3136, 4.3128, 4.3119, 4.3115, 4.311, 4.311, 4.311, 4.3106, 4.2444, 4.28, 4.2188, 3.8279, 4.0525, 3.9972, 3.8584, 3.7606, 4.0565, 3.2356, 3.1011, 3.1058, 1.7138, 2.9306, 2.7272, 3.5774, 1.9383, 2.5845, 0.6268, 2.1388, 4.6136, 4.6122, 4.6118, 4.6111, 4.6105, 4.6097, 4.6092, 4.6085, 4.6085, 4.6078, 4.6071, 4.607, 4.6068, 4.6068, 4.6066, 4.606, 4.6054, 4.6054, 4.6048, 4.6047, 4.6045, 4.6044, 4.6042, 4.6042, 4.603, 4.6028, 4.6025, 4.6024, 4.6023, 4.6023, 4.5245, 4.5472, 4.3972, 4.4192, 4.344, 4.0545, 4.1977, 4.1427, 3.8753, 4.2901, 2.2341, 4.3184, 2.6723, 1.1951, 2.3508, 3.7127, 3.7124, 3.7116, 3.7093, 3.7093, 3.7084, 3.7083, 3.7076, 3.7045, 3.7038, 3.7032, 3.703, 3.7029, 3.7003, 3.6997, 3.6987, 3.6984, 3.6979, 3.6975, 3.6974, 3.6968, 3.6966, 3.6961, 3.6956, 3.6955, 3.6944, 3.6919, 3.6917, 3.6911, 3.6891, 3.6587, 3.6286, 3.6633, 3.6735, 3.602, 3.5866, 3.463, 3.5093, 3.1296, 2.4204, 3.1839, 2.874, 2.2801, 2.4339, 1.7742, 2.295, 2.8646, 1.6512, 1.7837, 2.2753, 0.2789, 0.5907, 0.3262, -0.1252, 1.1662, 1.1869, 3.0907, 3.0901, 3.0874, 3.0865, 3.0863, 3.086, 3.085, 3.0849, 3.0848, 3.0842, 3.0841, 3.0831, 3.0822, 3.0818, 3.0817, 3.0814, 3.0814, 3.0804, 3.0802, 3.0794, 3.0792, 3.0775, 3.0774, 3.0772, 3.0772, 3.0768, 3.0765, 3.0758, 3.0756, 3.0755, 3.0186, 2.9539, 3.0412, 2.9195, 2.8486, 2.6853, 2.961, 2.7923, 2.4465, 2.3507, 1.9561, 2.4022, 2.4162, 1.867, 1.5253, 1.0223, 1.1051, 1.8695, 1.3571, 0.7234, 2.4212, 0.4542, 0.3448, 2.0035, 0.536, 0.8949, 0.7071, 0.2946, 0.2837, 0.211, -0.2433, 0.742, 3.7866, 3.7853, 3.7852, 3.7852, 3.7852, 3.7843, 3.784, 3.7832, 3.7825, 3.7819, 3.781, 3.781, 3.7809, 3.7793, 3.7786, 3.7778, 3.7773, 3.7768, 3.7764, 3.7757, 3.7754, 3.775, 3.7748, 3.7743, 3.774, 3.7731, 3.773, 3.7727, 3.7725, 3.7725, 3.6213, 3.6954, 3.6321, 3.6972, 3.4902, 3.5986, 3.3935, 3.5549, 3.4208, 3.6317, 3.2976, 3.5749, 3.6001, 3.3042, 3.0748, 3.3261, 2.3907, 2.544, 1.9359, 1.8353, 2.8803, 3.3819, 2.4322, 2.6284, 2.3996, 1.7844, 1.8859, 2.121, 1.2335, 3.39, 3.3887, 3.3884, 3.3879, 3.3879, 3.3869, 3.3867, 3.3866, 3.3862, 3.386, 3.3858, 3.3858, 3.3844, 3.3831, 3.383, 3.3823, 3.3818, 3.3814, 3.3804, 3.38, 3.3792, 3.3784, 3.3779, 3.3773, 3.3761, 3.3755, 3.3753, 3.3747, 3.3746, 3.3745, 3.3379, 3.062, 3.2398, 3.1672, 3.1095, 2.8557, 2.4959, 3.1187, 2.8753, 2.8276, 2.2702, 2.5311, 1.9519, 2.3642, 2.6411, 2.0374, 1.0431, 1.6543, 0.9207, 0.6374, 1.5313, 1.4558, 0.2255, 1.9504, 1.4878, 1.4211, 1.1547, 3.9724, 3.9719, 3.9708, 3.9692, 3.969, 3.9678, 3.9677, 3.9674, 3.9672, 3.967, 3.9667, 3.9664, 3.9662, 3.966, 3.9659, 3.9641, 3.9637, 3.9635, 3.9627, 3.9625, 3.9622, 3.9621, 3.9619, 3.9613, 3.9605, 3.96, 3.9583, 3.9578, 3.9573, 3.9569, 3.884, 3.5254, 3.69, 3.7596, 3.1761, 3.6294, 3.8759, 3.2142, 2.8163, 3.0992, 2.5798, 3.6401, 2.9169, 2.7762, 1.508, 2.5323, 0.9488, 1.1562, 2.2823, 2.7533, 1.5845, 1.8864, 3.4214, 3.4196, 3.4161, 3.4159, 3.4147, 3.4143, 3.4141, 3.4141, 3.414, 3.4137, 3.4136, 3.4131, 3.4128, 3.4121, 3.4121, 3.412, 3.4118, 3.4107, 3.4076, 3.4066, 3.405, 3.4034, 3.4012, 3.3998, 3.3996, 3.3987, 3.3974, 3.3965, 3.3962, 3.3955, 3.3727, 3.3178, 3.3042, 3.3643, 3.2341, 3.2468, 3.0492, 3.0854, 3.1985, 2.3217, 2.3932, 1.6843, 2.204, 2.0216, 2.1015, 1.4767, 2.0065, 1.6975, 1.7636, 0.7771, 1.8886, 1.7344, 1.5454, 1.2823, 0.7017, 0.9391, 0.5002, 1.2198, 0.9871, -0.3233, 1.5558, 1.4539, 0.908, -0.034, 0.0898, 3.1473, 3.1467, 3.1466, 3.1466, 3.1463, 3.1462, 3.1459, 3.1459, 3.1456, 3.1455, 3.1454, 3.1453, 3.1451, 3.1449, 3.1449, 3.1448, 3.1447, 3.1445, 3.1444, 3.1443, 3.1442, 3.1436, 3.1435, 3.1435, 3.1434, 3.1432, 3.1431, 3.142, 3.1418, 3.1415, 3.1039, 3.0043, 3.0743, 2.9519, 2.7729, 2.496, 2.9341, 3.0547, 2.9356, 1.8681, 2.4295, 1.8716, 2.5883, 1.6902, 1.3856, 2.5669, 2.0368, 2.1487, 2.0915, 2.3425, 1.5155, 0.9121, 1.9545, 2.0521, 2.298, 0.1402, 0.6089, 0.6763, 1.4559, 1.5225, 2.8854, 2.8851, 2.8842, 2.8842, 2.8841, 2.8836, 2.8836, 2.8833, 2.8831, 2.8824, 2.8821, 2.8821, 2.8821, 2.8819, 2.8814, 2.8813, 2.8812, 2.8811, 2.8808, 2.8807, 2.8802, 2.8802, 2.88, 2.8798, 2.8797, 2.8796, 2.8795, 2.8791, 2.8786, 2.8784, 2.8724, 2.8614, 2.6905, 2.8082, 2.4874, 2.66, 2.7199, 2.7607, 2.6977, 2.766, 2.4821, 2.7697, 2.2948, 2.2158, 2.6981, 2.1095, 2.1539, 2.0961, 1.9191, 1.6462, 2.348, 2.5745, 2.1333, 1.6552, 1.299, 1.5968, 1.3705, 1.9526, 2.3131, 2.189, 1.8187, 1.9003, 0.8196, 1.0953, 2.1792, 1.3653, 0.1298, 1.1142, 1.5555, 0.0408, 4.8757, 4.8752, 4.8742, 4.8741, 4.8741, 4.874, 4.8736, 4.8731, 4.8703, 4.8701, 4.8692, 4.8691, 4.868, 4.8674, 4.867, 4.8668, 4.8663, 4.8662, 4.8641, 4.8628, 4.8625, 4.8613, 4.8596, 4.8587, 4.8578, 4.855, 4.8524, 4.8518, 4.8499, 4.8498, 4.6404, 4.7041, 4.5528, 4.5528, 4.3365, 3.8542, 4.3691, 3.2662, 1.7709, 3.4056, 4.228, 2.9849, 2.5449], \"Freq\": [21887.0, 22536.0, 32680.0, 20205.0, 12383.0, 16760.0, 13352.0, 18560.0, 11684.0, 6995.0, 9045.0, 5976.0, 7927.0, 6943.0, 10629.0, 6265.0, 10248.0, 7799.0, 6402.0, 4290.0, 6365.0, 15173.0, 6991.0, 4456.0, 9460.0, 11334.0, 4275.0, 5883.0, 4232.0, 4767.0, 458.0316728917262, 407.1602826791872, 398.19610663809857, 389.10720174281505, 374.4917547479295, 367.6819595084203, 283.163686908297, 273.8130781989391, 271.4597982298681, 254.96621483047994, 243.48843888773058, 240.89045024471832, 226.77573290449155, 201.319000642814, 175.0703668868507, 163.5088558619857, 157.80957430431206, 143.94340755353548, 137.85725310810716, 132.69441234334684, 117.18593343239463, 114.6586733867023, 110.55970304830241, 110.01041585040625, 106.00489210276949, 102.0168370647122, 98.60613655174105, 97.92768495483504, 97.29465600483103, 94.21193901845481, 1697.0128195918496, 217.947171144873, 127.00032003960708, 790.4032005972124, 254.48979062740864, 563.55473809774, 196.497730178766, 377.400645067505, 891.9349958289271, 321.41179671715446, 558.7647765770926, 1136.2100135571654, 376.4468895424228, 579.2963999361068, 472.3691146115934, 235.00962483926517, 509.2286654436437, 254.0891908957003, 263.103098398654, 260.7351177667678, 250.96523334753337, 245.00266051764103, 244.9328390392607, 809.8637894391351, 458.7064228998037, 412.057888988319, 364.88310522634026, 315.3404563197593, 281.63719401699626, 267.7754799422086, 257.0266037124012, 227.06566563548037, 225.4539180439664, 222.59046844531144, 216.05813879093867, 211.2426893839396, 205.33872753280073, 192.21101864115857, 179.31741986238333, 164.60651439112738, 163.4190078268923, 149.5849171630449, 138.39874528656608, 134.69802669201644, 128.73656722255024, 110.38126763268144, 109.54682236323843, 102.8241708177854, 98.92373155184058, 97.43680767479978, 94.61919929711495, 92.4523984811809, 87.22966404680348, 217.33285348660118, 510.4625186735335, 176.98457165401993, 414.92938688942075, 353.88615030450404, 303.22451453401027, 212.6462996894657, 638.2215445373753, 393.82231812823886, 285.329536920525, 358.82458868584223, 264.2809343022022, 226.30456904782767, 280.85369859439845, 251.16847626163715, 262.1557459381561, 237.66135129498744, 240.63387585358203, 235.6307782288579, 215.94628102811913, 4289.635906401346, 2892.72940085609, 1655.3388327964365, 1225.6129206557896, 432.20127823885593, 189.0347922789184, 187.4417744189418, 154.27440680872988, 129.5299096243282, 125.55686148257455, 105.8680333853676, 105.52105436097922, 102.38608494931935, 86.8314699586473, 86.6041146169773, 83.88675391522692, 75.42726632271045, 70.75931428376693, 68.14060224439812, 66.52137630326654, 65.24371095842817, 62.17103445783421, 60.32046540207485, 59.934169502946865, 56.08047412250683, 54.183202018972885, 51.54560628239175, 50.49490653264111, 49.89172616648665, 47.130333606952455, 185.48992353486688, 212.5830906601931, 256.3565369539392, 429.04174528649804, 185.94621221656445, 211.77030743389093, 1016.7746862664304, 229.55784713656357, 260.6383689550175, 205.7197864303825, 214.66083919635975, 322.7484983798593, 304.27656367869713, 140.7860285710258, 123.7357658238486, 101.10964588031304, 97.70239570386435, 621.8418874786139, 524.724854897391, 422.86996605891335, 422.86996605891335, 305.45620393719776, 288.76573727550067, 285.71303636997806, 278.8842221594112, 251.04625796905012, 248.5439692938134, 214.20067164034054, 201.36349770028264, 179.9279325151428, 165.71439588361298, 162.32154416230912, 162.15957880693963, 158.69440084445972, 150.7705259887191, 138.88966330123074, 137.18915563078943, 137.04824212905808, 136.1744777122553, 131.58747700262307, 128.87755169870428, 113.41652400288466, 112.16533681162022, 101.04463352516944, 96.65591663596174, 96.17109191100536, 91.48136029830142, 421.6088689619923, 418.20380395155485, 350.57258681351027, 135.20737805428448, 426.8805959421451, 748.9455446379603, 537.7852749067166, 998.9604010530925, 776.3275674608246, 830.3589871731241, 242.59641888811373, 554.7787168462182, 434.77676591569326, 534.5743797666798, 213.40310100627278, 409.3209716305991, 362.1622911161014, 194.28623947655143, 301.51915376428997, 350.70999702967435, 247.44151639469044, 231.46100608764507, 955.0450884157314, 935.318677657538, 424.29423821298, 309.9995486229226, 238.10108012069435, 230.63377128767067, 228.0888994482757, 176.5529246337478, 150.42661580162644, 140.32300731240963, 128.7059951210373, 127.147147571166, 108.00632657835119, 106.70987162515007, 104.32556313748977, 98.35583899750323, 96.57494428032223, 91.36068625919573, 87.17311711957915, 79.2367865324975, 74.23506626916414, 67.90527349353552, 64.62071771794209, 63.70968436998927, 59.32785567064783, 56.059393056684684, 54.69777573405506, 53.688072032796185, 51.0871666934355, 48.90747827535204, 5951.4078715455735, 2022.3508348238163, 866.1268391603718, 271.13190768906094, 4402.926396413091, 245.1062905735422, 668.4162312486405, 308.9815998871646, 1198.5548456985898, 531.6420504577923, 568.3033938126039, 155.50318379253196, 580.4241100967015, 626.1235497900747, 1124.4090794953854, 234.66911622210802, 291.37917548520045, 382.62770472423693, 388.26732468894716, 424.21937411809375, 174.4288400736338, 252.36278840041476, 291.1900348029735, 261.91421281241725, 230.88613890442875, 1604.240339124686, 387.05606619077724, 341.15739666295474, 332.49919459949206, 320.9716060318682, 297.3261168763433, 233.7437111582005, 232.7965215446379, 220.08973454602003, 196.4580080058666, 194.4539116737279, 145.38899986636048, 135.4994275451071, 125.09139027001125, 120.91665716580675, 118.80546648470484, 118.28880181985852, 117.54754881811314, 117.04295614191606, 116.99548151585037, 112.43292778008163, 111.5733126307322, 109.86404332191049, 106.90730167808381, 105.32906050949886, 105.31030826066598, 104.19923751731774, 102.80661802431442, 98.46037312376707, 94.89291313819933, 553.5180244838851, 295.74292262838827, 1209.5742228841577, 403.642996871876, 218.20272096829015, 122.51498480755674, 324.60716628951326, 436.96895980794034, 441.78466890295294, 166.0518762199467, 236.87524532806353, 141.33576342308834, 173.22874201083994, 162.58621937862767, 168.373024462908, 161.0289602584444, 207.5217434320385, 230.47542813281353, 168.60468601647213, 165.1800428655829, 598.4277054626548, 526.3068237644663, 483.90006246774266, 389.5572646620518, 333.5364787901231, 330.13606973432167, 320.2942789860964, 276.7092692734416, 255.29135721069224, 229.7133978329859, 212.24783462120578, 204.8791073544361, 203.5700069705125, 199.24943371316482, 182.01952018457095, 179.29172121513025, 179.17014115433736, 159.69237083387475, 154.7595710277628, 152.31720743110543, 137.1299782927923, 111.93696759666344, 109.9100299631818, 108.6838153968534, 107.32883939693252, 105.97596360981153, 105.60760370583304, 104.28287270591039, 102.57464478441015, 101.83999615405305, 830.9981863322738, 256.45384919142435, 1209.8223763901524, 2620.7583431173607, 283.21582531146163, 4359.08941798545, 237.01025330135977, 704.6479131748521, 309.1718423499459, 819.3885971105518, 541.8910995843562, 1286.4883121552755, 489.1570209250357, 762.6902845250627, 413.39013109266006, 465.1383292144382, 1496.9149235349876, 1809.7858503647176, 2142.526764674887, 1081.393182912852, 1164.399244949605, 1344.8002075886704, 1090.6479012739117, 793.7522963376488, 861.7291194376793, 678.6346193651711, 805.2434219433778, 797.7397197102159, 703.0344851813463, 733.9640964819401, 1113.9398612853515, 758.5500972869045, 733.0117419219957, 839.5570664469741, 950.046764821322, 761.1504897987526, 754.9645985095138, 618.6720921686726, 618.0288734322032, 434.8991080162192, 405.2761610573246, 331.7117914070801, 250.55753727230135, 238.70413766251295, 176.4034316838178, 173.06085190495654, 170.71661841595073, 161.2423636839696, 116.59501581609798, 115.41871902629428, 114.41610530343141, 111.37436498697657, 110.85056307339502, 107.95302703750883, 107.04819287606377, 104.24293097607725, 101.83097929673674, 100.35157824646296, 92.15747331131456, 90.79348229227259, 88.77739692399722, 83.31802472727047, 80.46909810320105, 79.77944888704045, 79.34759340545868, 77.06437838261209, 75.35645119717395, 74.62694590447803, 1177.7855267739656, 15038.687925135053, 216.54915477277635, 580.2589744881997, 2305.705763869844, 191.71758838107607, 311.7665086319818, 440.16459602115424, 504.95972582732844, 857.4577901689448, 1103.6665364789321, 267.2130224433471, 3081.6226093021414, 929.9295804523438, 4133.921370133543, 900.6237634808344, 591.2928958790006, 327.6923647110806, 247.10843187904973, 684.5052261971291, 1275.3060127708218, 839.7967929160994, 831.7323640552912, 766.1336751573552, 405.5482281173208, 496.20563318574193, 498.81019465281906, 487.0311765459964, 407.8078411770665, 385.82004553474405, 413.3855945870507, 362.56506988771554, 354.24549805276325, 1470.2897840582627, 1028.6291328974944, 944.2479805923315, 499.8510108314604, 438.99573577621345, 411.1470417899879, 404.1745982579805, 387.93477118961704, 387.8093708804606, 372.5325555074391, 340.21349507970274, 326.05848520789345, 296.25071313956335, 274.93822969498194, 264.118842636336, 256.717302200454, 240.579519051345, 224.351126661628, 216.23709986941614, 170.44543636876088, 169.1818620276631, 155.19591599717512, 142.01169975478663, 133.14715571207992, 128.63962656496804, 117.99982748706437, 101.4608035817834, 89.09002708544163, 89.012461848623, 85.78929062981544, 2148.434158255861, 269.6784892709091, 248.092081746752, 770.1876082091361, 2126.13568788199, 824.4393139953788, 2961.557036652096, 1012.0789178298716, 1420.0107397377774, 643.0334734523309, 794.100739909213, 817.772726941834, 460.32945807761416, 336.70580152824067, 528.5847489449236, 447.29040931570887, 342.3891967961656, 424.8590002149077, 391.8846479994047, 366.35376337482074, 345.36574952449865, 595.8794080573414, 349.0287820598385, 345.90720467746485, 315.40384582179547, 243.72302371642277, 216.11843820691303, 214.4655295177987, 193.04685051373121, 178.83950639768574, 176.83020267905292, 174.7509444945044, 172.2255390442584, 160.21894742228153, 158.11775813757748, 150.95927591155512, 145.18022589269688, 144.39072973028317, 131.72424759764021, 130.20589107244112, 114.37509463002363, 112.86422820263287, 111.58319876714472, 108.24838216829353, 106.68033781115467, 99.44881834030646, 97.84165316714991, 95.86657063873841, 95.34046452765821, 93.31796229551651, 90.47292659161403, 3858.596817712437, 2569.256304055243, 316.51542791156027, 473.5518808336123, 827.2780443274063, 710.4509448613397, 841.3439557045546, 217.05855683699036, 474.4968287599291, 908.2608411719722, 784.2321826262908, 375.46095041287725, 692.4936522153321, 438.7953420252777, 693.6826437040424, 307.08674275404456, 383.11892487349496, 215.8917894882559, 213.5339676504758, 229.31163011266614, 197.31906633312684, 5975.906379069016, 292.61018720264957, 222.24951204481388, 191.43636335865966, 174.65928638705194, 165.98454399652994, 162.6914130965085, 161.44661237577884, 157.9953327007254, 155.38396160823086, 151.47810385279274, 129.65538188979517, 124.31513191490494, 118.3603077670921, 117.74592522461614, 111.33226113528455, 103.68237370401647, 100.31738138649189, 99.36786018843488, 96.80685724254441, 93.18288020894742, 91.33002075048208, 88.3566750746541, 84.44164205342919, 81.92362564933687, 78.13642546647995, 77.93733676282031, 69.1102558324095, 67.92904575910448, 66.9131974308443, 918.568128483918, 231.3963398733288, 764.2859346310186, 137.4898630977364, 154.35131878762408, 164.1617858486283, 271.1505512795761, 350.8472011820129, 125.15634358450122, 147.58978411583433, 124.78387531790784, 126.33815154479986, 134.11853164503577, 118.95256849080388, 6401.069304086287, 4766.323768081789, 3599.877059638947, 2853.6899371078807, 1305.0767033645238, 1245.894715080835, 1193.8581762041565, 829.4372812609276, 397.80443944126694, 183.36324740894787, 149.61705144004532, 101.37793985748718, 90.5612380772782, 87.5611774558476, 82.33168002328355, 78.76547199073435, 69.77946874580522, 64.48064610548396, 59.48956501013183, 57.51165394821121, 56.930562990724084, 56.428073565733705, 56.22782750872561, 49.617324098003856, 48.49420839983694, 38.40706103410799, 37.586814169099426, 31.006747246201837, 28.629199858766064, 27.53628398592427, 11225.830046904759, 214.36737023707988, 1938.5908386339222, 4596.442828249932, 150.74645559890124, 2749.8067302966183, 766.5242072529412, 671.5236878274246, 1000.2757575639387, 307.10228575026906, 2153.431838149457, 349.9879310119219, 539.8511984795799, 2205.4681065547074, 446.40152841033347, 815.7000374589686, 1136.4035536921, 726.5264192314734, 498.30462344647657, 337.16958007591444, 600.7559207117056, 1101.2971062009833, 716.8908746273231, 643.4776940972309, 572.5235721679747, 639.7007634659747, 520.0850113232683, 1280.6442092879388, 1237.7369360182397, 1211.4827680220542, 1165.7939457186646, 1159.945934815386, 464.78785627917705, 408.68449512191916, 406.60148238325854, 391.31988252163643, 358.26889389392454, 332.17047824802967, 306.02947563087423, 286.634559166572, 286.54446173030783, 235.73283166041543, 228.90642008172233, 223.58364849065643, 178.02152492600237, 177.1864054162197, 173.9611671215036, 161.64658455279977, 159.03262174903136, 146.9894311526971, 146.45069596931017, 141.56610282520714, 130.1341627274666, 124.90819901972085, 117.13139069829967, 111.98087890735876, 110.97723595437803, 1067.3606596620652, 269.3628181538503, 197.2310606043159, 1590.292277873546, 242.42768348751505, 421.55773178016875, 405.9495318361333, 176.59798543302887, 408.8683638704893, 308.45543345148116, 382.41125795961153, 363.8188709754419, 368.68863115743045, 364.5310780881241, 365.32466030551535, 286.8394964695861, 282.3005100931332, 2136.4404675763776, 765.9314588696383, 756.7917812007338, 721.70239180605, 687.2228014970314, 662.4641047411066, 286.6244930656488, 286.00904970222376, 259.92253660330454, 259.7678074120237, 256.62065220445186, 231.62055403049223, 225.5021569388624, 221.75777563614795, 221.51281036324562, 217.52349996889652, 198.08292493517666, 182.01551139766096, 179.24241622611314, 175.59404191721694, 170.98141873372, 160.0871847600389, 156.71036895579797, 139.69556701442556, 129.53276450307007, 128.45048328794417, 126.31404274800526, 121.3230810935798, 111.75036792231481, 108.57348980333472, 405.604855166866, 818.3785219889688, 1466.4882876739284, 985.2657046520357, 367.846301292077, 273.9472100388843, 345.2014227384672, 791.2859163793642, 512.7624453310125, 806.7079646450743, 359.24174457232334, 358.35135975571393, 337.68371511888546, 335.38526390754294, 354.25093668828555, 382.6421965391256, 367.35391042006927, 526.5780091299716, 543.020948044853, 404.50045815186394, 510.65821516463546, 319.0027477097057, 294.65280882552065, 4455.9091288407335, 498.05147329164424, 466.46381467325483, 279.0410295289359, 267.5384874689622, 243.62112460820515, 241.96757247444995, 238.79535542375908, 230.70560141921698, 218.02949437866116, 197.74148400256578, 188.80386336781422, 188.0700821051694, 173.65815385458973, 171.14372852145183, 155.40899898383879, 152.07658892747088, 151.90035785481115, 123.78226291511433, 123.71105158799847, 123.2287980293202, 114.48041503640157, 111.26819665032896, 91.08494617710808, 91.00234507965075, 86.83633808633384, 80.17751600854972, 79.65165218852601, 77.5764908879867, 75.14806626056394, 435.9052196398607, 328.8235070287667, 2102.3221350849944, 322.63027248956047, 622.5145528719601, 200.59267987093298, 170.12657439213675, 825.6955833154715, 311.0960007525139, 924.9887428829544, 1125.0433463284025, 524.6331473986639, 393.59844460969913, 933.7845327273322, 776.2127044134438, 345.67476608103146, 286.47094194597764, 630.0352658662487, 489.491389619808, 509.67215715196585, 255.28872450605493, 288.6905468992884, 331.07628522953587, 309.10881063126584, 279.8074210465888, 242.8857987252479, 22535.40622967184, 588.2560140307094, 405.0166328029426, 337.1421931684271, 169.17316701471094, 155.98509849906677, 153.40887914260307, 110.7514759142094, 99.20736392792347, 95.50287398167833, 92.86576153083882, 92.73492864414258, 733.5454032586744, 74.2954935390491, 70.74983413749155, 69.19841602776246, 66.0514514892917, 57.249962541154645, 47.56215385977949, 45.05672582060963, 44.491183395798295, 40.895329314690514, 40.152778400723584, 36.58580369850157, 36.316658395466675, 36.073273232673785, 35.2982979386906, 356.60051715891495, 32.25439207874048, 31.697422275913326, 16052.483250280742, 1491.5274716183967, 2396.2050928572266, 794.012179542857, 3088.448466999455, 3818.2702542154957, 752.8550908474188, 3825.84503387125, 499.9341045025394, 1454.6696056908875, 135.90403798971957, 486.7318197472681, 1058.082852714171, 5940.0352979882055, 735.1432264598627, 564.5752132252162, 971.5702344614396, 725.6257137143951, 866.6588791659967, 436.93507412293206, 783.2375502125165, 1996.3623982629942, 1765.561011135461, 1395.7190511508659, 384.00928221967234, 1056.9855571001958, 845.2333996248562, 722.3163373950011, 938.7961132092945, 889.2981864196026, 849.6148519249703, 603.6435172000395, 639.2323331146794, 640.4570313587203, 3294.9301664694026, 1448.6587708230418, 142.19671377162868, 129.58895618665187, 118.44323901298344, 78.11151436210788, 69.02718263027613, 65.33261861503172, 55.89894737306695, 53.1352438559704, 49.33388700941027, 48.07806622726929, 44.58790475601417, 44.35423834830935, 17.899776376719696, 14.61537782101868, 9.893547658115224, 6.669467049516722, 3.2614972377175815, 4391.390468324968, 3348.6780611086574, 28.904349505321864, 7498.202847248577, 4545.05163164135, 990.41560163092, 5606.003978952827, 50.98682394181137, 3563.7509200349346, 384.5716194239352, 145.2773374592689, 470.5575359057568, 125.02031558507613, 369.8099320536141, 522.846682379429, 279.540715958834, 573.1488755186418, 244.45010484920707, 187.88844404234334, 227.55484686295677, 284.3332292697755, 205.83972159534156, 125.52764381295493, 202.51922312563795, 152.3105512574479, 137.37706141431713, 175.26364884150277, 141.73124688777293, 134.03345860888084, 126.0276841615709, 3671.2178395475235, 3550.6107963843865, 3396.988202197306, 994.6743182211133, 642.3505790852149, 260.83084227562216, 238.4860338828454, 223.54029268820744, 202.77171103581938, 189.1726684300141, 167.9836327455056, 164.0942230013048, 159.7244123335198, 143.34165331338897, 141.48661684198032, 122.31175752053191, 120.97184722083301, 98.99730850824034, 85.34061443245159, 84.1248038556487, 75.30388400990651, 67.09072598872328, 66.37222407421305, 65.47576401085477, 59.99455645067494, 50.95610343025847, 46.878931008264885, 46.058380813189075, 44.61572940753877, 43.42549038588514, 374.11347542461937, 289.4539363393714, 234.1086371269975, 324.7646009212059, 1061.4921339919504, 413.084637443886, 1092.0724107829808, 524.0523940159057, 546.98376657573, 270.8740670613797, 204.3013435194528, 179.20745998164134, 348.5088326144997, 342.45994912683125, 336.601697593806, 287.1653731305826, 234.53036483811005, 187.32240475570777, 212.8481914400962, 228.98277900737992, 197.7486570062792, 1140.48127924148, 767.142948726879, 533.9075715997345, 324.9147978756443, 321.1814493481096, 282.8570545686095, 235.85216800644278, 215.58489799412652, 205.1538162486659, 186.30268215490412, 174.89889305830607, 172.16356381272024, 160.58815842289775, 156.8601387229023, 151.47378789269362, 151.47378789269362, 136.41037039059722, 134.55073578847382, 134.2385646572866, 129.7354529684775, 126.28097040000974, 102.73114963513338, 101.62113382386298, 99.26894727834889, 98.47760937715574, 96.78639377173323, 89.82201584000474, 84.77697641368475, 83.7576418215789, 81.51368656803297, 173.11391813465357, 247.5359869902282, 2323.1347874427065, 649.3984094639815, 624.640732809568, 476.17567106168434, 348.0437885088391, 464.0276831527699, 796.5369858050433, 484.0041113672863, 223.83698008909852, 656.055180826007, 1106.2329607396703, 312.7533476655781, 553.2831324395099, 414.33157040451977, 398.49078915029037, 479.7812679605808, 275.57282778706815, 414.15064268633205, 225.03426947455443, 317.49185329931817, 269.5911347348828, 234.20220874475834, 271.59940155566005, 239.38018839495214, 238.6911709941277, 238.27630774696706, 338.3115753353398, 284.6287913710066, 238.94234317913683, 174.30450320480855, 164.62858670114534, 146.1357449965483, 145.36286669827967, 133.25240312837764, 112.60608705133443, 111.4704055660717, 106.65591618717109, 99.30311256912118, 97.07825768649109, 90.46008325972791, 86.44512052097973, 85.66673305278384, 79.77953095061392, 77.4551816048523, 73.92408534615288, 71.60781357016327, 67.5262442986378, 66.22687267605662, 65.78880773524702, 64.70918229269292, 60.972819327440725, 60.34124598643088, 59.67240697778489, 57.47317880587358, 55.50269576140085, 55.436304057606876, 1095.3141836014147, 577.0220559797915, 1537.3337727191972, 282.6917022984933, 296.469687532666, 1472.0402746878426, 1461.4214212627319, 2169.8662248859464, 4875.6208088534195, 3146.781644086508, 4001.6389115326683, 332.7700569371838, 1807.8780513147062, 3289.6783217962975, 1416.8300280083943, 646.0832915559146, 316.20395432208255, 690.4801356829772, 617.1840766126211, 709.2294163579487, 724.7029846955883, 1006.2081626494382, 2641.732720749967, 2060.5404618341186, 1757.771453825678, 1333.4432319895582, 1811.4089613882868, 1392.1753754732433, 1414.210069207637, 1297.9178127895036, 973.8829887518714, 1052.6917313968474, 1351.576096701786, 967.4213148524523, 768.2138549996192, 668.8736486260485, 1448.6431167851433, 727.2642574432826, 504.2902575693078, 402.35536223719276, 364.74857004207337, 362.7828595495173, 302.805592745388, 237.1297897845139, 219.25183731184754, 170.74452717185432, 128.42778862177576, 114.61634952019095, 108.28194497179918, 99.7569996791434, 94.71450856441463, 82.6687840287395, 75.23302109796187, 52.2798152285821, 46.95795612514532, 42.411698957440194, 42.31221300800162, 40.48661263748417, 38.03865443524295, 33.08680629466813, 25.822244290329156, 24.632877327808583, 20.111637819168863, 18.90970008995212, 16.77859424774587, 16.259995203910666, 1547.5583326048243, 316.4612342801727, 1671.2948187836716, 1741.1832473617199, 103.17418034507034, 133.3237512726736, 390.08309633244045, 182.29772738368274, 693.8392511129065, 1087.4732000716278, 410.8643591231716, 842.1003435028584, 588.6288146719262, 1133.1974273602948, 944.9503100495592, 735.5326408366459, 876.9887449751441, 342.22883843072486, 277.1574364791437, 535.7307377226972, 282.1431700289339, 533.0761406265711, 837.8023337896228, 320.60063200190046, 395.71783886247755, 330.62265304012715, 339.5689824565065, 358.4550142917278, 315.94390866441825, 12382.009459937886, 2869.29012942307, 411.15994570414125, 384.2658526297513, 378.233838651782, 376.96161920170755, 350.7076441475209, 335.5909971210531, 247.66129477618733, 239.87841716281355, 211.70531964709048, 150.54478144515468, 130.5948694078882, 130.56016070672976, 126.20617807350827, 122.9248510550554, 108.18386413867397, 102.05874127075835, 101.33142603616093, 100.63836045215824, 94.47093775425019, 90.265889038064, 89.9744759027733, 86.13980821519088, 85.24441889432254, 58.617801147779225, 58.57270222898369, 57.362723317534986, 52.53305793493712, 50.710414466265966, 618.5737695764506, 2565.6340484201332, 417.65356301480733, 719.6073949566721, 234.03479305764805, 416.6836899408885, 170.84425488850746, 611.3197853906001, 152.57176959280733, 587.2828678101517, 227.36360155331332, 1018.073203966508, 779.5055665011205, 210.10672644257463, 400.2198078844232, 334.63444770983705, 771.3068786478686, 881.9477381524825, 404.2002913041143, 514.4803594583639, 560.8716511433622, 479.6743395804221, 421.2907213982654, 397.79973809797366, 378.8955880302556, 396.074693257689, 330.638311785559, 3141.9495187970692, 819.1950757506918, 441.68677206866334, 400.7693028799782, 335.39745353910354, 239.7656961284226, 229.02151607517447, 203.3315310318843, 191.39100077968706, 191.2396970089625, 190.0872469334036, 167.28903485439295, 164.99042439368088, 144.4803984915373, 112.02261877143864, 104.62087438551286, 99.80179022231513, 99.60257146237029, 93.36340610774563, 90.3504368755466, 83.34029755394285, 77.35750093807647, 77.13697066368584, 77.04759799430397, 74.79516248155778, 74.1016043867172, 70.92899834219008, 70.7494149101616, 70.62278300878236, 66.79524299615744, 963.745059928723, 1276.283415908594, 690.2806233740474, 1265.4079345772059, 274.18075885895405, 149.21481128947622, 5354.073607548887, 281.56150302221806, 265.43280521650615, 1742.7647861038804, 299.6064013047101, 222.12008144092553, 472.1067798975534, 1382.890156275787, 660.030916096549, 638.9374655363899, 2475.525850768755, 815.9213717129173, 1919.308286242557, 812.226928892571, 813.8841505687112, 1109.7350958634033, 1207.9703540826617, 774.6825216936533, 1746.4461387056158, 1016.5681787261116, 1190.60748811716, 1511.4372524199018, 626.5588439801207, 463.34766764192375, 503.6160535516829, 744.9771759461936, 766.0216499323303, 731.5641717007634, 562.0879209533008, 538.078544379157, 529.1650313986437, 1764.7149057794616, 983.4037388372392, 463.7751067847011, 455.73438799638643, 406.59561948197046, 368.4609749719636, 362.9692438905717, 345.7824754630815, 306.01697470484305, 292.0609726170357, 280.42260775082406, 263.66554348826446, 236.14696874059146, 227.72554386891494, 222.26148101303792, 211.34101416438264, 208.0509809631954, 206.2035792935984, 204.45314846266723, 197.21024085981935, 194.18997674120695, 191.59460086955232, 182.97036371034255, 177.333471540118, 171.59864534763307, 171.3454678792356, 168.09417951490073, 163.37767141016113, 153.89442983679112, 143.74424576506112, 456.9337379942524, 784.0057817945557, 227.9357664560386, 264.01238279362383, 290.12997593256193, 421.3871988732831, 448.20971812168943, 241.67853212418444, 311.74176514568137, 346.84250561455923, 338.83055805232743, 331.6288343157569, 288.25270003631414, 318.96436821694704, 279.370469490734, 245.35348145315496, 234.01401420564417, 234.74033231204334, 1193.5460989043759, 601.520717231498, 475.7441242218544, 398.268924433452, 322.8161683707922, 313.6469540888147, 291.3928655371301, 280.74672153870154, 274.4370182044959, 229.90709120319153, 199.33609041285453, 161.29501015461005, 148.83843800472366, 134.41349302545606, 132.33361487137776, 123.52339403147337, 119.07797775777767, 118.11613480548837, 108.44908246008329, 106.91925484371566, 93.30597394057843, 79.39677995237516, 72.1107408001671, 62.95264878568475, 62.460859426816135, 56.99528602516174, 54.12641937080562, 53.22519065649174, 53.03510163623333, 50.20647017318428, 216.55784049380006, 208.2994367525173, 678.0356427737, 1072.1189767122341, 295.7189046907096, 924.7545006016312, 466.41148185688604, 331.9893680141847, 1581.1094380978686, 376.08693983190744, 252.24570616134173, 133.4454741762222, 131.4080217489805, 513.0262988059195, 348.72032727442337, 332.32560839341323, 275.5838863976538, 268.4098575942811, 264.4995655886195, 213.55452507323847, 160.89245560161189, 159.75062063136514, 141.35426842807252, 137.28427728604703, 114.45222384210612, 113.12280473302695, 110.45372323307406, 100.14372617758436, 96.74233777610064, 95.00335365229364, 93.9552784237027, 91.39934408514117, 88.27581740252572, 85.72576671635655, 84.42015007543291, 84.03026804853572, 79.25671400222431, 74.17133561562129, 71.9412235376035, 69.61952691437952, 69.48771278048433, 69.32888187539977, 67.87780878569319, 6447.193162849576, 139.67808328796346, 388.28776953844357, 789.5814958559746, 243.1885332713824, 231.02601699756957, 281.32923139452095, 217.63460247650795, 121.20417216922567, 306.08893377194886, 230.69782557401385, 224.48383888941814, 552.2099828445122, 232.10109052434396, 220.8628711028114, 134.04252336540634, 153.59097229374618, 138.5371996775227, 169.79677697949612, 137.99777866752947, 1503.3033162817528, 505.3073721366999, 420.10187765160845, 331.9608639534125, 280.86696122549716, 228.13243558038621, 207.0332250747328, 183.12271489777095, 181.40255602604668, 161.7125055169934, 146.75440120515455, 144.58074615537188, 140.62143692311972, 140.2017269095895, 135.7616710190365, 125.86094013340455, 118.4167403447464, 117.34293572466602, 110.03755691653134, 108.74791547694971, 106.68256308530522, 106.00629976998064, 104.00410950517849, 103.80848899723918, 92.27828878274255, 90.89349913432673, 88.81702777132317, 87.92107822922732, 87.49402941766432, 87.21166570165664, 627.8438644548411, 188.72075003716122, 733.5752846981286, 376.5193039441679, 303.3772702781744, 803.1493609220585, 250.81535870150947, 223.60291558777723, 314.08731827214376, 156.28687674421803, 983.6007671826931, 131.90261253726962, 232.67877942131557, 246.41080597728856, 149.51043834259744, 2282.878522569095, 1489.9549870738751, 694.1645851069795, 276.8852520602515, 274.9601192764957, 220.16859059154686, 217.16653316865452, 190.1226147841478, 120.66178534170567, 112.47882026809445, 105.64509668850734, 102.70659435592214, 102.0256786204187, 81.57912979939985, 77.79114071925197, 72.06499415336475, 70.55629382425812, 68.59463135440909, 66.4218758006128, 66.08703099978266, 63.80436673697079, 62.93458003667657, 61.15636299312845, 59.18060179482341, 59.048961097779674, 55.6441650577621, 49.02417274619548, 48.440899655470496, 47.04312239371453, 43.088011384843284, 5933.0111564682675, 3889.1217313285047, 302.4740521030001, 153.65295483709377, 1149.4397697181341, 303.74368777776743, 310.97556831393257, 224.04233130909947, 1655.3022831039505, 1687.7756610273555, 205.95471967847672, 360.01875388589656, 754.7276081422085, 542.3849029182568, 1134.6945796139396, 424.32661741394315, 208.4078643337433, 581.1303567683068, 518.7903143142867, 341.3659486101687, 1053.9116273433817, 331.5090791831426, 342.39087672960653, 270.1201127425489, 241.05352974176304, 229.31632977811825, 21886.198865594517, 1637.4586241238492, 317.1078263008959, 245.69209437922592, 233.3835704228868, 222.62475002358298, 180.688550990909, 177.9646693121609, 176.7852179829649, 159.02152911886697, 156.92376141298254, 136.08058291127196, 122.87736082983368, 116.95319811916475, 115.73995537755708, 112.18321663797533, 111.4142336852561, 101.31243587858232, 98.65467577439112, 92.1235700590282, 90.52400133665029, 78.73202934950119, 78.00070535745317, 76.72241315425586, 76.72211137430953, 74.86275776760495, 73.33088305213585, 69.73090242287573, 68.90756731350658, 68.45243550497266, 175.4331008750017, 464.38746302054983, 108.05898070931619, 410.53219499385574, 839.4215688241591, 2002.268266514178, 203.4253033569227, 563.0358649486883, 3195.927903844484, 790.7860773470848, 1259.407004753711, 419.30897235511594, 369.2106740623949, 821.1570840807007, 1461.0934679430234, 2553.566606931298, 1390.2604413314104, 509.43644278386347, 764.2292514720044, 1143.2876722757267, 246.5530407998011, 769.9962344800996, 805.3164958661812, 304.124681216109, 497.4316047524648, 425.1932683465589, 421.8879202438493, 459.40088295366934, 446.0781560134836, 409.7861632002128, 416.55912171782825, 344.12831323878277, 1043.0541891507821, 461.28472757512645, 443.5851805614058, 437.01051691509406, 435.1545445522257, 316.53774651602384, 290.99897052186674, 241.70265003704074, 206.21571215814495, 185.6653623506994, 158.46329760659228, 158.3192121683842, 157.23824697199592, 126.90796155667832, 117.06129247347147, 107.28964118486375, 101.65365341943807, 97.32064585922437, 93.0868523193122, 88.26360612205873, 86.0537421990974, 82.89448104605879, 81.76797187480364, 78.49350567067721, 76.98457269934126, 71.83944074087188, 71.44688902421194, 69.84903611028498, 69.08171191802239, 69.04182533405717, 2564.485705839667, 325.4998449476948, 432.620476524644, 184.28972225646683, 1591.5653767156537, 483.9157787194099, 1285.6300080207725, 344.72399155370977, 623.7120442561886, 179.80239056737835, 661.8175074920144, 189.4304944633463, 172.04315630304754, 396.94438397876297, 729.3848901581486, 357.83616205238354, 1249.9016301055515, 760.3913801662557, 1165.7458594733866, 1156.630987750067, 367.41989301383904, 222.56552438925817, 377.7065963351055, 331.733482652943, 353.8447184788016, 450.9532082229973, 409.37725612262966, 355.40308834293955, 359.24780372508104, 948.0624902545028, 440.69250339964657, 380.9784949692074, 329.3767865052974, 327.20150920239774, 246.2114444569587, 239.00654117481102, 232.03353887300275, 213.7386498775861, 204.22960404905135, 198.18627579299408, 195.03302938321167, 155.44466444650772, 130.7478099059524, 127.9571646029819, 118.06074674733728, 111.74242128493312, 107.29838174346037, 97.40281075688577, 94.12379840917077, 87.7349887397934, 81.76216233381496, 455.93529979086605, 75.59352097953614, 69.48237850649028, 66.47056511243578, 66.00404023245547, 63.40501081864652, 63.03404687976822, 62.73662528617153, 252.7003434645486, 1140.3007340859572, 200.30947064808774, 334.47070396144414, 454.3810127576965, 1730.186632033154, 13350.352656461291, 314.0029136013521, 337.34269574341783, 354.4745512160124, 938.0136359662553, 447.40036511011726, 1146.4914410843382, 580.751897495975, 349.47651815790414, 492.7243743028431, 1015.7054985460942, 626.5890622968489, 688.9203666364543, 776.8178954273387, 486.55648572107094, 459.41033292311374, 707.0878724092561, 373.49828866688205, 402.70727337455344, 364.7501311736159, 361.43348608160204, 2005.4270509602536, 993.4241401825745, 499.0234516573815, 277.1714724306118, 265.01489486956683, 203.1445107672305, 199.33144376099216, 187.25871899179148, 181.29612550261882, 176.36265477719505, 166.8856064581964, 160.07399359120686, 155.59855789479857, 149.56537713071035, 147.5211859516732, 117.75307672559245, 113.44549123198681, 110.3435689989761, 102.25558727174624, 99.52218083606911, 97.1364716188787, 96.48219502550715, 94.01545966279527, 89.56094772277146, 83.60096395125029, 80.42346508388452, 71.02172388180085, 68.74113961343238, 66.51002165571207, 64.80024903104078, 785.2526032702332, 4068.787572466092, 799.8631305495767, 270.94490961647074, 3151.1884433935893, 332.7734725004226, 115.51230872879817, 685.9288793004057, 815.6014765645057, 383.21519963218736, 785.4260936184892, 160.92774595821535, 436.6627430219893, 358.3269337345513, 620.4242563001196, 291.1420469824843, 396.00089663433135, 339.17449855504225, 239.26772290558037, 198.2273425601333, 240.04495861399158, 199.04628116219925, 493.98461141751636, 267.58202173775123, 141.3252594042678, 137.68960384670433, 118.66684271205436, 113.83441252931767, 111.22063852872533, 111.0392548655057, 109.60083652652851, 106.11343982357734, 105.51769429703299, 100.48790447772635, 97.3651197966405, 91.37893510798756, 91.10458221139754, 90.67530906004558, 88.78484355211083, 81.41598562607474, 65.24977521319703, 61.457645074169996, 56.32136394853966, 51.5943148387684, 46.499106653889726, 43.8482622461399, 43.451089072603004, 41.764075250947705, 39.72589746482317, 38.43321860476068, 37.97234365722878, 36.95356221340418, 735.4297813360307, 7132.3340391299935, 8028.072225601317, 79.52899315582486, 255.3751483011607, 158.18183569333667, 766.1305235094081, 199.86004151090253, 111.20650725080107, 1169.6308201655281, 585.5712797270932, 1385.4799528608853, 537.2937329578706, 581.297917515547, 518.529627728176, 990.9732068532791, 498.2025416702105, 698.2480547804929, 493.8822194343617, 1316.0292197316148, 434.38382309479965, 483.9271042145052, 463.0050241725763, 533.6901090560693, 802.0409588541673, 619.1997585077734, 815.6721193518108, 447.1261592333326, 459.8170260920769, 770.9920474996359, 330.99754910547284, 309.2077106707186, 342.0301714203021, 395.3043832002241, 361.081229271827, 1160.666281905345, 710.8238968759711, 678.0383310198682, 645.6341558913296, 555.5265474520619, 529.7648575116468, 466.8424058207679, 460.27904211261557, 409.87817948326517, 385.4145257104753, 378.9367019799113, 368.3337638182161, 339.67928099616876, 316.56588116834666, 316.03947438480793, 311.88082780257446, 298.83007260339156, 283.49331249122616, 273.19165380879974, 272.70402794777914, 262.67239605996264, 227.90071009659854, 222.0850263783867, 221.8460573140687, 219.4441445317349, 208.93467949071078, 206.93590234609243, 168.25887550902294, 164.67802868073406, 156.45038453204953, 392.1818116863776, 888.7354729695668, 310.9039264666597, 578.9775182643707, 972.325067085715, 2360.132921779542, 456.31828920924875, 280.99309771851864, 365.79032916202164, 2849.167253118368, 948.9512982026881, 1582.3700933533787, 539.2483976917322, 1416.4766441671047, 1712.216420118731, 478.49998712129127, 693.7080431976746, 615.5230040329809, 587.3339222741306, 493.55439332426437, 638.1340514468385, 733.4136492743701, 534.8527465853392, 510.2328893752142, 466.1964470208663, 619.6628150240764, 575.9899175744788, 537.424344649302, 497.33176915085176, 493.14393939954624, 731.030664828885, 595.0523348702757, 396.862773706375, 394.8129908443763, 378.9913158002856, 325.86098296802317, 318.3283766380241, 292.7374462113335, 277.89236367664824, 234.19354433251746, 219.49468288788333, 219.26547723940007, 219.21563976344896, 213.19985327595734, 193.13369626771598, 188.45937337675136, 184.67447123186386, 182.79209866422852, 172.1009376157053, 169.95477113960658, 158.2821682141469, 157.30308285717533, 151.91982722653333, 147.57931220497161, 145.54991031936328, 143.8786897307283, 142.240382520115, 135.01725932037743, 127.19561900030786, 123.91627802705575, 314.14103541417853, 204.07201925734725, 3223.5108475549805, 439.192221246461, 4954.59623567287, 1034.4380244583149, 586.9898036787566, 317.5708820592361, 405.58976562649906, 274.62965467075145, 868.9443403659102, 267.7370090518714, 1040.8680910507037, 1273.0054061732194, 310.6674276091123, 1384.963942359067, 1199.7089882009825, 1349.607729525585, 1952.9506911396813, 2885.5738877647022, 624.4892032564809, 367.1402795201311, 661.3238694503978, 1115.1431853971085, 1491.429722637393, 1002.3488441632271, 1244.9964720334915, 663.8272337172035, 468.12136669478207, 509.54532630721235, 606.3882865220774, 569.3128657843123, 1030.9733558488178, 842.2346472170578, 475.18329224370007, 536.2608231168045, 674.7547868263342, 554.7724754384723, 504.9853627983442, 506.3325911048679, 1089.9766837863467, 733.4631551379863, 425.96382265237025, 415.1047545268581, 404.1763697559691, 397.9863975842212, 339.54434947695063, 298.03876069865004, 164.4092413185497, 158.4980481689424, 140.5434074148356, 138.82068427820803, 120.40851958144542, 113.07031739205141, 107.85748837951587, 105.44789352443387, 100.58661110029801, 99.84602643736986, 82.85760092634808, 75.28562014915838, 73.40614638714518, 67.49020289582954, 60.85266013193362, 57.814337314867956, 54.94523743291997, 47.88042486453555, 42.68135693156774, 41.54037491287352, 38.64731030257616, 38.428038363674624, 1062.7035874098806, 365.35581044391256, 302.4155508724943, 140.21653917114057, 231.20703398092851, 754.9125455998058, 131.5552283530923, 342.305171390721, 280.6234754462693, 125.53132642331035, 82.69597747286475, 94.14750161263007, 95.96396411556998], \"Category\": [\"Default\", \"Default\", \"Default\", \"Default\", \"Default\", \"Default\", \"Default\", \"Default\", \"Default\", \"Default\", \"Default\", \"Default\", \"Default\", \"Default\", \"Default\", \"Default\", \"Default\", \"Default\", \"Default\", \"Default\", \"Default\", \"Default\", \"Default\", \"Default\", \"Default\", \"Default\", \"Default\", \"Default\", \"Default\", \"Default\", \"Topic1\", \"Topic1\", \"Topic1\", \"Topic1\", \"Topic1\", \"Topic1\", \"Topic1\", \"Topic1\", \"Topic1\", \"Topic1\", \"Topic1\", \"Topic1\", \"Topic1\", \"Topic1\", \"Topic1\", \"Topic1\", \"Topic1\", \"Topic1\", \"Topic1\", \"Topic1\", \"Topic1\", \"Topic1\", \"Topic1\", \"Topic1\", \"Topic1\", \"Topic1\", \"Topic1\", \"Topic1\", \"Topic1\", \"Topic1\", \"Topic1\", \"Topic1\", \"Topic1\", \"Topic1\", \"Topic1\", \"Topic1\", \"Topic1\", \"Topic1\", \"Topic1\", \"Topic1\", \"Topic1\", \"Topic1\", \"Topic1\", \"Topic1\", \"Topic1\", \"Topic1\", \"Topic1\", \"Topic1\", \"Topic1\", \"Topic1\", \"Topic1\", \"Topic1\", \"Topic1\", \"Topic2\", \"Topic2\", \"Topic2\", \"Topic2\", \"Topic2\", \"Topic2\", \"Topic2\", \"Topic2\", \"Topic2\", \"Topic2\", \"Topic2\", \"Topic2\", \"Topic2\", \"Topic2\", \"Topic2\", \"Topic2\", \"Topic2\", \"Topic2\", \"Topic2\", \"Topic2\", \"Topic2\", \"Topic2\", \"Topic2\", \"Topic2\", \"Topic2\", \"Topic2\", \"Topic2\", \"Topic2\", \"Topic2\", \"Topic2\", \"Topic2\", \"Topic2\", \"Topic2\", \"Topic2\", \"Topic2\", \"Topic2\", \"Topic2\", \"Topic2\", \"Topic2\", \"Topic2\", \"Topic2\", \"Topic2\", \"Topic2\", \"Topic2\", \"Topic2\", \"Topic2\", \"Topic2\", \"Topic2\", \"Topic2\", \"Topic2\", \"Topic3\", \"Topic3\", \"Topic3\", \"Topic3\", \"Topic3\", \"Topic3\", \"Topic3\", \"Topic3\", \"Topic3\", \"Topic3\", \"Topic3\", \"Topic3\", \"Topic3\", \"Topic3\", \"Topic3\", \"Topic3\", \"Topic3\", \"Topic3\", \"Topic3\", \"Topic3\", \"Topic3\", \"Topic3\", \"Topic3\", \"Topic3\", \"Topic3\", \"Topic3\", \"Topic3\", \"Topic3\", \"Topic3\", \"Topic3\", \"Topic3\", \"Topic3\", \"Topic3\", \"Topic3\", \"Topic3\", \"Topic3\", \"Topic3\", \"Topic3\", \"Topic3\", \"Topic3\", \"Topic3\", \"Topic3\", \"Topic3\", \"Topic3\", \"Topic3\", \"Topic3\", \"Topic3\", \"Topic4\", \"Topic4\", \"Topic4\", \"Topic4\", \"Topic4\", \"Topic4\", \"Topic4\", \"Topic4\", \"Topic4\", \"Topic4\", \"Topic4\", \"Topic4\", \"Topic4\", \"Topic4\", \"Topic4\", \"Topic4\", \"Topic4\", \"Topic4\", \"Topic4\", \"Topic4\", \"Topic4\", \"Topic4\", \"Topic4\", \"Topic4\", \"Topic4\", \"Topic4\", \"Topic4\", \"Topic4\", \"Topic4\", \"Topic4\", \"Topic4\", \"Topic4\", \"Topic4\", \"Topic4\", \"Topic4\", \"Topic4\", \"Topic4\", \"Topic4\", \"Topic4\", \"Topic4\", \"Topic4\", \"Topic4\", \"Topic4\", \"Topic4\", \"Topic4\", \"Topic4\", \"Topic4\", \"Topic4\", \"Topic4\", \"Topic4\", \"Topic4\", \"Topic4\", \"Topic5\", \"Topic5\", \"Topic5\", \"Topic5\", \"Topic5\", \"Topic5\", \"Topic5\", \"Topic5\", \"Topic5\", \"Topic5\", \"Topic5\", \"Topic5\", \"Topic5\", \"Topic5\", \"Topic5\", \"Topic5\", \"Topic5\", \"Topic5\", \"Topic5\", \"Topic5\", \"Topic5\", \"Topic5\", \"Topic5\", \"Topic5\", \"Topic5\", \"Topic5\", \"Topic5\", \"Topic5\", \"Topic5\", \"Topic5\", \"Topic5\", \"Topic5\", \"Topic5\", \"Topic5\", \"Topic5\", \"Topic5\", \"Topic5\", \"Topic5\", \"Topic5\", \"Topic5\", \"Topic5\", \"Topic5\", \"Topic5\", \"Topic5\", \"Topic5\", \"Topic5\", \"Topic5\", \"Topic5\", \"Topic5\", \"Topic5\", \"Topic5\", \"Topic5\", \"Topic5\", \"Topic5\", \"Topic5\", \"Topic6\", \"Topic6\", \"Topic6\", \"Topic6\", \"Topic6\", \"Topic6\", \"Topic6\", \"Topic6\", \"Topic6\", \"Topic6\", \"Topic6\", \"Topic6\", \"Topic6\", \"Topic6\", \"Topic6\", \"Topic6\", \"Topic6\", \"Topic6\", \"Topic6\", \"Topic6\", \"Topic6\", \"Topic6\", \"Topic6\", \"Topic6\", \"Topic6\", \"Topic6\", \"Topic6\", \"Topic6\", \"Topic6\", \"Topic6\", \"Topic6\", \"Topic6\", \"Topic6\", \"Topic6\", \"Topic6\", \"Topic6\", \"Topic6\", \"Topic6\", \"Topic6\", \"Topic6\", \"Topic6\", \"Topic6\", \"Topic6\", \"Topic6\", \"Topic6\", \"Topic6\", \"Topic6\", \"Topic6\", \"Topic6\", \"Topic6\", \"Topic7\", \"Topic7\", \"Topic7\", \"Topic7\", \"Topic7\", \"Topic7\", \"Topic7\", \"Topic7\", \"Topic7\", \"Topic7\", \"Topic7\", \"Topic7\", \"Topic7\", \"Topic7\", \"Topic7\", \"Topic7\", \"Topic7\", \"Topic7\", \"Topic7\", \"Topic7\", \"Topic7\", \"Topic7\", \"Topic7\", \"Topic7\", \"Topic7\", \"Topic7\", \"Topic7\", \"Topic7\", \"Topic7\", \"Topic7\", \"Topic7\", \"Topic7\", \"Topic7\", \"Topic7\", \"Topic7\", \"Topic7\", \"Topic7\", \"Topic7\", \"Topic7\", \"Topic7\", \"Topic7\", \"Topic7\", \"Topic7\", \"Topic7\", \"Topic7\", \"Topic7\", \"Topic7\", \"Topic7\", \"Topic7\", \"Topic7\", \"Topic7\", \"Topic7\", \"Topic7\", \"Topic7\", \"Topic7\", \"Topic7\", \"Topic7\", \"Topic7\", \"Topic7\", \"Topic7\", \"Topic7\", \"Topic7\", \"Topic7\", \"Topic7\", \"Topic7\", \"Topic7\", \"Topic7\", \"Topic7\", \"Topic8\", \"Topic8\", \"Topic8\", \"Topic8\", \"Topic8\", \"Topic8\", \"Topic8\", \"Topic8\", \"Topic8\", \"Topic8\", \"Topic8\", \"Topic8\", \"Topic8\", \"Topic8\", \"Topic8\", \"Topic8\", \"Topic8\", \"Topic8\", \"Topic8\", \"Topic8\", \"Topic8\", \"Topic8\", \"Topic8\", \"Topic8\", \"Topic8\", \"Topic8\", \"Topic8\", \"Topic8\", \"Topic8\", \"Topic8\", \"Topic8\", \"Topic8\", \"Topic8\", \"Topic8\", \"Topic8\", \"Topic8\", \"Topic8\", \"Topic8\", \"Topic8\", \"Topic8\", \"Topic8\", \"Topic8\", \"Topic8\", \"Topic8\", \"Topic8\", \"Topic8\", \"Topic8\", \"Topic8\", \"Topic8\", \"Topic8\", \"Topic8\", \"Topic8\", \"Topic8\", \"Topic8\", \"Topic8\", \"Topic8\", \"Topic8\", \"Topic8\", \"Topic8\", \"Topic8\", \"Topic8\", \"Topic8\", \"Topic8\", \"Topic9\", \"Topic9\", \"Topic9\", \"Topic9\", \"Topic9\", \"Topic9\", \"Topic9\", \"Topic9\", \"Topic9\", \"Topic9\", \"Topic9\", \"Topic9\", \"Topic9\", \"Topic9\", \"Topic9\", \"Topic9\", \"Topic9\", \"Topic9\", \"Topic9\", \"Topic9\", \"Topic9\", \"Topic9\", \"Topic9\", \"Topic9\", \"Topic9\", \"Topic9\", \"Topic9\", \"Topic9\", \"Topic9\", \"Topic9\", \"Topic9\", \"Topic9\", \"Topic9\", \"Topic9\", \"Topic9\", \"Topic9\", \"Topic9\", \"Topic9\", \"Topic9\", \"Topic9\", \"Topic9\", \"Topic9\", \"Topic9\", \"Topic9\", \"Topic9\", \"Topic9\", \"Topic9\", \"Topic9\", \"Topic9\", \"Topic9\", \"Topic9\", \"Topic10\", \"Topic10\", \"Topic10\", \"Topic10\", \"Topic10\", \"Topic10\", \"Topic10\", \"Topic10\", \"Topic10\", \"Topic10\", \"Topic10\", \"Topic10\", \"Topic10\", \"Topic10\", \"Topic10\", \"Topic10\", \"Topic10\", \"Topic10\", \"Topic10\", \"Topic10\", \"Topic10\", \"Topic10\", \"Topic10\", \"Topic10\", \"Topic10\", \"Topic10\", \"Topic10\", \"Topic10\", \"Topic10\", \"Topic10\", \"Topic10\", \"Topic10\", \"Topic10\", \"Topic10\", \"Topic10\", \"Topic10\", \"Topic10\", \"Topic10\", \"Topic10\", \"Topic10\", \"Topic10\", \"Topic10\", \"Topic10\", \"Topic10\", \"Topic10\", \"Topic10\", \"Topic10\", \"Topic10\", \"Topic10\", \"Topic10\", \"Topic10\", \"Topic11\", \"Topic11\", \"Topic11\", \"Topic11\", \"Topic11\", \"Topic11\", \"Topic11\", \"Topic11\", \"Topic11\", \"Topic11\", \"Topic11\", \"Topic11\", \"Topic11\", \"Topic11\", \"Topic11\", \"Topic11\", \"Topic11\", \"Topic11\", \"Topic11\", \"Topic11\", \"Topic11\", \"Topic11\", \"Topic11\", \"Topic11\", \"Topic11\", \"Topic11\", \"Topic11\", \"Topic11\", \"Topic11\", \"Topic11\", \"Topic11\", \"Topic11\", \"Topic11\", \"Topic11\", \"Topic11\", \"Topic11\", \"Topic11\", \"Topic11\", \"Topic11\", \"Topic11\", \"Topic11\", \"Topic11\", \"Topic11\", \"Topic11\", \"Topic12\", \"Topic12\", \"Topic12\", \"Topic12\", \"Topic12\", \"Topic12\", \"Topic12\", \"Topic12\", \"Topic12\", \"Topic12\", \"Topic12\", \"Topic12\", \"Topic12\", \"Topic12\", \"Topic12\", \"Topic12\", \"Topic12\", \"Topic12\", \"Topic12\", \"Topic12\", \"Topic12\", \"Topic12\", \"Topic12\", \"Topic12\", \"Topic12\", \"Topic12\", \"Topic12\", \"Topic12\", \"Topic12\", \"Topic12\", \"Topic12\", \"Topic12\", \"Topic12\", \"Topic12\", \"Topic12\", \"Topic12\", \"Topic12\", \"Topic12\", \"Topic12\", \"Topic12\", \"Topic12\", \"Topic12\", \"Topic12\", \"Topic12\", \"Topic12\", \"Topic12\", \"Topic12\", \"Topic12\", \"Topic12\", \"Topic12\", \"Topic12\", \"Topic12\", \"Topic12\", \"Topic12\", \"Topic12\", \"Topic12\", \"Topic12\", \"Topic13\", \"Topic13\", \"Topic13\", \"Topic13\", \"Topic13\", \"Topic13\", \"Topic13\", \"Topic13\", \"Topic13\", \"Topic13\", \"Topic13\", \"Topic13\", \"Topic13\", \"Topic13\", \"Topic13\", \"Topic13\", \"Topic13\", \"Topic13\", \"Topic13\", \"Topic13\", \"Topic13\", \"Topic13\", \"Topic13\", \"Topic13\", \"Topic13\", \"Topic13\", \"Topic13\", \"Topic13\", \"Topic13\", \"Topic13\", \"Topic13\", \"Topic13\", \"Topic13\", \"Topic13\", \"Topic13\", \"Topic13\", \"Topic13\", \"Topic13\", \"Topic13\", \"Topic13\", \"Topic13\", \"Topic13\", \"Topic13\", \"Topic13\", \"Topic13\", \"Topic13\", \"Topic13\", \"Topic14\", \"Topic14\", \"Topic14\", \"Topic14\", \"Topic14\", \"Topic14\", \"Topic14\", \"Topic14\", \"Topic14\", \"Topic14\", \"Topic14\", \"Topic14\", \"Topic14\", \"Topic14\", \"Topic14\", \"Topic14\", \"Topic14\", \"Topic14\", \"Topic14\", \"Topic14\", \"Topic14\", \"Topic14\", \"Topic14\", \"Topic14\", \"Topic14\", \"Topic14\", \"Topic14\", \"Topic14\", \"Topic14\", \"Topic14\", \"Topic14\", \"Topic14\", \"Topic14\", \"Topic14\", \"Topic14\", \"Topic14\", \"Topic14\", \"Topic14\", \"Topic14\", \"Topic14\", \"Topic14\", \"Topic14\", \"Topic14\", \"Topic14\", \"Topic14\", \"Topic14\", \"Topic14\", \"Topic14\", \"Topic14\", \"Topic14\", \"Topic14\", \"Topic14\", \"Topic14\", \"Topic15\", \"Topic15\", \"Topic15\", \"Topic15\", \"Topic15\", \"Topic15\", \"Topic15\", \"Topic15\", \"Topic15\", \"Topic15\", \"Topic15\", \"Topic15\", \"Topic15\", \"Topic15\", \"Topic15\", \"Topic15\", \"Topic15\", \"Topic15\", \"Topic15\", \"Topic15\", \"Topic15\", \"Topic15\", \"Topic15\", \"Topic15\", \"Topic15\", \"Topic15\", \"Topic15\", \"Topic15\", \"Topic15\", \"Topic15\", \"Topic15\", \"Topic15\", \"Topic15\", \"Topic15\", \"Topic15\", \"Topic15\", \"Topic15\", \"Topic15\", \"Topic15\", \"Topic15\", \"Topic15\", \"Topic15\", \"Topic15\", \"Topic15\", \"Topic15\", \"Topic15\", \"Topic15\", \"Topic15\", \"Topic15\", \"Topic15\", \"Topic15\", \"Topic15\", \"Topic15\", \"Topic15\", \"Topic15\", \"Topic15\", \"Topic16\", \"Topic16\", \"Topic16\", \"Topic16\", \"Topic16\", \"Topic16\", \"Topic16\", \"Topic16\", \"Topic16\", \"Topic16\", \"Topic16\", \"Topic16\", \"Topic16\", \"Topic16\", \"Topic16\", \"Topic16\", \"Topic16\", \"Topic16\", \"Topic16\", \"Topic16\", \"Topic16\", \"Topic16\", \"Topic16\", \"Topic16\", \"Topic16\", \"Topic16\", \"Topic16\", \"Topic16\", \"Topic16\", \"Topic16\", \"Topic16\", \"Topic16\", \"Topic16\", \"Topic16\", \"Topic16\", \"Topic16\", \"Topic16\", \"Topic16\", \"Topic16\", \"Topic16\", \"Topic16\", \"Topic16\", \"Topic16\", \"Topic16\", \"Topic16\", \"Topic16\", \"Topic16\", \"Topic16\", \"Topic16\", \"Topic16\", \"Topic16\", \"Topic16\", \"Topic16\", \"Topic16\", \"Topic16\", \"Topic16\", \"Topic16\", \"Topic16\", \"Topic16\", \"Topic16\", \"Topic16\", \"Topic16\", \"Topic16\", \"Topic16\", \"Topic17\", \"Topic17\", \"Topic17\", \"Topic17\", \"Topic17\", \"Topic17\", \"Topic17\", \"Topic17\", \"Topic17\", \"Topic17\", \"Topic17\", \"Topic17\", \"Topic17\", \"Topic17\", \"Topic17\", \"Topic17\", \"Topic17\", \"Topic17\", \"Topic17\", \"Topic17\", \"Topic17\", \"Topic17\", \"Topic17\", \"Topic17\", \"Topic17\", \"Topic17\", \"Topic17\", \"Topic17\", \"Topic17\", \"Topic17\", \"Topic17\", \"Topic17\", \"Topic17\", \"Topic17\", \"Topic17\", \"Topic17\", \"Topic17\", \"Topic17\", \"Topic17\", \"Topic17\", \"Topic17\", \"Topic17\", \"Topic17\", \"Topic17\", \"Topic17\", \"Topic17\", \"Topic17\", \"Topic17\", \"Topic17\", \"Topic18\", \"Topic18\", \"Topic18\", \"Topic18\", \"Topic18\", \"Topic18\", \"Topic18\", \"Topic18\", \"Topic18\", \"Topic18\", \"Topic18\", \"Topic18\", \"Topic18\", \"Topic18\", \"Topic18\", \"Topic18\", \"Topic18\", \"Topic18\", \"Topic18\", \"Topic18\", \"Topic18\", \"Topic18\", \"Topic18\", \"Topic18\", \"Topic18\", \"Topic18\", \"Topic18\", \"Topic18\", \"Topic18\", \"Topic18\", \"Topic18\", \"Topic18\", \"Topic18\", \"Topic18\", \"Topic18\", \"Topic18\", \"Topic18\", \"Topic18\", \"Topic18\", \"Topic18\", \"Topic18\", \"Topic18\", \"Topic18\", \"Topic18\", \"Topic18\", \"Topic18\", \"Topic18\", \"Topic18\", \"Topic18\", \"Topic18\", \"Topic18\", \"Topic19\", \"Topic19\", \"Topic19\", \"Topic19\", \"Topic19\", \"Topic19\", \"Topic19\", \"Topic19\", \"Topic19\", \"Topic19\", \"Topic19\", \"Topic19\", \"Topic19\", \"Topic19\", \"Topic19\", \"Topic19\", \"Topic19\", \"Topic19\", \"Topic19\", \"Topic19\", \"Topic19\", \"Topic19\", \"Topic19\", \"Topic19\", \"Topic19\", \"Topic19\", \"Topic19\", \"Topic19\", \"Topic19\", \"Topic19\", \"Topic19\", \"Topic19\", \"Topic19\", \"Topic19\", \"Topic19\", \"Topic19\", \"Topic19\", \"Topic19\", \"Topic19\", \"Topic19\", \"Topic19\", \"Topic19\", \"Topic19\", \"Topic19\", \"Topic19\", \"Topic19\", \"Topic19\", \"Topic19\", \"Topic19\", \"Topic19\", \"Topic19\", \"Topic19\", \"Topic19\", \"Topic19\", \"Topic19\", \"Topic19\", \"Topic19\", \"Topic19\", \"Topic20\", \"Topic20\", \"Topic20\", \"Topic20\", \"Topic20\", \"Topic20\", \"Topic20\", \"Topic20\", \"Topic20\", \"Topic20\", \"Topic20\", \"Topic20\", \"Topic20\", \"Topic20\", \"Topic20\", \"Topic20\", \"Topic20\", \"Topic20\", \"Topic20\", \"Topic20\", \"Topic20\", \"Topic20\", \"Topic20\", \"Topic20\", \"Topic20\", \"Topic20\", \"Topic20\", \"Topic20\", \"Topic20\", \"Topic20\", \"Topic20\", \"Topic20\", \"Topic20\", \"Topic20\", \"Topic20\", \"Topic20\", \"Topic20\", \"Topic20\", \"Topic20\", \"Topic20\", \"Topic20\", \"Topic20\", \"Topic20\", \"Topic20\", \"Topic20\", \"Topic20\", \"Topic20\", \"Topic20\", \"Topic20\", \"Topic20\", \"Topic20\", \"Topic20\", \"Topic20\", \"Topic20\", \"Topic20\", \"Topic20\", \"Topic20\", \"Topic20\", \"Topic20\", \"Topic20\", \"Topic20\", \"Topic20\", \"Topic20\", \"Topic20\", \"Topic20\", \"Topic20\", \"Topic21\", \"Topic21\", \"Topic21\", \"Topic21\", \"Topic21\", \"Topic21\", \"Topic21\", \"Topic21\", \"Topic21\", \"Topic21\", \"Topic21\", \"Topic21\", \"Topic21\", \"Topic21\", \"Topic21\", \"Topic21\", \"Topic21\", \"Topic21\", \"Topic21\", \"Topic21\", \"Topic21\", \"Topic21\", \"Topic21\", \"Topic21\", \"Topic21\", \"Topic21\", \"Topic21\", \"Topic21\", \"Topic21\", \"Topic21\", \"Topic21\", \"Topic21\", \"Topic21\", \"Topic21\", \"Topic21\", \"Topic21\", \"Topic21\", \"Topic21\", \"Topic21\", \"Topic21\", \"Topic21\", \"Topic21\", \"Topic21\", \"Topic21\", \"Topic21\", \"Topic21\", \"Topic21\", \"Topic21\", \"Topic21\", \"Topic21\", \"Topic21\", \"Topic21\", \"Topic21\", \"Topic21\", \"Topic21\", \"Topic21\", \"Topic21\", \"Topic21\", \"Topic21\", \"Topic22\", \"Topic22\", \"Topic22\", \"Topic22\", \"Topic22\", \"Topic22\", \"Topic22\", \"Topic22\", \"Topic22\", \"Topic22\", \"Topic22\", \"Topic22\", \"Topic22\", \"Topic22\", \"Topic22\", \"Topic22\", \"Topic22\", \"Topic22\", \"Topic22\", \"Topic22\", \"Topic22\", \"Topic22\", \"Topic22\", \"Topic22\", \"Topic22\", \"Topic22\", \"Topic22\", \"Topic22\", \"Topic22\", \"Topic22\", \"Topic22\", \"Topic22\", \"Topic22\", \"Topic22\", \"Topic22\", \"Topic22\", \"Topic22\", \"Topic22\", \"Topic22\", \"Topic22\", \"Topic22\", \"Topic22\", \"Topic22\", \"Topic22\", \"Topic22\", \"Topic22\", \"Topic22\", \"Topic22\", \"Topic22\", \"Topic22\", \"Topic22\", \"Topic22\", \"Topic22\", \"Topic22\", \"Topic22\", \"Topic22\", \"Topic22\", \"Topic23\", \"Topic23\", \"Topic23\", \"Topic23\", \"Topic23\", \"Topic23\", \"Topic23\", \"Topic23\", \"Topic23\", \"Topic23\", \"Topic23\", \"Topic23\", \"Topic23\", \"Topic23\", \"Topic23\", \"Topic23\", \"Topic23\", \"Topic23\", \"Topic23\", \"Topic23\", \"Topic23\", \"Topic23\", \"Topic23\", \"Topic23\", \"Topic23\", \"Topic23\", \"Topic23\", \"Topic23\", \"Topic23\", \"Topic23\", \"Topic23\", \"Topic23\", \"Topic23\", \"Topic23\", \"Topic23\", \"Topic23\", \"Topic23\", \"Topic23\", \"Topic23\", \"Topic23\", \"Topic23\", \"Topic23\", \"Topic23\", \"Topic23\", \"Topic23\", \"Topic23\", \"Topic23\", \"Topic23\", \"Topic23\", \"Topic23\", \"Topic23\", \"Topic23\", \"Topic23\", \"Topic23\", \"Topic23\", \"Topic23\", \"Topic23\", \"Topic23\", \"Topic23\", \"Topic23\", \"Topic23\", \"Topic23\", \"Topic23\", \"Topic23\", \"Topic23\", \"Topic23\", \"Topic23\", \"Topic24\", \"Topic24\", \"Topic24\", \"Topic24\", \"Topic24\", \"Topic24\", \"Topic24\", \"Topic24\", \"Topic24\", \"Topic24\", \"Topic24\", \"Topic24\", \"Topic24\", \"Topic24\", \"Topic24\", \"Topic24\", \"Topic24\", \"Topic24\", \"Topic24\", \"Topic24\", \"Topic24\", \"Topic24\", \"Topic24\", \"Topic24\", \"Topic24\", \"Topic24\", \"Topic24\", \"Topic24\", \"Topic24\", \"Topic24\", \"Topic24\", \"Topic24\", \"Topic24\", \"Topic24\", \"Topic24\", \"Topic24\", \"Topic24\", \"Topic24\", \"Topic24\", \"Topic24\", \"Topic24\", \"Topic24\", \"Topic24\", \"Topic24\", \"Topic24\", \"Topic24\", \"Topic24\", \"Topic24\", \"Topic25\", \"Topic25\", \"Topic25\", \"Topic25\", \"Topic25\", \"Topic25\", \"Topic25\", \"Topic25\", \"Topic25\", \"Topic25\", \"Topic25\", \"Topic25\", \"Topic25\", \"Topic25\", \"Topic25\", \"Topic25\", \"Topic25\", \"Topic25\", \"Topic25\", \"Topic25\", \"Topic25\", \"Topic25\", \"Topic25\", \"Topic25\", \"Topic25\", \"Topic25\", \"Topic25\", \"Topic25\", \"Topic25\", \"Topic25\", \"Topic25\", \"Topic25\", \"Topic25\", \"Topic25\", \"Topic25\", \"Topic25\", \"Topic25\", \"Topic25\", \"Topic25\", \"Topic25\", \"Topic25\", \"Topic25\", \"Topic25\", \"Topic26\", \"Topic26\", \"Topic26\", \"Topic26\", \"Topic26\", \"Topic26\", \"Topic26\", \"Topic26\", \"Topic26\", \"Topic26\", \"Topic26\", \"Topic26\", \"Topic26\", \"Topic26\", \"Topic26\", \"Topic26\", \"Topic26\", \"Topic26\", \"Topic26\", \"Topic26\", \"Topic26\", \"Topic26\", \"Topic26\", \"Topic26\", \"Topic26\", \"Topic26\", \"Topic26\", \"Topic26\", \"Topic26\", \"Topic26\", \"Topic26\", \"Topic26\", \"Topic26\", \"Topic26\", \"Topic26\", \"Topic26\", \"Topic26\", \"Topic26\", \"Topic26\", \"Topic26\", \"Topic26\", \"Topic26\", \"Topic26\", \"Topic26\", \"Topic26\", \"Topic26\", \"Topic26\", \"Topic26\", \"Topic26\", \"Topic26\", \"Topic27\", \"Topic27\", \"Topic27\", \"Topic27\", \"Topic27\", \"Topic27\", \"Topic27\", \"Topic27\", \"Topic27\", \"Topic27\", \"Topic27\", \"Topic27\", \"Topic27\", \"Topic27\", \"Topic27\", \"Topic27\", \"Topic27\", \"Topic27\", \"Topic27\", \"Topic27\", \"Topic27\", \"Topic27\", \"Topic27\", \"Topic27\", \"Topic27\", \"Topic27\", \"Topic27\", \"Topic27\", \"Topic27\", \"Topic27\", \"Topic27\", \"Topic27\", \"Topic27\", \"Topic27\", \"Topic27\", \"Topic27\", \"Topic27\", \"Topic27\", \"Topic27\", \"Topic27\", \"Topic27\", \"Topic27\", \"Topic27\", \"Topic27\", \"Topic27\", \"Topic28\", \"Topic28\", \"Topic28\", \"Topic28\", \"Topic28\", \"Topic28\", \"Topic28\", \"Topic28\", \"Topic28\", \"Topic28\", \"Topic28\", \"Topic28\", \"Topic28\", \"Topic28\", \"Topic28\", \"Topic28\", \"Topic28\", \"Topic28\", \"Topic28\", \"Topic28\", \"Topic28\", \"Topic28\", \"Topic28\", \"Topic28\", \"Topic28\", \"Topic28\", \"Topic28\", \"Topic28\", \"Topic28\", \"Topic28\", \"Topic28\", \"Topic28\", \"Topic28\", \"Topic28\", \"Topic28\", \"Topic28\", \"Topic28\", \"Topic28\", \"Topic28\", \"Topic28\", \"Topic28\", \"Topic28\", \"Topic28\", \"Topic28\", \"Topic28\", \"Topic28\", \"Topic28\", \"Topic28\", \"Topic28\", \"Topic28\", \"Topic28\", \"Topic28\", \"Topic28\", \"Topic28\", \"Topic28\", \"Topic28\", \"Topic29\", \"Topic29\", \"Topic29\", \"Topic29\", \"Topic29\", \"Topic29\", \"Topic29\", \"Topic29\", \"Topic29\", \"Topic29\", \"Topic29\", \"Topic29\", \"Topic29\", \"Topic29\", \"Topic29\", \"Topic29\", \"Topic29\", \"Topic29\", \"Topic29\", \"Topic29\", \"Topic29\", \"Topic29\", \"Topic29\", \"Topic29\", \"Topic29\", \"Topic29\", \"Topic29\", \"Topic29\", \"Topic29\", \"Topic29\", \"Topic29\", \"Topic29\", \"Topic29\", \"Topic29\", \"Topic29\", \"Topic29\", \"Topic29\", \"Topic29\", \"Topic29\", \"Topic29\", \"Topic29\", \"Topic29\", \"Topic29\", \"Topic29\", \"Topic29\", \"Topic29\", \"Topic29\", \"Topic29\", \"Topic29\", \"Topic29\", \"Topic29\", \"Topic29\", \"Topic29\", \"Topic29\", \"Topic29\", \"Topic29\", \"Topic29\", \"Topic29\", \"Topic29\", \"Topic29\", \"Topic29\", \"Topic29\", \"Topic30\", \"Topic30\", \"Topic30\", \"Topic30\", \"Topic30\", \"Topic30\", \"Topic30\", \"Topic30\", \"Topic30\", \"Topic30\", \"Topic30\", \"Topic30\", \"Topic30\", \"Topic30\", \"Topic30\", \"Topic30\", \"Topic30\", \"Topic30\", \"Topic30\", \"Topic30\", \"Topic30\", \"Topic30\", \"Topic30\", \"Topic30\", \"Topic30\", \"Topic30\", \"Topic30\", \"Topic30\", \"Topic30\", \"Topic30\", \"Topic30\", \"Topic30\", \"Topic30\", \"Topic30\", \"Topic30\", \"Topic30\", \"Topic30\", \"Topic30\", \"Topic30\", \"Topic30\", \"Topic30\", \"Topic30\", \"Topic30\", \"Topic30\", \"Topic30\", \"Topic30\", \"Topic30\", \"Topic30\", \"Topic30\", \"Topic30\", \"Topic30\", \"Topic30\", \"Topic30\", \"Topic30\", \"Topic30\", \"Topic30\", \"Topic30\", \"Topic30\", \"Topic30\", \"Topic31\", \"Topic31\", \"Topic31\", \"Topic31\", \"Topic31\", \"Topic31\", \"Topic31\", \"Topic31\", \"Topic31\", \"Topic31\", \"Topic31\", \"Topic31\", \"Topic31\", \"Topic31\", \"Topic31\", \"Topic31\", \"Topic31\", \"Topic31\", \"Topic31\", \"Topic31\", \"Topic31\", \"Topic31\", \"Topic31\", \"Topic31\", \"Topic31\", \"Topic31\", \"Topic31\", \"Topic31\", \"Topic31\", \"Topic31\", \"Topic31\", \"Topic31\", \"Topic31\", \"Topic31\", \"Topic31\", \"Topic31\", \"Topic31\", \"Topic31\", \"Topic31\", \"Topic31\", \"Topic31\", \"Topic31\", \"Topic31\", \"Topic31\", \"Topic31\", \"Topic31\", \"Topic31\", \"Topic31\", \"Topic31\", \"Topic31\", \"Topic31\", \"Topic31\", \"Topic31\", \"Topic31\", \"Topic31\", \"Topic31\", \"Topic31\", \"Topic32\", \"Topic32\", \"Topic32\", \"Topic32\", \"Topic32\", \"Topic32\", \"Topic32\", \"Topic32\", \"Topic32\", \"Topic32\", \"Topic32\", \"Topic32\", \"Topic32\", \"Topic32\", \"Topic32\", \"Topic32\", \"Topic32\", \"Topic32\", \"Topic32\", \"Topic32\", \"Topic32\", \"Topic32\", \"Topic32\", \"Topic32\", \"Topic32\", \"Topic32\", \"Topic32\", \"Topic32\", \"Topic32\", \"Topic32\", \"Topic32\", \"Topic32\", \"Topic32\", \"Topic32\", \"Topic32\", \"Topic32\", \"Topic32\", \"Topic32\", \"Topic32\", \"Topic32\", \"Topic32\", \"Topic32\", \"Topic32\", \"Topic32\", \"Topic32\", \"Topic32\", \"Topic32\", \"Topic32\", \"Topic32\", \"Topic32\", \"Topic32\", \"Topic32\", \"Topic33\", \"Topic33\", \"Topic33\", \"Topic33\", \"Topic33\", \"Topic33\", \"Topic33\", \"Topic33\", \"Topic33\", \"Topic33\", \"Topic33\", \"Topic33\", \"Topic33\", \"Topic33\", \"Topic33\", \"Topic33\", \"Topic33\", \"Topic33\", \"Topic33\", \"Topic33\", \"Topic33\", \"Topic33\", \"Topic33\", \"Topic33\", \"Topic33\", \"Topic33\", \"Topic33\", \"Topic33\", \"Topic33\", \"Topic33\", \"Topic33\", \"Topic33\", \"Topic33\", \"Topic33\", \"Topic33\", \"Topic33\", \"Topic33\", \"Topic33\", \"Topic33\", \"Topic33\", \"Topic33\", \"Topic33\", \"Topic33\", \"Topic33\", \"Topic33\", \"Topic33\", \"Topic33\", \"Topic33\", \"Topic33\", \"Topic33\", \"Topic33\", \"Topic33\", \"Topic33\", \"Topic33\", \"Topic33\", \"Topic33\", \"Topic33\", \"Topic33\", \"Topic33\", \"Topic33\", \"Topic33\", \"Topic33\", \"Topic33\", \"Topic33\", \"Topic33\", \"Topic34\", \"Topic34\", \"Topic34\", \"Topic34\", \"Topic34\", \"Topic34\", \"Topic34\", \"Topic34\", \"Topic34\", \"Topic34\", \"Topic34\", \"Topic34\", \"Topic34\", \"Topic34\", \"Topic34\", \"Topic34\", \"Topic34\", \"Topic34\", \"Topic34\", \"Topic34\", \"Topic34\", \"Topic34\", \"Topic34\", \"Topic34\", \"Topic34\", \"Topic34\", \"Topic34\", \"Topic34\", \"Topic34\", \"Topic34\", \"Topic34\", \"Topic34\", \"Topic34\", \"Topic34\", \"Topic34\", \"Topic34\", \"Topic34\", \"Topic34\", \"Topic34\", \"Topic34\", \"Topic34\", \"Topic34\", \"Topic34\", \"Topic34\", \"Topic34\", \"Topic34\", \"Topic34\", \"Topic34\", \"Topic34\", \"Topic34\", \"Topic34\", \"Topic34\", \"Topic34\", \"Topic34\", \"Topic34\", \"Topic34\", \"Topic34\", \"Topic34\", \"Topic34\", \"Topic34\", \"Topic35\", \"Topic35\", \"Topic35\", \"Topic35\", \"Topic35\", \"Topic35\", \"Topic35\", \"Topic35\", \"Topic35\", \"Topic35\", \"Topic35\", \"Topic35\", \"Topic35\", \"Topic35\", \"Topic35\", \"Topic35\", \"Topic35\", \"Topic35\", \"Topic35\", \"Topic35\", \"Topic35\", \"Topic35\", \"Topic35\", \"Topic35\", \"Topic35\", \"Topic35\", \"Topic35\", \"Topic35\", \"Topic35\", \"Topic35\", \"Topic35\", \"Topic35\", \"Topic35\", \"Topic35\", \"Topic35\", \"Topic35\", \"Topic35\", \"Topic35\", \"Topic35\", \"Topic35\", \"Topic35\", \"Topic35\", \"Topic35\", \"Topic35\", \"Topic35\", \"Topic35\", \"Topic35\", \"Topic35\", \"Topic35\", \"Topic35\", \"Topic35\", \"Topic35\", \"Topic35\", \"Topic35\", \"Topic35\", \"Topic35\", \"Topic35\", \"Topic35\", \"Topic35\", \"Topic35\", \"Topic35\", \"Topic35\", \"Topic35\", \"Topic35\", \"Topic35\", \"Topic35\", \"Topic35\", \"Topic35\", \"Topic35\", \"Topic35\", \"Topic36\", \"Topic36\", \"Topic36\", \"Topic36\", \"Topic36\", \"Topic36\", \"Topic36\", \"Topic36\", \"Topic36\", \"Topic36\", \"Topic36\", \"Topic36\", \"Topic36\", \"Topic36\", \"Topic36\", \"Topic36\", \"Topic36\", \"Topic36\", \"Topic36\", \"Topic36\", \"Topic36\", \"Topic36\", \"Topic36\", \"Topic36\", \"Topic36\", \"Topic36\", \"Topic36\", \"Topic36\", \"Topic36\", \"Topic36\", \"Topic36\", \"Topic36\", \"Topic36\", \"Topic36\", \"Topic36\", \"Topic36\", \"Topic36\", \"Topic36\", \"Topic36\", \"Topic36\", \"Topic36\", \"Topic36\", \"Topic36\"]}, \"mdsDat\": {\"Freq\": [1.9093811078000573, 1.9524934065648925, 1.3606165776214147, 1.5334339932699215, 2.3426894258384046, 1.3080167338003514, 5.54116213344879, 4.169331113386263, 3.0308713565169896, 1.677737184091462, 1.097139377163254, 4.839145779024653, 1.7886051124584474, 2.58935193939093, 2.0662138260127696, 6.9152130219580625, 2.7965953846931066, 2.0033456742625715, 2.007175594614299, 5.466478515682704, 1.8912429869770973, 3.205117557613238, 4.569833131656594, 2.2235898687600866, 1.0114068881820089, 1.32204084636531, 0.9909605596780091, 2.4401230968465972, 4.546781360519992, 2.265048161465922, 3.3670616635412536, 1.881786338073916, 3.2596948873238754, 4.292960675058247, 5.575104960990883, 0.7622497593476518], \"y\": [0.003667103005798419, 0.040234219132507916, -0.0990617967302663, -0.016151941761939112, -0.021335171173752006, 0.0018581432438154778, 0.26708222077915905, -0.01640451854790707, -0.07983955497205769, -0.08858771318496228, -0.10752928276206085, -0.0845806933106821, 0.11539514311149464, 0.011800924958038283, 0.0564478469158339, -0.11360685553801703, 0.1319732065986666, -0.0506075800829272, 0.0139552118338518, 0.2029751673851156, -0.11227732531698825, 0.02529969229817315, 0.11604372866870709, -0.05164838615449829, -0.059900421075869986, -0.09478226013566884, -0.1671878274093846, -0.09929003497725492, 0.10720915816843532, 0.05832238939042394, -0.1313747212562804, 0.02097360823221658, -0.006612149381549625, 0.1972570338026447, 0.1784555702053285, -0.14817213395814183], \"cluster\": [1, 1, 1, 1, 1, 1, 1, 1, 1, 1, 1, 1, 1, 1, 1, 1, 1, 1, 1, 1, 1, 1, 1, 1, 1, 1, 1, 1, 1, 1, 1, 1, 1, 1, 1, 1], \"x\": [0.009317520874582486, -0.14326171462688786, -0.1276951890866955, -0.043393301437063256, -0.00536618868547882, -0.20647335369960326, -0.0007257591155224333, 0.1431486370792097, 0.20441763478025973, 0.04872565175832809, -0.2000587488697936, 0.22470362382753573, -0.019047436222064364, -0.07191722694067937, -0.10757426553223969, 0.19345064427683667, 0.047794206075860636, 0.07869321810951858, -0.00670787615625327, 0.1578969155856024, 0.15894052083017965, 0.054952158902472674, 0.1190999581789581, -0.17078001080500313, -0.023626185738377367, -0.13420875987425182, -0.13496682671889917, 0.10495804910874346, 0.049153358985697844, -0.03613341242809231, 0.13977570378273102, -0.10773849363305184, 0.13839312291994335, -0.10014188711613649, -0.057598531227590684, -0.1760057571627752], \"topics\": [1, 2, 3, 4, 5, 6, 7, 8, 9, 10, 11, 12, 13, 14, 15, 16, 17, 18, 19, 20, 21, 22, 23, 24, 25, 26, 27, 28, 29, 30, 31, 32, 33, 34, 35, 36]}, \"lambda.step\": 0.01, \"R\": 30};\n",
       "\n",
       "function LDAvis_load_lib(url, callback){\n",
       "  var s = document.createElement('script');\n",
       "  s.src = url;\n",
       "  s.async = true;\n",
       "  s.onreadystatechange = s.onload = callback;\n",
       "  s.onerror = function(){console.warn(\"failed to load library \" + url);};\n",
       "  document.getElementsByTagName(\"head\")[0].appendChild(s);\n",
       "}\n",
       "\n",
       "if(typeof(LDAvis) !== \"undefined\"){\n",
       "   // already loaded: just create the visualization\n",
       "   !function(LDAvis){\n",
       "       new LDAvis(\"#\" + \"ldavis_el14971405246226991601163083362\", ldavis_el14971405246226991601163083362_data);\n",
       "   }(LDAvis);\n",
       "}else if(typeof define === \"function\" && define.amd){\n",
       "   // require.js is available: use it to load d3/LDAvis\n",
       "   require.config({paths: {d3: \"https://cdnjs.cloudflare.com/ajax/libs/d3/3.5.5/d3.min\"}});\n",
       "   require([\"d3\"], function(d3){\n",
       "      window.d3 = d3;\n",
       "      LDAvis_load_lib(\"https://cdn.rawgit.com/bmabey/pyLDAvis/files/ldavis.v1.0.0.js\", function(){\n",
       "        new LDAvis(\"#\" + \"ldavis_el14971405246226991601163083362\", ldavis_el14971405246226991601163083362_data);\n",
       "      });\n",
       "    });\n",
       "}else{\n",
       "    // require.js not available: dynamically load d3 & LDAvis\n",
       "    LDAvis_load_lib(\"https://cdnjs.cloudflare.com/ajax/libs/d3/3.5.5/d3.min.js\", function(){\n",
       "         LDAvis_load_lib(\"https://cdn.rawgit.com/bmabey/pyLDAvis/files/ldavis.v1.0.0.js\", function(){\n",
       "                 new LDAvis(\"#\" + \"ldavis_el14971405246226991601163083362\", ldavis_el14971405246226991601163083362_data);\n",
       "            })\n",
       "         });\n",
       "}\n",
       "</script>"
      ],
      "text/plain": [
       "<IPython.core.display.HTML object>"
      ]
     },
     "execution_count": 421,
     "metadata": {},
     "output_type": "execute_result"
    }
   ],
   "source": [
    "import pyLDAvis\n",
    "\n",
    "pyLDAvis.display(prepared_viz)"
   ]
  },
  {
   "cell_type": "code",
   "execution_count": null,
   "metadata": {
    "collapsed": false,
    "deletable": true,
    "editable": true
   },
   "outputs": [],
   "source": [
    "from wordcloud import WordCloud\n",
    "\n",
    "wc = WordCloud(background_color='white', max_font_size=100, width=600, height=400)\n",
    "\n",
    "for t in range(ldamodel.num_topics):\n",
    "    plt.figure(figsize=(6, 5))\n",
    "    plt.imshow(wc.fit_words(dict(ldamodel.show_topic(t, 50))), interpolation='bilinear')\n",
    "    plt.axis(\"off\")\n",
    "    plt.title(\"Topic #\" + str(t+1))\n",
    "    plt.show()"
   ]
  },
  {
   "cell_type": "markdown",
   "metadata": {
    "deletable": true,
    "editable": true
   },
   "source": [
    "### Topic Distribution"
   ]
  },
  {
   "cell_type": "code",
   "execution_count": null,
   "metadata": {
    "collapsed": false,
    "deletable": true,
    "editable": true,
    "scrolled": true
   },
   "outputs": [],
   "source": [
    "# from pprint import pprint\n",
    "# pprint(ldamodel.print_topics()\n",
    "# #temp"
   ]
  },
  {
   "cell_type": "markdown",
   "metadata": {
    "deletable": true,
    "editable": true
   },
   "source": [
    "### Compute Model Perplexity"
   ]
  },
  {
   "cell_type": "code",
   "execution_count": 422,
   "metadata": {
    "collapsed": false,
    "deletable": true,
    "editable": true
   },
   "outputs": [
    {
     "name": "stdout",
     "output_type": "stream",
     "text": [
      "\n",
      "Perplexity:  -10.233351296987923\n"
     ]
    }
   ],
   "source": [
    "\n",
    "print('\\nPerplexity: ', ldamodel.log_perplexity(corpus))  # a measure of how good the model is. lower the better.\n"
   ]
  },
  {
   "cell_type": "markdown",
   "metadata": {
    "collapsed": true,
    "deletable": true,
    "editable": true
   },
   "source": [
    "### Compute Coherence Score"
   ]
  },
  {
   "cell_type": "code",
   "execution_count": 423,
   "metadata": {
    "collapsed": false,
    "deletable": true,
    "editable": true
   },
   "outputs": [
    {
     "name": "stdout",
     "output_type": "stream",
     "text": [
      "\n",
      "Coherence Score:  0.3953402091170751\n"
     ]
    }
   ],
   "source": [
    "from gensim.models import CoherenceModel\n",
    "coherence_model_lda = CoherenceModel(model=ldamodel, texts=cleaned_list, dictionary=dictionary, coherence='c_v')\n",
    "coherence_lda = coherence_model_lda.get_coherence()\n",
    "print('\\nCoherence Score: ', coherence_lda)"
   ]
  },
  {
   "cell_type": "markdown",
   "metadata": {
    "deletable": true,
    "editable": true
   },
   "source": [
    "### Get Keywords per Topic"
   ]
  },
  {
   "cell_type": "code",
   "execution_count": 424,
   "metadata": {
    "collapsed": true,
    "deletable": true,
    "editable": true
   },
   "outputs": [],
   "source": [
    "def get_lda_topics(model, num_topics):\n",
    "    word_dict = {};\n",
    "    for i in range(num_topics):\n",
    "        words = model.show_topic(i, topn =15)\n",
    "        #word_dict['{}'.format(i+1)] = [i[0] for i in words]\n",
    "        word_dict['Topic # '+'{:2d}'.format(i+1)] = [i[0] for i in words]\n",
    "    return pd.DataFrame(word_dict)"
   ]
  },
  {
   "cell_type": "code",
   "execution_count": 426,
   "metadata": {
    "collapsed": false,
    "deletable": true,
    "editable": true
   },
   "outputs": [
    {
     "data": {
      "text/html": [
       "<div>\n",
       "<style>\n",
       "    .dataframe thead tr:only-child th {\n",
       "        text-align: right;\n",
       "    }\n",
       "\n",
       "    .dataframe thead th {\n",
       "        text-align: left;\n",
       "    }\n",
       "\n",
       "    .dataframe tbody tr th {\n",
       "        vertical-align: top;\n",
       "    }\n",
       "</style>\n",
       "<table border=\"1\" class=\"dataframe\">\n",
       "  <thead>\n",
       "    <tr style=\"text-align: right;\">\n",
       "      <th></th>\n",
       "      <th>Topic #  1</th>\n",
       "      <th>Topic #  2</th>\n",
       "      <th>Topic #  3</th>\n",
       "      <th>Topic #  4</th>\n",
       "      <th>Topic #  5</th>\n",
       "      <th>Topic #  6</th>\n",
       "      <th>Topic #  7</th>\n",
       "      <th>Topic #  8</th>\n",
       "      <th>Topic #  9</th>\n",
       "      <th>Topic # 10</th>\n",
       "      <th>...</th>\n",
       "      <th>Topic # 27</th>\n",
       "      <th>Topic # 28</th>\n",
       "      <th>Topic # 29</th>\n",
       "      <th>Topic # 30</th>\n",
       "      <th>Topic # 31</th>\n",
       "      <th>Topic # 32</th>\n",
       "      <th>Topic # 33</th>\n",
       "      <th>Topic # 34</th>\n",
       "      <th>Topic # 35</th>\n",
       "      <th>Topic # 36</th>\n",
       "    </tr>\n",
       "  </thead>\n",
       "  <tbody>\n",
       "    <tr>\n",
       "      <th>0</th>\n",
       "      <td>terms_conditions</td>\n",
       "      <td>balance_transfer</td>\n",
       "      <td>cheque</td>\n",
       "      <td>end</td>\n",
       "      <td>payment</td>\n",
       "      <td>limit</td>\n",
       "      <td>contact</td>\n",
       "      <td>close</td>\n",
       "      <td>credit</td>\n",
       "      <td>application</td>\n",
       "      <td>...</td>\n",
       "      <td>personal_loan</td>\n",
       "      <td>dispute</td>\n",
       "      <td>branch</td>\n",
       "      <td>error</td>\n",
       "      <td>credit</td>\n",
       "      <td>new</td>\n",
       "      <td>fund</td>\n",
       "      <td>service</td>\n",
       "      <td>tell</td>\n",
       "      <td>cash_advance</td>\n",
       "    </tr>\n",
       "    <tr>\n",
       "      <th>1</th>\n",
       "      <td>offer</td>\n",
       "      <td>thank</td>\n",
       "      <td>deposit</td>\n",
       "      <td>number</td>\n",
       "      <td>pay</td>\n",
       "      <td>feedback</td>\n",
       "      <td>information</td>\n",
       "      <td>credit</td>\n",
       "      <td>reward</td>\n",
       "      <td>decline</td>\n",
       "      <td>...</td>\n",
       "      <td>pay</td>\n",
       "      <td>transaction</td>\n",
       "      <td>staff</td>\n",
       "      <td>incorrect</td>\n",
       "      <td>balance</td>\n",
       "      <td>open</td>\n",
       "      <td>transfer</td>\n",
       "      <td>poor_service</td>\n",
       "      <td>money</td>\n",
       "      <td>expire</td>\n",
       "    </tr>\n",
       "    <tr>\n",
       "      <th>2</th>\n",
       "      <td>online</td>\n",
       "      <td>box</td>\n",
       "      <td>wife</td>\n",
       "      <td>case</td>\n",
       "      <td>payments</td>\n",
       "      <td>app</td>\n",
       "      <td>provide</td>\n",
       "      <td>request</td>\n",
       "      <td>point</td>\n",
       "      <td>apply</td>\n",
       "      <td>...</td>\n",
       "      <td>cost</td>\n",
       "      <td>transactions</td>\n",
       "      <td>close</td>\n",
       "      <td>correct</td>\n",
       "      <td>statement</td>\n",
       "      <td>husband</td>\n",
       "      <td>process</td>\n",
       "      <td>time</td>\n",
       "      <td>time</td>\n",
       "      <td>file</td>\n",
       "    </tr>\n",
       "    <tr>\n",
       "      <th>3</th>\n",
       "      <td>website</td>\n",
       "      <td>away</td>\n",
       "      <td>term_deposit</td>\n",
       "      <td>situation</td>\n",
       "      <td>date</td>\n",
       "      <td>blr_template</td>\n",
       "      <td>email</td>\n",
       "      <td>closure</td>\n",
       "      <td>rewards_points</td>\n",
       "      <td>claim</td>\n",
       "      <td>...</td>\n",
       "      <td>incorrectly</td>\n",
       "      <td>refund</td>\n",
       "      <td>manager</td>\n",
       "      <td>number</td>\n",
       "      <td>purchase</td>\n",
       "      <td>guarantee</td>\n",
       "      <td>receive</td>\n",
       "      <td>ask</td>\n",
       "      <td>phone</td>\n",
       "      <td>resolved_fsp</td>\n",
       "    </tr>\n",
       "    <tr>\n",
       "      <th>4</th>\n",
       "      <td>state</td>\n",
       "      <td>general</td>\n",
       "      <td>fund</td>\n",
       "      <td>redraw</td>\n",
       "      <td>receive</td>\n",
       "      <td>allow</td>\n",
       "      <td>ask</td>\n",
       "      <td>want</td>\n",
       "      <td>offer</td>\n",
       "      <td>approve</td>\n",
       "      <td>...</td>\n",
       "      <td>unsuccessful</td>\n",
       "      <td>debit</td>\n",
       "      <td>atm</td>\n",
       "      <td>confirm</td>\n",
       "      <td>pay</td>\n",
       "      <td>set</td>\n",
       "      <td>days</td>\n",
       "      <td>staff</td>\n",
       "      <td>need</td>\n",
       "      <td>outcome_type</td>\n",
       "    </tr>\n",
       "    <tr>\n",
       "      <th>5</th>\n",
       "      <td>time_frame</td>\n",
       "      <td>print</td>\n",
       "      <td>reopen</td>\n",
       "      <td>resolution</td>\n",
       "      <td>late</td>\n",
       "      <td>simple</td>\n",
       "      <td>need</td>\n",
       "      <td>direct_debit</td>\n",
       "      <td>allocate</td>\n",
       "      <td>process</td>\n",
       "      <td>...</td>\n",
       "      <td>adv</td>\n",
       "      <td>fraud</td>\n",
       "      <td>open</td>\n",
       "      <td>issue</td>\n",
       "      <td>visa</td>\n",
       "      <td>activate</td>\n",
       "      <td>payment</td>\n",
       "      <td>teller</td>\n",
       "      <td>try</td>\n",
       "      <td>closed_status</td>\n",
       "    </tr>\n",
       "    <tr>\n",
       "      <th>6</th>\n",
       "      <td>available</td>\n",
       "      <td>receipt</td>\n",
       "      <td>cash</td>\n",
       "      <td>partner</td>\n",
       "      <td>insurance</td>\n",
       "      <td>children</td>\n",
       "      <td>response</td>\n",
       "      <td>balance</td>\n",
       "      <td>annual_fee</td>\n",
       "      <td>outcome</td>\n",
       "      <td>...</td>\n",
       "      <td>recall</td>\n",
       "      <td>merchant</td>\n",
       "      <td>apologise</td>\n",
       "      <td>load</td>\n",
       "      <td>platinum</td>\n",
       "      <td>cancel</td>\n",
       "      <td>request</td>\n",
       "      <td>blr_template</td>\n",
       "      <td>work</td>\n",
       "      <td>redeem_points</td>\n",
       "    </tr>\n",
       "    <tr>\n",
       "      <th>7</th>\n",
       "      <td>time</td>\n",
       "      <td>father</td>\n",
       "      <td>process</td>\n",
       "      <td>apologised_inconvenience</td>\n",
       "      <td>collections</td>\n",
       "      <td>marriage_equality</td>\n",
       "      <td>refer</td>\n",
       "      <td>debit</td>\n",
       "      <td>rewards_black</td>\n",
       "      <td>credit</td>\n",
       "      <td>...</td>\n",
       "      <td>disclose</td>\n",
       "      <td>process</td>\n",
       "      <td>closure</td>\n",
       "      <td>address</td>\n",
       "      <td>happy</td>\n",
       "      <td>old</td>\n",
       "      <td>happy</td>\n",
       "      <td>wait</td>\n",
       "      <td>come</td>\n",
       "      <td>gwg_resolve</td>\n",
       "    </tr>\n",
       "    <tr>\n",
       "      <th>8</th>\n",
       "      <td>accept</td>\n",
       "      <td>email_address</td>\n",
       "      <td>issue</td>\n",
       "      <td>empathise</td>\n",
       "      <td>arrears</td>\n",
       "      <td>final_response</td>\n",
       "      <td>phone</td>\n",
       "      <td>cancel</td>\n",
       "      <td>year</td>\n",
       "      <td>request</td>\n",
       "      <td>...</td>\n",
       "      <td>urgently</td>\n",
       "      <td>credit</td>\n",
       "      <td>happy</td>\n",
       "      <td>update</td>\n",
       "      <td>charge</td>\n",
       "      <td>link</td>\n",
       "      <td>credit</td>\n",
       "      <td>people</td>\n",
       "      <td>ask</td>\n",
       "      <td>redeem</td>\n",
       "    </tr>\n",
       "    <tr>\n",
       "      <th>9</th>\n",
       "      <td>read</td>\n",
       "      <td>info</td>\n",
       "      <td>clear</td>\n",
       "      <td>action</td>\n",
       "      <td>days</td>\n",
       "      <td>australia</td>\n",
       "      <td>time</td>\n",
       "      <td>access_advantage</td>\n",
       "      <td>receive</td>\n",
       "      <td>income</td>\n",
       "      <td>...</td>\n",
       "      <td>advice</td>\n",
       "      <td>cancel</td>\n",
       "      <td>visit</td>\n",
       "      <td>wrong</td>\n",
       "      <td>issue</td>\n",
       "      <td>need</td>\n",
       "      <td>international</td>\n",
       "      <td>like</td>\n",
       "      <td>day</td>\n",
       "      <td>registration</td>\n",
       "    </tr>\n",
       "    <tr>\n",
       "      <th>10</th>\n",
       "      <td>flight</td>\n",
       "      <td>agent</td>\n",
       "      <td>investment</td>\n",
       "      <td>matter_caused</td>\n",
       "      <td>month</td>\n",
       "      <td>marriage</td>\n",
       "      <td>number</td>\n",
       "      <td>open</td>\n",
       "      <td>transfer</td>\n",
       "      <td>document</td>\n",
       "      <td>...</td>\n",
       "      <td>dda</td>\n",
       "      <td>disputed_transaction</td>\n",
       "      <td>feedback_passed</td>\n",
       "      <td>list</td>\n",
       "      <td>date</td>\n",
       "      <td>free</td>\n",
       "      <td>allow_business</td>\n",
       "      <td>case_actioned</td>\n",
       "      <td>inform</td>\n",
       "      <td>recorded_outcome</td>\n",
       "    </tr>\n",
       "    <tr>\n",
       "      <th>11</th>\n",
       "      <td>rewards_travel</td>\n",
       "      <td>trust</td>\n",
       "      <td>present</td>\n",
       "      <td>successfully_transaction</td>\n",
       "      <td>stop</td>\n",
       "      <td>breach</td>\n",
       "      <td>team</td>\n",
       "      <td>process</td>\n",
       "      <td>product</td>\n",
       "      <td>submit</td>\n",
       "      <td>...</td>\n",
       "      <td>restraint</td>\n",
       "      <td>resolve</td>\n",
       "      <td>want</td>\n",
       "      <td>tax</td>\n",
       "      <td>current</td>\n",
       "      <td>exist</td>\n",
       "      <td>money</td>\n",
       "      <td>know</td>\n",
       "      <td>happen</td>\n",
       "      <td>registration_referral</td>\n",
       "    </tr>\n",
       "    <tr>\n",
       "      <th>12</th>\n",
       "      <td>adventure</td>\n",
       "      <td>daughter</td>\n",
       "      <td>lose</td>\n",
       "      <td>transaction_saved</td>\n",
       "      <td>miss</td>\n",
       "      <td>pick</td>\n",
       "      <td>want</td>\n",
       "      <td>confirm</td>\n",
       "      <td>days</td>\n",
       "      <td>new</td>\n",
       "      <td>...</td>\n",
       "      <td>valid</td>\n",
       "      <td>lodge</td>\n",
       "      <td>staff_member</td>\n",
       "      <td>password</td>\n",
       "      <td>total</td>\n",
       "      <td>issue</td>\n",
       "      <td>confirm</td>\n",
       "      <td>transgender_marriage</td>\n",
       "      <td>ring</td>\n",
       "      <td>issue_resolved</td>\n",
       "    </tr>\n",
       "    <tr>\n",
       "      <th>13</th>\n",
       "      <td>honour</td>\n",
       "      <td>drive</td>\n",
       "      <td>banker</td>\n",
       "      <td>mistake</td>\n",
       "      <td>jan</td>\n",
       "      <td>support</td>\n",
       "      <td>concern</td>\n",
       "      <td>end</td>\n",
       "      <td>apply</td>\n",
       "      <td>provide</td>\n",
       "      <td>...</td>\n",
       "      <td>unhappy</td>\n",
       "      <td>case</td>\n",
       "      <td>provide</td>\n",
       "      <td>claim</td>\n",
       "      <td>understand</td>\n",
       "      <td>add</td>\n",
       "      <td>business_days</td>\n",
       "      <td>train</td>\n",
       "      <td>issue</td>\n",
       "      <td>dispute</td>\n",
       "    </tr>\n",
       "    <tr>\n",
       "      <th>14</th>\n",
       "      <td>allow</td>\n",
       "      <td>forward</td>\n",
       "      <td>visit_branch</td>\n",
       "      <td>car</td>\n",
       "      <td>time</td>\n",
       "      <td>section</td>\n",
       "      <td>like</td>\n",
       "      <td>reinstate</td>\n",
       "      <td>rewards_platinum</td>\n",
       "      <td>complete</td>\n",
       "      <td>...</td>\n",
       "      <td>outcome</td>\n",
       "      <td>stop</td>\n",
       "      <td>feedback</td>\n",
       "      <td>crn</td>\n",
       "      <td>review</td>\n",
       "      <td>partner</td>\n",
       "      <td>reimburse</td>\n",
       "      <td>today</td>\n",
       "      <td>speak</td>\n",
       "      <td>commercial_decision</td>\n",
       "    </tr>\n",
       "  </tbody>\n",
       "</table>\n",
       "<p>15 rows × 36 columns</p>\n",
       "</div>"
      ],
      "text/plain": [
       "          Topic #  1        Topic #  2    Topic #  3  \\\n",
       "0   terms_conditions  balance_transfer        cheque   \n",
       "1              offer             thank       deposit   \n",
       "2             online               box          wife   \n",
       "3            website              away  term_deposit   \n",
       "4              state           general          fund   \n",
       "5         time_frame             print        reopen   \n",
       "6          available           receipt          cash   \n",
       "7               time            father       process   \n",
       "8             accept     email_address         issue   \n",
       "9               read              info         clear   \n",
       "10            flight             agent    investment   \n",
       "11    rewards_travel             trust       present   \n",
       "12         adventure          daughter          lose   \n",
       "13            honour             drive        banker   \n",
       "14             allow           forward  visit_branch   \n",
       "\n",
       "                  Topic #  4   Topic #  5         Topic #  6   Topic #  7  \\\n",
       "0                        end      payment              limit      contact   \n",
       "1                     number          pay           feedback  information   \n",
       "2                       case     payments                app      provide   \n",
       "3                  situation         date       blr_template        email   \n",
       "4                     redraw      receive              allow          ask   \n",
       "5                 resolution         late             simple         need   \n",
       "6                    partner    insurance           children     response   \n",
       "7   apologised_inconvenience  collections  marriage_equality        refer   \n",
       "8                  empathise      arrears     final_response        phone   \n",
       "9                     action         days          australia         time   \n",
       "10             matter_caused        month           marriage       number   \n",
       "11  successfully_transaction         stop             breach         team   \n",
       "12         transaction_saved         miss               pick         want   \n",
       "13                   mistake          jan            support      concern   \n",
       "14                       car         time            section         like   \n",
       "\n",
       "          Topic #  8        Topic #  9   Topic # 10          ...            \\\n",
       "0              close            credit  application          ...             \n",
       "1             credit            reward      decline          ...             \n",
       "2            request             point        apply          ...             \n",
       "3            closure    rewards_points        claim          ...             \n",
       "4               want             offer      approve          ...             \n",
       "5       direct_debit          allocate      process          ...             \n",
       "6            balance        annual_fee      outcome          ...             \n",
       "7              debit     rewards_black       credit          ...             \n",
       "8             cancel              year      request          ...             \n",
       "9   access_advantage           receive       income          ...             \n",
       "10              open          transfer     document          ...             \n",
       "11           process           product       submit          ...             \n",
       "12           confirm              days          new          ...             \n",
       "13               end             apply      provide          ...             \n",
       "14         reinstate  rewards_platinum     complete          ...             \n",
       "\n",
       "       Topic # 27            Topic # 28       Topic # 29 Topic # 30  \\\n",
       "0   personal_loan               dispute           branch      error   \n",
       "1             pay           transaction            staff  incorrect   \n",
       "2            cost          transactions            close    correct   \n",
       "3     incorrectly                refund          manager     number   \n",
       "4    unsuccessful                 debit              atm    confirm   \n",
       "5             adv                 fraud             open      issue   \n",
       "6          recall              merchant        apologise       load   \n",
       "7        disclose               process          closure    address   \n",
       "8        urgently                credit            happy     update   \n",
       "9          advice                cancel            visit      wrong   \n",
       "10            dda  disputed_transaction  feedback_passed       list   \n",
       "11      restraint               resolve             want        tax   \n",
       "12          valid                 lodge     staff_member   password   \n",
       "13        unhappy                  case          provide      claim   \n",
       "14        outcome                  stop         feedback        crn   \n",
       "\n",
       "    Topic # 31 Topic # 32      Topic # 33            Topic # 34 Topic # 35  \\\n",
       "0       credit        new            fund               service       tell   \n",
       "1      balance       open        transfer          poor_service      money   \n",
       "2    statement    husband         process                  time       time   \n",
       "3     purchase  guarantee         receive                   ask      phone   \n",
       "4          pay        set            days                 staff       need   \n",
       "5         visa   activate         payment                teller        try   \n",
       "6     platinum     cancel         request          blr_template       work   \n",
       "7        happy        old           happy                  wait       come   \n",
       "8       charge       link          credit                people        ask   \n",
       "9        issue       need   international                  like        day   \n",
       "10        date       free  allow_business         case_actioned     inform   \n",
       "11     current      exist           money                  know     happen   \n",
       "12       total      issue         confirm  transgender_marriage       ring   \n",
       "13  understand        add   business_days                 train      issue   \n",
       "14      review    partner       reimburse                 today      speak   \n",
       "\n",
       "               Topic # 36  \n",
       "0            cash_advance  \n",
       "1                  expire  \n",
       "2                    file  \n",
       "3            resolved_fsp  \n",
       "4            outcome_type  \n",
       "5           closed_status  \n",
       "6           redeem_points  \n",
       "7             gwg_resolve  \n",
       "8                  redeem  \n",
       "9            registration  \n",
       "10       recorded_outcome  \n",
       "11  registration_referral  \n",
       "12         issue_resolved  \n",
       "13                dispute  \n",
       "14    commercial_decision  \n",
       "\n",
       "[15 rows x 36 columns]"
      ]
     },
     "execution_count": 426,
     "metadata": {},
     "output_type": "execute_result"
    }
   ],
   "source": [
    "#f= get_lda_topics(ldamodel,NUM_TOPICS)\n",
    "f= get_lda_topics(ldamodel,NUM_TOPICS)\n",
    "f\n",
    "#f.to_excel(\"../datasets/keyword_per_topic.xlsx\")\n"
   ]
  },
  {
   "cell_type": "markdown",
   "metadata": {
    "collapsed": true,
    "deletable": true,
    "editable": true
   },
   "source": [
    "### Dominant Topics for each Complaint-Document"
   ]
  },
  {
   "cell_type": "code",
   "execution_count": 428,
   "metadata": {
    "collapsed": false,
    "deletable": true,
    "editable": true
   },
   "outputs": [
    {
     "name": "stdout",
     "output_type": "stream",
     "text": [
      "CPU times: user 27.4 s, sys: 48 ms, total: 27.4 s\n",
      "Wall time: 27.5 s\n"
     ]
    }
   ],
   "source": [
    "%%time\n",
    "\n",
    "doc_topics = []\n",
    "top_topic_ids = []\n",
    "dominant_topic_prob = []\n",
    "\n",
    "for index, corp in enumerate(corpus):\n",
    "    # Get the document-topic distribution for each document and sort it\n",
    "    doc_topic_dist = ldamodel.get_document_topics(corp, minimum_probability=0)\n",
    "    #doc_topic_dist = ldamodel.get_document_topics(corp, minimum_probability=0)\n",
    "    _srtd = sorted(doc_topic_dist, key=lambda x: x[1], reverse=True)\n",
    "    top, score = _srtd[0]\n",
    "    top_topic_ids.append(top+1)\n",
    "    doc_topic = [tup[1] for tup in doc_topic_dist]\n",
    "    dominant_topic_prob.append(max(doc_topic))\n",
    "    doc_topics.append(doc_topic)"
   ]
  },
  {
   "cell_type": "markdown",
   "metadata": {
    "collapsed": true,
    "deletable": true,
    "editable": true
   },
   "source": [
    "### Find top documents for each topic"
   ]
  },
  {
   "cell_type": "code",
   "execution_count": 402,
   "metadata": {
    "collapsed": false,
    "deletable": true,
    "editable": true
   },
   "outputs": [
    {
     "name": "stdout",
     "output_type": "stream",
     "text": [
      "too many indices for array\n"
     ]
    }
   ],
   "source": [
    "try:\n",
    "    doc_topics_arr = np.asarray(doc_topics)\n",
    "\n",
    "    documents = keywords_df['keyword_corpus']\n",
    "    NUM_DOCUMENTS = 20\n",
    "    top_documents_list = []\n",
    "    for topic_ in range(NUM_TOPICS):\n",
    "        doc_ids = np.argsort(doc_topics_arr[:,topic_])[:-NUM_DOCUMENTS-1:-1]\n",
    "        for doc_id in doc_ids:\n",
    "            top_documents_list.append(((topic_ + 1), documents[doc_id]))\n",
    "    top_documents = pd.DataFrame(top_documents_list, columns=['topic_num', 'document'])\n",
    "    top_documents.to_csv('../datasets/top_documents.csv', index=False)\n",
    "    #top_documents.tail()\n",
    "except Exception as e:\n",
    "    print(e)"
   ]
  },
  {
   "cell_type": "markdown",
   "metadata": {
    "collapsed": true,
    "deletable": true,
    "editable": true
   },
   "source": [
    "### Assign Topic Labels.. \n",
    "This is not exact Clause number.Its a random number.In order to match the clause number an SME intervention is required."
   ]
  },
  {
   "cell_type": "code",
   "execution_count": 403,
   "metadata": {
    "collapsed": false,
    "deletable": true,
    "editable": true
   },
   "outputs": [],
   "source": [
    "topic_labels = {x:x for x in range(1, NUM_TOPICS+1)}"
   ]
  },
  {
   "cell_type": "markdown",
   "metadata": {
    "collapsed": true,
    "deletable": true,
    "editable": true
   },
   "source": [
    "### Find the number of documents in each topic"
   ]
  },
  {
   "cell_type": "code",
   "execution_count": 404,
   "metadata": {
    "collapsed": false,
    "deletable": true,
    "editable": true
   },
   "outputs": [
    {
     "data": {
      "image/png": "[encoded data removed]",
      "text/plain": [
       "<Figure size 864x504 with 1 Axes>"
      ]
     },
     "metadata": {
      "needs_background": "light"
     },
     "output_type": "display_data"
    }
   ],
   "source": [
    "# plt.style.use('seaborn')\n",
    "topics_count = pd.DataFrame(top_topic_ids, columns=['topic'])\n",
    "topics_count = topics_count.reset_index().groupby('topic').count()\n",
    "topics_count.reset_index(inplace=True)\n",
    "topics_count['topic'] = topics_count['topic'].map(lambda x: topic_labels[x])\n",
    "fig, ax = plt.subplots(figsize=(12, 7))\n",
    "topics_count.plot(kind='bar', x='topic', y='index', ax=ax, rot=45)\n",
    "ax.set(title='Topic counts', xlabel='Topic Label', ylabel='Number of docs')\n",
    "ax.legend().set_visible(False)\n",
    "plt.show()"
   ]
  },
  {
   "cell_type": "markdown",
   "metadata": {
    "deletable": true,
    "editable": true
   },
   "source": [
    "### Topic per Complaints"
   ]
  },
  {
   "cell_type": "code",
   "execution_count": 405,
   "metadata": {
    "collapsed": false,
    "deletable": true,
    "editable": true
   },
   "outputs": [],
   "source": [
    "top_word = {}\n",
    "out_file = open('../datasets/topic_term_distributions.csv', 'w')\n",
    "out_file.write('topic,topic_label,word_index,weight,word\\n')\n",
    "for i in range(NUM_TOPICS):\n",
    "    topic_terms = ldamodel.get_topic_terms(i)\n",
    "    top_word[i+1] = dictionary.id2token[topic_terms[0][0]]\n",
    "    for term in topic_terms:\n",
    "        out_file.write(str(i+1) + ',' + str(topic_labels[i+1]) + ',' + str(term[0]) + ',' + str(term[1]) + ',' + str(dictionary.id2token[term[0]]) + '\\n')\n",
    "out_file.close()"
   ]
  },
  {
   "cell_type": "code",
   "execution_count": 406,
   "metadata": {
    "collapsed": false,
    "deletable": true,
    "editable": true
   },
   "outputs": [],
   "source": [
    "#ldamodel.get_topic_terms(23)"
   ]
  },
  {
   "cell_type": "code",
   "execution_count": null,
   "metadata": {
    "collapsed": true,
    "deletable": true,
    "editable": true
   },
   "outputs": [],
   "source": []
  },
  {
   "cell_type": "code",
   "execution_count": 407,
   "metadata": {
    "collapsed": false,
    "deletable": true,
    "editable": true
   },
   "outputs": [],
   "source": [
    "automatic_labels = [str(top_word[x]) for x in top_topic_ids]\n",
    "top_topic_labels = [str(topic_labels[x]) for x in top_topic_ids]\n",
    "\n",
    "temp_df = keywords_df.copy()\n",
    "#keywords_df.drop(['tokens', 'finalized_tokens'], axis=1, inplace=True)\n",
    "#keywords_df.drop(['ResolutionDescription','IssueDescription','ConcernDescription'],axis =1 , inplace=True)\n",
    "temp_df['dominant_topic'] = top_topic_ids\n",
    "temp_df['dominant_topic_probability'] = dominant_topic_prob\n",
    "#keywords_df['automatic_topic_label'] = automatic_labels\n",
    "temp_df['topic_label'] = top_topic_labels #manually labeled\n",
    "temp_df['topic_distribution_string'] = doc_topics\n",
    "\n",
    "# docs.to_csv('../datasets/annotated_docs.csv', index=False)\n",
    "\n"
   ]
  },
  {
   "cell_type": "code",
   "execution_count": 408,
   "metadata": {
    "collapsed": false,
    "deletable": true,
    "editable": true
   },
   "outputs": [],
   "source": [
    "temp_df['Clause'] = complaints_df['Clause']\n",
    "df = temp_df[['ConcernID','Clause','topic_label','dominant_topic_probability']]\n"
   ]
  },
  {
   "cell_type": "code",
   "execution_count": 409,
   "metadata": {
    "collapsed": false,
    "deletable": true,
    "editable": true
   },
   "outputs": [
    {
     "data": {
      "text/html": [
       "<div>\n",
       "<style>\n",
       "    .dataframe thead tr:only-child th {\n",
       "        text-align: right;\n",
       "    }\n",
       "\n",
       "    .dataframe thead th {\n",
       "        text-align: left;\n",
       "    }\n",
       "\n",
       "    .dataframe tbody tr th {\n",
       "        vertical-align: top;\n",
       "    }\n",
       "</style>\n",
       "<table border=\"1\" class=\"dataframe\">\n",
       "  <thead>\n",
       "    <tr style=\"text-align: right;\">\n",
       "      <th></th>\n",
       "      <th>ConcernID</th>\n",
       "      <th>Clause</th>\n",
       "      <th>topic_label</th>\n",
       "      <th>dominant_topic_probability</th>\n",
       "    </tr>\n",
       "  </thead>\n",
       "  <tbody>\n",
       "    <tr>\n",
       "      <th>131</th>\n",
       "      <td>973575</td>\n",
       "      <td>11</td>\n",
       "      <td>7</td>\n",
       "      <td>0.203333</td>\n",
       "    </tr>\n",
       "    <tr>\n",
       "      <th>28235</th>\n",
       "      <td>COM-510100</td>\n",
       "      <td>11</td>\n",
       "      <td>16</td>\n",
       "      <td>0.406115</td>\n",
       "    </tr>\n",
       "    <tr>\n",
       "      <th>30264</th>\n",
       "      <td>COM-92112</td>\n",
       "      <td>11</td>\n",
       "      <td>5</td>\n",
       "      <td>0.303621</td>\n",
       "    </tr>\n",
       "    <tr>\n",
       "      <th>19619</th>\n",
       "      <td>COM-490460</td>\n",
       "      <td>11</td>\n",
       "      <td>3</td>\n",
       "      <td>0.262179</td>\n",
       "    </tr>\n",
       "    <tr>\n",
       "      <th>13</th>\n",
       "      <td>969924</td>\n",
       "      <td>11</td>\n",
       "      <td>19</td>\n",
       "      <td>0.292549</td>\n",
       "    </tr>\n",
       "    <tr>\n",
       "      <th>14520</th>\n",
       "      <td>COM-482204</td>\n",
       "      <td>11</td>\n",
       "      <td>20</td>\n",
       "      <td>0.157529</td>\n",
       "    </tr>\n",
       "    <tr>\n",
       "      <th>36</th>\n",
       "      <td>970689</td>\n",
       "      <td>11</td>\n",
       "      <td>5</td>\n",
       "      <td>0.303788</td>\n",
       "    </tr>\n",
       "    <tr>\n",
       "      <th>31975</th>\n",
       "      <td>COM-95946</td>\n",
       "      <td>11</td>\n",
       "      <td>14</td>\n",
       "      <td>0.249939</td>\n",
       "    </tr>\n",
       "    <tr>\n",
       "      <th>11743</th>\n",
       "      <td>COM-478003</td>\n",
       "      <td>12_20</td>\n",
       "      <td>16</td>\n",
       "      <td>0.159533</td>\n",
       "    </tr>\n",
       "    <tr>\n",
       "      <th>24046</th>\n",
       "      <td>COM-497450</td>\n",
       "      <td>12_20</td>\n",
       "      <td>30</td>\n",
       "      <td>0.174814</td>\n",
       "    </tr>\n",
       "    <tr>\n",
       "      <th>6096</th>\n",
       "      <td>COM-109915</td>\n",
       "      <td>12_20</td>\n",
       "      <td>13</td>\n",
       "      <td>0.333700</td>\n",
       "    </tr>\n",
       "    <tr>\n",
       "      <th>24032</th>\n",
       "      <td>COM-497418</td>\n",
       "      <td>12_20</td>\n",
       "      <td>12</td>\n",
       "      <td>0.209051</td>\n",
       "    </tr>\n",
       "    <tr>\n",
       "      <th>12932</th>\n",
       "      <td>COM-479832</td>\n",
       "      <td>12_20</td>\n",
       "      <td>25</td>\n",
       "      <td>0.350766</td>\n",
       "    </tr>\n",
       "    <tr>\n",
       "      <th>25599</th>\n",
       "      <td>COM-499978</td>\n",
       "      <td>12_20</td>\n",
       "      <td>12</td>\n",
       "      <td>0.251696</td>\n",
       "    </tr>\n",
       "    <tr>\n",
       "      <th>12934</th>\n",
       "      <td>COM-479835</td>\n",
       "      <td>12_20</td>\n",
       "      <td>12</td>\n",
       "      <td>0.236386</td>\n",
       "    </tr>\n",
       "    <tr>\n",
       "      <th>11659</th>\n",
       "      <td>COM-477859</td>\n",
       "      <td>12_20</td>\n",
       "      <td>33</td>\n",
       "      <td>0.570192</td>\n",
       "    </tr>\n",
       "    <tr>\n",
       "      <th>7933</th>\n",
       "      <td>COM-112815</td>\n",
       "      <td>12_20</td>\n",
       "      <td>5</td>\n",
       "      <td>0.322159</td>\n",
       "    </tr>\n",
       "    <tr>\n",
       "      <th>33208</th>\n",
       "      <td>COM-97807</td>\n",
       "      <td>12_20</td>\n",
       "      <td>6</td>\n",
       "      <td>0.255707</td>\n",
       "    </tr>\n",
       "    <tr>\n",
       "      <th>9006</th>\n",
       "      <td>COM-114520</td>\n",
       "      <td>12_20</td>\n",
       "      <td>31</td>\n",
       "      <td>0.555768</td>\n",
       "    </tr>\n",
       "    <tr>\n",
       "      <th>1560</th>\n",
       "      <td>COM-102170</td>\n",
       "      <td>12_20</td>\n",
       "      <td>3</td>\n",
       "      <td>0.179978</td>\n",
       "    </tr>\n",
       "    <tr>\n",
       "      <th>34358</th>\n",
       "      <td>COM-99495</td>\n",
       "      <td>12_20</td>\n",
       "      <td>17</td>\n",
       "      <td>0.367675</td>\n",
       "    </tr>\n",
       "    <tr>\n",
       "      <th>13474</th>\n",
       "      <td>COM-480746</td>\n",
       "      <td>12_20</td>\n",
       "      <td>31</td>\n",
       "      <td>0.400119</td>\n",
       "    </tr>\n",
       "    <tr>\n",
       "      <th>12902</th>\n",
       "      <td>COM-479771</td>\n",
       "      <td>12_20</td>\n",
       "      <td>16</td>\n",
       "      <td>0.319748</td>\n",
       "    </tr>\n",
       "    <tr>\n",
       "      <th>33259</th>\n",
       "      <td>COM-97888</td>\n",
       "      <td>12_20</td>\n",
       "      <td>8</td>\n",
       "      <td>0.288468</td>\n",
       "    </tr>\n",
       "    <tr>\n",
       "      <th>4311</th>\n",
       "      <td>COM-107048</td>\n",
       "      <td>12_20</td>\n",
       "      <td>15</td>\n",
       "      <td>0.182820</td>\n",
       "    </tr>\n",
       "    <tr>\n",
       "      <th>17632</th>\n",
       "      <td>COM-487165</td>\n",
       "      <td>12_20</td>\n",
       "      <td>2</td>\n",
       "      <td>0.405151</td>\n",
       "    </tr>\n",
       "    <tr>\n",
       "      <th>20900</th>\n",
       "      <td>COM-492394</td>\n",
       "      <td>12_20</td>\n",
       "      <td>25</td>\n",
       "      <td>0.256518</td>\n",
       "    </tr>\n",
       "    <tr>\n",
       "      <th>3393</th>\n",
       "      <td>COM-105493</td>\n",
       "      <td>12_20</td>\n",
       "      <td>32</td>\n",
       "      <td>0.245919</td>\n",
       "    </tr>\n",
       "    <tr>\n",
       "      <th>33304</th>\n",
       "      <td>COM-97920</td>\n",
       "      <td>12_20</td>\n",
       "      <td>23</td>\n",
       "      <td>0.319444</td>\n",
       "    </tr>\n",
       "    <tr>\n",
       "      <th>26318</th>\n",
       "      <td>COM-501167</td>\n",
       "      <td>12_20</td>\n",
       "      <td>6</td>\n",
       "      <td>0.337405</td>\n",
       "    </tr>\n",
       "    <tr>\n",
       "      <th>...</th>\n",
       "      <td>...</td>\n",
       "      <td>...</td>\n",
       "      <td>...</td>\n",
       "      <td>...</td>\n",
       "    </tr>\n",
       "    <tr>\n",
       "      <th>30153</th>\n",
       "      <td>COM-91889</td>\n",
       "      <td>9</td>\n",
       "      <td>6</td>\n",
       "      <td>0.319688</td>\n",
       "    </tr>\n",
       "    <tr>\n",
       "      <th>30129</th>\n",
       "      <td>COM-91818</td>\n",
       "      <td>9</td>\n",
       "      <td>27</td>\n",
       "      <td>0.421845</td>\n",
       "    </tr>\n",
       "    <tr>\n",
       "      <th>15611</th>\n",
       "      <td>COM-483939</td>\n",
       "      <td>9</td>\n",
       "      <td>1</td>\n",
       "      <td>0.410218</td>\n",
       "    </tr>\n",
       "    <tr>\n",
       "      <th>15612</th>\n",
       "      <td>COM-483939</td>\n",
       "      <td>9</td>\n",
       "      <td>1</td>\n",
       "      <td>0.403456</td>\n",
       "    </tr>\n",
       "    <tr>\n",
       "      <th>30091</th>\n",
       "      <td>COM-91722</td>\n",
       "      <td>9</td>\n",
       "      <td>18</td>\n",
       "      <td>0.199183</td>\n",
       "    </tr>\n",
       "    <tr>\n",
       "      <th>15637</th>\n",
       "      <td>COM-483981</td>\n",
       "      <td>9</td>\n",
       "      <td>19</td>\n",
       "      <td>0.331651</td>\n",
       "    </tr>\n",
       "    <tr>\n",
       "      <th>15638</th>\n",
       "      <td>COM-483981</td>\n",
       "      <td>9</td>\n",
       "      <td>19</td>\n",
       "      <td>0.327213</td>\n",
       "    </tr>\n",
       "    <tr>\n",
       "      <th>15661</th>\n",
       "      <td>COM-484039</td>\n",
       "      <td>9</td>\n",
       "      <td>1</td>\n",
       "      <td>0.471725</td>\n",
       "    </tr>\n",
       "    <tr>\n",
       "      <th>15662</th>\n",
       "      <td>COM-484039</td>\n",
       "      <td>9</td>\n",
       "      <td>1</td>\n",
       "      <td>0.473761</td>\n",
       "    </tr>\n",
       "    <tr>\n",
       "      <th>30054</th>\n",
       "      <td>COM-91651</td>\n",
       "      <td>9</td>\n",
       "      <td>31</td>\n",
       "      <td>0.314282</td>\n",
       "    </tr>\n",
       "    <tr>\n",
       "      <th>9146</th>\n",
       "      <td>COM-114668</td>\n",
       "      <td>9</td>\n",
       "      <td>10</td>\n",
       "      <td>0.931327</td>\n",
       "    </tr>\n",
       "    <tr>\n",
       "      <th>9145</th>\n",
       "      <td>COM-114668</td>\n",
       "      <td>9</td>\n",
       "      <td>10</td>\n",
       "      <td>0.921064</td>\n",
       "    </tr>\n",
       "    <tr>\n",
       "      <th>9139</th>\n",
       "      <td>COM-114664</td>\n",
       "      <td>9</td>\n",
       "      <td>19</td>\n",
       "      <td>0.652003</td>\n",
       "    </tr>\n",
       "    <tr>\n",
       "      <th>9138</th>\n",
       "      <td>COM-114664</td>\n",
       "      <td>9</td>\n",
       "      <td>19</td>\n",
       "      <td>0.695118</td>\n",
       "    </tr>\n",
       "    <tr>\n",
       "      <th>29817</th>\n",
       "      <td>COM-513066</td>\n",
       "      <td>9</td>\n",
       "      <td>19</td>\n",
       "      <td>0.317580</td>\n",
       "    </tr>\n",
       "    <tr>\n",
       "      <th>15921</th>\n",
       "      <td>COM-484407</td>\n",
       "      <td>9</td>\n",
       "      <td>6</td>\n",
       "      <td>0.516565</td>\n",
       "    </tr>\n",
       "    <tr>\n",
       "      <th>15920</th>\n",
       "      <td>COM-484407</td>\n",
       "      <td>9</td>\n",
       "      <td>6</td>\n",
       "      <td>0.524798</td>\n",
       "    </tr>\n",
       "    <tr>\n",
       "      <th>29856</th>\n",
       "      <td>COM-513140</td>\n",
       "      <td>9</td>\n",
       "      <td>26</td>\n",
       "      <td>0.321359</td>\n",
       "    </tr>\n",
       "    <tr>\n",
       "      <th>15914</th>\n",
       "      <td>COM-484401</td>\n",
       "      <td>9</td>\n",
       "      <td>19</td>\n",
       "      <td>0.346432</td>\n",
       "    </tr>\n",
       "    <tr>\n",
       "      <th>15913</th>\n",
       "      <td>COM-484401</td>\n",
       "      <td>9</td>\n",
       "      <td>19</td>\n",
       "      <td>0.353121</td>\n",
       "    </tr>\n",
       "    <tr>\n",
       "      <th>16441</th>\n",
       "      <td>COM-485268</td>\n",
       "      <td>9</td>\n",
       "      <td>14</td>\n",
       "      <td>0.304285</td>\n",
       "    </tr>\n",
       "    <tr>\n",
       "      <th>29875</th>\n",
       "      <td>COM-85975</td>\n",
       "      <td>9</td>\n",
       "      <td>11</td>\n",
       "      <td>0.193386</td>\n",
       "    </tr>\n",
       "    <tr>\n",
       "      <th>15867</th>\n",
       "      <td>COM-484307</td>\n",
       "      <td>9</td>\n",
       "      <td>2</td>\n",
       "      <td>0.310952</td>\n",
       "    </tr>\n",
       "    <tr>\n",
       "      <th>15866</th>\n",
       "      <td>COM-484307</td>\n",
       "      <td>9</td>\n",
       "      <td>2</td>\n",
       "      <td>0.286889</td>\n",
       "    </tr>\n",
       "    <tr>\n",
       "      <th>15859</th>\n",
       "      <td>COM-484301</td>\n",
       "      <td>9</td>\n",
       "      <td>2</td>\n",
       "      <td>0.214344</td>\n",
       "    </tr>\n",
       "    <tr>\n",
       "      <th>15858</th>\n",
       "      <td>COM-484301</td>\n",
       "      <td>9</td>\n",
       "      <td>2</td>\n",
       "      <td>0.216172</td>\n",
       "    </tr>\n",
       "    <tr>\n",
       "      <th>29981</th>\n",
       "      <td>COM-91436</td>\n",
       "      <td>9</td>\n",
       "      <td>16</td>\n",
       "      <td>0.317484</td>\n",
       "    </tr>\n",
       "    <tr>\n",
       "      <th>30001</th>\n",
       "      <td>COM-91528</td>\n",
       "      <td>9</td>\n",
       "      <td>16</td>\n",
       "      <td>0.211481</td>\n",
       "    </tr>\n",
       "    <tr>\n",
       "      <th>29895</th>\n",
       "      <td>COM-91143</td>\n",
       "      <td>9</td>\n",
       "      <td>18</td>\n",
       "      <td>0.205313</td>\n",
       "    </tr>\n",
       "    <tr>\n",
       "      <th>24470</th>\n",
       "      <td>COM-498157</td>\n",
       "      <td>9</td>\n",
       "      <td>33</td>\n",
       "      <td>0.367534</td>\n",
       "    </tr>\n",
       "  </tbody>\n",
       "</table>\n",
       "<p>34721 rows × 4 columns</p>\n",
       "</div>"
      ],
      "text/plain": [
       "        ConcernID Clause topic_label  dominant_topic_probability\n",
       "131        973575     11           7                    0.203333\n",
       "28235  COM-510100     11          16                    0.406115\n",
       "30264   COM-92112     11           5                    0.303621\n",
       "19619  COM-490460     11           3                    0.262179\n",
       "13         969924     11          19                    0.292549\n",
       "14520  COM-482204     11          20                    0.157529\n",
       "36         970689     11           5                    0.303788\n",
       "31975   COM-95946     11          14                    0.249939\n",
       "11743  COM-478003  12_20          16                    0.159533\n",
       "24046  COM-497450  12_20          30                    0.174814\n",
       "6096   COM-109915  12_20          13                    0.333700\n",
       "24032  COM-497418  12_20          12                    0.209051\n",
       "12932  COM-479832  12_20          25                    0.350766\n",
       "25599  COM-499978  12_20          12                    0.251696\n",
       "12934  COM-479835  12_20          12                    0.236386\n",
       "11659  COM-477859  12_20          33                    0.570192\n",
       "7933   COM-112815  12_20           5                    0.322159\n",
       "33208   COM-97807  12_20           6                    0.255707\n",
       "9006   COM-114520  12_20          31                    0.555768\n",
       "1560   COM-102170  12_20           3                    0.179978\n",
       "34358   COM-99495  12_20          17                    0.367675\n",
       "13474  COM-480746  12_20          31                    0.400119\n",
       "12902  COM-479771  12_20          16                    0.319748\n",
       "33259   COM-97888  12_20           8                    0.288468\n",
       "4311   COM-107048  12_20          15                    0.182820\n",
       "17632  COM-487165  12_20           2                    0.405151\n",
       "20900  COM-492394  12_20          25                    0.256518\n",
       "3393   COM-105493  12_20          32                    0.245919\n",
       "33304   COM-97920  12_20          23                    0.319444\n",
       "26318  COM-501167  12_20           6                    0.337405\n",
       "...           ...    ...         ...                         ...\n",
       "30153   COM-91889      9           6                    0.319688\n",
       "30129   COM-91818      9          27                    0.421845\n",
       "15611  COM-483939      9           1                    0.410218\n",
       "15612  COM-483939      9           1                    0.403456\n",
       "30091   COM-91722      9          18                    0.199183\n",
       "15637  COM-483981      9          19                    0.331651\n",
       "15638  COM-483981      9          19                    0.327213\n",
       "15661  COM-484039      9           1                    0.471725\n",
       "15662  COM-484039      9           1                    0.473761\n",
       "30054   COM-91651      9          31                    0.314282\n",
       "9146   COM-114668      9          10                    0.931327\n",
       "9145   COM-114668      9          10                    0.921064\n",
       "9139   COM-114664      9          19                    0.652003\n",
       "9138   COM-114664      9          19                    0.695118\n",
       "29817  COM-513066      9          19                    0.317580\n",
       "15921  COM-484407      9           6                    0.516565\n",
       "15920  COM-484407      9           6                    0.524798\n",
       "29856  COM-513140      9          26                    0.321359\n",
       "15914  COM-484401      9          19                    0.346432\n",
       "15913  COM-484401      9          19                    0.353121\n",
       "16441  COM-485268      9          14                    0.304285\n",
       "29875   COM-85975      9          11                    0.193386\n",
       "15867  COM-484307      9           2                    0.310952\n",
       "15866  COM-484307      9           2                    0.286889\n",
       "15859  COM-484301      9           2                    0.214344\n",
       "15858  COM-484301      9           2                    0.216172\n",
       "29981   COM-91436      9          16                    0.317484\n",
       "30001   COM-91528      9          16                    0.211481\n",
       "29895   COM-91143      9          18                    0.205313\n",
       "24470  COM-498157      9          33                    0.367534\n",
       "\n",
       "[34721 rows x 4 columns]"
      ]
     },
     "execution_count": 409,
     "metadata": {},
     "output_type": "execute_result"
    }
   ],
   "source": [
    "df.sort_values('Clause',inplace=True)\n",
    "df"
   ]
  },
  {
   "cell_type": "code",
   "execution_count": 410,
   "metadata": {
    "collapsed": false,
    "deletable": true,
    "editable": true,
    "scrolled": false
   },
   "outputs": [],
   "source": [
    "\n",
    "import numpy as np\n",
    "clause = np.array(df['Clause'])\n",
    "topic_label = np.array(df['topic_label'])"
   ]
  },
  {
   "cell_type": "code",
   "execution_count": 411,
   "metadata": {
    "collapsed": false,
    "deletable": true,
    "editable": true
   },
   "outputs": [
    {
     "data": {
      "text/html": [
       "<div>\n",
       "<style>\n",
       "    .dataframe thead tr:only-child th {\n",
       "        text-align: right;\n",
       "    }\n",
       "\n",
       "    .dataframe thead th {\n",
       "        text-align: left;\n",
       "    }\n",
       "\n",
       "    .dataframe tbody tr th {\n",
       "        vertical-align: top;\n",
       "    }\n",
       "</style>\n",
       "<table border=\"1\" class=\"dataframe\">\n",
       "  <thead>\n",
       "    <tr style=\"text-align: right;\">\n",
       "      <th>topic_label</th>\n",
       "      <th>1</th>\n",
       "      <th>10</th>\n",
       "      <th>11</th>\n",
       "      <th>12</th>\n",
       "      <th>13</th>\n",
       "      <th>14</th>\n",
       "      <th>15</th>\n",
       "      <th>16</th>\n",
       "      <th>17</th>\n",
       "      <th>18</th>\n",
       "      <th>...</th>\n",
       "      <th>32</th>\n",
       "      <th>33</th>\n",
       "      <th>34</th>\n",
       "      <th>35</th>\n",
       "      <th>4</th>\n",
       "      <th>5</th>\n",
       "      <th>6</th>\n",
       "      <th>7</th>\n",
       "      <th>8</th>\n",
       "      <th>9</th>\n",
       "    </tr>\n",
       "    <tr>\n",
       "      <th>clause</th>\n",
       "      <th></th>\n",
       "      <th></th>\n",
       "      <th></th>\n",
       "      <th></th>\n",
       "      <th></th>\n",
       "      <th></th>\n",
       "      <th></th>\n",
       "      <th></th>\n",
       "      <th></th>\n",
       "      <th></th>\n",
       "      <th></th>\n",
       "      <th></th>\n",
       "      <th></th>\n",
       "      <th></th>\n",
       "      <th></th>\n",
       "      <th></th>\n",
       "      <th></th>\n",
       "      <th></th>\n",
       "      <th></th>\n",
       "      <th></th>\n",
       "      <th></th>\n",
       "    </tr>\n",
       "  </thead>\n",
       "  <tbody>\n",
       "    <tr>\n",
       "      <th>11</th>\n",
       "      <td>0</td>\n",
       "      <td>0</td>\n",
       "      <td>0</td>\n",
       "      <td>0</td>\n",
       "      <td>0</td>\n",
       "      <td>1</td>\n",
       "      <td>0</td>\n",
       "      <td>1</td>\n",
       "      <td>0</td>\n",
       "      <td>0</td>\n",
       "      <td>...</td>\n",
       "      <td>0</td>\n",
       "      <td>0</td>\n",
       "      <td>0</td>\n",
       "      <td>0</td>\n",
       "      <td>0</td>\n",
       "      <td>2</td>\n",
       "      <td>0</td>\n",
       "      <td>1</td>\n",
       "      <td>0</td>\n",
       "      <td>0</td>\n",
       "    </tr>\n",
       "    <tr>\n",
       "      <th>12_20</th>\n",
       "      <td>4</td>\n",
       "      <td>3</td>\n",
       "      <td>8</td>\n",
       "      <td>44</td>\n",
       "      <td>16</td>\n",
       "      <td>1</td>\n",
       "      <td>3</td>\n",
       "      <td>7</td>\n",
       "      <td>2</td>\n",
       "      <td>2</td>\n",
       "      <td>...</td>\n",
       "      <td>10</td>\n",
       "      <td>15</td>\n",
       "      <td>1</td>\n",
       "      <td>8</td>\n",
       "      <td>2</td>\n",
       "      <td>10</td>\n",
       "      <td>10</td>\n",
       "      <td>3</td>\n",
       "      <td>14</td>\n",
       "      <td>3</td>\n",
       "    </tr>\n",
       "    <tr>\n",
       "      <th>13</th>\n",
       "      <td>3</td>\n",
       "      <td>0</td>\n",
       "      <td>0</td>\n",
       "      <td>1</td>\n",
       "      <td>0</td>\n",
       "      <td>1</td>\n",
       "      <td>0</td>\n",
       "      <td>0</td>\n",
       "      <td>0</td>\n",
       "      <td>0</td>\n",
       "      <td>...</td>\n",
       "      <td>1</td>\n",
       "      <td>1</td>\n",
       "      <td>1</td>\n",
       "      <td>0</td>\n",
       "      <td>1</td>\n",
       "      <td>16</td>\n",
       "      <td>2</td>\n",
       "      <td>0</td>\n",
       "      <td>8</td>\n",
       "      <td>1</td>\n",
       "    </tr>\n",
       "    <tr>\n",
       "      <th>14a</th>\n",
       "      <td>380</td>\n",
       "      <td>22</td>\n",
       "      <td>189</td>\n",
       "      <td>66</td>\n",
       "      <td>1385</td>\n",
       "      <td>105</td>\n",
       "      <td>15</td>\n",
       "      <td>451</td>\n",
       "      <td>38</td>\n",
       "      <td>40</td>\n",
       "      <td>...</td>\n",
       "      <td>66</td>\n",
       "      <td>1890</td>\n",
       "      <td>372</td>\n",
       "      <td>460</td>\n",
       "      <td>72</td>\n",
       "      <td>88</td>\n",
       "      <td>114</td>\n",
       "      <td>31</td>\n",
       "      <td>268</td>\n",
       "      <td>191</td>\n",
       "    </tr>\n",
       "    <tr>\n",
       "      <th>14b</th>\n",
       "      <td>52</td>\n",
       "      <td>13</td>\n",
       "      <td>26</td>\n",
       "      <td>4</td>\n",
       "      <td>10</td>\n",
       "      <td>32</td>\n",
       "      <td>2</td>\n",
       "      <td>24</td>\n",
       "      <td>18</td>\n",
       "      <td>4</td>\n",
       "      <td>...</td>\n",
       "      <td>13</td>\n",
       "      <td>111</td>\n",
       "      <td>24</td>\n",
       "      <td>11</td>\n",
       "      <td>2</td>\n",
       "      <td>14</td>\n",
       "      <td>25</td>\n",
       "      <td>11</td>\n",
       "      <td>21</td>\n",
       "      <td>5</td>\n",
       "    </tr>\n",
       "  </tbody>\n",
       "</table>\n",
       "<p>5 rows × 35 columns</p>\n",
       "</div>"
      ],
      "text/plain": [
       "topic_label    1  10   11  12    13   14  15   16  17  18 ...   32    33   34  \\\n",
       "clause                                                    ...                   \n",
       "11             0   0    0   0     0    1   0    1   0   0 ...    0     0    0   \n",
       "12_20          4   3    8  44    16    1   3    7   2   2 ...   10    15    1   \n",
       "13             3   0    0   1     0    1   0    0   0   0 ...    1     1    1   \n",
       "14a          380  22  189  66  1385  105  15  451  38  40 ...   66  1890  372   \n",
       "14b           52  13   26   4    10   32   2   24  18   4 ...   13   111   24   \n",
       "\n",
       "topic_label   35   4   5    6   7    8    9  \n",
       "clause                                       \n",
       "11             0   0   2    0   1    0    0  \n",
       "12_20          8   2  10   10   3   14    3  \n",
       "13             0   1  16    2   0    8    1  \n",
       "14a          460  72  88  114  31  268  191  \n",
       "14b           11   2  14   25  11   21    5  \n",
       "\n",
       "[5 rows x 35 columns]"
      ]
     },
     "execution_count": 411,
     "metadata": {},
     "output_type": "execute_result"
    }
   ],
   "source": [
    "final_df = pd.crosstab(clause,topic_label, rownames=['clause'], colnames=['topic_label'])\n",
    "final_df.head()"
   ]
  },
  {
   "cell_type": "code",
   "execution_count": 412,
   "metadata": {
    "collapsed": false,
    "deletable": true,
    "editable": true
   },
   "outputs": [],
   "source": [
    "def get_keywords_per_clause(clause_name):\n",
    "    cl_14a = final_df.loc[clause_name]\n",
    "    mapper = dict(zip(cl_14a,cl_14a.index))\n",
    "    cl_14_a = list(sorted(cl_14a,reverse=True))\n",
    "    cl_14_b = [each for each in cl_14_a]\n",
    "    top_3_topics = cl_14_b[:3]\n",
    "    top_3_topic_names = [mapper[word] for word in top_3_topics]\n",
    "    #print(top_3_topic_names)\n",
    "    keywords = []\n",
    "    for each in top_3_topic_names:\n",
    "        topic2word= get_topics(ldamodel,NUM_TOPICS)\n",
    "        words = topic2word[each]\n",
    "        keywords.append(list(words))\n",
    "    return flatten_lists(keywords)\n",
    "\n",
    "def get_topics(model, num_topics):\n",
    "    word_dict = {};\n",
    "    for i in range(num_topics):\n",
    "        words = model.show_topic(i, topn =15)\n",
    "        word_dict['{}'.format(i+1)] = [i[0] for i in words]\n",
    "        #word_dict['Topic # '+'{:2d}'.format(i+1)] = [i[0] for i in words]\n",
    "    return pd.DataFrame(word_dict)"
   ]
  },
  {
   "cell_type": "code",
   "execution_count": null,
   "metadata": {
    "collapsed": true,
    "deletable": true,
    "editable": true
   },
   "outputs": [],
   "source": []
  },
  {
   "cell_type": "code",
   "execution_count": 413,
   "metadata": {
    "collapsed": false,
    "deletable": true,
    "editable": true
   },
   "outputs": [],
   "source": [
    "def write_to_csv(no_of_topics):\n",
    "    with open('../datasets/keywords_per_clause_{}.csv'.format(no_of_topics), 'w') as f:\n",
    "        Clauses = final_df.index\n",
    "        for item in Clauses:\n",
    "            f.write(\"Clause-{}\\t : {} \\n\".format(item,get_keywords_per_clause(item)))\n",
    "    \n",
    "\n",
    "        \n",
    "    "
   ]
  },
  {
   "cell_type": "code",
   "execution_count": 414,
   "metadata": {
    "collapsed": true,
    "deletable": true,
    "editable": true
   },
   "outputs": [],
   "source": [
    "write_to_csv('35_nmf_usable')"
   ]
  },
  {
   "cell_type": "code",
   "execution_count": 431,
   "metadata": {
    "collapsed": false,
    "deletable": true,
    "editable": true
   },
   "outputs": [
    {
     "data": {
      "text/html": [
       "<div>\n",
       "<style>\n",
       "    .dataframe thead tr:only-child th {\n",
       "        text-align: right;\n",
       "    }\n",
       "\n",
       "    .dataframe thead th {\n",
       "        text-align: left;\n",
       "    }\n",
       "\n",
       "    .dataframe tbody tr th {\n",
       "        vertical-align: top;\n",
       "    }\n",
       "</style>\n",
       "<table border=\"1\" class=\"dataframe\">\n",
       "  <thead>\n",
       "    <tr style=\"text-align: right;\">\n",
       "      <th></th>\n",
       "      <th>Clause-11\t : ['contact'</th>\n",
       "      <th>'information'</th>\n",
       "      <th>'provide'</th>\n",
       "      <th>'email'</th>\n",
       "      <th>'ask'</th>\n",
       "      <th>'need'</th>\n",
       "      <th>'response'</th>\n",
       "      <th>'refer'</th>\n",
       "      <th>'phone'</th>\n",
       "      <th>'time'</th>\n",
       "      <th>...</th>\n",
       "      <th>'direct_debit'</th>\n",
       "      <th>'balance'</th>\n",
       "      <th>'debit'</th>\n",
       "      <th>'cancel'</th>\n",
       "      <th>'access_advantage'</th>\n",
       "      <th>'open'</th>\n",
       "      <th>'process'</th>\n",
       "      <th>'confirm'</th>\n",
       "      <th>'end'</th>\n",
       "      <th>'reinstate']</th>\n",
       "    </tr>\n",
       "  </thead>\n",
       "  <tbody>\n",
       "    <tr>\n",
       "      <th>0</th>\n",
       "      <td>Clause-12_20\\t : ['happy'</td>\n",
       "      <td>'apologise'</td>\n",
       "      <td>'provide'</td>\n",
       "      <td>'unhappy'</td>\n",
       "      <td>'receive'</td>\n",
       "      <td>'poor_service'</td>\n",
       "      <td>'want'</td>\n",
       "      <td>'send'</td>\n",
       "      <td>'feedback'</td>\n",
       "      <td>'service'</td>\n",
       "      <td>...</td>\n",
       "      <td>'reverse'</td>\n",
       "      <td>'waive'</td>\n",
       "      <td>'happy'</td>\n",
       "      <td>'want'</td>\n",
       "      <td>'late_payment'</td>\n",
       "      <td>'reimburse'</td>\n",
       "      <td>'pay'</td>\n",
       "      <td>'gwg'</td>\n",
       "      <td>'unhappy'</td>\n",
       "      <td>'year']</td>\n",
       "    </tr>\n",
       "    <tr>\n",
       "      <th>1</th>\n",
       "      <td>Clause-13\\t : ['send'</td>\n",
       "      <td>'receive'</td>\n",
       "      <td>'email'</td>\n",
       "      <td>'letter'</td>\n",
       "      <td>'request'</td>\n",
       "      <td>'statement'</td>\n",
       "      <td>'statements'</td>\n",
       "      <td>'mail'</td>\n",
       "      <td>'address'</td>\n",
       "      <td>'apologise'</td>\n",
       "      <td>...</td>\n",
       "      <td>'concern'</td>\n",
       "      <td>'close'</td>\n",
       "      <td>'case'</td>\n",
       "      <td>'com'</td>\n",
       "      <td>'registration'</td>\n",
       "      <td>'email'</td>\n",
       "      <td>'offer'</td>\n",
       "      <td>'state'</td>\n",
       "      <td>'confirm'</td>\n",
       "      <td>'copy']</td>\n",
       "    </tr>\n",
       "    <tr>\n",
       "      <th>2</th>\n",
       "      <td>Clause-14a\\t : ['fee'</td>\n",
       "      <td>'charge'</td>\n",
       "      <td>'credit'</td>\n",
       "      <td>'refund'</td>\n",
       "      <td>'annual_fee'</td>\n",
       "      <td>'reverse'</td>\n",
       "      <td>'waive'</td>\n",
       "      <td>'happy'</td>\n",
       "      <td>'want'</td>\n",
       "      <td>'late_payment'</td>\n",
       "      <td>...</td>\n",
       "      <td>'allocate'</td>\n",
       "      <td>'annual_fee'</td>\n",
       "      <td>'rewards_black'</td>\n",
       "      <td>'year'</td>\n",
       "      <td>'receive'</td>\n",
       "      <td>'transfer'</td>\n",
       "      <td>'product'</td>\n",
       "      <td>'days'</td>\n",
       "      <td>'apply'</td>\n",
       "      <td>'rewards_platinum']</td>\n",
       "    </tr>\n",
       "    <tr>\n",
       "      <th>3</th>\n",
       "      <td>Clause-14b\\t : ['fee'</td>\n",
       "      <td>'charge'</td>\n",
       "      <td>'credit'</td>\n",
       "      <td>'refund'</td>\n",
       "      <td>'annual_fee'</td>\n",
       "      <td>'reverse'</td>\n",
       "      <td>'waive'</td>\n",
       "      <td>'happy'</td>\n",
       "      <td>'want'</td>\n",
       "      <td>'late_payment'</td>\n",
       "      <td>...</td>\n",
       "      <td>'need'</td>\n",
       "      <td>'response'</td>\n",
       "      <td>'refer'</td>\n",
       "      <td>'phone'</td>\n",
       "      <td>'time'</td>\n",
       "      <td>'number'</td>\n",
       "      <td>'team'</td>\n",
       "      <td>'want'</td>\n",
       "      <td>'concern'</td>\n",
       "      <td>'like']</td>\n",
       "    </tr>\n",
       "    <tr>\n",
       "      <th>4</th>\n",
       "      <td>Clause-15\\t : ['happy'</td>\n",
       "      <td>'apologise'</td>\n",
       "      <td>'provide'</td>\n",
       "      <td>'unhappy'</td>\n",
       "      <td>'receive'</td>\n",
       "      <td>'poor_service'</td>\n",
       "      <td>'want'</td>\n",
       "      <td>'send'</td>\n",
       "      <td>'feedback'</td>\n",
       "      <td>'service'</td>\n",
       "      <td>...</td>\n",
       "      <td>'open'</td>\n",
       "      <td>'apologise'</td>\n",
       "      <td>'closure'</td>\n",
       "      <td>'happy'</td>\n",
       "      <td>'visit'</td>\n",
       "      <td>'feedback_passed'</td>\n",
       "      <td>'want'</td>\n",
       "      <td>'staff_member'</td>\n",
       "      <td>'provide'</td>\n",
       "      <td>'feedback']</td>\n",
       "    </tr>\n",
       "    <tr>\n",
       "      <th>5</th>\n",
       "      <td>Clause-16\\t : ['fee'</td>\n",
       "      <td>'charge'</td>\n",
       "      <td>'credit'</td>\n",
       "      <td>'refund'</td>\n",
       "      <td>'annual_fee'</td>\n",
       "      <td>'reverse'</td>\n",
       "      <td>'waive'</td>\n",
       "      <td>'happy'</td>\n",
       "      <td>'want'</td>\n",
       "      <td>'late_payment'</td>\n",
       "      <td>...</td>\n",
       "      <td>'open'</td>\n",
       "      <td>'apologise'</td>\n",
       "      <td>'closure'</td>\n",
       "      <td>'happy'</td>\n",
       "      <td>'visit'</td>\n",
       "      <td>'feedback_passed'</td>\n",
       "      <td>'want'</td>\n",
       "      <td>'staff_member'</td>\n",
       "      <td>'provide'</td>\n",
       "      <td>'feedback']</td>\n",
       "    </tr>\n",
       "    <tr>\n",
       "      <th>6</th>\n",
       "      <td>Clause-17\\t : ['fee'</td>\n",
       "      <td>'charge'</td>\n",
       "      <td>'credit'</td>\n",
       "      <td>'refund'</td>\n",
       "      <td>'annual_fee'</td>\n",
       "      <td>'reverse'</td>\n",
       "      <td>'waive'</td>\n",
       "      <td>'happy'</td>\n",
       "      <td>'want'</td>\n",
       "      <td>'late_payment'</td>\n",
       "      <td>...</td>\n",
       "      <td>'try'</td>\n",
       "      <td>'work'</td>\n",
       "      <td>'come'</td>\n",
       "      <td>'ask'</td>\n",
       "      <td>'day'</td>\n",
       "      <td>'inform'</td>\n",
       "      <td>'happen'</td>\n",
       "      <td>'ring'</td>\n",
       "      <td>'issue'</td>\n",
       "      <td>'speak']</td>\n",
       "    </tr>\n",
       "    <tr>\n",
       "      <th>7</th>\n",
       "      <td>Clause-18\\t : ['happy'</td>\n",
       "      <td>'apologise'</td>\n",
       "      <td>'provide'</td>\n",
       "      <td>'unhappy'</td>\n",
       "      <td>'receive'</td>\n",
       "      <td>'poor_service'</td>\n",
       "      <td>'want'</td>\n",
       "      <td>'send'</td>\n",
       "      <td>'feedback'</td>\n",
       "      <td>'service'</td>\n",
       "      <td>...</td>\n",
       "      <td>'cause'</td>\n",
       "      <td>'apply'</td>\n",
       "      <td>'apologise'</td>\n",
       "      <td>'resolve'</td>\n",
       "      <td>'credit'</td>\n",
       "      <td>'open'</td>\n",
       "      <td>'progress_saver'</td>\n",
       "      <td>'lose'</td>\n",
       "      <td>'educate'</td>\n",
       "      <td>'unhappy']</td>\n",
       "    </tr>\n",
       "    <tr>\n",
       "      <th>8</th>\n",
       "      <td>Clause-18.1\\t : ['point'</td>\n",
       "      <td>'frequent_flyer'</td>\n",
       "      <td>'bonus_points'</td>\n",
       "      <td>'apply'</td>\n",
       "      <td>'black'</td>\n",
       "      <td>'eligible'</td>\n",
       "      <td>'offer'</td>\n",
       "      <td>'credit'</td>\n",
       "      <td>'receive'</td>\n",
       "      <td>'platinum'</td>\n",
       "      <td>...</td>\n",
       "      <td>'cause'</td>\n",
       "      <td>'apply'</td>\n",
       "      <td>'apologise'</td>\n",
       "      <td>'resolve'</td>\n",
       "      <td>'credit'</td>\n",
       "      <td>'open'</td>\n",
       "      <td>'progress_saver'</td>\n",
       "      <td>'lose'</td>\n",
       "      <td>'educate'</td>\n",
       "      <td>'unhappy']</td>\n",
       "    </tr>\n",
       "    <tr>\n",
       "      <th>9</th>\n",
       "      <td>Clause-18.2\\t : ['happy'</td>\n",
       "      <td>'apologise'</td>\n",
       "      <td>'provide'</td>\n",
       "      <td>'unhappy'</td>\n",
       "      <td>'receive'</td>\n",
       "      <td>'poor_service'</td>\n",
       "      <td>'want'</td>\n",
       "      <td>'send'</td>\n",
       "      <td>'feedback'</td>\n",
       "      <td>'service'</td>\n",
       "      <td>...</td>\n",
       "      <td>'concern'</td>\n",
       "      <td>'close'</td>\n",
       "      <td>'case'</td>\n",
       "      <td>'com'</td>\n",
       "      <td>'registration'</td>\n",
       "      <td>'email'</td>\n",
       "      <td>'offer'</td>\n",
       "      <td>'state'</td>\n",
       "      <td>'confirm'</td>\n",
       "      <td>'copy']</td>\n",
       "    </tr>\n",
       "    <tr>\n",
       "      <th>10</th>\n",
       "      <td>Clause-18.3_19\\t : ['close'</td>\n",
       "      <td>'credit'</td>\n",
       "      <td>'request'</td>\n",
       "      <td>'closure'</td>\n",
       "      <td>'want'</td>\n",
       "      <td>'direct_debit'</td>\n",
       "      <td>'balance'</td>\n",
       "      <td>'debit'</td>\n",
       "      <td>'cancel'</td>\n",
       "      <td>'access_advantage'</td>\n",
       "      <td>...</td>\n",
       "      <td>'visa'</td>\n",
       "      <td>'platinum'</td>\n",
       "      <td>'happy'</td>\n",
       "      <td>'charge'</td>\n",
       "      <td>'issue'</td>\n",
       "      <td>'date'</td>\n",
       "      <td>'current'</td>\n",
       "      <td>'total'</td>\n",
       "      <td>'understand'</td>\n",
       "      <td>'review']</td>\n",
       "    </tr>\n",
       "    <tr>\n",
       "      <th>11</th>\n",
       "      <td>Clause-21\\t : ['close'</td>\n",
       "      <td>'credit'</td>\n",
       "      <td>'request'</td>\n",
       "      <td>'closure'</td>\n",
       "      <td>'want'</td>\n",
       "      <td>'direct_debit'</td>\n",
       "      <td>'balance'</td>\n",
       "      <td>'debit'</td>\n",
       "      <td>'cancel'</td>\n",
       "      <td>'access_advantage'</td>\n",
       "      <td>...</td>\n",
       "      <td>'poor_service'</td>\n",
       "      <td>'want'</td>\n",
       "      <td>'send'</td>\n",
       "      <td>'feedback'</td>\n",
       "      <td>'service'</td>\n",
       "      <td>'consultant'</td>\n",
       "      <td>'experience'</td>\n",
       "      <td>'feedback_passed'</td>\n",
       "      <td>'team'</td>\n",
       "      <td>'issue']</td>\n",
       "    </tr>\n",
       "    <tr>\n",
       "      <th>12</th>\n",
       "      <td>Clause-22\\t : ['dispute'</td>\n",
       "      <td>'transaction'</td>\n",
       "      <td>'transactions'</td>\n",
       "      <td>'refund'</td>\n",
       "      <td>'debit'</td>\n",
       "      <td>'fraud'</td>\n",
       "      <td>'merchant'</td>\n",
       "      <td>'process'</td>\n",
       "      <td>'credit'</td>\n",
       "      <td>'cancel'</td>\n",
       "      <td>...</td>\n",
       "      <td>'concern'</td>\n",
       "      <td>'close'</td>\n",
       "      <td>'case'</td>\n",
       "      <td>'com'</td>\n",
       "      <td>'registration'</td>\n",
       "      <td>'email'</td>\n",
       "      <td>'offer'</td>\n",
       "      <td>'state'</td>\n",
       "      <td>'confirm'</td>\n",
       "      <td>'copy']</td>\n",
       "    </tr>\n",
       "    <tr>\n",
       "      <th>13</th>\n",
       "      <td>Clause-23\\t : ['fund'</td>\n",
       "      <td>'transfer'</td>\n",
       "      <td>'process'</td>\n",
       "      <td>'receive'</td>\n",
       "      <td>'days'</td>\n",
       "      <td>'payment'</td>\n",
       "      <td>'request'</td>\n",
       "      <td>'happy'</td>\n",
       "      <td>'credit'</td>\n",
       "      <td>'international'</td>\n",
       "      <td>...</td>\n",
       "      <td>'poor_service'</td>\n",
       "      <td>'want'</td>\n",
       "      <td>'send'</td>\n",
       "      <td>'feedback'</td>\n",
       "      <td>'service'</td>\n",
       "      <td>'consultant'</td>\n",
       "      <td>'experience'</td>\n",
       "      <td>'feedback_passed'</td>\n",
       "      <td>'team'</td>\n",
       "      <td>'issue']</td>\n",
       "    </tr>\n",
       "    <tr>\n",
       "      <th>14</th>\n",
       "      <td>Clause-24\\t : ['contact'</td>\n",
       "      <td>'information'</td>\n",
       "      <td>'provide'</td>\n",
       "      <td>'email'</td>\n",
       "      <td>'ask'</td>\n",
       "      <td>'need'</td>\n",
       "      <td>'response'</td>\n",
       "      <td>'refer'</td>\n",
       "      <td>'phone'</td>\n",
       "      <td>'time'</td>\n",
       "      <td>...</td>\n",
       "      <td>'open'</td>\n",
       "      <td>'apologise'</td>\n",
       "      <td>'closure'</td>\n",
       "      <td>'happy'</td>\n",
       "      <td>'visit'</td>\n",
       "      <td>'feedback_passed'</td>\n",
       "      <td>'want'</td>\n",
       "      <td>'staff_member'</td>\n",
       "      <td>'provide'</td>\n",
       "      <td>'feedback']</td>\n",
       "    </tr>\n",
       "    <tr>\n",
       "      <th>15</th>\n",
       "      <td>Clause-25\\t : ['happy'</td>\n",
       "      <td>'apologise'</td>\n",
       "      <td>'provide'</td>\n",
       "      <td>'unhappy'</td>\n",
       "      <td>'receive'</td>\n",
       "      <td>'poor_service'</td>\n",
       "      <td>'want'</td>\n",
       "      <td>'send'</td>\n",
       "      <td>'feedback'</td>\n",
       "      <td>'service'</td>\n",
       "      <td>...</td>\n",
       "      <td>'teller'</td>\n",
       "      <td>'blr_template'</td>\n",
       "      <td>'wait'</td>\n",
       "      <td>'people'</td>\n",
       "      <td>'like'</td>\n",
       "      <td>'case_actioned'</td>\n",
       "      <td>'know'</td>\n",
       "      <td>'transgender_marriage'</td>\n",
       "      <td>'train'</td>\n",
       "      <td>'today']</td>\n",
       "    </tr>\n",
       "    <tr>\n",
       "      <th>16</th>\n",
       "      <td>Clause-26\\t : ['send'</td>\n",
       "      <td>'receive'</td>\n",
       "      <td>'email'</td>\n",
       "      <td>'letter'</td>\n",
       "      <td>'request'</td>\n",
       "      <td>'statement'</td>\n",
       "      <td>'statements'</td>\n",
       "      <td>'mail'</td>\n",
       "      <td>'address'</td>\n",
       "      <td>'apologise'</td>\n",
       "      <td>...</td>\n",
       "      <td>'order'</td>\n",
       "      <td>'online'</td>\n",
       "      <td>'issue'</td>\n",
       "      <td>'joint'</td>\n",
       "      <td>'security'</td>\n",
       "      <td>'want'</td>\n",
       "      <td>'pin'</td>\n",
       "      <td>'need'</td>\n",
       "      <td>'son'</td>\n",
       "      <td>'view']</td>\n",
       "    </tr>\n",
       "    <tr>\n",
       "      <th>17</th>\n",
       "      <td>Clause-27\\t : ['service'</td>\n",
       "      <td>'financial_ombudsman'</td>\n",
       "      <td>'provide'</td>\n",
       "      <td>'request'</td>\n",
       "      <td>'receive'</td>\n",
       "      <td>'concern'</td>\n",
       "      <td>'close'</td>\n",
       "      <td>'case'</td>\n",
       "      <td>'com'</td>\n",
       "      <td>'registration'</td>\n",
       "      <td>...</td>\n",
       "      <td>'need'</td>\n",
       "      <td>'response'</td>\n",
       "      <td>'refer'</td>\n",
       "      <td>'phone'</td>\n",
       "      <td>'time'</td>\n",
       "      <td>'number'</td>\n",
       "      <td>'team'</td>\n",
       "      <td>'want'</td>\n",
       "      <td>'concern'</td>\n",
       "      <td>'like']</td>\n",
       "    </tr>\n",
       "    <tr>\n",
       "      <th>18</th>\n",
       "      <td>Clause-28\\t : ['months'</td>\n",
       "      <td>'hardship'</td>\n",
       "      <td>'offer'</td>\n",
       "      <td>'discuss'</td>\n",
       "      <td>'arrangement'</td>\n",
       "      <td>'matter'</td>\n",
       "      <td>'decision'</td>\n",
       "      <td>'debt'</td>\n",
       "      <td>'letter'</td>\n",
       "      <td>'nzs'</td>\n",
       "      <td>...</td>\n",
       "      <td>'concern'</td>\n",
       "      <td>'close'</td>\n",
       "      <td>'case'</td>\n",
       "      <td>'com'</td>\n",
       "      <td>'registration'</td>\n",
       "      <td>'email'</td>\n",
       "      <td>'offer'</td>\n",
       "      <td>'state'</td>\n",
       "      <td>'confirm'</td>\n",
       "      <td>'copy']</td>\n",
       "    </tr>\n",
       "    <tr>\n",
       "      <th>19</th>\n",
       "      <td>Clause-29\\t : ['happy'</td>\n",
       "      <td>'apologise'</td>\n",
       "      <td>'provide'</td>\n",
       "      <td>'unhappy'</td>\n",
       "      <td>'receive'</td>\n",
       "      <td>'poor_service'</td>\n",
       "      <td>'want'</td>\n",
       "      <td>'send'</td>\n",
       "      <td>'feedback'</td>\n",
       "      <td>'service'</td>\n",
       "      <td>...</td>\n",
       "      <td>'concern'</td>\n",
       "      <td>'close'</td>\n",
       "      <td>'case'</td>\n",
       "      <td>'com'</td>\n",
       "      <td>'registration'</td>\n",
       "      <td>'email'</td>\n",
       "      <td>'offer'</td>\n",
       "      <td>'state'</td>\n",
       "      <td>'confirm'</td>\n",
       "      <td>'copy']</td>\n",
       "    </tr>\n",
       "  </tbody>\n",
       "</table>\n",
       "<p>20 rows × 45 columns</p>\n",
       "</div>"
      ],
      "text/plain": [
       "       Clause-11\\t : ['contact'           'information'        'provide'  \\\n",
       "0     Clause-12_20\\t : ['happy'             'apologise'        'provide'   \n",
       "1         Clause-13\\t : ['send'               'receive'          'email'   \n",
       "2         Clause-14a\\t : ['fee'                'charge'         'credit'   \n",
       "3         Clause-14b\\t : ['fee'                'charge'         'credit'   \n",
       "4        Clause-15\\t : ['happy'             'apologise'        'provide'   \n",
       "5          Clause-16\\t : ['fee'                'charge'         'credit'   \n",
       "6          Clause-17\\t : ['fee'                'charge'         'credit'   \n",
       "7        Clause-18\\t : ['happy'             'apologise'        'provide'   \n",
       "8      Clause-18.1\\t : ['point'        'frequent_flyer'   'bonus_points'   \n",
       "9      Clause-18.2\\t : ['happy'             'apologise'        'provide'   \n",
       "10  Clause-18.3_19\\t : ['close'                'credit'        'request'   \n",
       "11       Clause-21\\t : ['close'                'credit'        'request'   \n",
       "12     Clause-22\\t : ['dispute'           'transaction'   'transactions'   \n",
       "13        Clause-23\\t : ['fund'              'transfer'        'process'   \n",
       "14     Clause-24\\t : ['contact'           'information'        'provide'   \n",
       "15       Clause-25\\t : ['happy'             'apologise'        'provide'   \n",
       "16        Clause-26\\t : ['send'               'receive'          'email'   \n",
       "17     Clause-27\\t : ['service'   'financial_ombudsman'        'provide'   \n",
       "18      Clause-28\\t : ['months'              'hardship'          'offer'   \n",
       "19       Clause-29\\t : ['happy'             'apologise'        'provide'   \n",
       "\n",
       "       'email'           'ask'           'need'     'response'     'refer'  \\\n",
       "0    'unhappy'       'receive'   'poor_service'         'want'      'send'   \n",
       "1     'letter'       'request'      'statement'   'statements'      'mail'   \n",
       "2     'refund'    'annual_fee'        'reverse'        'waive'     'happy'   \n",
       "3     'refund'    'annual_fee'        'reverse'        'waive'     'happy'   \n",
       "4    'unhappy'       'receive'   'poor_service'         'want'      'send'   \n",
       "5     'refund'    'annual_fee'        'reverse'        'waive'     'happy'   \n",
       "6     'refund'    'annual_fee'        'reverse'        'waive'     'happy'   \n",
       "7    'unhappy'       'receive'   'poor_service'         'want'      'send'   \n",
       "8      'apply'         'black'       'eligible'        'offer'    'credit'   \n",
       "9    'unhappy'       'receive'   'poor_service'         'want'      'send'   \n",
       "10   'closure'          'want'   'direct_debit'      'balance'     'debit'   \n",
       "11   'closure'          'want'   'direct_debit'      'balance'     'debit'   \n",
       "12    'refund'         'debit'          'fraud'     'merchant'   'process'   \n",
       "13   'receive'          'days'        'payment'      'request'     'happy'   \n",
       "14     'email'           'ask'           'need'     'response'     'refer'   \n",
       "15   'unhappy'       'receive'   'poor_service'         'want'      'send'   \n",
       "16    'letter'       'request'      'statement'   'statements'      'mail'   \n",
       "17   'request'       'receive'        'concern'        'close'      'case'   \n",
       "18   'discuss'   'arrangement'         'matter'     'decision'      'debt'   \n",
       "19   'unhappy'       'receive'   'poor_service'         'want'      'send'   \n",
       "\n",
       "        'phone'               'time'          ...             'direct_debit'  \\\n",
       "0    'feedback'            'service'          ...                  'reverse'   \n",
       "1     'address'          'apologise'          ...                  'concern'   \n",
       "2        'want'       'late_payment'          ...                 'allocate'   \n",
       "3        'want'       'late_payment'          ...                     'need'   \n",
       "4    'feedback'            'service'          ...                     'open'   \n",
       "5        'want'       'late_payment'          ...                     'open'   \n",
       "6        'want'       'late_payment'          ...                      'try'   \n",
       "7    'feedback'            'service'          ...                    'cause'   \n",
       "8     'receive'           'platinum'          ...                    'cause'   \n",
       "9    'feedback'            'service'          ...                  'concern'   \n",
       "10     'cancel'   'access_advantage'          ...                     'visa'   \n",
       "11     'cancel'   'access_advantage'          ...             'poor_service'   \n",
       "12     'credit'             'cancel'          ...                  'concern'   \n",
       "13     'credit'      'international'          ...             'poor_service'   \n",
       "14      'phone'               'time'          ...                     'open'   \n",
       "15   'feedback'            'service'          ...                   'teller'   \n",
       "16    'address'          'apologise'          ...                    'order'   \n",
       "17        'com'       'registration'          ...                     'need'   \n",
       "18     'letter'                'nzs'          ...                  'concern'   \n",
       "19   'feedback'            'service'          ...                  'concern'   \n",
       "\n",
       "          'balance'           'debit'     'cancel'  'access_advantage'  \\\n",
       "0           'waive'           'happy'       'want'      'late_payment'   \n",
       "1           'close'            'case'        'com'      'registration'   \n",
       "2      'annual_fee'   'rewards_black'       'year'           'receive'   \n",
       "3        'response'           'refer'      'phone'              'time'   \n",
       "4       'apologise'         'closure'      'happy'             'visit'   \n",
       "5       'apologise'         'closure'      'happy'             'visit'   \n",
       "6            'work'            'come'        'ask'               'day'   \n",
       "7           'apply'       'apologise'    'resolve'            'credit'   \n",
       "8           'apply'       'apologise'    'resolve'            'credit'   \n",
       "9           'close'            'case'        'com'      'registration'   \n",
       "10       'platinum'           'happy'     'charge'             'issue'   \n",
       "11           'want'            'send'   'feedback'           'service'   \n",
       "12          'close'            'case'        'com'      'registration'   \n",
       "13           'want'            'send'   'feedback'           'service'   \n",
       "14      'apologise'         'closure'      'happy'             'visit'   \n",
       "15   'blr_template'            'wait'     'people'              'like'   \n",
       "16         'online'           'issue'      'joint'          'security'   \n",
       "17       'response'           'refer'      'phone'              'time'   \n",
       "18          'close'            'case'        'com'      'registration'   \n",
       "19          'close'            'case'        'com'      'registration'   \n",
       "\n",
       "                'open'          'process'                'confirm'  \\\n",
       "0          'reimburse'              'pay'                    'gwg'   \n",
       "1              'email'            'offer'                  'state'   \n",
       "2           'transfer'          'product'                   'days'   \n",
       "3             'number'             'team'                   'want'   \n",
       "4    'feedback_passed'             'want'           'staff_member'   \n",
       "5    'feedback_passed'             'want'           'staff_member'   \n",
       "6             'inform'           'happen'                   'ring'   \n",
       "7               'open'   'progress_saver'                   'lose'   \n",
       "8               'open'   'progress_saver'                   'lose'   \n",
       "9              'email'            'offer'                  'state'   \n",
       "10              'date'          'current'                  'total'   \n",
       "11        'consultant'       'experience'        'feedback_passed'   \n",
       "12             'email'            'offer'                  'state'   \n",
       "13        'consultant'       'experience'        'feedback_passed'   \n",
       "14   'feedback_passed'             'want'           'staff_member'   \n",
       "15     'case_actioned'             'know'   'transgender_marriage'   \n",
       "16              'want'              'pin'                   'need'   \n",
       "17            'number'             'team'                   'want'   \n",
       "18             'email'            'offer'                  'state'   \n",
       "19             'email'            'offer'                  'state'   \n",
       "\n",
       "            'end'          'reinstate']   \n",
       "0       'unhappy'               'year']   \n",
       "1       'confirm'               'copy']   \n",
       "2         'apply'   'rewards_platinum']   \n",
       "3       'concern'               'like']   \n",
       "4       'provide'           'feedback']   \n",
       "5       'provide'           'feedback']   \n",
       "6         'issue'              'speak']   \n",
       "7       'educate'            'unhappy']   \n",
       "8       'educate'            'unhappy']   \n",
       "9       'confirm'               'copy']   \n",
       "10   'understand'             'review']   \n",
       "11         'team'              'issue']   \n",
       "12      'confirm'               'copy']   \n",
       "13         'team'              'issue']   \n",
       "14      'provide'           'feedback']   \n",
       "15        'train'              'today']   \n",
       "16          'son'               'view']   \n",
       "17      'concern'               'like']   \n",
       "18      'confirm'               'copy']   \n",
       "19      'confirm'               'copy']   \n",
       "\n",
       "[20 rows x 45 columns]"
      ]
     },
     "execution_count": 431,
     "metadata": {},
     "output_type": "execute_result"
    }
   ],
   "source": [
    "\n",
    "\n",
    "import os, pandas as pd\n",
    "# Add asset from file system\n",
    "df_data_1 = pd.read_csv(os.environ['DSX_PROJECT_DIR']+'/datasets/keywords_per_clause_36_40_usable.csv')\n",
    "df_data_1.head(20)\n",
    "\n"
   ]
  },
  {
   "cell_type": "code",
   "execution_count": null,
   "metadata": {
    "collapsed": true,
    "deletable": true,
    "editable": true
   },
   "outputs": [],
   "source": []
  },
  {
   "cell_type": "code",
   "execution_count": null,
   "metadata": {
    "collapsed": true,
    "deletable": true,
    "editable": true
   },
   "outputs": [],
   "source": []
  },
  {
   "cell_type": "code",
   "execution_count": null,
   "metadata": {
    "collapsed": true,
    "deletable": true,
    "editable": true
   },
   "outputs": [],
   "source": []
  },
  {
   "cell_type": "code",
   "execution_count": null,
   "metadata": {
    "collapsed": true,
    "deletable": true,
    "editable": true
   },
   "outputs": [],
   "source": []
  },
  {
   "cell_type": "code",
   "execution_count": null,
   "metadata": {
    "collapsed": true,
    "deletable": true,
    "editable": true
   },
   "outputs": [],
   "source": []
  },
  {
   "cell_type": "code",
   "execution_count": null,
   "metadata": {
    "collapsed": true,
    "deletable": true,
    "editable": true
   },
   "outputs": [],
   "source": []
  },
  {
   "cell_type": "code",
   "execution_count": null,
   "metadata": {
    "collapsed": true,
    "deletable": true,
    "editable": true
   },
   "outputs": [],
   "source": []
  },
  {
   "cell_type": "code",
   "execution_count": null,
   "metadata": {
    "collapsed": true,
    "deletable": true,
    "editable": true
   },
   "outputs": [],
   "source": []
  },
  {
   "cell_type": "code",
   "execution_count": null,
   "metadata": {
    "collapsed": true,
    "deletable": true,
    "editable": true
   },
   "outputs": [],
   "source": []
  },
  {
   "cell_type": "code",
   "execution_count": null,
   "metadata": {
    "collapsed": true,
    "deletable": true,
    "editable": true
   },
   "outputs": [],
   "source": []
  },
  {
   "cell_type": "code",
   "execution_count": null,
   "metadata": {
    "collapsed": false,
    "deletable": true,
    "editable": true
   },
   "outputs": [],
   "source": [
    "# phrased = []\n",
    "# for each in train_text_final:\n",
    "#     phrased.append(get_phraser[each])\n",
    "\n",
    "# keywords_df['finalized_tokens'] = phrased"
   ]
  },
  {
   "cell_type": "code",
   "execution_count": null,
   "metadata": {
    "collapsed": true,
    "deletable": true,
    "editable": true
   },
   "outputs": [],
   "source": []
  },
  {
   "cell_type": "code",
   "execution_count": null,
   "metadata": {
    "collapsed": true,
    "deletable": true,
    "editable": true
   },
   "outputs": [],
   "source": []
  },
  {
   "cell_type": "code",
   "execution_count": null,
   "metadata": {
    "collapsed": true,
    "deletable": true,
    "editable": true
   },
   "outputs": [],
   "source": []
  },
  {
   "cell_type": "code",
   "execution_count": null,
   "metadata": {
    "collapsed": false,
    "deletable": true,
    "editable": true
   },
   "outputs": [],
   "source": []
  },
  {
   "cell_type": "code",
   "execution_count": null,
   "metadata": {
    "collapsed": false,
    "deletable": true,
    "editable": true
   },
   "outputs": [],
   "source": []
  },
  {
   "cell_type": "code",
   "execution_count": null,
   "metadata": {
    "collapsed": false,
    "deletable": true,
    "editable": true
   },
   "outputs": [],
   "source": [
    "# from wordsegment import load, segment\n",
    "# load()\n",
    "# print(segment('providedcustomer'))"
   ]
  },
  {
   "cell_type": "code",
   "execution_count": null,
   "metadata": {
    "collapsed": false,
    "deletable": true,
    "editable": true
   },
   "outputs": [],
   "source": [
    "#!pip install --user wordsegment"
   ]
  },
  {
   "cell_type": "code",
   "execution_count": null,
   "metadata": {
    "collapsed": true,
    "deletable": true,
    "editable": true
   },
   "outputs": [],
   "source": []
  },
  {
   "cell_type": "code",
   "execution_count": null,
   "metadata": {
    "collapsed": true,
    "deletable": true,
    "editable": true
   },
   "outputs": [],
   "source": []
  },
  {
   "cell_type": "code",
   "execution_count": null,
   "metadata": {
    "collapsed": true,
    "deletable": true,
    "editable": true
   },
   "outputs": [],
   "source": [
    "# from nltk.stem import WordNetLemmatizer\n",
    "# lemmatizer = WordNetLemmatizer()\n",
    "\n",
    "# from nltk.stem.snowball import SnowballStemmer\n",
    "# stemmer = SnowballStemmer(\"english\")\n",
    "\n",
    "# def process_texts(tokens):\n",
    "#     \"\"\"Removes stop words, Stemming,\n",
    "#        Lemmatization assuming verb\"\"\"\n",
    "    \n",
    "#     tokens = [token for token in tokens if token not in stop_words and custom_stopwords]\n",
    "#     tokens = bigram_phraser[tokens]\n",
    "#     tokens = trigram_phraser[tokens]\n",
    "# #     tokens = [stemmer.stem(token) for token in tokens]\n",
    "#     tokens = [lemmatizer.lemmatize(word, pos='v') for word in tokens]\n",
    "#     return tokens"
   ]
  },
  {
   "cell_type": "code",
   "execution_count": null,
   "metadata": {
    "collapsed": false,
    "deletable": true,
    "editable": true
   },
   "outputs": [],
   "source": [
    "# %matplotlib inline\n",
    "# from nltk import FreqDist\n",
    "# words = trigram_phraser[]\n",
    "# fd =FreqDist(words)\n",
    "# fd.plot(30,cumulative=False,title=\"Word Frequency\")"
   ]
  },
  {
   "cell_type": "code",
   "execution_count": null,
   "metadata": {
    "collapsed": false,
    "deletable": true,
    "editable": true
   },
   "outputs": [],
   "source": [
    "#bigram_phraser([[u'account', u'holder', u'of', u'new', u'york', u'was', u'there']])"
   ]
  },
  {
   "cell_type": "code",
   "execution_count": null,
   "metadata": {
    "collapsed": false,
    "deletable": true,
    "editable": true
   },
   "outputs": [],
   "source": [
    "# from gensim.models import Phrases\n",
    "# documents = [\"the mayor of new york was there\", \"machine learning can be useful sometimes\",\"new york mayor was present\"]\n",
    "# sentence_stream = [doc.split(\" \") for doc in documents]\n",
    "# bigram = Phrases(sentence_stream, min_count=1, threshold=3)\n",
    "# sent = [u'account', u'holder', u'of', u'new', u'york', u'credit', u'card']\n",
    "# print(bigram[sent])"
   ]
  },
  {
   "cell_type": "code",
   "execution_count": null,
   "metadata": {
    "collapsed": true,
    "deletable": true,
    "editable": true
   },
   "outputs": [],
   "source": [
    "# from nltk.stem import WordNetLemmatizer\n",
    "# lemmatizer = WordNetLemmatizer()\n",
    "\n",
    "# from nltk.stem.snowball import SnowballStemmer\n",
    "# stemmer = SnowballStemmer(\"english\")\n",
    "\n",
    "# def process_texts(tokens):\n",
    "#     \"\"\"Removes stop words, Stemming,\n",
    "#        Lemmatization assuming verb\"\"\"\n",
    "    \n",
    "#     tokens = [token for token in tokens if token not in stop_words]\n",
    "#     tokens = bigram_phraser[tokens]\n",
    "#     tokens = trigram_phraser[tokens]\n",
    "# #     tokens = [stemmer.stem(token) for token in tokens]\n",
    "#     tokens = [lemmatizer.lemmatize(word, pos='v') for word in tokens]\n",
    "#     return tokens"
   ]
  },
  {
   "cell_type": "code",
   "execution_count": null,
   "metadata": {
    "collapsed": false,
    "deletable": true,
    "editable": true
   },
   "outputs": [],
   "source": [
    "# %%time\n",
    "\n",
    "# final_texts = []\n",
    "\n",
    "# for line in train_texts:\n",
    "#     final_texts.append(process_texts(line))"
   ]
  },
  {
   "cell_type": "code",
   "execution_count": null,
   "metadata": {
    "collapsed": false,
    "deletable": true,
    "editable": true
   },
   "outputs": [],
   "source": [
    "# keywords_df['tokens'] = train_texts\n",
    "# #keywords_df['tokens'][0]\n",
    "# #set(keywords_df['tokens'][0])"
   ]
  },
  {
   "cell_type": "code",
   "execution_count": null,
   "metadata": {
    "collapsed": false,
    "deletable": true,
    "editable": true
   },
   "outputs": [],
   "source": [
    "# from gingerit.gingerit import GingerIt\n",
    "# parser = GingerIt()\n",
    "# line=\"responses\"\n",
    "# tweet=parser.parse(line)\n",
    "# lemmatizer.lemmatize(tweet['corrections'][0]['text'],pos='v')"
   ]
  }
 ],
 "metadata": {
  "anaconda-cloud": {},
  "kernelspec": {
   "display_name": "Python3.5 with Watson Studio Spark 2.2.1",
   "language": "python",
   "name": "python3"
  },
  "language_info": {
   "codemirror_mode": {
    "name": "ipython",
    "version": 3
   },
   "file_extension": ".py",
   "mimetype": "text/x-python",
   "name": "python",
   "nbconvert_exporter": "python",
   "pygments_lexer": "ipython3",
   "version": "3.5.5"
  }
 },
 "nbformat": 4,
 "nbformat_minor": 2
}
