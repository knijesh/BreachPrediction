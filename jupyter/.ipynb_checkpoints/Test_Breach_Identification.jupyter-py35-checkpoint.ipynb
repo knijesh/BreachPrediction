{
 "cells": [
  {
   "cell_type": "code",
   "execution_count": 1,
   "metadata": {
    "collapsed": false,
    "deletable": true,
    "editable": true,
    "scrolled": true
   },
   "outputs": [
    {
     "name": "stdout",
     "output_type": "stream",
     "text": [
      "[nltk_data] Downloading package punkt to /user-home/1077/nltk_data...\n",
      "[nltk_data]   Package punkt is already up-to-date!\n"
     ]
    }
   ],
   "source": [
    "import pandas as pd\n",
    "import matplotlib.pyplot as plt\n",
    "import numpy as np\n",
    "import warnings\n",
    "from IPython.display import display, HTML\n",
    "import sys,os\n",
    "import pandas as pd\n",
    "import copy\n",
    "\n",
    "sys.path.insert(0, '../scripts/')\n",
    "from nlp_preprocess import *\n",
    "from custom_transformers import *\n",
    "warnings.filterwarnings(\"ignore\")\n"
   ]
  },
  {
   "cell_type": "markdown",
   "metadata": {
    "deletable": true,
    "editable": true
   },
   "source": [
    "### Modelling and Sampling Libraries."
   ]
  },
  {
   "cell_type": "code",
   "execution_count": 2,
   "metadata": {
    "collapsed": false,
    "deletable": true,
    "editable": true
   },
   "outputs": [],
   "source": [
    "%matplotlib inline\n",
    "from sklearn.metrics import recall_score,accuracy_score,confusion_matrix, f1_score, precision_score,average_precision_score,auc,roc_auc_score,roc_curve, precision_recall_curve,fbeta_score\n",
    "from imblearn.over_sampling import SMOTE, RandomOverSampler\n",
    "from imblearn.under_sampling import ClusterCentroids,NearMiss, RandomUnderSampler\n",
    "from imblearn.combine import SMOTEENN,SMOTETomek\n",
    "from imblearn.ensemble import BalanceCascade\n",
    "from imblearn.over_sampling import BorderlineSMOTE, SMOTE, ADASYN, SMOTENC, RandomOverSampler\n",
    "from imblearn.under_sampling import (RandomUnderSampler, \n",
    "                                    NearMiss, \n",
    "                                    InstanceHardnessThreshold,\n",
    "                                    CondensedNearestNeighbour,\n",
    "                                    EditedNearestNeighbours,\n",
    "                                    RepeatedEditedNearestNeighbours,\n",
    "                                    AllKNN,\n",
    "                                    NeighbourhoodCleaningRule,\n",
    "                                    OneSidedSelection,\n",
    "                                    TomekLinks)\n",
    "from imblearn.combine import SMOTEENN, SMOTETomek\n",
    "from imblearn.pipeline import make_pipeline,Pipeline\n",
    "from sklearn.linear_model import LogisticRegression\n",
    "from sklearn.model_selection import KFold, cross_val_score\n",
    "from sklearn.model_selection import GridSearchCV\n",
    "from sklearn.metrics import confusion_matrix,precision_recall_curve,auc,roc_auc_score,roc_curve,recall_score,classification_report \n",
    "from sklearn.model_selection import train_test_split,StratifiedKFold\n",
    "from sklearn.preprocessing import StandardScaler\n",
    "from sklearn.feature_extraction.text import TfidfVectorizer,TfidfTransformer,HashingVectorizer,CountVectorizer\n",
    "from xgboost import plot_importance\n",
    "from xgboost import XGBClassifier\n",
    "from sklearn.model_selection import GridSearchCV\n",
    "from sklearn.linear_model import LogisticRegression\n",
    "from sklearn import svm\n",
    "from sklearn.ensemble import RandomForestClassifier"
   ]
  },
  {
   "cell_type": "markdown",
   "metadata": {
    "deletable": true,
    "editable": true
   },
   "source": [
    "### Retrieve the Prepared Dataset for 4 Clauses"
   ]
  },
  {
   "cell_type": "code",
   "execution_count": 3,
   "metadata": {
    "collapsed": true,
    "deletable": true,
    "editable": true
   },
   "outputs": [],
   "source": [
    "%store -r breach_final_df\n",
    "data = breach_final_df"
   ]
  },
  {
   "cell_type": "code",
   "execution_count": 4,
   "metadata": {
    "collapsed": false,
    "deletable": true,
    "editable": true
   },
   "outputs": [],
   "source": [
    "data.head()\n",
    "data.drop_duplicates(inplace=True)"
   ]
  },
  {
   "cell_type": "code",
   "execution_count": 5,
   "metadata": {
    "collapsed": false,
    "deletable": true,
    "editable": true
   },
   "outputs": [],
   "source": [
    "# data_final = data[['Breach','keyword_corpus']]\n",
    "# data_final.head()"
   ]
  },
  {
   "cell_type": "markdown",
   "metadata": {
    "deletable": true,
    "editable": true
   },
   "source": [
    "### Preprocessing the data and  creating a feature Pipeline\n"
   ]
  },
  {
   "cell_type": "code",
   "execution_count": 6,
   "metadata": {
    "collapsed": true,
    "deletable": true,
    "editable": true
   },
   "outputs": [],
   "source": [
    "X = data.drop('Breach', axis=1) \n",
    "Y = data['Breach']"
   ]
  },
  {
   "cell_type": "code",
   "execution_count": 7,
   "metadata": {
    "collapsed": true,
    "deletable": true,
    "editable": true
   },
   "outputs": [],
   "source": [
    "# def tokenizer(x):\n",
    "#     return x"
   ]
  },
  {
   "cell_type": "markdown",
   "metadata": {
    "deletable": true,
    "editable": true
   },
   "source": [
    "### Initialise the Custom Transformers from the custom_transformers.py script"
   ]
  },
  {
   "cell_type": "markdown",
   "metadata": {
    "deletable": true,
    "editable": true
   },
   "source": [
    "### Dataframe Feature and Cleansing Transformers"
   ]
  },
  {
   "cell_type": "code",
   "execution_count": 8,
   "metadata": {
    "collapsed": true,
    "deletable": true,
    "editable": true
   },
   "outputs": [],
   "source": [
    "scale_pos_weight = float(np.float(np.sum(data.Breach==0)))/float(np.float(np.sum(data.Breach==1)))\n",
    "drop_transf = DropFeatures(column_list=['ConcernID','IssueID','IssueDescription','ConcernDescription','ResolutionDescription','Clause'])\n",
    "transformer = DataFrameTransformer(column='keyword_corpus')\n",
    "#final_drop = DropFeatures(column_list=['keyword_corpus'])"
   ]
  },
  {
   "cell_type": "markdown",
   "metadata": {
    "deletable": true,
    "editable": true
   },
   "source": [
    "### Feature Extraction and Formation\n",
    "\n",
    "\n",
    "\n"
   ]
  },
  {
   "cell_type": "code",
   "execution_count": 9,
   "metadata": {
    "collapsed": true,
    "deletable": true,
    "editable": true
   },
   "outputs": [],
   "source": [
    "columnextract = ColumnExtractorTransformer(column='features')\n",
    "tfidf = TfidfVectorizer(tokenizer=tokenizer, lowercase=False)\n",
    "#tfidf = TfidfVectorizer(lowercase=False)"
   ]
  },
  {
   "cell_type": "markdown",
   "metadata": {
    "deletable": true,
    "editable": true
   },
   "source": [
    "### Synthetic Minority Oversampling Technique, ADASYN and Other Advanced Feature Engineering Techniques"
   ]
  },
  {
   "cell_type": "code",
   "execution_count": 10,
   "metadata": {
    "collapsed": true,
    "deletable": true,
    "editable": true
   },
   "outputs": [],
   "source": [
    "adasyn = ADASYN(random_state=42)\n",
    "smt = SMOTE(random_state=42)\n",
    "und = RandomUnderSampler(random_state=42)"
   ]
  },
  {
   "cell_type": "markdown",
   "metadata": {
    "deletable": true,
    "editable": true
   },
   "source": [
    "### Initialise the Classifier"
   ]
  },
  {
   "cell_type": "code",
   "execution_count": 11,
   "metadata": {
    "collapsed": false,
    "deletable": true,
    "editable": true
   },
   "outputs": [],
   "source": [
    "scale_pos_weight = float(np.float(np.sum(data.Breach==0)))/float(np.float(np.sum(data.Breach==1)))\n",
    "\n",
    "##98% Recall 17% Precision\n",
    "xgb1 = XGBClassifier(learning_rate=0.01,max_delta_step=1,max_depth=3,min_child_weight=1,scale_pos_weight=scale_pos_weight)\n",
    "\n",
    "# ##97% Recall 18% Precision\n",
    "# xgb2 = XGBClassifier(learning_rate=0.1,max_delta_step=1,max_depth=2,min_child_weight=1,scale_pos_weight=scale_pos_weight)\n",
    "\n",
    "# ##95% Recall 19% Precision\n",
    "# xgb3 = XGBClassifier(learning_rate=0.09,max_delta_step=1,max_depth=3,min_child_weight=1,scale_pos_weight=scale_pos_weight)\n",
    "\n",
    "# ##82% Recall 25% Precision\n",
    "# xgb4 = XGBClassifier(learning_rate=0.3,max_delta_step=1,max_depth=3,min_child_weight=1,scale_pos_weight=scale_pos_weight)\n",
    "\n",
    "# ##94% Recall 20% Precision\n",
    "# xgb5 = XGBClassifier(learning_rate=0.1,max_delta_step=1,max_depth=3,min_child_weight=1,scale_pos_weight=scale_pos_weight)\n",
    "\n",
    "# #xgb1 = XGBClassifier(learning_rate=2.0,max_delta_step=1,max_depth=2,min_child_weight=1,scale_pos_weight=1)\n",
    "\n",
    "\n",
    "# ##88% Recall 23% Precision\n",
    "# xgb6 = XGBClassifier(learning_rate=0.2,max_delta_step=1,max_depth=3,min_child_weight=1,scale_pos_weight=scale_pos_weight)\n",
    "\n",
    "# ##80% Recall 26% Precision\n",
    "# xgb7 = XGBClassifier(learning_rate=0.4,max_delta_step=1,max_depth=3,min_child_weight=1,scale_pos_weight=scale_pos_weight)\n",
    "\n",
    "# ##73% Recall 27% Precision\n",
    "# xgb8 = XGBClassifier(learning_rate=0.5,max_delta_step=1,max_depth=3,min_child_weight=1,scale_pos_weight=scale_pos_weight)\n",
    "\n",
    "# ##72% Recall 29% Precision\n",
    "# xgb9 = XGBClassifier(learning_rate=0.6,max_delta_step=1,max_depth=3,min_child_weight=1,scale_pos_weight=scale_pos_weight)\n",
    "\n",
    "# ##66% Recall 30% Precision\n",
    "# xgb10 = XGBClassifier(learning_rate=0.8,max_delta_step=1,max_depth=3,min_child_weight=1,scale_pos_weight=scale_pos_weight)\n",
    "\n",
    "# ##66% Recall 34% Precision with no sampling but scale_pos_weight\n",
    "# xgb11 = XGBClassifier(learning_rate=0.4,max_delta_step=1,max_depth=3,min_child_weight=1,scale_pos_weight=1)\n",
    "\n",
    "# ##63% Recall 32% Precision\n",
    "# xgb12 = XGBClassifier(learning_rate=0.4,max_delta_step=1,max_depth=6,min_child_weight=1,scale_pos_weight=scale_pos_weight)\n",
    "\n",
    "# ##45% Recall 40% Precision\n",
    "# xgb13 = XGBClassifier(learning_rate=0.9,max_delta_step=1,max_depth=6,min_child_weight=1,scale_pos_weight=scale_pos_weight)\n",
    "\n",
    "# ##32% Recall 47% Precision\n",
    "# xgb14 = XGBClassifier(learning_rate=0.9,max_delta_step=1,max_depth=6,min_child_weight=1,scale_pos_weight=1)\n",
    "\n",
    "# ##30% Recall 54% Precision with no sampling\n",
    "# xgb15 = XGBClassifier(learning_rate=0.4,max_delta_step=1,max_depth=8,min_child_weight=1,scale_pos_weight=1)\n",
    "\n",
    "# ##27% Recall 51% Precision no sampling\n",
    "# xgb16 = XGBClassifier(learning_rate=0.5,max_delta_step=1,max_depth=5,min_child_weight=1)\n",
    "\n",
    "# ##20% Recall 58% Precision with no sampling\n",
    "# xgb17 = XGBClassifier(learning_rate=0.4,max_delta_step=1,max_depth=3,min_child_weight=1,scale_pos_weight=1)\n",
    "\n",
    "# ## 6% Recall 83% Precision with no sampling\n",
    "# xgb18 = XGBClassifier(learning_rate=0.002,n_estimators=500,max_depth=2)\n",
    "\n",
    "\n",
    "\n",
    "from sklearn.naive_bayes import GaussianNB\n",
    "# gauss = GaussianNB()\n",
    "\n",
    "svm1= svm.SVC(kernel='linear',C=1.0)\n",
    "lr1 = LogisticRegression(C=10,penalty='l2', verbose=5,dual=True,max_iter=1000)"
   ]
  },
  {
   "cell_type": "markdown",
   "metadata": {
    "deletable": true,
    "editable": true
   },
   "source": [
    "### Initiliase and form a feature Pipeline using Imblearn/Sklearn Pipeline and Split the Dataset as Train, Text"
   ]
  },
  {
   "cell_type": "code",
   "execution_count": 12,
   "metadata": {
    "collapsed": false,
    "deletable": true,
    "editable": true
   },
   "outputs": [],
   "source": [
    "# text_model_pipeline = Pipeline([('drop_transf',drop_transf),('transformer',transformer),('columnextract',columnextract),('tfidf', tfidf),\n",
    "#                               ('xgb18', xgb18)])\n",
    "text_model_pipeline = Pipeline([('drop_transf',drop_transf),('transformer',transformer),('columnextract',columnextract),('tfidf', tfidf),('adasyn',adasyn),\n",
    "                                ('xgb1', xgb1)])\n",
    "\n",
    "X_train, X_test, Y_train, Y_test = train_test_split(X, Y, stratify=Y, test_size=0.20, random_state=42)"
   ]
  },
  {
   "cell_type": "code",
   "execution_count": 13,
   "metadata": {
    "collapsed": false,
    "deletable": true,
    "editable": true
   },
   "outputs": [
    {
     "data": {
      "text/plain": [
       "1961"
      ]
     },
     "execution_count": 13,
     "metadata": {},
     "output_type": "execute_result"
    }
   ],
   "source": [
    "seriesObj = data.apply(lambda x: True if x['Breach']==1 else False , axis=1)\n",
    "numOfRows = len(seriesObj[seriesObj == True].index)\n",
    "numOfRows"
   ]
  },
  {
   "cell_type": "markdown",
   "metadata": {
    "deletable": true,
    "editable": true
   },
   "source": [
    "### GridSearchCV for Model and paramter selection"
   ]
  },
  {
   "cell_type": "code",
   "execution_count": 14,
   "metadata": {
    "collapsed": false,
    "deletable": true,
    "editable": true
   },
   "outputs": [],
   "source": [
    "##LR Params\n",
    "parameters = {\n",
    "    'C': np.linspace(1, 10, 10),\n",
    "    'dual' :[True,False],\n",
    "    'max_iter':[100,110,120,130,140]\n",
    "}\n",
    "\n",
    "\n",
    "### RF Params\n",
    "param_grid = { \n",
    "    'n_estimators': [200, 500],\n",
    "    'max_features': ['auto', 'sqrt', 'log2'],\n",
    "    'max_depth' : [4,5,6,7,8],\n",
    "    'criterion' :['gini', 'entropy']\n",
    "}\n",
    "\n",
    "\n",
    "### XGB Params\n",
    "cv_params = {\n",
    "    'min_child_weight':[0.2,1],\n",
    "    'max_delta_step': [1],\n",
    "    'max_depth':[5,8],\n",
    "    'learning_rate' : [0.1]\n",
    "}\n",
    "\n",
    "ind_params = {\n",
    "    'learning_rate': 0.1, 'n_estimators': 5000, 'seed':0, 'colsample_bytree': 0.8,'scale_pos_weight':6.55,'n_jobs':-1, 'objective': 'binary:logistic'\n",
    "}\n",
    "\n",
    "##SVM Params\n",
    "Cs = [0.001]\n",
    "gammas = [0.001]\n",
    "param_grid = {'C': Cs, 'gamma' : gammas}\n",
    "\n",
    "### Model Initialization and GridSearch\n",
    "\n",
    "# lr = LogisticRegression()\n",
    "#rf = RandomForestClassifier()\n",
    "\n",
    "# clf = GridSearchCV(lr, parameters, cv=StratifiedKFold(5), verbose=5, n_jobs=3)\n",
    "#clf = GridSearchCV(rf, param_grid, cv=StratifiedKFold(5), verbose=5, n_jobs=3)\n",
    "\n",
    "\n",
    "# drop_transf = DropFeatures(column_list=['ConcernID','IssueID','IssueDescription','ConcernDescription','ResolutionDescription','Clause'])\n",
    "# transformer = DataFrameTransformer(column='keyword_corpus')\n",
    "#final_df = transformer.transform(X=data)\n",
    "\n",
    "kfold = StratifiedKFold(5)\n",
    "#clf = GridSearchCV(text_model_pipeline,cv_params,cv=5)\n",
    "# clf = GridSearchCV(svm.SVC(kernel='rbf'), param_grid, cv=StratifiedKFold(5))\n",
    "\n",
    "\n",
    "#clf.fit(X_train, Y_train)"
   ]
  },
  {
   "cell_type": "code",
   "execution_count": 15,
   "metadata": {
    "collapsed": false,
    "deletable": true,
    "editable": true
   },
   "outputs": [],
   "source": [
    "# clf = GridSearchCV(text_model_pipeline,cv_params,cv=5)\n",
    "# clf.fit(X_train,Y_train)\n",
    "# print(clf.best_score_)\n",
    "# print(clf.best_estimator_.get_params())"
   ]
  },
  {
   "cell_type": "markdown",
   "metadata": {
    "deletable": true,
    "editable": true
   },
   "source": [
    "### XGB Classifier Hyperparameter Tuning"
   ]
  },
  {
   "cell_type": "markdown",
   "metadata": {
    "deletable": true,
    "editable": true
   },
   "source": [
    "### Train and Fit the Pipeline and underlying components"
   ]
  },
  {
   "cell_type": "code",
   "execution_count": 16,
   "metadata": {
    "collapsed": false,
    "deletable": true,
    "editable": true
   },
   "outputs": [
    {
     "data": {
      "text/plain": [
       "Pipeline(memory=None,\n",
       "     steps=[('drop_transf', DropFeatures(column_list=['ConcernID', 'IssueID', 'IssueDescription', 'ConcernDescription', 'ResolutionDescription', 'Clause'])), ('transformer', DataFrameTransformer(column='keyword_corpus')), ('columnextract', ColumnExtractorTransformer(column='features')), ('tfidf', TfidfVe...ha=0, reg_lambda=1, scale_pos_weight=5.92146863844977,\n",
       "       seed=None, silent=True, subsample=1))])"
      ]
     },
     "execution_count": 16,
     "metadata": {},
     "output_type": "execute_result"
    }
   ],
   "source": [
    "text_model_pipeline.fit(X_train, Y_train) "
   ]
  },
  {
   "cell_type": "markdown",
   "metadata": {
    "deletable": true,
    "editable": true
   },
   "source": [
    "### Test the Model Performance on Test dataset"
   ]
  },
  {
   "cell_type": "code",
   "execution_count": 17,
   "metadata": {
    "collapsed": false,
    "deletable": true,
    "editable": true
   },
   "outputs": [],
   "source": [
    "y_hat = text_model_pipeline.predict(X_test)"
   ]
  },
  {
   "cell_type": "markdown",
   "metadata": {
    "deletable": true,
    "editable": true
   },
   "source": [
    "### Compute the Recall and Precision : Metrics for measuring the Classification Model"
   ]
  },
  {
   "cell_type": "code",
   "execution_count": 18,
   "metadata": {
    "collapsed": false,
    "deletable": true,
    "editable": true
   },
   "outputs": [
    {
     "name": "stdout",
     "output_type": "stream",
     "text": [
      "Recall 0.98\n"
     ]
    }
   ],
   "source": [
    "print(\"Recall {0:.2f}\".format(recall_score(Y_test,y_hat)))\n",
    "#print(\"F1 {0:.2f}\".format(f1_score(Y_test,y_hat)))"
   ]
  },
  {
   "cell_type": "markdown",
   "metadata": {
    "deletable": true,
    "editable": true
   },
   "source": [
    "### Compute F1 Score"
   ]
  },
  {
   "cell_type": "code",
   "execution_count": 19,
   "metadata": {
    "collapsed": false,
    "deletable": true,
    "editable": true
   },
   "outputs": [],
   "source": [
    "# precision = precision_score(y_hat,Y_test)\n",
    "# recall = recall_score(Y_test,y_hat)\n",
    "# f1 = 2*((precision*recall)/(precision+recall))\n",
    "# f1"
   ]
  },
  {
   "cell_type": "markdown",
   "metadata": {
    "deletable": true,
    "editable": true
   },
   "source": [
    "### Confusion Matrix"
   ]
  },
  {
   "cell_type": "code",
   "execution_count": 20,
   "metadata": {
    "collapsed": false,
    "deletable": true,
    "editable": true
   },
   "outputs": [
    {
     "data": {
      "text/plain": [
       "Text(0.5,24,'Predicted label')"
      ]
     },
     "execution_count": 20,
     "metadata": {},
     "output_type": "execute_result"
    },
    {
     "data": {
      "image/png": "[encoded data removed]",
      "text/plain": [
       "<Figure size 504x360 with 2 Axes>"
      ]
     },
     "metadata": {},
     "output_type": "display_data"
    }
   ],
   "source": [
    "import seaborn as sns\n",
    "\n",
    "conf_mat = confusion_matrix(Y_test, y_hat)\n",
    "\n",
    "# Define class labels here\n",
    "target_names = ['Breach','No Breach']\n",
    "\n",
    "df_cm = pd.DataFrame(conf_mat, index=target_names, columns=target_names)\n",
    "fig, ax = plt.subplots(figsize=(7,5))\n",
    "sns.heatmap(df_cm, annot=True, fmt=\"d\", ax=ax)\n",
    "ax.set_ylabel('True label')\n",
    "ax.set_xlabel('Predicted label')"
   ]
  },
  {
   "cell_type": "code",
   "execution_count": 21,
   "metadata": {
    "collapsed": false,
    "deletable": true,
    "editable": true
   },
   "outputs": [
    {
     "data": {
      "text/plain": [
       "array([[ 383, 1940],\n",
       "       [   6,  386]])"
      ]
     },
     "execution_count": 21,
     "metadata": {},
     "output_type": "execute_result"
    }
   ],
   "source": [
    "conf_mat"
   ]
  },
  {
   "cell_type": "code",
   "execution_count": 22,
   "metadata": {
    "collapsed": false,
    "deletable": true,
    "editable": true
   },
   "outputs": [],
   "source": [
    "def perf_measure(y_actual, y_pred):\n",
    "    TP = 0\n",
    "    FP = 0\n",
    "    TN = 0\n",
    "    FN = 0\n",
    "\n",
    "    for i ,each in enumerate(y_pred): \n",
    "        if y_actual[i]==y_pred[i]==1:\n",
    "           TP += 1\n",
    "        if y_pred[i]==1 and y_actual[i]!=y_pred[i]:\n",
    "           FP += 1\n",
    "        if y_actual[i]==y_pred[i]==0:\n",
    "           TN += 1\n",
    "        if y_pred[i]==0 and y_actual[i]!=y_pred[i]:\n",
    "           FN += 1\n",
    "\n",
    "    return(TP, FP, TN, FN)"
   ]
  },
  {
   "cell_type": "code",
   "execution_count": 23,
   "metadata": {
    "collapsed": false,
    "deletable": true,
    "editable": true
   },
   "outputs": [
    {
     "name": "stdout",
     "output_type": "stream",
     "text": [
      "(386, 1940, 383, 6)\n"
     ]
    }
   ],
   "source": [
    "print(perf_measure(list(Y_test),list(y_hat)))"
   ]
  },
  {
   "cell_type": "code",
   "execution_count": 24,
   "metadata": {
    "collapsed": false,
    "deletable": true,
    "editable": true
   },
   "outputs": [],
   "source": [
    "X_test.to_csv(\"../datasets/test.cv\")"
   ]
  },
  {
   "cell_type": "code",
   "execution_count": null,
   "metadata": {
    "collapsed": false,
    "deletable": true,
    "editable": true
   },
   "outputs": [],
   "source": [
    "# models = [xgb1,xgb2,xgb3,xgb4,xgb5,xgb6,xgb7,xgb8,xgb9,xgb10,xgb11,xgb12,xgb13,xgb14,xgb15,xgb16,xgb17,xgb18]\n",
    "# model_dict = {}\n",
    "# X_train, X_test, Y_train, Y_test = train_test_split(X, Y, stratify=Y, test_size=0.20, random_state=42)\n",
    "# for i, model in enumerate(models):\n",
    "#     row=[]\n",
    "#     if model in [xgb11,xgb15,xgb16,xgb17,xgb18]:\n",
    "#         text_model_pipeline = Pipeline([('drop_transf',drop_transf),('transformer',transformer),('columnextract',columnextract),('tfidf', tfidf),\n",
    "#                               ('model', model)])\n",
    "#     else:\n",
    "#         text_model_pipeline = Pipeline([('drop_transf',drop_transf),('transformer',transformer),('columnextract',columnextract),('tfidf', tfidf),('adasyn',adasyn),\n",
    "#                                 ('model', model)])\n",
    "#     text_model_pipeline.fit(X_train, Y_train) \n",
    "#     y_hat = text_model_pipeline.predict(X_test)\n",
    "#     recall = recall_score(Y_test,y_hat)\n",
    "#     precision= precision_score(Y_test,y_hat)\n",
    "#     TP, FP, TN, FN = perf_measure(list(Y_test),list(y_hat))\n",
    "#     row.append(TP)\n",
    "#     row.append(FP)\n",
    "#     row.append(recall)\n",
    "#     row.append(precision)\n",
    "#     model_dict['xgb{}'.format(i+1)] = row\n",
    "    \n",
    "    \n",
    "    "
   ]
  },
  {
   "cell_type": "code",
   "execution_count": null,
   "metadata": {
    "collapsed": false,
    "deletable": true,
    "editable": true
   },
   "outputs": [],
   "source": [
    "# model_dict"
   ]
  },
  {
   "cell_type": "code",
   "execution_count": 497,
   "metadata": {
    "collapsed": false,
    "deletable": true,
    "editable": true
   },
   "outputs": [],
   "source": [
    "# columns = ['True Positives','False Positives','Recall','Precision']\n",
    "# df = pd.DataFrame.from_dict(model_dict)\n",
    "\n",
    "# df = df.transpose()\n",
    "\n",
    "# df.columns = columns\n",
    "\n",
    "\n",
    "# df.sort_values('Recall',ascending=False,inplace=True)\n",
    "\n",
    "# df.index = list(range(1,19))\n",
    "\n",
    "# df['No_of_Docs_to_Review'] = df['True Positives']+df['False Positives']\n",
    "\n",
    "# df['No_of_Docs_to_Review'] = df['No_of_Docs_to_Review'].astype(np.int64)\n",
    "\n",
    "# df['Percentage_of_Docs_to_Review'] = ((df['True Positives']+df['False Positives'])/(len(X_test))*100)\n",
    "\n",
    "# rev = df.round(2)\n",
    "# rev.to_csv(\"../datasets/recallvsFP.csv\")"
   ]
  },
  {
   "cell_type": "code",
   "execution_count": 508,
   "metadata": {
    "collapsed": false,
    "deletable": true,
    "editable": true
   },
   "outputs": [
    {
     "data": {
      "image/png": "[encoded data removed]",
      "text/plain": [
       "<Figure size 432x288 with 1 Axes>"
      ]
     },
     "metadata": {
      "needs_background": "light"
     },
     "output_type": "display_data"
    }
   ],
   "source": [
    "# %matplotlib inline\n",
    "# import matplotlib.path as mpath\n",
    "# star = mpath.Path.unit_regular_star(6)\n",
    "# circle = mpath.Path.unit_circle()\n",
    "# plt.xlabel=\"No of Documents to Review\"\n",
    "# plt.ylabel=\"Recall\"\n",
    "\n",
    "\n",
    "# verts = np.concatenate([circle.vertices, star.vertices[::-1, ...]])\n",
    "# codes = np.concatenate([circle.codes, star.codes])\n",
    "# cut_star = mpath.Path(verts, codes)\n",
    "\n",
    "# temp_df = df[['No_of_Docs_to_Review','Recall']]\n",
    "# x = list(df.No_of_Docs_to_Review)\n",
    "# y = list(df.Recall)\n",
    "# #plt.gca().set_color_cycle(['red', 'green', 'blue', 'yellow'])\n",
    "\n",
    "# plt.plot(x,y)\n",
    "# plt.plot(x,y, '--r', marker=cut_star, markersize=15)\n",
    "# import seaborn as sns"
   ]
  },
  {
   "cell_type": "markdown",
   "metadata": {
    "deletable": true,
    "editable": true
   },
   "source": [
    "### Precision/Recall Curve"
   ]
  },
  {
   "cell_type": "code",
   "execution_count": 25,
   "metadata": {
    "collapsed": false,
    "deletable": true,
    "editable": true
   },
   "outputs": [
    {
     "name": "stdout",
     "output_type": "stream",
     "text": [
      "Average precision-recall score: 0.17\n"
     ]
    },
    {
     "data": {
      "text/plain": [
       "Text(0.5,1,'2-class Precision-Recall curve: AP=0.17')"
      ]
     },
     "execution_count": 25,
     "metadata": {},
     "output_type": "execute_result"
    },
    {
     "data": {
      "image/png": "[encoded data removed]",
      "text/plain": [
       "<Figure size 576x396 with 1 Axes>"
      ]
     },
     "metadata": {},
     "output_type": "display_data"
    }
   ],
   "source": [
    "from sklearn.metrics import precision_recall_curve\n",
    "from sklearn.metrics import average_precision_score\n",
    "average_precision = average_precision_score(Y_test,y_hat)\n",
    "\n",
    "print('Average precision-recall score: {0:0.2f}'.format(\n",
    "      average_precision))\n",
    "import matplotlib.pyplot as plt\n",
    "from inspect import signature\n",
    "\n",
    "precision, recall, _ = precision_recall_curve(Y_test, y_hat)\n",
    "\n",
    "# In matplotlib < 1.5, plt.fill_between does not have a 'step' argument\n",
    "step_kwargs = ({'step': 'post'}\n",
    "               if 'step' in signature(plt.fill_between).parameters\n",
    "               else {})\n",
    "plt.step(recall, precision, color='b', alpha=0.2,\n",
    "         where='post')\n",
    "plt.fill_between(recall, precision, alpha=0.2, color='b', **step_kwargs)\n",
    "plt.xlabel('Recall')\n",
    "plt.ylabel('Precision')\n",
    "plt.ylim([0.0, 1.05])\n",
    "plt.xlim([0.0, 1.0])\n",
    "plt.title('2-class Precision-Recall curve: AP={0:0.2f}'.format(\n",
    "          average_precision))"
   ]
  },
  {
   "cell_type": "markdown",
   "metadata": {
    "deletable": true,
    "editable": true
   },
   "source": [
    "### PR Curve"
   ]
  },
  {
   "cell_type": "code",
   "execution_count": 26,
   "metadata": {
    "collapsed": false,
    "deletable": true,
    "editable": true
   },
   "outputs": [
    {
     "name": "stdout",
     "output_type": "stream",
     "text": [
      "f1=0.284 auc=0.309 ap=0.276\n"
     ]
    },
    {
     "data": {
      "image/png": "[encoded data removed]",
      "text/plain": [
       "<Figure size 576x396 with 1 Axes>"
      ]
     },
     "metadata": {},
     "output_type": "display_data"
    }
   ],
   "source": [
    "from matplotlib import pyplot\n",
    "# predict probabilities\n",
    "probs = text_model_pipeline.predict_proba(X_test)\n",
    "# keep probabilities for the positive outcome only\n",
    "probs = probs[:, 1]\n",
    "# predict class values\n",
    "yhat = text_model_pipeline.predict(X_test)\n",
    "# calculate precision-recall curve\n",
    "precision, recall, thresholds = precision_recall_curve(Y_test, probs)\n",
    "# calculate F1 score\n",
    "f1 = f1_score(Y_test, yhat)\n",
    "# calculate precision-recall AUC\n",
    "from sklearn.metrics import auc\n",
    "auc = auc(recall, precision)\n",
    "# calculate average precision score\n",
    "ap = average_precision_score(Y_test, probs)\n",
    "print('f1=%.3f auc=%.3f ap=%.3f' % (f1, auc, ap))\n",
    "# plot no skill\n",
    "pyplot.plot([0, 1], [0.5, 0.5], linestyle='--')\n",
    "# plot the precision-recall curve for the model\n",
    "pyplot.plot(recall, precision, marker='.')\n",
    "# show the plot\n",
    "pyplot.show()"
   ]
  },
  {
   "cell_type": "markdown",
   "metadata": {
    "deletable": true,
    "editable": true
   },
   "source": [
    "### Retreive Results in Source format"
   ]
  },
  {
   "cell_type": "code",
   "execution_count": 27,
   "metadata": {
    "collapsed": false,
    "deletable": true,
    "editable": true
   },
   "outputs": [
    {
     "data": {
      "text/html": [
       "<div>\n",
       "<style>\n",
       "    .dataframe thead tr:only-child th {\n",
       "        text-align: right;\n",
       "    }\n",
       "\n",
       "    .dataframe thead th {\n",
       "        text-align: left;\n",
       "    }\n",
       "\n",
       "    .dataframe tbody tr th {\n",
       "        vertical-align: top;\n",
       "    }\n",
       "</style>\n",
       "<table border=\"1\" class=\"dataframe\">\n",
       "  <thead>\n",
       "    <tr style=\"text-align: right;\">\n",
       "      <th></th>\n",
       "      <th>Breach</th>\n",
       "      <th>Predicted_Breach</th>\n",
       "    </tr>\n",
       "  </thead>\n",
       "  <tbody>\n",
       "    <tr>\n",
       "      <th>32827</th>\n",
       "      <td>0.0</td>\n",
       "      <td>0.0</td>\n",
       "    </tr>\n",
       "    <tr>\n",
       "      <th>2366</th>\n",
       "      <td>0.0</td>\n",
       "      <td>1.0</td>\n",
       "    </tr>\n",
       "    <tr>\n",
       "      <th>3364</th>\n",
       "      <td>0.0</td>\n",
       "      <td>0.0</td>\n",
       "    </tr>\n",
       "    <tr>\n",
       "      <th>6827</th>\n",
       "      <td>0.0</td>\n",
       "      <td>0.0</td>\n",
       "    </tr>\n",
       "    <tr>\n",
       "      <th>19126</th>\n",
       "      <td>0.0</td>\n",
       "      <td>1.0</td>\n",
       "    </tr>\n",
       "  </tbody>\n",
       "</table>\n",
       "</div>"
      ],
      "text/plain": [
       "       Breach  Predicted_Breach\n",
       "32827     0.0               0.0\n",
       "2366      0.0               1.0\n",
       "3364      0.0               0.0\n",
       "6827      0.0               0.0\n",
       "19126     0.0               1.0"
      ]
     },
     "execution_count": 27,
     "metadata": {},
     "output_type": "execute_result"
    }
   ],
   "source": [
    "x_test = pd.DataFrame(X_test)\n",
    "x_test.head()\n",
    "Y_test_df = pd.DataFrame(Y_test, columns=['Breach'])\n",
    "Y_test_df[\"Predicted_Breach\"] = y_hat\n",
    "Y_test_df.head()"
   ]
  },
  {
   "cell_type": "code",
   "execution_count": 28,
   "metadata": {
    "collapsed": false,
    "deletable": true,
    "editable": true
   },
   "outputs": [],
   "source": [
    "\n",
    "X_test['Breach'] = Y_test\n",
    "X_test.to_csv(\"../datasets/Eval_datatset.csv\")\n"
   ]
  },
  {
   "cell_type": "code",
   "execution_count": 29,
   "metadata": {
    "collapsed": false,
    "deletable": true,
    "editable": true
   },
   "outputs": [
    {
     "data": {
      "text/html": [
       "<div>\n",
       "<style>\n",
       "    .dataframe thead tr:only-child th {\n",
       "        text-align: right;\n",
       "    }\n",
       "\n",
       "    .dataframe thead th {\n",
       "        text-align: left;\n",
       "    }\n",
       "\n",
       "    .dataframe tbody tr th {\n",
       "        vertical-align: top;\n",
       "    }\n",
       "</style>\n",
       "<table border=\"1\" class=\"dataframe\">\n",
       "  <thead>\n",
       "    <tr style=\"text-align: right;\">\n",
       "      <th></th>\n",
       "      <th>ConcernID</th>\n",
       "      <th>IssueID</th>\n",
       "      <th>IssueDescription</th>\n",
       "      <th>ConcernDescription</th>\n",
       "      <th>ResolutionDescription</th>\n",
       "      <th>Clause</th>\n",
       "      <th>keyword_corpus</th>\n",
       "      <th>Breach</th>\n",
       "      <th>Predicted_Breach</th>\n",
       "    </tr>\n",
       "  </thead>\n",
       "  <tbody>\n",
       "    <tr>\n",
       "      <th>49</th>\n",
       "      <td>971112</td>\n",
       "      <td>1020452</td>\n",
       "      <td>account opened in different name than business...</td>\n",
       "      <td>you visited ANZ Bourke Street Mall branch on 1...</td>\n",
       "      <td>Thank you for the opportunity to investigate t...</td>\n",
       "      <td>15</td>\n",
       "      <td>you visited ANZ Bourke Street Mall branch on 1...</td>\n",
       "      <td>0.0</td>\n",
       "      <td>1.0</td>\n",
       "    </tr>\n",
       "    <tr>\n",
       "      <th>161</th>\n",
       "      <td>COM-100003</td>\n",
       "      <td>COM-100003_1</td>\n",
       "      <td>rewards fee</td>\n",
       "      <td>***credit card   Customer is not happy with pa...</td>\n",
       "      <td>Acknowledged his dissatisfaction of the reward...</td>\n",
       "      <td>14a</td>\n",
       "      <td>***credit card   Customer is not happy with pa...</td>\n",
       "      <td>0.0</td>\n",
       "      <td>1.0</td>\n",
       "    </tr>\n",
       "    <tr>\n",
       "      <th>163</th>\n",
       "      <td>COM-100006</td>\n",
       "      <td>COM-100006_1</td>\n",
       "      <td>Poor service</td>\n",
       "      <td>Customer dissatisfied with the service he rece...</td>\n",
       "      <td>Apologised to customer and informed him feedba...</td>\n",
       "      <td>15</td>\n",
       "      <td>Customer dissatisfied with the service he rece...</td>\n",
       "      <td>0.0</td>\n",
       "      <td>1.0</td>\n",
       "    </tr>\n",
       "    <tr>\n",
       "      <th>179</th>\n",
       "      <td>COM-100033</td>\n",
       "      <td>COM-100033_1</td>\n",
       "      <td>Retention offer cancelled and reverted to the ...</td>\n",
       "      <td>15/06 ? Retention offer of 12.99% p.a  The var...</td>\n",
       "      <td>I apologise to the customer for the inconvenie...</td>\n",
       "      <td>14a</td>\n",
       "      <td>15/06 ? Retention offer of 12.99% p.a  The var...</td>\n",
       "      <td>0.0</td>\n",
       "      <td>1.0</td>\n",
       "    </tr>\n",
       "    <tr>\n",
       "      <th>187</th>\n",
       "      <td>COM-100037</td>\n",
       "      <td>COM-100037_1</td>\n",
       "      <td>Incorrect information by branch</td>\n",
       "      <td>Customer sold bike for $1900.00. The purchaser...</td>\n",
       "      <td>Credited account for $1900.00. Case found in c...</td>\n",
       "      <td>15</td>\n",
       "      <td>Customer sold bike for $1900.00. The purchaser...</td>\n",
       "      <td>0.0</td>\n",
       "      <td>1.0</td>\n",
       "    </tr>\n",
       "  </tbody>\n",
       "</table>\n",
       "</div>"
      ],
      "text/plain": [
       "      ConcernID       IssueID  \\\n",
       "49       971112       1020452   \n",
       "161  COM-100003  COM-100003_1   \n",
       "163  COM-100006  COM-100006_1   \n",
       "179  COM-100033  COM-100033_1   \n",
       "187  COM-100037  COM-100037_1   \n",
       "\n",
       "                                      IssueDescription  \\\n",
       "49   account opened in different name than business...   \n",
       "161                                        rewards fee   \n",
       "163                                       Poor service   \n",
       "179  Retention offer cancelled and reverted to the ...   \n",
       "187                    Incorrect information by branch   \n",
       "\n",
       "                                    ConcernDescription  \\\n",
       "49   you visited ANZ Bourke Street Mall branch on 1...   \n",
       "161  ***credit card   Customer is not happy with pa...   \n",
       "163  Customer dissatisfied with the service he rece...   \n",
       "179  15/06 ? Retention offer of 12.99% p.a  The var...   \n",
       "187  Customer sold bike for $1900.00. The purchaser...   \n",
       "\n",
       "                                 ResolutionDescription Clause  \\\n",
       "49   Thank you for the opportunity to investigate t...     15   \n",
       "161  Acknowledged his dissatisfaction of the reward...    14a   \n",
       "163  Apologised to customer and informed him feedba...     15   \n",
       "179  I apologise to the customer for the inconvenie...    14a   \n",
       "187  Credited account for $1900.00. Case found in c...     15   \n",
       "\n",
       "                                        keyword_corpus  Breach  \\\n",
       "49   you visited ANZ Bourke Street Mall branch on 1...     0.0   \n",
       "161  ***credit card   Customer is not happy with pa...     0.0   \n",
       "163  Customer dissatisfied with the service he rece...     0.0   \n",
       "179  15/06 ? Retention offer of 12.99% p.a  The var...     0.0   \n",
       "187  Customer sold bike for $1900.00. The purchaser...     0.0   \n",
       "\n",
       "     Predicted_Breach  \n",
       "49                1.0  \n",
       "161               1.0  \n",
       "163               1.0  \n",
       "179               1.0  \n",
       "187               1.0  "
      ]
     },
     "execution_count": 29,
     "metadata": {},
     "output_type": "execute_result"
    }
   ],
   "source": [
    "new_df = data[data.index.isin(Y_test_df.index)]\n",
    "new_df.drop(['Breach'],axis=1,inplace=True)\n",
    "df = new_df.join(Y_test_df)\n",
    "df.head()"
   ]
  },
  {
   "cell_type": "code",
   "execution_count": 32,
   "metadata": {
    "collapsed": false,
    "deletable": true,
    "editable": true
   },
   "outputs": [],
   "source": [
    "df.groupby('Clause').sum()\n",
    "#df_save = df.drop(['features','keyword_corpus'],axis =1)\n",
    "#df.to_csv(\"../datasets/map_pred_actual_68.csv\")\n",
    "df.to_csv(\"../datasets/map_pred_actual_98.csv\")\n",
    "# df_test = df[df['Breach']==0]\n",
    "# df_test.to_csv(\"../datasets/map_precision_68.csv\")\n",
    "df_test = df[df['Breach']==1]\n",
    "df_test.to_csv(\"../datasets/map_precision_98.csv\")"
   ]
  },
  {
   "cell_type": "markdown",
   "metadata": {
    "deletable": true,
    "editable": true
   },
   "source": [
    "### Save the Model"
   ]
  },
  {
   "cell_type": "code",
   "execution_count": 30,
   "metadata": {
    "collapsed": false,
    "deletable": true,
    "editable": true
   },
   "outputs": [
    {
     "name": "stderr",
     "output_type": "stream",
     "text": [
      "Using TensorFlow backend.\n"
     ]
    }
   ],
   "source": [
    "from dsx_ml.ml import save\n",
    "model_name = \"Breach_Model\"\n",
    "x_test = pd.DataFrame(X_test)\n",
    "Y_test_df = pd.DataFrame(Y_test, columns=['Breach'])\n",
    "model_output = save(model = text_model_pipeline, name = 'Breach_Prediction', x_test=x_test, y_test=Y_test_df, algorithm_type = 'Classification')\n"
   ]
  },
  {
   "cell_type": "markdown",
   "metadata": {
    "collapsed": true,
    "deletable": true,
    "editable": true
   },
   "source": [
    "### Online Prediction"
   ]
  },
  {
   "cell_type": "code",
   "execution_count": 31,
   "metadata": {
    "collapsed": false,
    "deletable": true,
    "editable": true
   },
   "outputs": [
    {
     "name": "stdout",
     "output_type": "stream",
     "text": [
      "https://dsxl-api/v3/project/score/Python35/scikit-learn-0.20/Complaints_Breach_Prediction/Breach_Prediction/1\n"
     ]
    }
   ],
   "source": [
    "import os\n",
    "import requests\n",
    "\n",
    "header_online = {'Content-Type': 'application/json', 'Authorization': os.environ['DSX_TOKEN']}\n",
    "\n",
    "print(model_output['scoring_endpoint'])"
   ]
  },
  {
   "cell_type": "code",
   "execution_count": 32,
   "metadata": {
    "collapsed": false,
    "deletable": true,
    "editable": true
   },
   "outputs": [
    {
     "name": "stdout",
     "output_type": "stream",
     "text": [
      "{'Clause': '33', 'IssueDescription': 'Incorrect or insufficient explanation or disclosure- In relation to Bonus points eligibility', 'ConcernDescription': 'The customer applied for a new FF card online after he spoke to ANZ and confirming that he would be eligible for the points.  He was told he would be although he had closed another FF card only 11 months ago.  he called last week and was told his points will be loaded on the  08/08.  he called today and was informed of terms and conditions and that because his previous card had not been closed for at least 12 months this automatically makes him ineligible  -\\tHe keeps getting misleading information and this is what happened when he was discussins a loan with ANZ. he ended up getting a loan with another bank.', 'keyword_corpus': \"The customer applied for a new FF card online after he spoke to ANZ and confirming that he would be eligible for the points.  He was told he would be although he had closed another FF card only 11 months ago.  he called last week and was told his points will be loaded on the  08/08.  he called today and was informed of terms and conditions and that because his previous card had not been closed for at least 12 months this automatically makes him ineligible  -\\tHe keeps getting misleading information and this is what happened when he was discussins a loan with ANZ. he ended up getting a loan with another bank.Incorrect or insufficient explanation or disclosure- In relation to Bonus points eligibility75 k approved as once off gwg request sent to Branch to call him to discuss bring varaible loan over to ANZ in a month's time33\", 'ConcernID': 'COM-97240', 'IssueID': 'COM-97240_1', 'ResolutionDescription': \"75 k approved as once off gwg request sent to Branch to call him to discuss bring varaible loan over to ANZ in a month's time\"}\n"
     ]
    }
   ],
   "source": [
    "new_data = {\"ConcernID\" : \"COM-97240\", \"IssueID\" : \"COM-97240_1\", \"IssueDescription\" : 11.1, \n",
    "            \"IssueDescription\" : \"Incorrect or insufficient explanation or disclosure- In relation to Bonus points eligibility\",\n",
    "            \"ConcernDescription\" : \"The customer applied for a new FF card online after he spoke to ANZ and confirming that he would be eligible for the points.  He was told he would be although he had closed another FF card only 11 months ago.  he called last week and was told his points will be loaded on the  08/08.  he called today and was informed of terms and conditions and that because his previous card had not been closed for at least 12 months this automatically makes him ineligible  -\tHe keeps getting misleading information and this is what happened when he was discussins a loan with ANZ. he ended up getting a loan with another bank.\",\n",
    "            \"ResolutionDescription\":\"75 k approved as once off gwg request sent to Branch to call him to discuss bring varaible loan over to ANZ in a month's time\",\n",
    "            \"Clause\":\"33\",\"keyword_corpus\":\"The customer applied for a new FF card online after he spoke to ANZ and confirming that he would be eligible for the points.  He was told he would be although he had closed another FF card only 11 months ago.  he called last week and was told his points will be loaded on the  08/08.  he called today and was informed of terms and conditions and that because his previous card had not been closed for at least 12 months this automatically makes him ineligible  -\tHe keeps getting misleading information and this is what happened when he was discussins a loan with ANZ. he ended up getting a loan with another bank.Incorrect or insufficient explanation or disclosure- In relation to Bonus points eligibility75 k approved as once off gwg request sent to Branch to call him to discuss bring varaible loan over to ANZ in a month's time33\"\n",
    "           }\n",
    "print(new_data)"
   ]
  },
  {
   "cell_type": "code",
   "execution_count": 38,
   "metadata": {
    "collapsed": false,
    "deletable": true,
    "editable": true
   },
   "outputs": [
    {
     "name": "stdout",
     "output_type": "stream",
     "text": [
      "b'{\"success\":true,\"description\":\"Success\",\"object\":\"Internal Server Error\"}'\n"
     ]
    }
   ],
   "source": [
    "payload = [new_data]\n",
    "scoring_response = requests.post(model_output['scoring_endpoint'], json=payload, headers=header_online, verify=False)\n",
    "\n",
    "print(scoring_response.content)"
   ]
  },
  {
   "cell_type": "code",
   "execution_count": null,
   "metadata": {
    "collapsed": true,
    "deletable": true,
    "editable": true
   },
   "outputs": [],
   "source": []
  },
  {
   "cell_type": "code",
   "execution_count": null,
   "metadata": {
    "collapsed": true,
    "deletable": true,
    "editable": true
   },
   "outputs": [],
   "source": []
  },
  {
   "cell_type": "code",
   "execution_count": null,
   "metadata": {
    "collapsed": true,
    "deletable": true,
    "editable": true
   },
   "outputs": [],
   "source": []
  },
  {
   "cell_type": "code",
   "execution_count": null,
   "metadata": {
    "collapsed": true,
    "deletable": true,
    "editable": true
   },
   "outputs": [],
   "source": []
  },
  {
   "cell_type": "code",
   "execution_count": null,
   "metadata": {
    "collapsed": true,
    "deletable": true,
    "editable": true
   },
   "outputs": [],
   "source": []
  },
  {
   "cell_type": "code",
   "execution_count": null,
   "metadata": {
    "collapsed": true,
    "deletable": true,
    "editable": true
   },
   "outputs": [],
   "source": []
  },
  {
   "cell_type": "code",
   "execution_count": null,
   "metadata": {
    "collapsed": true,
    "deletable": true,
    "editable": true
   },
   "outputs": [],
   "source": []
  },
  {
   "cell_type": "code",
   "execution_count": null,
   "metadata": {
    "collapsed": true,
    "deletable": true,
    "editable": true
   },
   "outputs": [],
   "source": []
  },
  {
   "cell_type": "code",
   "execution_count": null,
   "metadata": {
    "collapsed": true,
    "deletable": true,
    "editable": true
   },
   "outputs": [],
   "source": []
  },
  {
   "cell_type": "code",
   "execution_count": null,
   "metadata": {
    "collapsed": true,
    "deletable": true,
    "editable": true
   },
   "outputs": [],
   "source": []
  },
  {
   "cell_type": "code",
   "execution_count": null,
   "metadata": {
    "collapsed": true,
    "deletable": true,
    "editable": true
   },
   "outputs": [],
   "source": []
  },
  {
   "cell_type": "code",
   "execution_count": null,
   "metadata": {
    "collapsed": true,
    "deletable": true,
    "editable": true
   },
   "outputs": [],
   "source": []
  },
  {
   "cell_type": "code",
   "execution_count": null,
   "metadata": {
    "collapsed": true,
    "deletable": true,
    "editable": true
   },
   "outputs": [],
   "source": []
  },
  {
   "cell_type": "code",
   "execution_count": null,
   "metadata": {
    "collapsed": true,
    "deletable": true,
    "editable": true
   },
   "outputs": [],
   "source": []
  },
  {
   "cell_type": "code",
   "execution_count": null,
   "metadata": {
    "collapsed": true,
    "deletable": true,
    "editable": true
   },
   "outputs": [],
   "source": []
  },
  {
   "cell_type": "code",
   "execution_count": null,
   "metadata": {
    "collapsed": true,
    "deletable": true,
    "editable": true
   },
   "outputs": [],
   "source": []
  },
  {
   "cell_type": "code",
   "execution_count": null,
   "metadata": {
    "collapsed": true,
    "deletable": true,
    "editable": true
   },
   "outputs": [],
   "source": []
  },
  {
   "cell_type": "code",
   "execution_count": null,
   "metadata": {
    "collapsed": true,
    "deletable": true,
    "editable": true
   },
   "outputs": [],
   "source": []
  },
  {
   "cell_type": "code",
   "execution_count": null,
   "metadata": {
    "collapsed": true,
    "deletable": true,
    "editable": true
   },
   "outputs": [],
   "source": []
  },
  {
   "cell_type": "code",
   "execution_count": null,
   "metadata": {
    "collapsed": true,
    "deletable": true,
    "editable": true
   },
   "outputs": [],
   "source": []
  },
  {
   "cell_type": "code",
   "execution_count": null,
   "metadata": {
    "collapsed": false,
    "deletable": true,
    "editable": true
   },
   "outputs": [],
   "source": [
    "# text_clean = TextCleaningTransformer(column='keyword_corpus',remove_words=my_stop_words)\n",
    "# #df= text_clean.transform(X=data)\n",
    "# #df.head()\n",
    "# tokenise = TokenizerTransfomer(column='keyword_corpus')"
   ]
  },
  {
   "cell_type": "code",
   "execution_count": null,
   "metadata": {
    "collapsed": false,
    "deletable": true,
    "editable": true
   },
   "outputs": [],
   "source": [
    "# df= text_clean.transform(X=data)\n",
    "# final_d = tokenise.transform(X=df)\n"
   ]
  },
  {
   "cell_type": "code",
   "execution_count": null,
   "metadata": {
    "collapsed": false,
    "deletable": true,
    "editable": true
   },
   "outputs": [],
   "source": [
    "# final_d.columns = ['features']\n",
    "# data['features'] = final_d['features']\n",
    "# final_df = data[['Breach','features']]\n",
    "# drop_transf = DropFeatures(column_list=['ConcernID','IssueID','IssueDescription','ConcernDescription','ResolutionDescription','Clause'])\n",
    "# transformer = DataFrameTransformer(column='keyword_corpus')\n",
    "# transf = drop_transf.transform(X=data)\n",
    "# final_df = transformer.transform(X=data)"
   ]
  },
  {
   "cell_type": "code",
   "execution_count": null,
   "metadata": {
    "collapsed": false,
    "deletable": true,
    "editable": true
   },
   "outputs": [],
   "source": [
    "# final_df.shape"
   ]
  },
  {
   "cell_type": "markdown",
   "metadata": {
    "deletable": true,
    "editable": true
   },
   "source": [
    " "
   ]
  },
  {
   "cell_type": "markdown",
   "metadata": {
    "deletable": true,
    "editable": true
   },
   "source": [
    "### Split Train and Text Pipeline"
   ]
  },
  {
   "cell_type": "code",
   "execution_count": null,
   "metadata": {
    "collapsed": false,
    "deletable": true,
    "editable": true
   },
   "outputs": [],
   "source": [
    "# X = final_df.drop('Breach', axis=1) \n",
    "# Y = final_df['Breach']\n"
   ]
  },
  {
   "cell_type": "code",
   "execution_count": null,
   "metadata": {
    "collapsed": true,
    "deletable": true,
    "editable": true
   },
   "outputs": [],
   "source": [
    "#X_train, X_test, Y_train, Y_test = train_test_split(X['features'], Y, stratify=Y, test_size=0.25, random_state=42)"
   ]
  },
  {
   "cell_type": "code",
   "execution_count": null,
   "metadata": {
    "collapsed": true,
    "deletable": true,
    "editable": true
   },
   "outputs": [],
   "source": []
  },
  {
   "cell_type": "markdown",
   "metadata": {
    "deletable": true,
    "editable": true
   },
   "source": [
    "### Feature Transformation ; can be put in pipeline"
   ]
  },
  {
   "cell_type": "code",
   "execution_count": null,
   "metadata": {
    "collapsed": false,
    "deletable": true,
    "editable": true
   },
   "outputs": [],
   "source": [
    "# tfidf = TfidfVectorizer(tokenizer=tokenizer, lowercase=False,ngram_range=(1,2))\n",
    "# from sklearn.model_selection import train_test_split,StratifiedKFold\n",
    "# #hashdf = HashingVectorizer(tokenizer=lambda x: str(x), lowercase=False)\n",
    "# X_train = tfidf.fit_transform(X_train)\n",
    "# X_test = tfidf.transform(X_test)\n",
    "# X.shape,Y.shape"
   ]
  },
  {
   "cell_type": "code",
   "execution_count": null,
   "metadata": {
    "collapsed": false,
    "deletable": true,
    "editable": true
   },
   "outputs": [],
   "source": [
    "# X_train.shape,X_test.shape"
   ]
  },
  {
   "cell_type": "markdown",
   "metadata": {
    "deletable": true,
    "editable": true
   },
   "source": []
  },
  {
   "cell_type": "code",
   "execution_count": null,
   "metadata": {
    "collapsed": false,
    "deletable": true,
    "editable": true
   },
   "outputs": [],
   "source": [
    "# smt = SMOTE(random_state=42)\n",
    "# #msmote = SMOTEENN(random_state=56)\n",
    "# adasyn = ADASYN(random_state=42)\n",
    "# x_train_1, y_train_1 = adasyn.fit_sample(X_train, Y_train)\n",
    "# #x_train, y_train = smt.fit_sample(x_train_1, y_train_1)"
   ]
  },
  {
   "cell_type": "markdown",
   "metadata": {
    "deletable": true,
    "editable": true
   },
   "source": [
    "### GridSearch ,StratifiedKFold and Model Selection"
   ]
  },
  {
   "cell_type": "code",
   "execution_count": null,
   "metadata": {
    "collapsed": false,
    "deletable": true,
    "editable": true
   },
   "outputs": [],
   "source": [
    "# ##LR Params\n",
    "# parameters = {\n",
    "#     'C': np.linspace(1, 10, 10),\n",
    "#     'dual' :[True,False],\n",
    "#     'max_iter':[100,110,120,130,140]\n",
    "# }\n",
    "\n",
    "\n",
    "# ### RF Params\n",
    "# param_grid = { \n",
    "#     'n_estimators': [200, 500],\n",
    "#     'max_features': ['auto', 'sqrt', 'log2'],\n",
    "#     'max_depth' : [4,5,6,7,8],\n",
    "#     'criterion' :['gini', 'entropy']\n",
    "# }\n",
    "\n",
    "\n",
    "# ### XGB Params\n",
    "# cv_params = {\n",
    "#     'min_child_weight':[0.2,0.1],\n",
    "#     'max_delta_step': [1],\n",
    "#     'max_depth':[5,8],\n",
    "#     'learning_rate' : [0.09,0.02],\n",
    "# }\n",
    "\n",
    "# ind_params = {\n",
    "#     'learning_rate': 0.1, 'n_estimators': 5000, 'seed':0, 'colsample_bytree': 0.8,'scale_pos_weight':6.55,'n_jobs':-1, 'objective': 'binary:logistic'\n",
    "# }\n",
    "\n",
    "# ##SVM Params\n",
    "# Cs = [0.001]\n",
    "# gammas = [0.001]\n",
    "# param_grid = {'C': Cs, 'gamma' : gammas}\n",
    "\n",
    "# ### Model Initialization and GridSearch\n",
    "\n",
    "# # lr = LogisticRegression()\n",
    "# #rf = RandomForestClassifier()\n",
    "\n",
    "# # clf = GridSearchCV(lr, parameters, cv=StratifiedKFold(5), verbose=5, n_jobs=3)\n",
    "# #clf = GridSearchCV(rf, param_grid, cv=StratifiedKFold(5), verbose=5, n_jobs=3)\n",
    "\n",
    "# kfold = StratifiedKFold(5)\n",
    "# clf = GridSearchCV(XGBClassifier(**ind_params),cv_params,cv=5)\n",
    "\n",
    "# # clf = GridSearchCV(svm.SVC(kernel='rbf'), param_grid, cv=StratifiedKFold(5))\n",
    "\n",
    "# #clf.fit(x_train, y_train)\n",
    "# #clf.fit(X_train, Y_train)\n",
    "\n"
   ]
  },
  {
   "cell_type": "code",
   "execution_count": null,
   "metadata": {
    "collapsed": false,
    "deletable": true,
    "editable": true
   },
   "outputs": [],
   "source": [
    "# clf.best_params_"
   ]
  },
  {
   "cell_type": "markdown",
   "metadata": {
    "deletable": true,
    "editable": true
   },
   "source": [
    "### XGBoost"
   ]
  },
  {
   "cell_type": "code",
   "execution_count": null,
   "metadata": {
    "collapsed": false,
    "deletable": true,
    "editable": true
   },
   "outputs": [],
   "source": [
    "#scale_pos_weight = float(np.float(np.sum(data.Breach==0)))/float(np.float(np.sum(data.Breach==1)))\n",
    "# xgb1 = XGBClassifier(learning_rate=0.09,max_delta_step=1,max_depth=8,min_child_weight=0.2,scale_pos_weight=scale_pos_weight)\n",
    "# xgb1.fit(x_train_1,y_train_1)\n",
    "# pca = PCA(0.95)\n",
    "# pca.fit(x_train)\n",
    "# x_train = pca.transform(x_train)\n",
    "#xgb1.fit(x_train,y_train)"
   ]
  },
  {
   "cell_type": "code",
   "execution_count": null,
   "metadata": {
    "collapsed": true,
    "deletable": true,
    "editable": true
   },
   "outputs": [],
   "source": [
    "#X_test = pca.transform(X_test)\n",
    "# xgb_pred = xgb1.predict(X_test)"
   ]
  },
  {
   "cell_type": "code",
   "execution_count": null,
   "metadata": {
    "collapsed": false,
    "deletable": true,
    "editable": true
   },
   "outputs": [],
   "source": [
    "# print(\"Recall {0:.2f}\".format(recall_score(Y_test,xgb_pred)))\n",
    "# #print(\"Accuracy {0:.2f}\".format(accuracy_score(xgb_pred,Y_test)))\n",
    "# print(\"Precision {0:.2f}\".format(precision_score(xgb_pred,Y_test)))\n",
    "# #print(\"F1 Score: {0:.2f}\".format(f1_score(Y_test,xgb_pred)))"
   ]
  },
  {
   "cell_type": "code",
   "execution_count": null,
   "metadata": {
    "collapsed": false,
    "deletable": true,
    "editable": true
   },
   "outputs": [],
   "source": [
    "# precision = precision_score(xgb_pred,Y_test)\n",
    "# recall = recall_score(Y_test,xgb_pred)\n",
    "# f1 = 2*((precision*recall)/(precision+recall))\n",
    "# f1"
   ]
  },
  {
   "cell_type": "markdown",
   "metadata": {
    "collapsed": false,
    "deletable": true,
    "editable": true
   },
   "source": [
    "### Pipeline Level Steps"
   ]
  },
  {
   "cell_type": "code",
   "execution_count": null,
   "metadata": {
    "collapsed": true,
    "deletable": true,
    "editable": true
   },
   "outputs": [],
   "source": []
  },
  {
   "cell_type": "code",
   "execution_count": null,
   "metadata": {
    "collapsed": true,
    "deletable": true,
    "editable": true
   },
   "outputs": [],
   "source": [
    "# def tokenizer(x):\n",
    "#     return x"
   ]
  },
  {
   "cell_type": "code",
   "execution_count": null,
   "metadata": {
    "collapsed": false,
    "deletable": true,
    "editable": true
   },
   "outputs": [],
   "source": [
    "# scale_pos_weight = float(np.float(np.sum(data.Breach==0)))/float(np.float(np.sum(data.Breach==1)))\n",
    "# drop_transf = DropFeatures(column_list=['ConcernID','IssueID','IssueDescription','ConcernDescription','ResolutionDescription','Clause'])\n",
    "# transformer = DataFrameTransformer(column='keyword_corpus')\n",
    "# final_drop = DropFeatures(column_list=['keyword_corpus'])\n",
    "# tfidf = TfidfVectorizer(tokenizer=tokenizer, lowercase=False)\n",
    "# adasyn = ADASYN(random_state=42)\n",
    "# scale_pos_weight = float(np.float(np.sum(final_df.Breach==0)))/float(np.float(np.sum(final_df.Breach==1)))\n",
    "# #print(scale_pos_weight)\n",
    "# xgb1 = XGBClassifier(learning_rate=0.09,max_delta_step=1,max_depth=8,min_child_weight=0.2,scale_pos_weight=scale_pos_weight)\n"
   ]
  },
  {
   "cell_type": "markdown",
   "metadata": {
    "deletable": true,
    "editable": true
   },
   "source": [
    "### Build Pipeline to Enable Model Deployment"
   ]
  },
  {
   "cell_type": "code",
   "execution_count": null,
   "metadata": {
    "collapsed": false,
    "deletable": true,
    "editable": true
   },
   "outputs": [],
   "source": [
    "# pipeline = Pipeline([('tfidf', tfidf),('adasyn', adasyn), ('xgb', xgb1)])\n",
    "# X = final_df.drop('Breach', axis=1) \n",
    "# Y = final_df['Breach']\n",
    "\n",
    "# X_train, X_test, Y_train, Y_test = train_test_split(X['features'], Y, stratify=Y, test_size=0.20, random_state=42)"
   ]
  },
  {
   "cell_type": "code",
   "execution_count": null,
   "metadata": {
    "collapsed": false,
    "deletable": true,
    "editable": true
   },
   "outputs": [],
   "source": [
    "# pipeline.fit(X_train, Y_train) \n",
    "# y_hat = pipeline.predict(X_test)"
   ]
  },
  {
   "cell_type": "code",
   "execution_count": null,
   "metadata": {
    "collapsed": false,
    "deletable": true,
    "editable": true
   },
   "outputs": [],
   "source": [
    "# print(\"Recall {0:.2f}\".format(recall_score(Y_test,y_hat)))\n",
    "# print(\"Accuracy {0:.2f}\".format(accuracy_score(y_hat,Y_test)))\n",
    "# print(\"Precision {0:.2f}\".format(precision_score(y_hat,Y_test)))"
   ]
  },
  {
   "cell_type": "code",
   "execution_count": null,
   "metadata": {
    "collapsed": false,
    "deletable": true,
    "editable": true
   },
   "outputs": [],
   "source": [
    "# precision = precision_score(y_hat,Y_test)\n",
    "# recall = recall_score(Y_test,y_hat)\n",
    "# f1 = 2*((precision*recall)/(precision+recall))\n",
    "# f1"
   ]
  },
  {
   "cell_type": "code",
   "execution_count": null,
   "metadata": {
    "collapsed": false,
    "deletable": true,
    "editable": true
   },
   "outputs": [],
   "source": [
    "# from xgboost import plot_importance\n",
    "# fig, ax = plt.subplots(figsize=(10,5))\n",
    "# plot_importance(xgb1.get_booster(),ax)"
   ]
  },
  {
   "cell_type": "code",
   "execution_count": null,
   "metadata": {
    "collapsed": false,
    "deletable": true,
    "editable": true
   },
   "outputs": [],
   "source": [
    "# from matplotlib import pyplot\n",
    "# pyplot.bar(range(len(xgb1.feature_importances_)), xgb1.feature_importances_)\n",
    "# pyplot.show()"
   ]
  },
  {
   "cell_type": "markdown",
   "metadata": {
    "deletable": true,
    "editable": true
   },
   "source": [
    "### Save the Model "
   ]
  },
  {
   "cell_type": "code",
   "execution_count": null,
   "metadata": {
    "collapsed": false,
    "deletable": true,
    "editable": true
   },
   "outputs": [],
   "source": [
    "# x_test = pd.DataFrame(X_test)\n",
    "# x_test.head()"
   ]
  },
  {
   "cell_type": "code",
   "execution_count": null,
   "metadata": {
    "collapsed": false,
    "deletable": true,
    "editable": true
   },
   "outputs": [],
   "source": [
    "# Y_test_df = pd.DataFrame(Y_test, columns=['Breach'])\n",
    "# Y_test_df[\"Predicted_Breach\"] = y_hat\n",
    "# Y_test_df.head()\n",
    "# len(Y_test_df)"
   ]
  },
  {
   "cell_type": "code",
   "execution_count": null,
   "metadata": {
    "collapsed": false,
    "deletable": true,
    "editable": true
   },
   "outputs": [],
   "source": [
    "# new_df = data[data.index.isin(Y_test_df.index)]\n",
    "# new_df.drop(['Breach'],axis=1,inplace=True)\n",
    "# df = new_df.join(Y_test_df)\n",
    "# df.head()\n",
    "# df.groupby('Clause').sum()\n",
    "# df_save = df.drop(['features','keyword_corpus'],axis =1)\n",
    "# df_save.to_csv(\"../datasets/map_pred_actual.csv\")"
   ]
  },
  {
   "cell_type": "code",
   "execution_count": null,
   "metadata": {
    "collapsed": false,
    "deletable": true,
    "editable": true
   },
   "outputs": [],
   "source": [
    "# df_test = df[df['Breach']==1]\n",
    "# df_test.to_csv(\"../datasets/map_recall\")"
   ]
  },
  {
   "cell_type": "markdown",
   "metadata": {
    "deletable": true,
    "editable": true
   },
   "source": [
    "### Model Saving"
   ]
  },
  {
   "cell_type": "code",
   "execution_count": null,
   "metadata": {
    "collapsed": false,
    "deletable": true,
    "editable": true
   },
   "outputs": [],
   "source": [
    "# from dsx_ml.ml import save\n",
    "# model_name = \"Binary_Classification_model\"\n",
    "# x_test = pd.DataFrame(X_test)\n",
    "# Y_test_df = pd.DataFrame(Y_test, columns=['Breach'])\n",
    "# save(model = pipeline, name = 'Compliance_Breach_Detection', x_test=x_test, y_test=Y_test_df, algorithm_type = 'Classification')"
   ]
  },
  {
   "cell_type": "code",
   "execution_count": null,
   "metadata": {
    "collapsed": true,
    "deletable": true,
    "editable": true
   },
   "outputs": [],
   "source": []
  },
  {
   "cell_type": "code",
   "execution_count": null,
   "metadata": {
    "collapsed": true,
    "deletable": true,
    "editable": true
   },
   "outputs": [],
   "source": []
  },
  {
   "cell_type": "code",
   "execution_count": null,
   "metadata": {
    "collapsed": true,
    "deletable": true,
    "editable": true
   },
   "outputs": [],
   "source": []
  },
  {
   "cell_type": "code",
   "execution_count": null,
   "metadata": {
    "collapsed": true,
    "deletable": true,
    "editable": true
   },
   "outputs": [],
   "source": []
  },
  {
   "cell_type": "code",
   "execution_count": null,
   "metadata": {
    "collapsed": true,
    "deletable": true,
    "editable": true
   },
   "outputs": [],
   "source": []
  },
  {
   "cell_type": "code",
   "execution_count": null,
   "metadata": {
    "collapsed": true,
    "deletable": true,
    "editable": true
   },
   "outputs": [],
   "source": []
  },
  {
   "cell_type": "code",
   "execution_count": null,
   "metadata": {
    "collapsed": true,
    "deletable": true,
    "editable": true
   },
   "outputs": [],
   "source": []
  },
  {
   "cell_type": "code",
   "execution_count": null,
   "metadata": {
    "collapsed": true,
    "deletable": true,
    "editable": true
   },
   "outputs": [],
   "source": []
  },
  {
   "cell_type": "code",
   "execution_count": null,
   "metadata": {
    "collapsed": true,
    "deletable": true,
    "editable": true
   },
   "outputs": [],
   "source": []
  },
  {
   "cell_type": "code",
   "execution_count": null,
   "metadata": {
    "collapsed": true,
    "deletable": true,
    "editable": true
   },
   "outputs": [],
   "source": []
  },
  {
   "cell_type": "code",
   "execution_count": null,
   "metadata": {
    "collapsed": true,
    "deletable": true,
    "editable": true
   },
   "outputs": [],
   "source": []
  },
  {
   "cell_type": "code",
   "execution_count": null,
   "metadata": {
    "collapsed": true,
    "deletable": true,
    "editable": true
   },
   "outputs": [],
   "source": []
  },
  {
   "cell_type": "code",
   "execution_count": null,
   "metadata": {
    "collapsed": true,
    "deletable": true,
    "editable": true
   },
   "outputs": [],
   "source": []
  },
  {
   "cell_type": "code",
   "execution_count": null,
   "metadata": {
    "collapsed": true,
    "deletable": true,
    "editable": true
   },
   "outputs": [],
   "source": []
  },
  {
   "cell_type": "code",
   "execution_count": null,
   "metadata": {
    "collapsed": true,
    "deletable": true,
    "editable": true
   },
   "outputs": [],
   "source": []
  },
  {
   "cell_type": "code",
   "execution_count": null,
   "metadata": {
    "collapsed": true,
    "deletable": true,
    "editable": true
   },
   "outputs": [],
   "source": []
  },
  {
   "cell_type": "markdown",
   "metadata": {
    "deletable": true,
    "editable": true
   },
   "source": [
    "### Non Linear SVM"
   ]
  },
  {
   "cell_type": "code",
   "execution_count": 22,
   "metadata": {
    "collapsed": false,
    "deletable": true,
    "editable": true
   },
   "outputs": [],
   "source": [
    "svm1 = svm.SVC(kernel='rbf')\n",
    "# svm1.fit(x_train,y_train)"
   ]
  },
  {
   "cell_type": "code",
   "execution_count": null,
   "metadata": {
    "collapsed": true,
    "deletable": true,
    "editable": true
   },
   "outputs": [],
   "source": [
    "# pred = svm1.predict(X_test)"
   ]
  },
  {
   "cell_type": "markdown",
   "metadata": {
    "deletable": true,
    "editable": true
   },
   "source": [
    "### Linear SVM"
   ]
  },
  {
   "cell_type": "code",
   "execution_count": null,
   "metadata": {
    "collapsed": false,
    "deletable": true,
    "editable": true
   },
   "outputs": [],
   "source": [
    "svm2 = svm.LinearSVC()\n",
    "svm2.fit(x_train_1,y_train_1)"
   ]
  },
  {
   "cell_type": "code",
   "execution_count": null,
   "metadata": {
    "collapsed": true,
    "deletable": true,
    "editable": true
   },
   "outputs": [],
   "source": [
    "pred = svm2.predict(X_test)"
   ]
  },
  {
   "cell_type": "code",
   "execution_count": null,
   "metadata": {
    "collapsed": false,
    "deletable": true,
    "editable": true
   },
   "outputs": [],
   "source": [
    "print(\"Recall {0:.2f}\".format(recall_score(Y_test,pred)))\n",
    "print(\"Accuracy {0:.2f}\".format(accuracy_score(pred,Y_test)))\n",
    "print(\"Precision {0:.2f}\".format(precision_score(pred,Y_test)))\n",
    "print(\"F1 Score: {0:.2f}\".format(f1_score(Y_test,pred)))"
   ]
  },
  {
   "cell_type": "markdown",
   "metadata": {
    "deletable": true,
    "editable": true
   },
   "source": [
    "### Random Forest"
   ]
  },
  {
   "cell_type": "code",
   "execution_count": null,
   "metadata": {
    "collapsed": false,
    "deletable": true,
    "editable": true
   },
   "outputs": [],
   "source": [
    "rfc1=RandomForestClassifier(random_state=42, max_features='sqrt', n_estimators= 200, max_depth=8, criterion='gini')\n",
    "rfc1.fit(x_train, y_train)"
   ]
  },
  {
   "cell_type": "code",
   "execution_count": null,
   "metadata": {
    "collapsed": false,
    "deletable": true,
    "editable": true
   },
   "outputs": [],
   "source": [
    "pred=rfc1.predict(X_test)\n",
    "print(\"Recall {0:.2f}\".format(recall_score(Y_test,pred)))\n",
    "print(\"Accuracy {0:.2f}\".format(accuracy_score(pred,Y_test)))\n",
    "print(\"Precision {0:.2f}\".format(precision_score(pred,Y_test)))\n",
    "print(\"F1 Score: {0:.2f}\".format(f1_score(Y_test,pred)))"
   ]
  },
  {
   "cell_type": "markdown",
   "metadata": {
    "deletable": true,
    "editable": true
   },
   "source": [
    "### Logistic Regression"
   ]
  },
  {
   "cell_type": "code",
   "execution_count": null,
   "metadata": {
    "collapsed": false,
    "deletable": true,
    "editable": true
   },
   "outputs": [],
   "source": [
    "lr1 = LogisticRegression(C=10,penalty='l2', verbose=5,dual=True,max_iter=100)\n",
    "lr1.fit(x_train, y_train)"
   ]
  },
  {
   "cell_type": "code",
   "execution_count": null,
   "metadata": {
    "collapsed": false,
    "deletable": true,
    "editable": true
   },
   "outputs": [],
   "source": [
    "pred = lr1.predict(X_test)\n",
    "print(\"Recall {0:.2f}\".format(recall_score(Y_test,pred)))\n",
    "print(\"Accuracy {0:.2f}\".format(accuracy_score(pred,Y_test)))\n",
    "print(\"Precision {0:.2f}\".format(precision_score(pred,Y_test)))\n",
    "print(\"F1 Score: {0:.2f}\".format(f1_score(Y_test,pred)))"
   ]
  },
  {
   "cell_type": "markdown",
   "metadata": {
    "deletable": true,
    "editable": true
   },
   "source": [
    "### Classification Report on Test Set"
   ]
  },
  {
   "cell_type": "code",
   "execution_count": null,
   "metadata": {
    "collapsed": false,
    "deletable": true,
    "editable": true
   },
   "outputs": [],
   "source": [
    "print(confusion_matrix(Y_test, pred))\n",
    "print(classification_report(Y_test, pred, target_names=['No Breach','Breach']))"
   ]
  },
  {
   "cell_type": "code",
   "execution_count": null,
   "metadata": {
    "collapsed": false,
    "deletable": true,
    "editable": true
   },
   "outputs": [],
   "source": [
    "print(\"Recall {}\".format(recall_score(Y_test,pred)))\n",
    "print(\"Accuracy {}\".format(accuracy_score(pred,Y_test)))\n",
    "print(\"F1 Score: {}\".format(f1_score(Y_test,pred)))"
   ]
  },
  {
   "cell_type": "markdown",
   "metadata": {
    "collapsed": true,
    "deletable": true,
    "editable": true
   },
   "source": [
    "### Confusion Matrix"
   ]
  },
  {
   "cell_type": "code",
   "execution_count": null,
   "metadata": {
    "collapsed": false,
    "deletable": true,
    "editable": true
   },
   "outputs": [],
   "source": [
    "import seaborn as sns\n",
    "\n",
    "conf_mat = confusion_matrix(Y_test, xgb_pred)\n",
    "\n",
    "# Define class labels here\n",
    "target_names = ['NO Breach','Breach']\n",
    "\n",
    "df_cm = pd.DataFrame(conf_mat, index=target_names, columns=target_names)\n",
    "fig, ax = plt.subplots(figsize=(7,5))\n",
    "sns.heatmap(df_cm, annot=True, fmt=\"d\", ax=ax)\n",
    "ax.set_ylabel('True label');\n",
    "ax.set_xlabel('Predicted label');"
   ]
  },
  {
   "cell_type": "markdown",
   "metadata": {
    "deletable": true,
    "editable": true
   },
   "source": [
    "### ROC and PR Curve"
   ]
  },
  {
   "cell_type": "code",
   "execution_count": null,
   "metadata": {
    "collapsed": false,
    "deletable": true,
    "editable": true
   },
   "outputs": [],
   "source": [
    "#prob = pd.DataFrame(list(rfc1.predict_proba(X_test)))\n",
    "prob = pd.DataFrame(list(xgb1.predict_proba(X_test)))\n",
    "fpr, tpr, thresholds = roc_curve(Y_test, prob.iloc[:,1])\n",
    "roc_auc = auc(fpr, tpr)\n",
    "p, r, thre = precision_recall_curve(Y_test, prob.iloc[:,1])\n",
    "average_p = average_precision_score(Y_test, prob.iloc[:,1])"
   ]
  },
  {
   "cell_type": "code",
   "execution_count": null,
   "metadata": {
    "collapsed": false,
    "deletable": true,
    "editable": true
   },
   "outputs": [],
   "source": [
    "fig = plt.figure(figsize=(10,4))\n",
    "ax1 = fig.add_subplot(1,2,1)\n",
    "ax1.set_xlim([-0.05,1.05])\n",
    "ax1.set_ylim([-0.05,1.05])\n",
    "ax1.set_xlabel('False Positive Rate')\n",
    "ax1.set_ylabel('True Positive Rate')\n",
    "ax1.set_title('ROC Curve')\n",
    "\n",
    "ax2 = fig.add_subplot(1,2,2)\n",
    "ax2.set_xlim([-0.05,1.05])\n",
    "ax2.set_ylim([-0.05,1.05])\n",
    "ax2.set_xlabel('Recall')\n",
    "ax2.set_ylabel('Precision')\n",
    "ax2.set_title('PR Curve')\n",
    "\n",
    "\n",
    "ax1.plot(fpr, tpr, lw=1, label='LR: area = %0.2f'%roc_auc)\n",
    "\n",
    "\n",
    "\n",
    "ax2.plot(r, p, lw=1, label='LR: area = %0.2f'%average_p)\n",
    "\n",
    "\n",
    "ax1.legend(loc='lower right')    \n",
    "ax2.legend(loc='lower right')\n",
    "\n",
    "plt.show()"
   ]
  },
  {
   "cell_type": "code",
   "execution_count": null,
   "metadata": {
    "collapsed": true,
    "deletable": true,
    "editable": true
   },
   "outputs": [],
   "source": []
  },
  {
   "cell_type": "code",
   "execution_count": null,
   "metadata": {
    "collapsed": true,
    "deletable": true,
    "editable": true
   },
   "outputs": [],
   "source": []
  },
  {
   "cell_type": "code",
   "execution_count": null,
   "metadata": {
    "collapsed": true,
    "deletable": true,
    "editable": true
   },
   "outputs": [],
   "source": []
  },
  {
   "cell_type": "code",
   "execution_count": null,
   "metadata": {
    "collapsed": true,
    "deletable": true,
    "editable": true
   },
   "outputs": [],
   "source": []
  },
  {
   "cell_type": "code",
   "execution_count": null,
   "metadata": {
    "collapsed": true,
    "deletable": true,
    "editable": true
   },
   "outputs": [],
   "source": []
  },
  {
   "cell_type": "code",
   "execution_count": null,
   "metadata": {
    "collapsed": true,
    "deletable": true,
    "editable": true
   },
   "outputs": [],
   "source": []
  }
 ],
 "metadata": {
  "kernelspec": {
   "display_name": "Python3.5 with Watson Studio Spark 2.2.1",
   "language": "python",
   "name": "python3"
  },
  "language_info": {
   "codemirror_mode": {
    "name": "ipython",
    "version": 3
   },
   "file_extension": ".py",
   "mimetype": "text/x-python",
   "name": "python",
   "nbconvert_exporter": "python",
   "pygments_lexer": "ipython3",
   "version": "3.5.2"
  }
 },
 "nbformat": 4,
 "nbformat_minor": 2
}
